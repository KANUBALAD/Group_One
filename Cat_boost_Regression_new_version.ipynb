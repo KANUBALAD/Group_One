{
 "cells": [
  {
   "cell_type": "code",
   "execution_count": 1,
   "metadata": {},
   "outputs": [],
   "source": [
    "import pandas as pd\n",
    "import numpy as np\n",
    "import matplotlib.pyplot as plt\n",
    "import seaborn as sns"
   ]
  },
  {
   "cell_type": "markdown",
   "metadata": {},
   "source": [
    "*Here We are importing the data*\n",
    "\n",
    "We have decided to import the train and the test wine data"
   ]
  },
  {
   "cell_type": "code",
   "execution_count": 2,
   "metadata": {},
   "outputs": [],
   "source": [
    "wine_train=pd.read_csv('Datasets/train.csv')\n",
    "wine_test=pd.read_csv('Datasets/test.csv')\n"
   ]
  },
  {
   "cell_type": "markdown",
   "metadata": {},
   "source": [
    "**Head of test data and train data**"
   ]
  },
  {
   "cell_type": "code",
   "execution_count": 3,
   "metadata": {},
   "outputs": [
    {
     "data": {
      "text/html": [
       "<div>\n",
       "<style scoped>\n",
       "    .dataframe tbody tr th:only-of-type {\n",
       "        vertical-align: middle;\n",
       "    }\n",
       "\n",
       "    .dataframe tbody tr th {\n",
       "        vertical-align: top;\n",
       "    }\n",
       "\n",
       "    .dataframe thead th {\n",
       "        text-align: right;\n",
       "    }\n",
       "</style>\n",
       "<table border=\"1\" class=\"dataframe\">\n",
       "  <thead>\n",
       "    <tr style=\"text-align: right;\">\n",
       "      <th></th>\n",
       "      <th>index</th>\n",
       "      <th>country</th>\n",
       "      <th>description</th>\n",
       "      <th>designation</th>\n",
       "      <th>points</th>\n",
       "      <th>price</th>\n",
       "      <th>province</th>\n",
       "      <th>region_1</th>\n",
       "      <th>region_2</th>\n",
       "      <th>taster_name</th>\n",
       "      <th>taster_twitter_handle</th>\n",
       "      <th>title</th>\n",
       "      <th>variety</th>\n",
       "      <th>winery</th>\n",
       "      <th>id</th>\n",
       "    </tr>\n",
       "  </thead>\n",
       "  <tbody>\n",
       "    <tr>\n",
       "      <td>0</td>\n",
       "      <td>41855</td>\n",
       "      <td>US</td>\n",
       "      <td>Sweet new oak stands out, giving this Cabernet...</td>\n",
       "      <td>3D</td>\n",
       "      <td>95.036469</td>\n",
       "      <td>NaN</td>\n",
       "      <td>California</td>\n",
       "      <td>St. Helena</td>\n",
       "      <td>Napa</td>\n",
       "      <td>NaN</td>\n",
       "      <td>NaN</td>\n",
       "      <td>Salvestrin 2007 3D Cabernet Sauvignon (St. Hel...</td>\n",
       "      <td>CABERNET SAUVIGNON</td>\n",
       "      <td>Salvestrin</td>\n",
       "      <td>0</td>\n",
       "    </tr>\n",
       "  </tbody>\n",
       "</table>\n",
       "</div>"
      ],
      "text/plain": [
       "   index country                                        description  \\\n",
       "0  41855      US  Sweet new oak stands out, giving this Cabernet...   \n",
       "\n",
       "  designation     points  price    province    region_1 region_2 taster_name  \\\n",
       "0          3D  95.036469    NaN  California  St. Helena     Napa         NaN   \n",
       "\n",
       "  taster_twitter_handle                                              title  \\\n",
       "0                   NaN  Salvestrin 2007 3D Cabernet Sauvignon (St. Hel...   \n",
       "\n",
       "              variety      winery  id  \n",
       "0  CABERNET SAUVIGNON  Salvestrin   0  "
      ]
     },
     "execution_count": 3,
     "metadata": {},
     "output_type": "execute_result"
    }
   ],
   "source": [
    "wine_test.head(1)"
   ]
  },
  {
   "cell_type": "code",
   "execution_count": 4,
   "metadata": {},
   "outputs": [
    {
     "data": {
      "text/html": [
       "<div>\n",
       "<style scoped>\n",
       "    .dataframe tbody tr th:only-of-type {\n",
       "        vertical-align: middle;\n",
       "    }\n",
       "\n",
       "    .dataframe tbody tr th {\n",
       "        vertical-align: top;\n",
       "    }\n",
       "\n",
       "    .dataframe thead th {\n",
       "        text-align: right;\n",
       "    }\n",
       "</style>\n",
       "<table border=\"1\" class=\"dataframe\">\n",
       "  <thead>\n",
       "    <tr style=\"text-align: right;\">\n",
       "      <th></th>\n",
       "      <th>country</th>\n",
       "      <th>description</th>\n",
       "      <th>designation</th>\n",
       "      <th>points</th>\n",
       "      <th>price</th>\n",
       "      <th>province</th>\n",
       "      <th>region_1</th>\n",
       "      <th>region_2</th>\n",
       "      <th>taster_name</th>\n",
       "      <th>taster_twitter_handle</th>\n",
       "      <th>title</th>\n",
       "      <th>variety</th>\n",
       "      <th>winery</th>\n",
       "      <th>id</th>\n",
       "    </tr>\n",
       "  </thead>\n",
       "  <tbody>\n",
       "    <tr>\n",
       "      <td>0</td>\n",
       "      <td>Portugal</td>\n",
       "      <td>This is a fine rich balanced wine. It has ripe...</td>\n",
       "      <td>Vila Santa Reserva</td>\n",
       "      <td>88.870874</td>\n",
       "      <td>20.0</td>\n",
       "      <td>Alentejano</td>\n",
       "      <td>NaN</td>\n",
       "      <td>NaN</td>\n",
       "      <td>NaN</td>\n",
       "      <td>NaN</td>\n",
       "      <td>NaN</td>\n",
       "      <td>PORTUGUESE RED</td>\n",
       "      <td>J. Portugal Ramos</td>\n",
       "      <td>32027</td>\n",
       "    </tr>\n",
       "  </tbody>\n",
       "</table>\n",
       "</div>"
      ],
      "text/plain": [
       "    country                                        description  \\\n",
       "0  Portugal  This is a fine rich balanced wine. It has ripe...   \n",
       "\n",
       "          designation     points  price    province region_1 region_2  \\\n",
       "0  Vila Santa Reserva  88.870874   20.0  Alentejano      NaN      NaN   \n",
       "\n",
       "  taster_name taster_twitter_handle title         variety             winery  \\\n",
       "0         NaN                   NaN   NaN  PORTUGUESE RED  J. Portugal Ramos   \n",
       "\n",
       "      id  \n",
       "0  32027  "
      ]
     },
     "execution_count": 4,
     "metadata": {},
     "output_type": "execute_result"
    }
   ],
   "source": [
    "wine_train.head(1)"
   ]
  },
  {
   "cell_type": "markdown",
   "metadata": {},
   "source": [
    "**Data train info**"
   ]
  },
  {
   "cell_type": "code",
   "execution_count": 5,
   "metadata": {},
   "outputs": [
    {
     "name": "stdout",
     "output_type": "stream",
     "text": [
      "<class 'pandas.core.frame.DataFrame'>\n",
      "RangeIndex: 175000 entries, 0 to 174999\n",
      "Data columns (total 14 columns):\n",
      "country                  174953 non-null object\n",
      "description              175000 non-null object\n",
      "designation              122734 non-null object\n",
      "points                   175000 non-null float64\n",
      "price                    175000 non-null float64\n",
      "province                 174953 non-null object\n",
      "region_1                 146466 non-null object\n",
      "region_2                 75394 non-null object\n",
      "taster_name              65509 non-null object\n",
      "taster_twitter_handle    62190 non-null object\n",
      "title                    82189 non-null object\n",
      "variety                  174999 non-null object\n",
      "winery                   175000 non-null object\n",
      "id                       175000 non-null int64\n",
      "dtypes: float64(2), int64(1), object(11)\n",
      "memory usage: 18.7+ MB\n"
     ]
    }
   ],
   "source": [
    "wine_train.info()"
   ]
  },
  {
   "cell_type": "markdown",
   "metadata": {},
   "source": [
    "Data Description"
   ]
  },
  {
   "cell_type": "code",
   "execution_count": 6,
   "metadata": {},
   "outputs": [
    {
     "data": {
      "text/html": [
       "<div>\n",
       "<style scoped>\n",
       "    .dataframe tbody tr th:only-of-type {\n",
       "        vertical-align: middle;\n",
       "    }\n",
       "\n",
       "    .dataframe tbody tr th {\n",
       "        vertical-align: top;\n",
       "    }\n",
       "\n",
       "    .dataframe thead th {\n",
       "        text-align: right;\n",
       "    }\n",
       "</style>\n",
       "<table border=\"1\" class=\"dataframe\">\n",
       "  <thead>\n",
       "    <tr style=\"text-align: right;\">\n",
       "      <th></th>\n",
       "      <th>points</th>\n",
       "      <th>price</th>\n",
       "      <th>id</th>\n",
       "    </tr>\n",
       "  </thead>\n",
       "  <tbody>\n",
       "    <tr>\n",
       "      <td>count</td>\n",
       "      <td>175000.000000</td>\n",
       "      <td>175000.000000</td>\n",
       "      <td>175000.000000</td>\n",
       "    </tr>\n",
       "    <tr>\n",
       "      <td>mean</td>\n",
       "      <td>88.083987</td>\n",
       "      <td>34.304400</td>\n",
       "      <td>70684.047240</td>\n",
       "    </tr>\n",
       "    <tr>\n",
       "      <td>std</td>\n",
       "      <td>3.157001</td>\n",
       "      <td>38.398146</td>\n",
       "      <td>41341.638798</td>\n",
       "    </tr>\n",
       "    <tr>\n",
       "      <td>min</td>\n",
       "      <td>79.636128</td>\n",
       "      <td>4.000000</td>\n",
       "      <td>1.000000</td>\n",
       "    </tr>\n",
       "    <tr>\n",
       "      <td>25%</td>\n",
       "      <td>85.971283</td>\n",
       "      <td>16.000000</td>\n",
       "      <td>35020.000000</td>\n",
       "    </tr>\n",
       "    <tr>\n",
       "      <td>50%</td>\n",
       "      <td>87.981631</td>\n",
       "      <td>25.000000</td>\n",
       "      <td>70256.500000</td>\n",
       "    </tr>\n",
       "    <tr>\n",
       "      <td>75%</td>\n",
       "      <td>90.085631</td>\n",
       "      <td>40.000000</td>\n",
       "      <td>105550.250000</td>\n",
       "    </tr>\n",
       "    <tr>\n",
       "      <td>max</td>\n",
       "      <td>100.220603</td>\n",
       "      <td>2500.000000</td>\n",
       "      <td>150929.000000</td>\n",
       "    </tr>\n",
       "  </tbody>\n",
       "</table>\n",
       "</div>"
      ],
      "text/plain": [
       "              points          price             id\n",
       "count  175000.000000  175000.000000  175000.000000\n",
       "mean       88.083987      34.304400   70684.047240\n",
       "std         3.157001      38.398146   41341.638798\n",
       "min        79.636128       4.000000       1.000000\n",
       "25%        85.971283      16.000000   35020.000000\n",
       "50%        87.981631      25.000000   70256.500000\n",
       "75%        90.085631      40.000000  105550.250000\n",
       "max       100.220603    2500.000000  150929.000000"
      ]
     },
     "execution_count": 6,
     "metadata": {},
     "output_type": "execute_result"
    }
   ],
   "source": [
    "wine_train.describe()"
   ]
  },
  {
   "cell_type": "code",
   "execution_count": 7,
   "metadata": {},
   "outputs": [
    {
     "data": {
      "text/plain": [
       "<matplotlib.axes._subplots.AxesSubplot at 0x7f8900b9ab70>"
      ]
     },
     "execution_count": 7,
     "metadata": {},
     "output_type": "execute_result"
    },
    {
     "data": {
      "image/png": "[encoded data removed]",
      "text/plain": [
       "<Figure size 432x288 with 1 Axes>"
      ]
     },
     "metadata": {},
     "output_type": "display_data"
    }
   ],
   "source": [
    "sns.set(style=\"whitegrid\")\n",
    "sns.boxplot(x=wine_train['price'],orient=\"h\", palette=\"Set2\",linewidth=2.5)"
   ]
  },
  {
   "cell_type": "markdown",
   "metadata": {},
   "source": [
    "## Delete some columns"
   ]
  },
  {
   "cell_type": "code",
   "execution_count": 8,
   "metadata": {},
   "outputs": [],
   "source": [
    "wine_train=wine_train.drop('taster_name',axis=1)\n",
    "wine_train=wine_train.drop('taster_twitter_handle',axis=1)\n",
    "#wine_train"
   ]
  },
  {
   "cell_type": "markdown",
   "metadata": {},
   "source": [
    "## Normalized price variable"
   ]
  },
  {
   "cell_type": "code",
   "execution_count": 9,
   "metadata": {},
   "outputs": [],
   "source": [
    "import numpy as np\n",
    "y_prices = wine_train['price']\n",
    "N_price = (y_prices - np.min(y_prices))/(np.max(y_prices)-np.min(y_prices))\n",
    "#wine_train['price']=N_price\n",
    "\n",
    "#wine_train['price']=wine\n",
    "\n",
    "a=wine_train[wine_train.price>=700].index\n",
    "wine_train=wine_train.drop(wine_train.index[a])\n"
   ]
  },
  {
   "cell_type": "code",
   "execution_count": 10,
   "metadata": {},
   "outputs": [
    {
     "data": {
      "text/plain": [
       "<matplotlib.axes._subplots.AxesSubplot at 0x7f88ffd1d7b8>"
      ]
     },
     "execution_count": 10,
     "metadata": {},
     "output_type": "execute_result"
    },
    {
     "data": {
      "image/png": "[encoded data removed]",
      "text/plain": [
       "<Figure size 432x288 with 1 Axes>"
      ]
     },
     "metadata": {},
     "output_type": "display_data"
    }
   ],
   "source": [
    "sns.boxplot(x=wine_train['price'],orient=\"h\", palette=\"Set2\",linewidth=2.5)"
   ]
  },
  {
   "cell_type": "code",
   "execution_count": 11,
   "metadata": {},
   "outputs": [
    {
     "data": {
      "text/html": [
       "<div>\n",
       "<style scoped>\n",
       "    .dataframe tbody tr th:only-of-type {\n",
       "        vertical-align: middle;\n",
       "    }\n",
       "\n",
       "    .dataframe tbody tr th {\n",
       "        vertical-align: top;\n",
       "    }\n",
       "\n",
       "    .dataframe thead th {\n",
       "        text-align: right;\n",
       "    }\n",
       "</style>\n",
       "<table border=\"1\" class=\"dataframe\">\n",
       "  <thead>\n",
       "    <tr style=\"text-align: right;\">\n",
       "      <th></th>\n",
       "      <th>points</th>\n",
       "      <th>price</th>\n",
       "      <th>id</th>\n",
       "    </tr>\n",
       "  </thead>\n",
       "  <tbody>\n",
       "    <tr>\n",
       "      <td>count</td>\n",
       "      <td>174952.000000</td>\n",
       "      <td>174952.000000</td>\n",
       "      <td>174952.000000</td>\n",
       "    </tr>\n",
       "    <tr>\n",
       "      <td>mean</td>\n",
       "      <td>88.081846</td>\n",
       "      <td>34.016450</td>\n",
       "      <td>70688.296173</td>\n",
       "    </tr>\n",
       "    <tr>\n",
       "      <td>std</td>\n",
       "      <td>3.154443</td>\n",
       "      <td>33.381668</td>\n",
       "      <td>41341.550742</td>\n",
       "    </tr>\n",
       "    <tr>\n",
       "      <td>min</td>\n",
       "      <td>79.636128</td>\n",
       "      <td>4.000000</td>\n",
       "      <td>1.000000</td>\n",
       "    </tr>\n",
       "    <tr>\n",
       "      <td>25%</td>\n",
       "      <td>85.971108</td>\n",
       "      <td>16.000000</td>\n",
       "      <td>35026.750000</td>\n",
       "    </tr>\n",
       "    <tr>\n",
       "      <td>50%</td>\n",
       "      <td>87.981384</td>\n",
       "      <td>25.000000</td>\n",
       "      <td>70263.000000</td>\n",
       "    </tr>\n",
       "    <tr>\n",
       "      <td>75%</td>\n",
       "      <td>90.084911</td>\n",
       "      <td>40.000000</td>\n",
       "      <td>105555.250000</td>\n",
       "    </tr>\n",
       "    <tr>\n",
       "      <td>max</td>\n",
       "      <td>100.199331</td>\n",
       "      <td>698.000000</td>\n",
       "      <td>150929.000000</td>\n",
       "    </tr>\n",
       "  </tbody>\n",
       "</table>\n",
       "</div>"
      ],
      "text/plain": [
       "              points          price             id\n",
       "count  174952.000000  174952.000000  174952.000000\n",
       "mean       88.081846      34.016450   70688.296173\n",
       "std         3.154443      33.381668   41341.550742\n",
       "min        79.636128       4.000000       1.000000\n",
       "25%        85.971108      16.000000   35026.750000\n",
       "50%        87.981384      25.000000   70263.000000\n",
       "75%        90.084911      40.000000  105555.250000\n",
       "max       100.199331     698.000000  150929.000000"
      ]
     },
     "execution_count": 11,
     "metadata": {},
     "output_type": "execute_result"
    }
   ],
   "source": [
    "wine_train.describe()"
   ]
  },
  {
   "cell_type": "markdown",
   "metadata": {},
   "source": [
    "**Install Package to use for**"
   ]
  },
  {
   "cell_type": "code",
   "execution_count": 12,
   "metadata": {},
   "outputs": [],
   "source": [
    "#!pip install catboost"
   ]
  },
  {
   "cell_type": "markdown",
   "metadata": {},
   "source": [
    "The Model that we are going to implement is the cat Boost regression Model"
   ]
  },
  {
   "cell_type": "code",
   "execution_count": null,
   "metadata": {},
   "outputs": [],
   "source": []
  },
  {
   "cell_type": "code",
   "execution_count": 13,
   "metadata": {},
   "outputs": [],
   "source": [
    "from catboost import CatBoostRegressor"
   ]
  },
  {
   "cell_type": "markdown",
   "metadata": {},
   "source": [
    "**Code to identify the missing values in our train dataset**"
   ]
  },
  {
   "cell_type": "code",
   "execution_count": 14,
   "metadata": {},
   "outputs": [
    {
     "data": {
      "text/plain": [
       "country           47\n",
       "description        0\n",
       "designation    52241\n",
       "points             0\n",
       "price              0\n",
       "province          47\n",
       "region_1       28524\n",
       "region_2       99560\n",
       "title          92789\n",
       "variety            1\n",
       "winery             0\n",
       "id                 0\n",
       "dtype: int64"
      ]
     },
     "execution_count": 14,
     "metadata": {},
     "output_type": "execute_result"
    }
   ],
   "source": [
    "wine_train.isnull().sum()"
   ]
  },
  {
   "cell_type": "code",
   "execution_count": 15,
   "metadata": {},
   "outputs": [
    {
     "data": {
      "text/html": [
       "<div>\n",
       "<style scoped>\n",
       "    .dataframe tbody tr th:only-of-type {\n",
       "        vertical-align: middle;\n",
       "    }\n",
       "\n",
       "    .dataframe tbody tr th {\n",
       "        vertical-align: top;\n",
       "    }\n",
       "\n",
       "    .dataframe thead th {\n",
       "        text-align: right;\n",
       "    }\n",
       "</style>\n",
       "<table border=\"1\" class=\"dataframe\">\n",
       "  <thead>\n",
       "    <tr style=\"text-align: right;\">\n",
       "      <th></th>\n",
       "      <th>country</th>\n",
       "      <th>description</th>\n",
       "      <th>designation</th>\n",
       "      <th>points</th>\n",
       "      <th>price</th>\n",
       "      <th>province</th>\n",
       "      <th>region_1</th>\n",
       "      <th>region_2</th>\n",
       "      <th>title</th>\n",
       "      <th>variety</th>\n",
       "      <th>winery</th>\n",
       "      <th>id</th>\n",
       "    </tr>\n",
       "  </thead>\n",
       "  <tbody>\n",
       "    <tr>\n",
       "      <td>0</td>\n",
       "      <td>Portugal</td>\n",
       "      <td>This is a fine rich balanced wine. It has ripe...</td>\n",
       "      <td>Vila Santa Reserva</td>\n",
       "      <td>88.870874</td>\n",
       "      <td>20.0</td>\n",
       "      <td>Alentejano</td>\n",
       "      <td>NaN</td>\n",
       "      <td>NaN</td>\n",
       "      <td>NaN</td>\n",
       "      <td>PORTUGUESE RED</td>\n",
       "      <td>J. Portugal Ramos</td>\n",
       "      <td>32027</td>\n",
       "    </tr>\n",
       "  </tbody>\n",
       "</table>\n",
       "</div>"
      ],
      "text/plain": [
       "    country                                        description  \\\n",
       "0  Portugal  This is a fine rich balanced wine. It has ripe...   \n",
       "\n",
       "          designation     points  price    province region_1 region_2 title  \\\n",
       "0  Vila Santa Reserva  88.870874   20.0  Alentejano      NaN      NaN   NaN   \n",
       "\n",
       "          variety             winery     id  \n",
       "0  PORTUGUESE RED  J. Portugal Ramos  32027  "
      ]
     },
     "execution_count": 15,
     "metadata": {},
     "output_type": "execute_result"
    }
   ],
   "source": [
    "wine_train.head(1)"
   ]
  },
  {
   "cell_type": "code",
   "execution_count": 16,
   "metadata": {},
   "outputs": [],
   "source": [
    "#wine_train['region_1']"
   ]
  },
  {
   "cell_type": "code",
   "execution_count": 17,
   "metadata": {},
   "outputs": [],
   "source": [
    "wine_train['variety']=pd.Categorical(wine_train['variety'])\n",
    "wine_train[\"variety\"] = wine_train.variety.cat.codes\n",
    "\n",
    "\n",
    "wine_train['province']=pd.Categorical(wine_train['province'])\n",
    "wine_train[\"province\"] = wine_train.province.cat.codes\n",
    "\n",
    "wine_train['designation']=pd.Categorical(wine_train['designation'])\n",
    "wine_train[\"designation\"] = wine_train.designation.cat.codes\n",
    "\n",
    "wine_train['country']=pd.Categorical(wine_train['country'])\n",
    "wine_train[\"country\"] = wine_train.country.cat.codes\n",
    "\n",
    "\n",
    "\n",
    "wine_train['winery']=pd.Categorical(wine_train['winery'])\n",
    "wine_train[\"winery\"] = wine_train.winery.cat.codes\n",
    "\n",
    "wine_train['description']=pd.Categorical(wine_train['description'])\n",
    "wine_train[\"description\"] = wine_train.description.cat.codes\n",
    "\n",
    "\n",
    "wine_train['region_1']=pd.Categorical(wine_train['region_1'])\n",
    "wine_train[\"region_1\"] = wine_train.region_1.cat.codes\n",
    "\n",
    "wine_train['region_2']=pd.Categorical(wine_train['region_2'])\n",
    "wine_train[\"region_2\"] = wine_train.region_2.cat.codes"
   ]
  },
  {
   "cell_type": "code",
   "execution_count": 18,
   "metadata": {},
   "outputs": [],
   "source": [
    "#wine_train['title']"
   ]
  },
  {
   "cell_type": "markdown",
   "metadata": {},
   "source": [
    "#  Check about the percentage of missing values in the dataset"
   ]
  },
  {
   "cell_type": "code",
   "execution_count": 19,
   "metadata": {},
   "outputs": [
    {
     "name": "stdout",
     "output_type": "stream",
     "text": [
      "We have 0.0 % of missing values in the feature region1\n"
     ]
    }
   ],
   "source": [
    "print(\"We have {:.4} % of missing values in the feature region1\".format(wine_train.region_1.isnull().sum()*100/wine_train.index.nunique()))"
   ]
  },
  {
   "cell_type": "code",
   "execution_count": 20,
   "metadata": {},
   "outputs": [
    {
     "name": "stdout",
     "output_type": "stream",
     "text": [
      "We have 0.0 % of missing values in the feature region2\n"
     ]
    }
   ],
   "source": [
    "print(\"We have {:.4} % of missing values in the feature region2\".format(wine_train.region_2.isnull().sum()*100/wine_train.index.nunique()))"
   ]
  },
  {
   "cell_type": "markdown",
   "metadata": {},
   "source": [
    "Let us declare our model variable and the corresponding features"
   ]
  },
  {
   "cell_type": "code",
   "execution_count": 21,
   "metadata": {},
   "outputs": [],
   "source": [
    "y=wine_train['price']\n",
    "X=wine_train[['description','designation','points','province'\n",
    "              ,'country','variety','winery','region_1','region_2']]\n",
    "    \n",
    "#X=wine_train[['points','winery','designation']]\n",
    "\n",
    "#wine_test['taster_name']"
   ]
  },
  {
   "cell_type": "markdown",
   "metadata": {},
   "source": [
    "Let's Train the model"
   ]
  },
  {
   "cell_type": "code",
   "execution_count": 22,
   "metadata": {},
   "outputs": [],
   "source": [
    "from sklearn.model_selection import train_test_split\n",
    "\n",
    "X_train, X_test,y_train, y_test = train_test_split(X, y, test_size=0.2, random_state=101)\n",
    "\n"
   ]
  },
  {
   "cell_type": "markdown",
   "metadata": {},
   "source": [
    "Building the model by using CatBoost package"
   ]
  },
  {
   "cell_type": "code",
   "execution_count": 23,
   "metadata": {},
   "outputs": [],
   "source": [
    "#model_cat = CatBoostRegressor(iterations=600, learning_rate=0.03)\n",
    "model_cat = CatBoostRegressor()"
   ]
  },
  {
   "cell_type": "code",
   "execution_count": 24,
   "metadata": {},
   "outputs": [
    {
     "data": {
      "text/plain": [
       "<catboost.core.CatBoostRegressor at 0x7f88ffb2a9b0>"
      ]
     },
     "execution_count": 24,
     "metadata": {},
     "output_type": "execute_result"
    }
   ],
   "source": [
    "model_cat"
   ]
  },
  {
   "cell_type": "code",
   "execution_count": 25,
   "metadata": {},
   "outputs": [
    {
     "name": "stdout",
     "output_type": "stream",
     "text": [
      "0:\tlearn: 32.8872411\ttotal: 57.2ms\tremaining: 57.2s\n",
      "1:\tlearn: 32.5565091\ttotal: 68.4ms\tremaining: 34.1s\n",
      "2:\tlearn: 32.2201100\ttotal: 82.8ms\tremaining: 27.5s\n",
      "3:\tlearn: 31.9128111\ttotal: 92ms\tremaining: 22.9s\n",
      "4:\tlearn: 31.6070225\ttotal: 105ms\tremaining: 20.8s\n",
      "5:\tlearn: 31.3195854\ttotal: 115ms\tremaining: 19.1s\n",
      "6:\tlearn: 31.0435240\ttotal: 123ms\tremaining: 17.5s\n",
      "7:\tlearn: 30.7822472\ttotal: 132ms\tremaining: 16.3s\n",
      "8:\tlearn: 30.5293291\ttotal: 140ms\tremaining: 15.4s\n",
      "9:\tlearn: 30.2891561\ttotal: 152ms\tremaining: 15s\n",
      "10:\tlearn: 30.0536520\ttotal: 161ms\tremaining: 14.4s\n",
      "11:\tlearn: 29.8259544\ttotal: 169ms\tremaining: 13.9s\n",
      "12:\tlearn: 29.6229636\ttotal: 177ms\tremaining: 13.4s\n",
      "13:\tlearn: 29.4142341\ttotal: 185ms\tremaining: 13s\n",
      "14:\tlearn: 29.2151457\ttotal: 193ms\tremaining: 12.7s\n",
      "15:\tlearn: 29.0306801\ttotal: 202ms\tremaining: 12.4s\n",
      "16:\tlearn: 28.8407924\ttotal: 210ms\tremaining: 12.1s\n",
      "17:\tlearn: 28.6671417\ttotal: 218ms\tremaining: 11.9s\n",
      "18:\tlearn: 28.5060850\ttotal: 226ms\tremaining: 11.7s\n",
      "19:\tlearn: 28.3502525\ttotal: 234ms\tremaining: 11.5s\n",
      "20:\tlearn: 28.1941045\ttotal: 242ms\tremaining: 11.3s\n",
      "21:\tlearn: 28.0490824\ttotal: 250ms\tremaining: 11.1s\n",
      "22:\tlearn: 27.9129687\ttotal: 259ms\tremaining: 11s\n",
      "23:\tlearn: 27.7796425\ttotal: 267ms\tremaining: 10.8s\n",
      "24:\tlearn: 27.6490801\ttotal: 275ms\tremaining: 10.7s\n",
      "25:\tlearn: 27.5186626\ttotal: 283ms\tremaining: 10.6s\n",
      "26:\tlearn: 27.4043581\ttotal: 291ms\tremaining: 10.5s\n",
      "27:\tlearn: 27.2877687\ttotal: 299ms\tremaining: 10.4s\n",
      "28:\tlearn: 27.1625722\ttotal: 307ms\tremaining: 10.3s\n",
      "29:\tlearn: 27.0488646\ttotal: 316ms\tremaining: 10.2s\n",
      "30:\tlearn: 26.9437358\ttotal: 326ms\tremaining: 10.2s\n",
      "31:\tlearn: 26.8367392\ttotal: 334ms\tremaining: 10.1s\n",
      "32:\tlearn: 26.7356171\ttotal: 344ms\tremaining: 10.1s\n",
      "33:\tlearn: 26.6328137\ttotal: 352ms\tremaining: 10s\n",
      "34:\tlearn: 26.5559707\ttotal: 365ms\tremaining: 10.1s\n",
      "35:\tlearn: 26.4743204\ttotal: 376ms\tremaining: 10.1s\n",
      "36:\tlearn: 26.3979480\ttotal: 388ms\tremaining: 10.1s\n",
      "37:\tlearn: 26.3149654\ttotal: 400ms\tremaining: 10.1s\n",
      "38:\tlearn: 26.2426595\ttotal: 410ms\tremaining: 10.1s\n",
      "39:\tlearn: 26.1644287\ttotal: 423ms\tremaining: 10.1s\n",
      "40:\tlearn: 26.0966731\ttotal: 434ms\tremaining: 10.2s\n",
      "41:\tlearn: 26.0332605\ttotal: 452ms\tremaining: 10.3s\n",
      "42:\tlearn: 25.9717464\ttotal: 466ms\tremaining: 10.4s\n",
      "43:\tlearn: 25.9152395\ttotal: 479ms\tremaining: 10.4s\n",
      "44:\tlearn: 25.8587248\ttotal: 487ms\tremaining: 10.3s\n",
      "45:\tlearn: 25.8094904\ttotal: 503ms\tremaining: 10.4s\n",
      "46:\tlearn: 25.7526350\ttotal: 514ms\tremaining: 10.4s\n",
      "47:\tlearn: 25.6846431\ttotal: 522ms\tremaining: 10.3s\n",
      "48:\tlearn: 25.6340387\ttotal: 535ms\tremaining: 10.4s\n",
      "49:\tlearn: 25.5832916\ttotal: 549ms\tremaining: 10.4s\n",
      "50:\tlearn: 25.5287938\ttotal: 561ms\tremaining: 10.4s\n",
      "51:\tlearn: 25.4891823\ttotal: 572ms\tremaining: 10.4s\n",
      "52:\tlearn: 25.4464048\ttotal: 586ms\tremaining: 10.5s\n",
      "53:\tlearn: 25.3937250\ttotal: 600ms\tremaining: 10.5s\n",
      "54:\tlearn: 25.3440363\ttotal: 612ms\tremaining: 10.5s\n",
      "55:\tlearn: 25.2950782\ttotal: 624ms\tremaining: 10.5s\n",
      "56:\tlearn: 25.2515145\ttotal: 636ms\tremaining: 10.5s\n",
      "57:\tlearn: 25.2066796\ttotal: 651ms\tremaining: 10.6s\n",
      "58:\tlearn: 25.1690876\ttotal: 666ms\tremaining: 10.6s\n",
      "59:\tlearn: 25.1355329\ttotal: 682ms\tremaining: 10.7s\n",
      "60:\tlearn: 25.0988541\ttotal: 695ms\tremaining: 10.7s\n",
      "61:\tlearn: 25.0620354\ttotal: 707ms\tremaining: 10.7s\n",
      "62:\tlearn: 25.0181837\ttotal: 719ms\tremaining: 10.7s\n",
      "63:\tlearn: 24.9807667\ttotal: 727ms\tremaining: 10.6s\n",
      "64:\tlearn: 24.9467739\ttotal: 735ms\tremaining: 10.6s\n",
      "65:\tlearn: 24.9167987\ttotal: 743ms\tremaining: 10.5s\n",
      "66:\tlearn: 24.8916519\ttotal: 751ms\tremaining: 10.5s\n",
      "67:\tlearn: 24.8628912\ttotal: 760ms\tremaining: 10.4s\n",
      "68:\tlearn: 24.8259308\ttotal: 768ms\tremaining: 10.4s\n",
      "69:\tlearn: 24.7912025\ttotal: 777ms\tremaining: 10.3s\n",
      "70:\tlearn: 24.7659536\ttotal: 785ms\tremaining: 10.3s\n",
      "71:\tlearn: 24.7448105\ttotal: 792ms\tremaining: 10.2s\n",
      "72:\tlearn: 24.7213500\ttotal: 800ms\tremaining: 10.2s\n",
      "73:\tlearn: 24.7040147\ttotal: 808ms\tremaining: 10.1s\n",
      "74:\tlearn: 24.6862945\ttotal: 815ms\tremaining: 10.1s\n",
      "75:\tlearn: 24.6663837\ttotal: 823ms\tremaining: 10s\n",
      "76:\tlearn: 24.6370972\ttotal: 831ms\tremaining: 9.96s\n",
      "77:\tlearn: 24.6111688\ttotal: 840ms\tremaining: 9.93s\n",
      "78:\tlearn: 24.5853375\ttotal: 847ms\tremaining: 9.88s\n",
      "79:\tlearn: 24.5606491\ttotal: 855ms\tremaining: 9.83s\n",
      "80:\tlearn: 24.5424286\ttotal: 863ms\tremaining: 9.79s\n",
      "81:\tlearn: 24.5141197\ttotal: 872ms\tremaining: 9.77s\n",
      "82:\tlearn: 24.4955012\ttotal: 880ms\tremaining: 9.72s\n",
      "83:\tlearn: 24.4593021\ttotal: 888ms\tremaining: 9.68s\n",
      "84:\tlearn: 24.4311729\ttotal: 896ms\tremaining: 9.64s\n",
      "85:\tlearn: 24.4007499\ttotal: 903ms\tremaining: 9.6s\n",
      "86:\tlearn: 24.3730771\ttotal: 911ms\tremaining: 9.56s\n",
      "87:\tlearn: 24.3500158\ttotal: 919ms\tremaining: 9.53s\n",
      "88:\tlearn: 24.3248349\ttotal: 928ms\tremaining: 9.49s\n",
      "89:\tlearn: 24.3020158\ttotal: 936ms\tremaining: 9.46s\n",
      "90:\tlearn: 24.2823874\ttotal: 944ms\tremaining: 9.43s\n",
      "91:\tlearn: 24.2654901\ttotal: 952ms\tremaining: 9.39s\n",
      "92:\tlearn: 24.2457360\ttotal: 959ms\tremaining: 9.36s\n",
      "93:\tlearn: 24.2269902\ttotal: 967ms\tremaining: 9.32s\n",
      "94:\tlearn: 24.2148485\ttotal: 975ms\tremaining: 9.29s\n",
      "95:\tlearn: 24.1953716\ttotal: 983ms\tremaining: 9.25s\n",
      "96:\tlearn: 24.1853817\ttotal: 990ms\tremaining: 9.22s\n",
      "97:\tlearn: 24.1693714\ttotal: 998ms\tremaining: 9.19s\n",
      "98:\tlearn: 24.1478540\ttotal: 1s\tremaining: 9.15s\n",
      "99:\tlearn: 24.1283901\ttotal: 1.02s\tremaining: 9.15s\n",
      "100:\tlearn: 24.1089587\ttotal: 1.02s\tremaining: 9.12s\n",
      "101:\tlearn: 24.0945402\ttotal: 1.03s\tremaining: 9.09s\n",
      "102:\tlearn: 24.0825003\ttotal: 1.04s\tremaining: 9.06s\n",
      "103:\tlearn: 24.0640311\ttotal: 1.05s\tremaining: 9.03s\n",
      "104:\tlearn: 24.0416029\ttotal: 1.05s\tremaining: 8.99s\n",
      "105:\tlearn: 24.0257188\ttotal: 1.06s\tremaining: 8.96s\n",
      "106:\tlearn: 24.0001595\ttotal: 1.07s\tremaining: 8.94s\n",
      "107:\tlearn: 23.9861592\ttotal: 1.08s\tremaining: 8.92s\n",
      "108:\tlearn: 23.9727411\ttotal: 1.09s\tremaining: 8.89s\n",
      "109:\tlearn: 23.9596503\ttotal: 1.09s\tremaining: 8.86s\n",
      "110:\tlearn: 23.9431456\ttotal: 1.1s\tremaining: 8.84s\n",
      "111:\tlearn: 23.9332908\ttotal: 1.11s\tremaining: 8.81s\n",
      "112:\tlearn: 23.9238582\ttotal: 1.12s\tremaining: 8.78s\n",
      "113:\tlearn: 23.9159095\ttotal: 1.13s\tremaining: 8.75s\n",
      "114:\tlearn: 23.9057038\ttotal: 1.14s\tremaining: 8.74s\n",
      "115:\tlearn: 23.8900920\ttotal: 1.14s\tremaining: 8.71s\n",
      "116:\tlearn: 23.8720735\ttotal: 1.15s\tremaining: 8.69s\n",
      "117:\tlearn: 23.8587924\ttotal: 1.16s\tremaining: 8.66s\n",
      "118:\tlearn: 23.8512849\ttotal: 1.17s\tremaining: 8.63s\n",
      "119:\tlearn: 23.8437179\ttotal: 1.17s\tremaining: 8.61s\n",
      "120:\tlearn: 23.8340632\ttotal: 1.18s\tremaining: 8.58s\n",
      "121:\tlearn: 23.8240398\ttotal: 1.19s\tremaining: 8.56s\n",
      "122:\tlearn: 23.8119750\ttotal: 1.2s\tremaining: 8.54s\n",
      "123:\tlearn: 23.7983503\ttotal: 1.21s\tremaining: 8.52s\n",
      "124:\tlearn: 23.7855570\ttotal: 1.21s\tremaining: 8.5s\n",
      "125:\tlearn: 23.7731510\ttotal: 1.22s\tremaining: 8.47s\n",
      "126:\tlearn: 23.7644414\ttotal: 1.23s\tremaining: 8.45s\n",
      "127:\tlearn: 23.7535582\ttotal: 1.24s\tremaining: 8.43s\n",
      "128:\tlearn: 23.7382741\ttotal: 1.24s\tremaining: 8.4s\n",
      "129:\tlearn: 23.7223827\ttotal: 1.25s\tremaining: 8.38s\n",
      "130:\tlearn: 23.7054802\ttotal: 1.26s\tremaining: 8.36s\n",
      "131:\tlearn: 23.6945042\ttotal: 1.27s\tremaining: 8.34s\n",
      "132:\tlearn: 23.6800966\ttotal: 1.28s\tremaining: 8.32s\n",
      "133:\tlearn: 23.6703350\ttotal: 1.28s\tremaining: 8.3s\n",
      "134:\tlearn: 23.6632674\ttotal: 1.29s\tremaining: 8.28s\n",
      "135:\tlearn: 23.6539214\ttotal: 1.3s\tremaining: 8.26s\n",
      "136:\tlearn: 23.6420781\ttotal: 1.31s\tremaining: 8.23s\n",
      "137:\tlearn: 23.6335816\ttotal: 1.31s\tremaining: 8.21s\n",
      "138:\tlearn: 23.6214937\ttotal: 1.32s\tremaining: 8.19s\n",
      "139:\tlearn: 23.6162588\ttotal: 1.33s\tremaining: 8.18s\n",
      "140:\tlearn: 23.6062596\ttotal: 1.34s\tremaining: 8.16s\n",
      "141:\tlearn: 23.5985048\ttotal: 1.35s\tremaining: 8.15s\n",
      "142:\tlearn: 23.5861269\ttotal: 1.36s\tremaining: 8.13s\n",
      "143:\tlearn: 23.5769833\ttotal: 1.36s\tremaining: 8.11s\n",
      "144:\tlearn: 23.5671555\ttotal: 1.37s\tremaining: 8.11s\n",
      "145:\tlearn: 23.5610515\ttotal: 1.38s\tremaining: 8.08s\n",
      "146:\tlearn: 23.5532026\ttotal: 1.39s\tremaining: 8.07s\n",
      "147:\tlearn: 23.5485699\ttotal: 1.4s\tremaining: 8.05s\n",
      "148:\tlearn: 23.5370868\ttotal: 1.41s\tremaining: 8.04s\n",
      "149:\tlearn: 23.5272293\ttotal: 1.42s\tremaining: 8.04s\n",
      "150:\tlearn: 23.5206312\ttotal: 1.43s\tremaining: 8.03s\n",
      "151:\tlearn: 23.5102201\ttotal: 1.44s\tremaining: 8.04s\n",
      "152:\tlearn: 23.5034340\ttotal: 1.45s\tremaining: 8.04s\n",
      "153:\tlearn: 23.4982822\ttotal: 1.46s\tremaining: 8.05s\n",
      "154:\tlearn: 23.4887059\ttotal: 1.47s\tremaining: 8.04s\n",
      "155:\tlearn: 23.4721892\ttotal: 1.49s\tremaining: 8.07s\n",
      "156:\tlearn: 23.4675206\ttotal: 1.51s\tremaining: 8.09s\n",
      "157:\tlearn: 23.4579464\ttotal: 1.52s\tremaining: 8.09s\n",
      "158:\tlearn: 23.4519478\ttotal: 1.53s\tremaining: 8.09s\n",
      "159:\tlearn: 23.4439446\ttotal: 1.54s\tremaining: 8.09s\n",
      "160:\tlearn: 23.4322829\ttotal: 1.55s\tremaining: 8.09s\n",
      "161:\tlearn: 23.4262687\ttotal: 1.57s\tremaining: 8.12s\n",
      "162:\tlearn: 23.4211333\ttotal: 1.58s\tremaining: 8.13s\n",
      "163:\tlearn: 23.4078714\ttotal: 1.59s\tremaining: 8.11s\n",
      "164:\tlearn: 23.3970245\ttotal: 1.61s\tremaining: 8.15s\n",
      "165:\tlearn: 23.3906983\ttotal: 1.62s\tremaining: 8.16s\n",
      "166:\tlearn: 23.3824595\ttotal: 1.64s\tremaining: 8.17s\n",
      "167:\tlearn: 23.3742383\ttotal: 1.65s\tremaining: 8.18s\n",
      "168:\tlearn: 23.3636010\ttotal: 1.67s\tremaining: 8.21s\n",
      "169:\tlearn: 23.3560169\ttotal: 1.68s\tremaining: 8.2s\n",
      "170:\tlearn: 23.3513426\ttotal: 1.69s\tremaining: 8.18s\n"
     ]
    },
    {
     "name": "stdout",
     "output_type": "stream",
     "text": [
      "171:\tlearn: 23.3453002\ttotal: 1.7s\tremaining: 8.2s\n",
      "172:\tlearn: 23.3422115\ttotal: 1.72s\tremaining: 8.21s\n",
      "173:\tlearn: 23.3365930\ttotal: 1.73s\tremaining: 8.22s\n",
      "174:\tlearn: 23.3297952\ttotal: 1.74s\tremaining: 8.22s\n",
      "175:\tlearn: 23.3247767\ttotal: 1.75s\tremaining: 8.21s\n",
      "176:\tlearn: 23.3168135\ttotal: 1.77s\tremaining: 8.22s\n",
      "177:\tlearn: 23.3110790\ttotal: 1.79s\tremaining: 8.25s\n",
      "178:\tlearn: 23.3027119\ttotal: 1.8s\tremaining: 8.25s\n",
      "179:\tlearn: 23.2945855\ttotal: 1.81s\tremaining: 8.25s\n",
      "180:\tlearn: 23.2886200\ttotal: 1.82s\tremaining: 8.23s\n",
      "181:\tlearn: 23.2814558\ttotal: 1.83s\tremaining: 8.24s\n",
      "182:\tlearn: 23.2714768\ttotal: 1.85s\tremaining: 8.24s\n",
      "183:\tlearn: 23.2621644\ttotal: 1.85s\tremaining: 8.22s\n",
      "184:\tlearn: 23.2548806\ttotal: 1.87s\tremaining: 8.24s\n",
      "185:\tlearn: 23.2500501\ttotal: 1.88s\tremaining: 8.24s\n",
      "186:\tlearn: 23.2470521\ttotal: 1.89s\tremaining: 8.24s\n",
      "187:\tlearn: 23.2389392\ttotal: 1.9s\tremaining: 8.23s\n",
      "188:\tlearn: 23.2305310\ttotal: 1.92s\tremaining: 8.23s\n",
      "189:\tlearn: 23.2181468\ttotal: 1.93s\tremaining: 8.24s\n",
      "190:\tlearn: 23.2103330\ttotal: 1.94s\tremaining: 8.22s\n",
      "191:\tlearn: 23.2041323\ttotal: 1.95s\tremaining: 8.2s\n",
      "192:\tlearn: 23.1978817\ttotal: 1.96s\tremaining: 8.18s\n",
      "193:\tlearn: 23.1921149\ttotal: 1.97s\tremaining: 8.16s\n",
      "194:\tlearn: 23.1850930\ttotal: 1.97s\tremaining: 8.15s\n",
      "195:\tlearn: 23.1814362\ttotal: 1.98s\tremaining: 8.13s\n",
      "196:\tlearn: 23.1738727\ttotal: 1.99s\tremaining: 8.11s\n",
      "197:\tlearn: 23.1683256\ttotal: 2s\tremaining: 8.1s\n",
      "198:\tlearn: 23.1640088\ttotal: 2.02s\tremaining: 8.12s\n",
      "199:\tlearn: 23.1529720\ttotal: 2.03s\tremaining: 8.11s\n",
      "200:\tlearn: 23.1477035\ttotal: 2.04s\tremaining: 8.11s\n",
      "201:\tlearn: 23.1447289\ttotal: 2.05s\tremaining: 8.11s\n",
      "202:\tlearn: 23.1389349\ttotal: 2.06s\tremaining: 8.11s\n",
      "203:\tlearn: 23.1352518\ttotal: 2.08s\tremaining: 8.1s\n",
      "204:\tlearn: 23.1283950\ttotal: 2.09s\tremaining: 8.1s\n",
      "205:\tlearn: 23.1230287\ttotal: 2.1s\tremaining: 8.1s\n",
      "206:\tlearn: 23.1179784\ttotal: 2.11s\tremaining: 8.09s\n",
      "207:\tlearn: 23.1072799\ttotal: 2.12s\tremaining: 8.09s\n",
      "208:\tlearn: 23.1039267\ttotal: 2.14s\tremaining: 8.09s\n",
      "209:\tlearn: 23.0940687\ttotal: 2.16s\tremaining: 8.11s\n",
      "210:\tlearn: 23.0905601\ttotal: 2.17s\tremaining: 8.1s\n",
      "211:\tlearn: 23.0849712\ttotal: 2.18s\tremaining: 8.1s\n",
      "212:\tlearn: 23.0776722\ttotal: 2.19s\tremaining: 8.1s\n",
      "213:\tlearn: 23.0736396\ttotal: 2.2s\tremaining: 8.1s\n",
      "214:\tlearn: 23.0668172\ttotal: 2.21s\tremaining: 8.08s\n",
      "215:\tlearn: 23.0637128\ttotal: 2.23s\tremaining: 8.09s\n",
      "216:\tlearn: 23.0572153\ttotal: 2.24s\tremaining: 8.09s\n",
      "217:\tlearn: 23.0530283\ttotal: 2.25s\tremaining: 8.09s\n",
      "218:\tlearn: 23.0482259\ttotal: 2.27s\tremaining: 8.08s\n",
      "219:\tlearn: 23.0415000\ttotal: 2.28s\tremaining: 8.08s\n",
      "220:\tlearn: 23.0345796\ttotal: 2.29s\tremaining: 8.09s\n",
      "221:\tlearn: 23.0251749\ttotal: 2.31s\tremaining: 8.1s\n",
      "222:\tlearn: 23.0222425\ttotal: 2.32s\tremaining: 8.1s\n",
      "223:\tlearn: 23.0177673\ttotal: 2.34s\tremaining: 8.1s\n",
      "224:\tlearn: 23.0130387\ttotal: 2.35s\tremaining: 8.09s\n",
      "225:\tlearn: 23.0049880\ttotal: 2.36s\tremaining: 8.09s\n",
      "226:\tlearn: 23.0003720\ttotal: 2.37s\tremaining: 8.08s\n",
      "227:\tlearn: 22.9917517\ttotal: 2.39s\tremaining: 8.08s\n",
      "228:\tlearn: 22.9829449\ttotal: 2.4s\tremaining: 8.07s\n",
      "229:\tlearn: 22.9766477\ttotal: 2.41s\tremaining: 8.07s\n",
      "230:\tlearn: 22.9730197\ttotal: 2.42s\tremaining: 8.07s\n",
      "231:\tlearn: 22.9661748\ttotal: 2.44s\tremaining: 8.08s\n",
      "232:\tlearn: 22.9613652\ttotal: 2.45s\tremaining: 8.07s\n",
      "233:\tlearn: 22.9595427\ttotal: 2.46s\tremaining: 8.05s\n",
      "234:\tlearn: 22.9555253\ttotal: 2.47s\tremaining: 8.04s\n",
      "235:\tlearn: 22.9465155\ttotal: 2.48s\tremaining: 8.03s\n",
      "236:\tlearn: 22.9375898\ttotal: 2.49s\tremaining: 8.02s\n",
      "237:\tlearn: 22.9326508\ttotal: 2.5s\tremaining: 8s\n",
      "238:\tlearn: 22.9244183\ttotal: 2.51s\tremaining: 7.99s\n",
      "239:\tlearn: 22.9187705\ttotal: 2.52s\tremaining: 7.98s\n",
      "240:\tlearn: 22.9141903\ttotal: 2.53s\tremaining: 7.97s\n",
      "241:\tlearn: 22.9055558\ttotal: 2.54s\tremaining: 7.95s\n",
      "242:\tlearn: 22.8990318\ttotal: 2.55s\tremaining: 7.94s\n",
      "243:\tlearn: 22.8961745\ttotal: 2.56s\tremaining: 7.92s\n",
      "244:\tlearn: 22.8907626\ttotal: 2.57s\tremaining: 7.92s\n",
      "245:\tlearn: 22.8855798\ttotal: 2.58s\tremaining: 7.9s\n",
      "246:\tlearn: 22.8810368\ttotal: 2.59s\tremaining: 7.89s\n",
      "247:\tlearn: 22.8741292\ttotal: 2.59s\tremaining: 7.87s\n",
      "248:\tlearn: 22.8693228\ttotal: 2.6s\tremaining: 7.85s\n",
      "249:\tlearn: 22.8596656\ttotal: 2.61s\tremaining: 7.83s\n",
      "250:\tlearn: 22.8530318\ttotal: 2.62s\tremaining: 7.82s\n",
      "251:\tlearn: 22.8450988\ttotal: 2.63s\tremaining: 7.81s\n",
      "252:\tlearn: 22.8397289\ttotal: 2.64s\tremaining: 7.79s\n",
      "253:\tlearn: 22.8352399\ttotal: 2.65s\tremaining: 7.78s\n",
      "254:\tlearn: 22.8267586\ttotal: 2.66s\tremaining: 7.76s\n",
      "255:\tlearn: 22.8241452\ttotal: 2.66s\tremaining: 7.74s\n",
      "256:\tlearn: 22.8170454\ttotal: 2.67s\tremaining: 7.73s\n",
      "257:\tlearn: 22.8114880\ttotal: 2.68s\tremaining: 7.71s\n",
      "258:\tlearn: 22.8066118\ttotal: 2.69s\tremaining: 7.7s\n",
      "259:\tlearn: 22.8017277\ttotal: 2.7s\tremaining: 7.68s\n",
      "260:\tlearn: 22.7988541\ttotal: 2.71s\tremaining: 7.66s\n",
      "261:\tlearn: 22.7929637\ttotal: 2.72s\tremaining: 7.65s\n",
      "262:\tlearn: 22.7884904\ttotal: 2.72s\tremaining: 7.63s\n",
      "263:\tlearn: 22.7845406\ttotal: 2.73s\tremaining: 7.63s\n",
      "264:\tlearn: 22.7779138\ttotal: 2.74s\tremaining: 7.61s\n",
      "265:\tlearn: 22.7719846\ttotal: 2.75s\tremaining: 7.6s\n",
      "266:\tlearn: 22.7693536\ttotal: 2.76s\tremaining: 7.58s\n",
      "267:\tlearn: 22.7645679\ttotal: 2.77s\tremaining: 7.57s\n",
      "268:\tlearn: 22.7600511\ttotal: 2.78s\tremaining: 7.55s\n",
      "269:\tlearn: 22.7534573\ttotal: 2.79s\tremaining: 7.54s\n",
      "270:\tlearn: 22.7493558\ttotal: 2.8s\tremaining: 7.52s\n",
      "271:\tlearn: 22.7452285\ttotal: 2.8s\tremaining: 7.51s\n",
      "272:\tlearn: 22.7422946\ttotal: 2.81s\tremaining: 7.49s\n",
      "273:\tlearn: 22.7346685\ttotal: 2.82s\tremaining: 7.47s\n",
      "274:\tlearn: 22.7287559\ttotal: 2.83s\tremaining: 7.46s\n",
      "275:\tlearn: 22.7227732\ttotal: 2.84s\tremaining: 7.45s\n",
      "276:\tlearn: 22.7184900\ttotal: 2.85s\tremaining: 7.43s\n",
      "277:\tlearn: 22.7149243\ttotal: 2.85s\tremaining: 7.41s\n",
      "278:\tlearn: 22.7067323\ttotal: 2.87s\tremaining: 7.4s\n",
      "279:\tlearn: 22.7014893\ttotal: 2.87s\tremaining: 7.39s\n",
      "280:\tlearn: 22.6947642\ttotal: 2.88s\tremaining: 7.38s\n",
      "281:\tlearn: 22.6928221\ttotal: 2.89s\tremaining: 7.36s\n",
      "282:\tlearn: 22.6873386\ttotal: 2.9s\tremaining: 7.35s\n",
      "283:\tlearn: 22.6838745\ttotal: 2.91s\tremaining: 7.35s\n",
      "284:\tlearn: 22.6810820\ttotal: 2.92s\tremaining: 7.33s\n",
      "285:\tlearn: 22.6762020\ttotal: 2.93s\tremaining: 7.32s\n",
      "286:\tlearn: 22.6695098\ttotal: 2.94s\tremaining: 7.31s\n",
      "287:\tlearn: 22.6641755\ttotal: 2.95s\tremaining: 7.3s\n",
      "288:\tlearn: 22.6591366\ttotal: 2.96s\tremaining: 7.29s\n",
      "289:\tlearn: 22.6546040\ttotal: 2.97s\tremaining: 7.28s\n",
      "290:\tlearn: 22.6498019\ttotal: 2.98s\tremaining: 7.26s\n",
      "291:\tlearn: 22.6434055\ttotal: 2.99s\tremaining: 7.25s\n",
      "292:\tlearn: 22.6396854\ttotal: 3s\tremaining: 7.24s\n",
      "293:\tlearn: 22.6370193\ttotal: 3.01s\tremaining: 7.22s\n",
      "294:\tlearn: 22.6287618\ttotal: 3.02s\tremaining: 7.21s\n",
      "295:\tlearn: 22.6245342\ttotal: 3.02s\tremaining: 7.19s\n",
      "296:\tlearn: 22.6194613\ttotal: 3.03s\tremaining: 7.18s\n",
      "297:\tlearn: 22.6144826\ttotal: 3.04s\tremaining: 7.17s\n",
      "298:\tlearn: 22.6090414\ttotal: 3.05s\tremaining: 7.16s\n",
      "299:\tlearn: 22.5997424\ttotal: 3.06s\tremaining: 7.14s\n",
      "300:\tlearn: 22.5969417\ttotal: 3.07s\tremaining: 7.13s\n",
      "301:\tlearn: 22.5946154\ttotal: 3.08s\tremaining: 7.11s\n",
      "302:\tlearn: 22.5907132\ttotal: 3.08s\tremaining: 7.1s\n",
      "303:\tlearn: 22.5871665\ttotal: 3.09s\tremaining: 7.08s\n",
      "304:\tlearn: 22.5819052\ttotal: 3.1s\tremaining: 7.06s\n",
      "305:\tlearn: 22.5761887\ttotal: 3.11s\tremaining: 7.05s\n",
      "306:\tlearn: 22.5736853\ttotal: 3.12s\tremaining: 7.03s\n",
      "307:\tlearn: 22.5698433\ttotal: 3.12s\tremaining: 7.02s\n",
      "308:\tlearn: 22.5652651\ttotal: 3.13s\tremaining: 7s\n",
      "309:\tlearn: 22.5620265\ttotal: 3.14s\tremaining: 6.99s\n",
      "310:\tlearn: 22.5559010\ttotal: 3.15s\tremaining: 6.97s\n",
      "311:\tlearn: 22.5527732\ttotal: 3.16s\tremaining: 6.96s\n",
      "312:\tlearn: 22.5438708\ttotal: 3.16s\tremaining: 6.95s\n",
      "313:\tlearn: 22.5415029\ttotal: 3.17s\tremaining: 6.93s\n",
      "314:\tlearn: 22.5380004\ttotal: 3.18s\tremaining: 6.91s\n",
      "315:\tlearn: 22.5338684\ttotal: 3.19s\tremaining: 6.9s\n",
      "316:\tlearn: 22.5274481\ttotal: 3.19s\tremaining: 6.88s\n",
      "317:\tlearn: 22.5229310\ttotal: 3.2s\tremaining: 6.87s\n",
      "318:\tlearn: 22.5199948\ttotal: 3.21s\tremaining: 6.85s\n",
      "319:\tlearn: 22.5159991\ttotal: 3.22s\tremaining: 6.84s\n",
      "320:\tlearn: 22.5124389\ttotal: 3.23s\tremaining: 6.82s\n",
      "321:\tlearn: 22.5090729\ttotal: 3.23s\tremaining: 6.81s\n",
      "322:\tlearn: 22.5037923\ttotal: 3.24s\tremaining: 6.79s\n",
      "323:\tlearn: 22.5009827\ttotal: 3.25s\tremaining: 6.78s\n",
      "324:\tlearn: 22.4964722\ttotal: 3.25s\tremaining: 6.76s\n",
      "325:\tlearn: 22.4912477\ttotal: 3.26s\tremaining: 6.75s\n",
      "326:\tlearn: 22.4886904\ttotal: 3.27s\tremaining: 6.73s\n",
      "327:\tlearn: 22.4856033\ttotal: 3.28s\tremaining: 6.71s\n",
      "328:\tlearn: 22.4822394\ttotal: 3.29s\tremaining: 6.7s\n",
      "329:\tlearn: 22.4805929\ttotal: 3.29s\tremaining: 6.69s\n",
      "330:\tlearn: 22.4762841\ttotal: 3.3s\tremaining: 6.67s\n",
      "331:\tlearn: 22.4747959\ttotal: 3.31s\tremaining: 6.66s\n",
      "332:\tlearn: 22.4716622\ttotal: 3.32s\tremaining: 6.64s\n",
      "333:\tlearn: 22.4678677\ttotal: 3.33s\tremaining: 6.63s\n",
      "334:\tlearn: 22.4645183\ttotal: 3.33s\tremaining: 6.62s\n",
      "335:\tlearn: 22.4618901\ttotal: 3.34s\tremaining: 6.61s\n"
     ]
    },
    {
     "name": "stdout",
     "output_type": "stream",
     "text": [
      "336:\tlearn: 22.4589731\ttotal: 3.35s\tremaining: 6.59s\n",
      "337:\tlearn: 22.4526520\ttotal: 3.36s\tremaining: 6.58s\n",
      "338:\tlearn: 22.4494398\ttotal: 3.37s\tremaining: 6.57s\n",
      "339:\tlearn: 22.4451823\ttotal: 3.38s\tremaining: 6.55s\n",
      "340:\tlearn: 22.4424358\ttotal: 3.38s\tremaining: 6.54s\n",
      "341:\tlearn: 22.4363005\ttotal: 3.39s\tremaining: 6.52s\n",
      "342:\tlearn: 22.4308286\ttotal: 3.4s\tremaining: 6.51s\n",
      "343:\tlearn: 22.4266527\ttotal: 3.41s\tremaining: 6.5s\n",
      "344:\tlearn: 22.4252187\ttotal: 3.42s\tremaining: 6.49s\n",
      "345:\tlearn: 22.4225499\ttotal: 3.43s\tremaining: 6.48s\n",
      "346:\tlearn: 22.4182353\ttotal: 3.44s\tremaining: 6.47s\n",
      "347:\tlearn: 22.4151941\ttotal: 3.44s\tremaining: 6.45s\n",
      "348:\tlearn: 22.4115974\ttotal: 3.45s\tremaining: 6.44s\n",
      "349:\tlearn: 22.4056185\ttotal: 3.46s\tremaining: 6.43s\n",
      "350:\tlearn: 22.4025377\ttotal: 3.47s\tremaining: 6.42s\n",
      "351:\tlearn: 22.3969135\ttotal: 3.48s\tremaining: 6.4s\n",
      "352:\tlearn: 22.3950256\ttotal: 3.49s\tremaining: 6.39s\n",
      "353:\tlearn: 22.3918341\ttotal: 3.49s\tremaining: 6.37s\n",
      "354:\tlearn: 22.3892468\ttotal: 3.5s\tremaining: 6.36s\n",
      "355:\tlearn: 22.3848482\ttotal: 3.51s\tremaining: 6.34s\n",
      "356:\tlearn: 22.3793207\ttotal: 3.52s\tremaining: 6.33s\n",
      "357:\tlearn: 22.3740204\ttotal: 3.52s\tremaining: 6.32s\n",
      "358:\tlearn: 22.3715834\ttotal: 3.53s\tremaining: 6.3s\n",
      "359:\tlearn: 22.3694909\ttotal: 3.54s\tremaining: 6.29s\n",
      "360:\tlearn: 22.3660047\ttotal: 3.55s\tremaining: 6.28s\n",
      "361:\tlearn: 22.3617356\ttotal: 3.56s\tremaining: 6.26s\n",
      "362:\tlearn: 22.3584985\ttotal: 3.56s\tremaining: 6.25s\n",
      "363:\tlearn: 22.3544202\ttotal: 3.57s\tremaining: 6.24s\n",
      "364:\tlearn: 22.3513015\ttotal: 3.58s\tremaining: 6.22s\n",
      "365:\tlearn: 22.3490143\ttotal: 3.58s\tremaining: 6.21s\n",
      "366:\tlearn: 22.3460175\ttotal: 3.59s\tremaining: 6.2s\n",
      "367:\tlearn: 22.3413852\ttotal: 3.6s\tremaining: 6.18s\n",
      "368:\tlearn: 22.3372533\ttotal: 3.61s\tremaining: 6.17s\n",
      "369:\tlearn: 22.3320342\ttotal: 3.62s\tremaining: 6.16s\n",
      "370:\tlearn: 22.3290338\ttotal: 3.62s\tremaining: 6.14s\n",
      "371:\tlearn: 22.3272387\ttotal: 3.63s\tremaining: 6.13s\n",
      "372:\tlearn: 22.3232703\ttotal: 3.64s\tremaining: 6.11s\n",
      "373:\tlearn: 22.3175070\ttotal: 3.65s\tremaining: 6.1s\n",
      "374:\tlearn: 22.3137026\ttotal: 3.65s\tremaining: 6.09s\n",
      "375:\tlearn: 22.3101948\ttotal: 3.66s\tremaining: 6.08s\n",
      "376:\tlearn: 22.3069578\ttotal: 3.67s\tremaining: 6.06s\n",
      "377:\tlearn: 22.3037832\ttotal: 3.68s\tremaining: 6.05s\n",
      "378:\tlearn: 22.3014779\ttotal: 3.68s\tremaining: 6.04s\n",
      "379:\tlearn: 22.2990431\ttotal: 3.69s\tremaining: 6.02s\n",
      "380:\tlearn: 22.2969559\ttotal: 3.7s\tremaining: 6.01s\n",
      "381:\tlearn: 22.2938682\ttotal: 3.71s\tremaining: 6s\n",
      "382:\tlearn: 22.2887537\ttotal: 3.71s\tremaining: 5.98s\n",
      "383:\tlearn: 22.2856654\ttotal: 3.72s\tremaining: 5.97s\n",
      "384:\tlearn: 22.2828963\ttotal: 3.73s\tremaining: 5.96s\n",
      "385:\tlearn: 22.2777683\ttotal: 3.74s\tremaining: 5.95s\n",
      "386:\tlearn: 22.2719743\ttotal: 3.75s\tremaining: 5.93s\n",
      "387:\tlearn: 22.2678270\ttotal: 3.75s\tremaining: 5.92s\n",
      "388:\tlearn: 22.2662554\ttotal: 3.76s\tremaining: 5.91s\n",
      "389:\tlearn: 22.2620926\ttotal: 3.77s\tremaining: 5.9s\n",
      "390:\tlearn: 22.2576643\ttotal: 3.78s\tremaining: 5.88s\n",
      "391:\tlearn: 22.2526421\ttotal: 3.78s\tremaining: 5.87s\n",
      "392:\tlearn: 22.2486853\ttotal: 3.79s\tremaining: 5.86s\n",
      "393:\tlearn: 22.2470906\ttotal: 3.8s\tremaining: 5.84s\n",
      "394:\tlearn: 22.2440737\ttotal: 3.81s\tremaining: 5.83s\n",
      "395:\tlearn: 22.2424782\ttotal: 3.81s\tremaining: 5.82s\n",
      "396:\tlearn: 22.2387003\ttotal: 3.82s\tremaining: 5.8s\n",
      "397:\tlearn: 22.2350148\ttotal: 3.83s\tremaining: 5.79s\n",
      "398:\tlearn: 22.2332893\ttotal: 3.84s\tremaining: 5.78s\n",
      "399:\tlearn: 22.2288896\ttotal: 3.85s\tremaining: 5.77s\n",
      "400:\tlearn: 22.2267395\ttotal: 3.85s\tremaining: 5.76s\n",
      "401:\tlearn: 22.2231800\ttotal: 3.86s\tremaining: 5.74s\n",
      "402:\tlearn: 22.2208283\ttotal: 3.87s\tremaining: 5.73s\n",
      "403:\tlearn: 22.2189178\ttotal: 3.88s\tremaining: 5.72s\n",
      "404:\tlearn: 22.2134358\ttotal: 3.88s\tremaining: 5.71s\n",
      "405:\tlearn: 22.2106302\ttotal: 3.89s\tremaining: 5.7s\n",
      "406:\tlearn: 22.2076399\ttotal: 3.9s\tremaining: 5.68s\n",
      "407:\tlearn: 22.2030852\ttotal: 3.91s\tremaining: 5.67s\n",
      "408:\tlearn: 22.1969958\ttotal: 3.92s\tremaining: 5.66s\n",
      "409:\tlearn: 22.1936855\ttotal: 3.92s\tremaining: 5.64s\n",
      "410:\tlearn: 22.1908475\ttotal: 3.93s\tremaining: 5.63s\n",
      "411:\tlearn: 22.1889800\ttotal: 3.94s\tremaining: 5.62s\n",
      "412:\tlearn: 22.1847431\ttotal: 3.94s\tremaining: 5.61s\n",
      "413:\tlearn: 22.1776291\ttotal: 3.95s\tremaining: 5.6s\n",
      "414:\tlearn: 22.1755093\ttotal: 3.96s\tremaining: 5.58s\n",
      "415:\tlearn: 22.1721380\ttotal: 3.97s\tremaining: 5.57s\n",
      "416:\tlearn: 22.1691210\ttotal: 3.98s\tremaining: 5.56s\n",
      "417:\tlearn: 22.1671169\ttotal: 3.98s\tremaining: 5.55s\n",
      "418:\tlearn: 22.1651848\ttotal: 3.99s\tremaining: 5.54s\n",
      "419:\tlearn: 22.1626243\ttotal: 4s\tremaining: 5.52s\n",
      "420:\tlearn: 22.1569016\ttotal: 4.01s\tremaining: 5.51s\n",
      "421:\tlearn: 22.1552279\ttotal: 4.02s\tremaining: 5.5s\n",
      "422:\tlearn: 22.1520378\ttotal: 4.02s\tremaining: 5.49s\n",
      "423:\tlearn: 22.1493692\ttotal: 4.03s\tremaining: 5.48s\n",
      "424:\tlearn: 22.1463842\ttotal: 4.04s\tremaining: 5.46s\n",
      "425:\tlearn: 22.1436074\ttotal: 4.05s\tremaining: 5.46s\n",
      "426:\tlearn: 22.1410276\ttotal: 4.06s\tremaining: 5.45s\n",
      "427:\tlearn: 22.1368476\ttotal: 4.07s\tremaining: 5.44s\n",
      "428:\tlearn: 22.1321321\ttotal: 4.08s\tremaining: 5.43s\n",
      "429:\tlearn: 22.1307552\ttotal: 4.09s\tremaining: 5.42s\n",
      "430:\tlearn: 22.1293557\ttotal: 4.1s\tremaining: 5.41s\n",
      "431:\tlearn: 22.1262891\ttotal: 4.11s\tremaining: 5.4s\n",
      "432:\tlearn: 22.1232750\ttotal: 4.12s\tremaining: 5.39s\n",
      "433:\tlearn: 22.1183924\ttotal: 4.13s\tremaining: 5.38s\n",
      "434:\tlearn: 22.1137223\ttotal: 4.13s\tremaining: 5.37s\n",
      "435:\tlearn: 22.1100646\ttotal: 4.14s\tremaining: 5.36s\n",
      "436:\tlearn: 22.1074621\ttotal: 4.15s\tremaining: 5.35s\n",
      "437:\tlearn: 22.1020913\ttotal: 4.16s\tremaining: 5.34s\n",
      "438:\tlearn: 22.1003566\ttotal: 4.17s\tremaining: 5.33s\n",
      "439:\tlearn: 22.0983623\ttotal: 4.18s\tremaining: 5.32s\n",
      "440:\tlearn: 22.0942297\ttotal: 4.18s\tremaining: 5.3s\n",
      "441:\tlearn: 22.0912184\ttotal: 4.19s\tremaining: 5.29s\n",
      "442:\tlearn: 22.0890695\ttotal: 4.2s\tremaining: 5.28s\n",
      "443:\tlearn: 22.0853679\ttotal: 4.21s\tremaining: 5.27s\n",
      "444:\tlearn: 22.0829632\ttotal: 4.22s\tremaining: 5.26s\n",
      "445:\tlearn: 22.0790494\ttotal: 4.23s\tremaining: 5.25s\n",
      "446:\tlearn: 22.0749963\ttotal: 4.24s\tremaining: 5.24s\n",
      "447:\tlearn: 22.0706341\ttotal: 4.25s\tremaining: 5.23s\n",
      "448:\tlearn: 22.0645907\ttotal: 4.26s\tremaining: 5.22s\n",
      "449:\tlearn: 22.0605972\ttotal: 4.27s\tremaining: 5.21s\n",
      "450:\tlearn: 22.0585337\ttotal: 4.28s\tremaining: 5.21s\n",
      "451:\tlearn: 22.0522496\ttotal: 4.29s\tremaining: 5.2s\n",
      "452:\tlearn: 22.0495784\ttotal: 4.3s\tremaining: 5.19s\n",
      "453:\tlearn: 22.0478064\ttotal: 4.31s\tremaining: 5.18s\n",
      "454:\tlearn: 22.0462736\ttotal: 4.32s\tremaining: 5.17s\n",
      "455:\tlearn: 22.0392124\ttotal: 4.33s\tremaining: 5.17s\n",
      "456:\tlearn: 22.0349541\ttotal: 4.34s\tremaining: 5.16s\n",
      "457:\tlearn: 22.0296369\ttotal: 4.35s\tremaining: 5.15s\n",
      "458:\tlearn: 22.0249761\ttotal: 4.36s\tremaining: 5.14s\n",
      "459:\tlearn: 22.0219369\ttotal: 4.37s\tremaining: 5.13s\n",
      "460:\tlearn: 22.0183399\ttotal: 4.38s\tremaining: 5.12s\n",
      "461:\tlearn: 22.0160269\ttotal: 4.39s\tremaining: 5.11s\n",
      "462:\tlearn: 22.0117292\ttotal: 4.4s\tremaining: 5.1s\n",
      "463:\tlearn: 22.0075070\ttotal: 4.41s\tremaining: 5.09s\n",
      "464:\tlearn: 22.0044674\ttotal: 4.42s\tremaining: 5.08s\n",
      "465:\tlearn: 22.0020769\ttotal: 4.42s\tremaining: 5.07s\n",
      "466:\tlearn: 22.0000447\ttotal: 4.43s\tremaining: 5.06s\n",
      "467:\tlearn: 21.9971044\ttotal: 4.44s\tremaining: 5.05s\n",
      "468:\tlearn: 21.9951737\ttotal: 4.45s\tremaining: 5.04s\n",
      "469:\tlearn: 21.9921043\ttotal: 4.46s\tremaining: 5.03s\n",
      "470:\tlearn: 21.9893090\ttotal: 4.47s\tremaining: 5.03s\n",
      "471:\tlearn: 21.9869392\ttotal: 4.48s\tremaining: 5.02s\n",
      "472:\tlearn: 21.9852880\ttotal: 4.49s\tremaining: 5s\n",
      "473:\tlearn: 21.9812008\ttotal: 4.5s\tremaining: 4.99s\n",
      "474:\tlearn: 21.9776762\ttotal: 4.51s\tremaining: 4.98s\n",
      "475:\tlearn: 21.9742158\ttotal: 4.52s\tremaining: 4.97s\n",
      "476:\tlearn: 21.9721704\ttotal: 4.53s\tremaining: 4.96s\n",
      "477:\tlearn: 21.9682590\ttotal: 4.54s\tremaining: 4.95s\n",
      "478:\tlearn: 21.9659306\ttotal: 4.54s\tremaining: 4.94s\n",
      "479:\tlearn: 21.9632557\ttotal: 4.55s\tremaining: 4.93s\n",
      "480:\tlearn: 21.9602656\ttotal: 4.56s\tremaining: 4.92s\n",
      "481:\tlearn: 21.9584076\ttotal: 4.57s\tremaining: 4.91s\n",
      "482:\tlearn: 21.9569329\ttotal: 4.58s\tremaining: 4.9s\n",
      "483:\tlearn: 21.9533622\ttotal: 4.59s\tremaining: 4.89s\n",
      "484:\tlearn: 21.9519433\ttotal: 4.6s\tremaining: 4.88s\n",
      "485:\tlearn: 21.9511850\ttotal: 4.61s\tremaining: 4.87s\n",
      "486:\tlearn: 21.9493264\ttotal: 4.61s\tremaining: 4.86s\n",
      "487:\tlearn: 21.9471449\ttotal: 4.62s\tremaining: 4.85s\n",
      "488:\tlearn: 21.9436122\ttotal: 4.63s\tremaining: 4.84s\n",
      "489:\tlearn: 21.9420171\ttotal: 4.64s\tremaining: 4.83s\n",
      "490:\tlearn: 21.9372682\ttotal: 4.65s\tremaining: 4.82s\n",
      "491:\tlearn: 21.9338409\ttotal: 4.65s\tremaining: 4.81s\n",
      "492:\tlearn: 21.9304351\ttotal: 4.67s\tremaining: 4.8s\n",
      "493:\tlearn: 21.9260723\ttotal: 4.67s\tremaining: 4.79s\n",
      "494:\tlearn: 21.9248501\ttotal: 4.68s\tremaining: 4.78s\n",
      "495:\tlearn: 21.9213791\ttotal: 4.69s\tremaining: 4.77s\n",
      "496:\tlearn: 21.9188940\ttotal: 4.7s\tremaining: 4.76s\n",
      "497:\tlearn: 21.9152657\ttotal: 4.71s\tremaining: 4.75s\n",
      "498:\tlearn: 21.9114941\ttotal: 4.72s\tremaining: 4.74s\n",
      "499:\tlearn: 21.9100330\ttotal: 4.72s\tremaining: 4.72s\n",
      "500:\tlearn: 21.9074431\ttotal: 4.74s\tremaining: 4.72s\n",
      "501:\tlearn: 21.9034288\ttotal: 4.75s\tremaining: 4.71s\n"
     ]
    },
    {
     "name": "stdout",
     "output_type": "stream",
     "text": [
      "502:\tlearn: 21.9018287\ttotal: 4.76s\tremaining: 4.7s\n",
      "503:\tlearn: 21.8988637\ttotal: 4.77s\tremaining: 4.69s\n",
      "504:\tlearn: 21.8968042\ttotal: 4.78s\tremaining: 4.68s\n",
      "505:\tlearn: 21.8941454\ttotal: 4.79s\tremaining: 4.68s\n",
      "506:\tlearn: 21.8915315\ttotal: 4.8s\tremaining: 4.67s\n",
      "507:\tlearn: 21.8883998\ttotal: 4.82s\tremaining: 4.67s\n",
      "508:\tlearn: 21.8864987\ttotal: 4.83s\tremaining: 4.66s\n",
      "509:\tlearn: 21.8831976\ttotal: 4.84s\tremaining: 4.65s\n",
      "510:\tlearn: 21.8810408\ttotal: 4.85s\tremaining: 4.64s\n",
      "511:\tlearn: 21.8774175\ttotal: 4.86s\tremaining: 4.63s\n",
      "512:\tlearn: 21.8727845\ttotal: 4.87s\tremaining: 4.62s\n",
      "513:\tlearn: 21.8706392\ttotal: 4.88s\tremaining: 4.62s\n",
      "514:\tlearn: 21.8683622\ttotal: 4.89s\tremaining: 4.61s\n",
      "515:\tlearn: 21.8638492\ttotal: 4.9s\tremaining: 4.6s\n",
      "516:\tlearn: 21.8618231\ttotal: 4.92s\tremaining: 4.59s\n",
      "517:\tlearn: 21.8595295\ttotal: 4.92s\tremaining: 4.58s\n",
      "518:\tlearn: 21.8561564\ttotal: 4.94s\tremaining: 4.58s\n",
      "519:\tlearn: 21.8528843\ttotal: 4.95s\tremaining: 4.57s\n",
      "520:\tlearn: 21.8504668\ttotal: 4.96s\tremaining: 4.56s\n",
      "521:\tlearn: 21.8482682\ttotal: 4.97s\tremaining: 4.55s\n",
      "522:\tlearn: 21.8463825\ttotal: 4.99s\tremaining: 4.55s\n",
      "523:\tlearn: 21.8424855\ttotal: 5s\tremaining: 4.54s\n",
      "524:\tlearn: 21.8391541\ttotal: 5.01s\tremaining: 4.54s\n",
      "525:\tlearn: 21.8373644\ttotal: 5.02s\tremaining: 4.53s\n",
      "526:\tlearn: 21.8350793\ttotal: 5.04s\tremaining: 4.52s\n",
      "527:\tlearn: 21.8327058\ttotal: 5.05s\tremaining: 4.51s\n",
      "528:\tlearn: 21.8312820\ttotal: 5.06s\tremaining: 4.5s\n",
      "529:\tlearn: 21.8292722\ttotal: 5.07s\tremaining: 4.49s\n",
      "530:\tlearn: 21.8257585\ttotal: 5.08s\tremaining: 4.49s\n",
      "531:\tlearn: 21.8243725\ttotal: 5.09s\tremaining: 4.48s\n",
      "532:\tlearn: 21.8221574\ttotal: 5.1s\tremaining: 4.47s\n",
      "533:\tlearn: 21.8200550\ttotal: 5.11s\tremaining: 4.46s\n",
      "534:\tlearn: 21.8182811\ttotal: 5.12s\tremaining: 4.45s\n",
      "535:\tlearn: 21.8150534\ttotal: 5.13s\tremaining: 4.44s\n",
      "536:\tlearn: 21.8123831\ttotal: 5.14s\tremaining: 4.43s\n",
      "537:\tlearn: 21.8099269\ttotal: 5.15s\tremaining: 4.42s\n",
      "538:\tlearn: 21.8075116\ttotal: 5.16s\tremaining: 4.41s\n",
      "539:\tlearn: 21.8030719\ttotal: 5.17s\tremaining: 4.4s\n",
      "540:\tlearn: 21.8007797\ttotal: 5.17s\tremaining: 4.39s\n",
      "541:\tlearn: 21.7982802\ttotal: 5.18s\tremaining: 4.38s\n",
      "542:\tlearn: 21.7919312\ttotal: 5.19s\tremaining: 4.37s\n",
      "543:\tlearn: 21.7901156\ttotal: 5.2s\tremaining: 4.36s\n",
      "544:\tlearn: 21.7877259\ttotal: 5.2s\tremaining: 4.34s\n",
      "545:\tlearn: 21.7852023\ttotal: 5.21s\tremaining: 4.33s\n",
      "546:\tlearn: 21.7831926\ttotal: 5.22s\tremaining: 4.32s\n",
      "547:\tlearn: 21.7806462\ttotal: 5.23s\tremaining: 4.31s\n",
      "548:\tlearn: 21.7777860\ttotal: 5.23s\tremaining: 4.3s\n",
      "549:\tlearn: 21.7731828\ttotal: 5.24s\tremaining: 4.29s\n",
      "550:\tlearn: 21.7709038\ttotal: 5.25s\tremaining: 4.28s\n",
      "551:\tlearn: 21.7679816\ttotal: 5.26s\tremaining: 4.27s\n",
      "552:\tlearn: 21.7646181\ttotal: 5.27s\tremaining: 4.26s\n",
      "553:\tlearn: 21.7621768\ttotal: 5.28s\tremaining: 4.25s\n",
      "554:\tlearn: 21.7599021\ttotal: 5.29s\tremaining: 4.24s\n",
      "555:\tlearn: 21.7581136\ttotal: 5.3s\tremaining: 4.23s\n",
      "556:\tlearn: 21.7562560\ttotal: 5.31s\tremaining: 4.23s\n",
      "557:\tlearn: 21.7544010\ttotal: 5.33s\tremaining: 4.22s\n",
      "558:\tlearn: 21.7519951\ttotal: 5.34s\tremaining: 4.21s\n",
      "559:\tlearn: 21.7464262\ttotal: 5.36s\tremaining: 4.21s\n",
      "560:\tlearn: 21.7448506\ttotal: 5.37s\tremaining: 4.2s\n",
      "561:\tlearn: 21.7406962\ttotal: 5.38s\tremaining: 4.19s\n",
      "562:\tlearn: 21.7379698\ttotal: 5.39s\tremaining: 4.19s\n",
      "563:\tlearn: 21.7340607\ttotal: 5.41s\tremaining: 4.18s\n",
      "564:\tlearn: 21.7312449\ttotal: 5.42s\tremaining: 4.17s\n",
      "565:\tlearn: 21.7286495\ttotal: 5.43s\tremaining: 4.16s\n",
      "566:\tlearn: 21.7238775\ttotal: 5.43s\tremaining: 4.15s\n",
      "567:\tlearn: 21.7217500\ttotal: 5.44s\tremaining: 4.14s\n",
      "568:\tlearn: 21.7200749\ttotal: 5.45s\tremaining: 4.13s\n",
      "569:\tlearn: 21.7167459\ttotal: 5.46s\tremaining: 4.12s\n",
      "570:\tlearn: 21.7141871\ttotal: 5.47s\tremaining: 4.11s\n",
      "571:\tlearn: 21.7116812\ttotal: 5.48s\tremaining: 4.1s\n",
      "572:\tlearn: 21.7094474\ttotal: 5.49s\tremaining: 4.09s\n",
      "573:\tlearn: 21.7083280\ttotal: 5.5s\tremaining: 4.08s\n",
      "574:\tlearn: 21.7065359\ttotal: 5.51s\tremaining: 4.07s\n",
      "575:\tlearn: 21.7042171\ttotal: 5.51s\tremaining: 4.06s\n",
      "576:\tlearn: 21.7020488\ttotal: 5.53s\tremaining: 4.05s\n",
      "577:\tlearn: 21.6992949\ttotal: 5.53s\tremaining: 4.04s\n",
      "578:\tlearn: 21.6982207\ttotal: 5.54s\tremaining: 4.03s\n",
      "579:\tlearn: 21.6942522\ttotal: 5.55s\tremaining: 4.02s\n",
      "580:\tlearn: 21.6929942\ttotal: 5.56s\tremaining: 4.01s\n",
      "581:\tlearn: 21.6912636\ttotal: 5.57s\tremaining: 4s\n",
      "582:\tlearn: 21.6885284\ttotal: 5.58s\tremaining: 3.99s\n",
      "583:\tlearn: 21.6877657\ttotal: 5.59s\tremaining: 3.98s\n",
      "584:\tlearn: 21.6862189\ttotal: 5.6s\tremaining: 3.97s\n",
      "585:\tlearn: 21.6840995\ttotal: 5.62s\tremaining: 3.97s\n",
      "586:\tlearn: 21.6798652\ttotal: 5.63s\tremaining: 3.96s\n",
      "587:\tlearn: 21.6767521\ttotal: 5.64s\tremaining: 3.95s\n",
      "588:\tlearn: 21.6757369\ttotal: 5.65s\tremaining: 3.94s\n",
      "589:\tlearn: 21.6728703\ttotal: 5.66s\tremaining: 3.93s\n",
      "590:\tlearn: 21.6699305\ttotal: 5.66s\tremaining: 3.92s\n",
      "591:\tlearn: 21.6667131\ttotal: 5.67s\tremaining: 3.91s\n",
      "592:\tlearn: 21.6651526\ttotal: 5.68s\tremaining: 3.9s\n",
      "593:\tlearn: 21.6634378\ttotal: 5.68s\tremaining: 3.89s\n",
      "594:\tlearn: 21.6612389\ttotal: 5.69s\tremaining: 3.88s\n",
      "595:\tlearn: 21.6600122\ttotal: 5.7s\tremaining: 3.86s\n",
      "596:\tlearn: 21.6561427\ttotal: 5.71s\tremaining: 3.85s\n",
      "597:\tlearn: 21.6532456\ttotal: 5.71s\tremaining: 3.84s\n",
      "598:\tlearn: 21.6492767\ttotal: 5.72s\tremaining: 3.83s\n",
      "599:\tlearn: 21.6469694\ttotal: 5.73s\tremaining: 3.82s\n",
      "600:\tlearn: 21.6451963\ttotal: 5.74s\tremaining: 3.81s\n",
      "601:\tlearn: 21.6438625\ttotal: 5.74s\tremaining: 3.8s\n",
      "602:\tlearn: 21.6394065\ttotal: 5.75s\tremaining: 3.79s\n",
      "603:\tlearn: 21.6371990\ttotal: 5.76s\tremaining: 3.77s\n",
      "604:\tlearn: 21.6358684\ttotal: 5.77s\tremaining: 3.77s\n",
      "605:\tlearn: 21.6336173\ttotal: 5.77s\tremaining: 3.75s\n",
      "606:\tlearn: 21.6313911\ttotal: 5.78s\tremaining: 3.74s\n",
      "607:\tlearn: 21.6285937\ttotal: 5.79s\tremaining: 3.73s\n",
      "608:\tlearn: 21.6264202\ttotal: 5.8s\tremaining: 3.72s\n",
      "609:\tlearn: 21.6216576\ttotal: 5.81s\tremaining: 3.71s\n",
      "610:\tlearn: 21.6203518\ttotal: 5.81s\tremaining: 3.7s\n",
      "611:\tlearn: 21.6184719\ttotal: 5.82s\tremaining: 3.69s\n",
      "612:\tlearn: 21.6145994\ttotal: 5.83s\tremaining: 3.68s\n",
      "613:\tlearn: 21.6119290\ttotal: 5.84s\tremaining: 3.67s\n",
      "614:\tlearn: 21.6082739\ttotal: 5.84s\tremaining: 3.66s\n",
      "615:\tlearn: 21.6058325\ttotal: 5.85s\tremaining: 3.65s\n",
      "616:\tlearn: 21.6038410\ttotal: 5.86s\tremaining: 3.64s\n",
      "617:\tlearn: 21.6028888\ttotal: 5.87s\tremaining: 3.63s\n",
      "618:\tlearn: 21.5993435\ttotal: 5.87s\tremaining: 3.62s\n",
      "619:\tlearn: 21.5947325\ttotal: 5.88s\tremaining: 3.6s\n",
      "620:\tlearn: 21.5922659\ttotal: 5.89s\tremaining: 3.59s\n",
      "621:\tlearn: 21.5903530\ttotal: 5.9s\tremaining: 3.58s\n",
      "622:\tlearn: 21.5890965\ttotal: 5.91s\tremaining: 3.57s\n",
      "623:\tlearn: 21.5843592\ttotal: 5.92s\tremaining: 3.56s\n",
      "624:\tlearn: 21.5807921\ttotal: 5.92s\tremaining: 3.55s\n",
      "625:\tlearn: 21.5791523\ttotal: 5.93s\tremaining: 3.54s\n",
      "626:\tlearn: 21.5758082\ttotal: 5.94s\tremaining: 3.53s\n",
      "627:\tlearn: 21.5734608\ttotal: 5.95s\tremaining: 3.52s\n",
      "628:\tlearn: 21.5718529\ttotal: 5.97s\tremaining: 3.52s\n",
      "629:\tlearn: 21.5700670\ttotal: 5.98s\tremaining: 3.51s\n",
      "630:\tlearn: 21.5661219\ttotal: 5.99s\tremaining: 3.5s\n",
      "631:\tlearn: 21.5643647\ttotal: 6s\tremaining: 3.49s\n",
      "632:\tlearn: 21.5624893\ttotal: 6.01s\tremaining: 3.48s\n",
      "633:\tlearn: 21.5586464\ttotal: 6.02s\tremaining: 3.48s\n",
      "634:\tlearn: 21.5547905\ttotal: 6.03s\tremaining: 3.46s\n",
      "635:\tlearn: 21.5531999\ttotal: 6.04s\tremaining: 3.46s\n",
      "636:\tlearn: 21.5518970\ttotal: 6.05s\tremaining: 3.45s\n",
      "637:\tlearn: 21.5501797\ttotal: 6.05s\tremaining: 3.44s\n",
      "638:\tlearn: 21.5488564\ttotal: 6.06s\tremaining: 3.43s\n",
      "639:\tlearn: 21.5467160\ttotal: 6.07s\tremaining: 3.42s\n",
      "640:\tlearn: 21.5435518\ttotal: 6.08s\tremaining: 3.41s\n",
      "641:\tlearn: 21.5408125\ttotal: 6.09s\tremaining: 3.4s\n",
      "642:\tlearn: 21.5389726\ttotal: 6.1s\tremaining: 3.38s\n",
      "643:\tlearn: 21.5358974\ttotal: 6.11s\tremaining: 3.38s\n",
      "644:\tlearn: 21.5341659\ttotal: 6.11s\tremaining: 3.37s\n",
      "645:\tlearn: 21.5312994\ttotal: 6.12s\tremaining: 3.35s\n",
      "646:\tlearn: 21.5275788\ttotal: 6.13s\tremaining: 3.34s\n",
      "647:\tlearn: 21.5232783\ttotal: 6.14s\tremaining: 3.33s\n",
      "648:\tlearn: 21.5218567\ttotal: 6.14s\tremaining: 3.32s\n",
      "649:\tlearn: 21.5185383\ttotal: 6.15s\tremaining: 3.31s\n",
      "650:\tlearn: 21.5165696\ttotal: 6.16s\tremaining: 3.3s\n",
      "651:\tlearn: 21.5147235\ttotal: 6.17s\tremaining: 3.29s\n",
      "652:\tlearn: 21.5138157\ttotal: 6.18s\tremaining: 3.28s\n",
      "653:\tlearn: 21.5125268\ttotal: 6.18s\tremaining: 3.27s\n",
      "654:\tlearn: 21.5101072\ttotal: 6.19s\tremaining: 3.26s\n",
      "655:\tlearn: 21.5087465\ttotal: 6.2s\tremaining: 3.25s\n",
      "656:\tlearn: 21.5066139\ttotal: 6.21s\tremaining: 3.24s\n",
      "657:\tlearn: 21.5041419\ttotal: 6.21s\tremaining: 3.23s\n",
      "658:\tlearn: 21.5023011\ttotal: 6.22s\tremaining: 3.22s\n",
      "659:\tlearn: 21.5012385\ttotal: 6.23s\tremaining: 3.21s\n",
      "660:\tlearn: 21.4982497\ttotal: 6.24s\tremaining: 3.2s\n",
      "661:\tlearn: 21.4948612\ttotal: 6.24s\tremaining: 3.19s\n",
      "662:\tlearn: 21.4921818\ttotal: 6.25s\tremaining: 3.18s\n",
      "663:\tlearn: 21.4881492\ttotal: 6.26s\tremaining: 3.17s\n",
      "664:\tlearn: 21.4859790\ttotal: 6.27s\tremaining: 3.16s\n",
      "665:\tlearn: 21.4831361\ttotal: 6.28s\tremaining: 3.15s\n",
      "666:\tlearn: 21.4819950\ttotal: 6.28s\tremaining: 3.14s\n",
      "667:\tlearn: 21.4808302\ttotal: 6.29s\tremaining: 3.13s\n",
      "668:\tlearn: 21.4770725\ttotal: 6.3s\tremaining: 3.12s\n",
      "669:\tlearn: 21.4747128\ttotal: 6.3s\tremaining: 3.1s\n",
      "670:\tlearn: 21.4719529\ttotal: 6.31s\tremaining: 3.1s\n",
      "671:\tlearn: 21.4693493\ttotal: 6.32s\tremaining: 3.08s\n",
      "672:\tlearn: 21.4672813\ttotal: 6.33s\tremaining: 3.08s\n",
      "673:\tlearn: 21.4645574\ttotal: 6.34s\tremaining: 3.06s\n",
      "674:\tlearn: 21.4624149\ttotal: 6.34s\tremaining: 3.05s\n",
      "675:\tlearn: 21.4611067\ttotal: 6.35s\tremaining: 3.04s\n",
      "676:\tlearn: 21.4585651\ttotal: 6.36s\tremaining: 3.03s\n"
     ]
    },
    {
     "name": "stdout",
     "output_type": "stream",
     "text": [
      "677:\tlearn: 21.4562531\ttotal: 6.37s\tremaining: 3.03s\n",
      "678:\tlearn: 21.4535502\ttotal: 6.38s\tremaining: 3.02s\n",
      "679:\tlearn: 21.4507585\ttotal: 6.39s\tremaining: 3.01s\n",
      "680:\tlearn: 21.4496516\ttotal: 6.4s\tremaining: 3s\n",
      "681:\tlearn: 21.4478454\ttotal: 6.41s\tremaining: 2.99s\n",
      "682:\tlearn: 21.4454227\ttotal: 6.42s\tremaining: 2.98s\n",
      "683:\tlearn: 21.4432318\ttotal: 6.42s\tremaining: 2.97s\n",
      "684:\tlearn: 21.4399691\ttotal: 6.43s\tremaining: 2.96s\n",
      "685:\tlearn: 21.4388837\ttotal: 6.44s\tremaining: 2.95s\n",
      "686:\tlearn: 21.4362658\ttotal: 6.45s\tremaining: 2.94s\n",
      "687:\tlearn: 21.4347172\ttotal: 6.46s\tremaining: 2.93s\n",
      "688:\tlearn: 21.4324792\ttotal: 6.46s\tremaining: 2.92s\n",
      "689:\tlearn: 21.4299228\ttotal: 6.47s\tremaining: 2.91s\n",
      "690:\tlearn: 21.4271947\ttotal: 6.48s\tremaining: 2.9s\n",
      "691:\tlearn: 21.4248213\ttotal: 6.49s\tremaining: 2.89s\n",
      "692:\tlearn: 21.4222746\ttotal: 6.5s\tremaining: 2.88s\n",
      "693:\tlearn: 21.4199119\ttotal: 6.51s\tremaining: 2.87s\n",
      "694:\tlearn: 21.4169093\ttotal: 6.52s\tremaining: 2.86s\n",
      "695:\tlearn: 21.4144972\ttotal: 6.53s\tremaining: 2.85s\n",
      "696:\tlearn: 21.4135780\ttotal: 6.54s\tremaining: 2.84s\n",
      "697:\tlearn: 21.4125059\ttotal: 6.55s\tremaining: 2.83s\n",
      "698:\tlearn: 21.4109981\ttotal: 6.56s\tremaining: 2.82s\n",
      "699:\tlearn: 21.4076541\ttotal: 6.57s\tremaining: 2.81s\n",
      "700:\tlearn: 21.4031332\ttotal: 6.58s\tremaining: 2.81s\n",
      "701:\tlearn: 21.4013615\ttotal: 6.59s\tremaining: 2.8s\n",
      "702:\tlearn: 21.4003293\ttotal: 6.61s\tremaining: 2.79s\n",
      "703:\tlearn: 21.3985540\ttotal: 6.62s\tremaining: 2.78s\n",
      "704:\tlearn: 21.3966628\ttotal: 6.63s\tremaining: 2.77s\n",
      "705:\tlearn: 21.3946203\ttotal: 6.64s\tremaining: 2.77s\n",
      "706:\tlearn: 21.3931674\ttotal: 6.65s\tremaining: 2.76s\n",
      "707:\tlearn: 21.3903841\ttotal: 6.67s\tremaining: 2.75s\n",
      "708:\tlearn: 21.3862780\ttotal: 6.68s\tremaining: 2.74s\n",
      "709:\tlearn: 21.3849917\ttotal: 6.69s\tremaining: 2.73s\n",
      "710:\tlearn: 21.3815306\ttotal: 6.7s\tremaining: 2.72s\n",
      "711:\tlearn: 21.3758517\ttotal: 6.72s\tremaining: 2.72s\n",
      "712:\tlearn: 21.3747009\ttotal: 6.73s\tremaining: 2.71s\n",
      "713:\tlearn: 21.3717939\ttotal: 6.74s\tremaining: 2.7s\n",
      "714:\tlearn: 21.3704305\ttotal: 6.75s\tremaining: 2.69s\n",
      "715:\tlearn: 21.3690440\ttotal: 6.76s\tremaining: 2.68s\n",
      "716:\tlearn: 21.3665588\ttotal: 6.78s\tremaining: 2.67s\n",
      "717:\tlearn: 21.3652770\ttotal: 6.79s\tremaining: 2.67s\n",
      "718:\tlearn: 21.3622390\ttotal: 6.8s\tremaining: 2.66s\n",
      "719:\tlearn: 21.3602155\ttotal: 6.81s\tremaining: 2.65s\n",
      "720:\tlearn: 21.3581727\ttotal: 6.82s\tremaining: 2.64s\n",
      "721:\tlearn: 21.3548833\ttotal: 6.83s\tremaining: 2.63s\n",
      "722:\tlearn: 21.3536081\ttotal: 6.83s\tremaining: 2.62s\n",
      "723:\tlearn: 21.3524898\ttotal: 6.84s\tremaining: 2.61s\n",
      "724:\tlearn: 21.3486491\ttotal: 6.85s\tremaining: 2.6s\n",
      "725:\tlearn: 21.3446097\ttotal: 6.86s\tremaining: 2.59s\n",
      "726:\tlearn: 21.3414129\ttotal: 6.87s\tremaining: 2.58s\n",
      "727:\tlearn: 21.3402103\ttotal: 6.88s\tremaining: 2.57s\n",
      "728:\tlearn: 21.3360137\ttotal: 6.88s\tremaining: 2.56s\n",
      "729:\tlearn: 21.3335583\ttotal: 6.89s\tremaining: 2.55s\n",
      "730:\tlearn: 21.3321029\ttotal: 6.9s\tremaining: 2.54s\n",
      "731:\tlearn: 21.3307841\ttotal: 6.9s\tremaining: 2.53s\n",
      "732:\tlearn: 21.3282270\ttotal: 6.91s\tremaining: 2.52s\n",
      "733:\tlearn: 21.3261187\ttotal: 6.92s\tremaining: 2.51s\n",
      "734:\tlearn: 21.3226808\ttotal: 6.93s\tremaining: 2.5s\n",
      "735:\tlearn: 21.3196345\ttotal: 6.93s\tremaining: 2.49s\n",
      "736:\tlearn: 21.3180927\ttotal: 6.94s\tremaining: 2.48s\n",
      "737:\tlearn: 21.3164028\ttotal: 6.95s\tremaining: 2.47s\n",
      "738:\tlearn: 21.3150102\ttotal: 6.96s\tremaining: 2.46s\n",
      "739:\tlearn: 21.3135210\ttotal: 6.96s\tremaining: 2.45s\n",
      "740:\tlearn: 21.3118568\ttotal: 6.97s\tremaining: 2.44s\n",
      "741:\tlearn: 21.3089936\ttotal: 6.98s\tremaining: 2.43s\n",
      "742:\tlearn: 21.3073894\ttotal: 6.99s\tremaining: 2.42s\n",
      "743:\tlearn: 21.3068023\ttotal: 7s\tremaining: 2.41s\n",
      "744:\tlearn: 21.3046411\ttotal: 7.01s\tremaining: 2.4s\n",
      "745:\tlearn: 21.3030095\ttotal: 7.01s\tremaining: 2.39s\n",
      "746:\tlearn: 21.3013739\ttotal: 7.02s\tremaining: 2.38s\n",
      "747:\tlearn: 21.2989235\ttotal: 7.03s\tremaining: 2.37s\n",
      "748:\tlearn: 21.2961817\ttotal: 7.04s\tremaining: 2.36s\n",
      "749:\tlearn: 21.2943826\ttotal: 7.04s\tremaining: 2.35s\n",
      "750:\tlearn: 21.2919443\ttotal: 7.05s\tremaining: 2.34s\n",
      "751:\tlearn: 21.2888928\ttotal: 7.06s\tremaining: 2.33s\n",
      "752:\tlearn: 21.2861142\ttotal: 7.07s\tremaining: 2.32s\n",
      "753:\tlearn: 21.2837914\ttotal: 7.07s\tremaining: 2.31s\n",
      "754:\tlearn: 21.2798003\ttotal: 7.08s\tremaining: 2.3s\n",
      "755:\tlearn: 21.2777000\ttotal: 7.09s\tremaining: 2.29s\n",
      "756:\tlearn: 21.2765962\ttotal: 7.1s\tremaining: 2.28s\n",
      "757:\tlearn: 21.2746142\ttotal: 7.1s\tremaining: 2.27s\n",
      "758:\tlearn: 21.2722015\ttotal: 7.11s\tremaining: 2.26s\n",
      "759:\tlearn: 21.2711547\ttotal: 7.12s\tremaining: 2.25s\n",
      "760:\tlearn: 21.2674827\ttotal: 7.13s\tremaining: 2.24s\n",
      "761:\tlearn: 21.2656422\ttotal: 7.13s\tremaining: 2.23s\n",
      "762:\tlearn: 21.2643946\ttotal: 7.14s\tremaining: 2.22s\n",
      "763:\tlearn: 21.2623625\ttotal: 7.15s\tremaining: 2.21s\n",
      "764:\tlearn: 21.2615102\ttotal: 7.16s\tremaining: 2.2s\n",
      "765:\tlearn: 21.2597162\ttotal: 7.16s\tremaining: 2.19s\n",
      "766:\tlearn: 21.2572408\ttotal: 7.17s\tremaining: 2.18s\n",
      "767:\tlearn: 21.2553878\ttotal: 7.18s\tremaining: 2.17s\n",
      "768:\tlearn: 21.2538062\ttotal: 7.19s\tremaining: 2.16s\n",
      "769:\tlearn: 21.2521229\ttotal: 7.2s\tremaining: 2.15s\n",
      "770:\tlearn: 21.2478199\ttotal: 7.2s\tremaining: 2.14s\n",
      "771:\tlearn: 21.2449886\ttotal: 7.21s\tremaining: 2.13s\n",
      "772:\tlearn: 21.2434594\ttotal: 7.22s\tremaining: 2.12s\n",
      "773:\tlearn: 21.2418088\ttotal: 7.23s\tremaining: 2.11s\n",
      "774:\tlearn: 21.2401221\ttotal: 7.23s\tremaining: 2.1s\n",
      "775:\tlearn: 21.2380508\ttotal: 7.24s\tremaining: 2.09s\n",
      "776:\tlearn: 21.2360917\ttotal: 7.25s\tremaining: 2.08s\n",
      "777:\tlearn: 21.2333121\ttotal: 7.26s\tremaining: 2.07s\n",
      "778:\tlearn: 21.2321397\ttotal: 7.27s\tremaining: 2.06s\n",
      "779:\tlearn: 21.2296089\ttotal: 7.27s\tremaining: 2.05s\n",
      "780:\tlearn: 21.2275141\ttotal: 7.28s\tremaining: 2.04s\n",
      "781:\tlearn: 21.2255686\ttotal: 7.29s\tremaining: 2.03s\n",
      "782:\tlearn: 21.2240939\ttotal: 7.3s\tremaining: 2.02s\n",
      "783:\tlearn: 21.2206426\ttotal: 7.3s\tremaining: 2.01s\n",
      "784:\tlearn: 21.2192802\ttotal: 7.31s\tremaining: 2s\n",
      "785:\tlearn: 21.2176011\ttotal: 7.32s\tremaining: 1.99s\n",
      "786:\tlearn: 21.2159313\ttotal: 7.33s\tremaining: 1.98s\n",
      "787:\tlearn: 21.2139909\ttotal: 7.34s\tremaining: 1.97s\n",
      "788:\tlearn: 21.2114612\ttotal: 7.35s\tremaining: 1.97s\n",
      "789:\tlearn: 21.2104657\ttotal: 7.36s\tremaining: 1.96s\n",
      "790:\tlearn: 21.2094477\ttotal: 7.36s\tremaining: 1.95s\n",
      "791:\tlearn: 21.2072362\ttotal: 7.37s\tremaining: 1.94s\n",
      "792:\tlearn: 21.2055112\ttotal: 7.38s\tremaining: 1.93s\n",
      "793:\tlearn: 21.2021703\ttotal: 7.39s\tremaining: 1.92s\n",
      "794:\tlearn: 21.2000835\ttotal: 7.41s\tremaining: 1.91s\n",
      "795:\tlearn: 21.1990573\ttotal: 7.41s\tremaining: 1.9s\n",
      "796:\tlearn: 21.1973570\ttotal: 7.42s\tremaining: 1.89s\n",
      "797:\tlearn: 21.1962982\ttotal: 7.43s\tremaining: 1.88s\n",
      "798:\tlearn: 21.1942915\ttotal: 7.45s\tremaining: 1.87s\n",
      "799:\tlearn: 21.1917837\ttotal: 7.46s\tremaining: 1.86s\n",
      "800:\tlearn: 21.1897657\ttotal: 7.47s\tremaining: 1.86s\n",
      "801:\tlearn: 21.1883693\ttotal: 7.49s\tremaining: 1.85s\n",
      "802:\tlearn: 21.1868922\ttotal: 7.5s\tremaining: 1.84s\n",
      "803:\tlearn: 21.1829675\ttotal: 7.51s\tremaining: 1.83s\n",
      "804:\tlearn: 21.1807649\ttotal: 7.52s\tremaining: 1.82s\n",
      "805:\tlearn: 21.1792126\ttotal: 7.54s\tremaining: 1.81s\n",
      "806:\tlearn: 21.1753188\ttotal: 7.55s\tremaining: 1.8s\n",
      "807:\tlearn: 21.1741622\ttotal: 7.56s\tremaining: 1.8s\n",
      "808:\tlearn: 21.1735502\ttotal: 7.58s\tremaining: 1.79s\n",
      "809:\tlearn: 21.1703552\ttotal: 7.59s\tremaining: 1.78s\n",
      "810:\tlearn: 21.1679944\ttotal: 7.6s\tremaining: 1.77s\n",
      "811:\tlearn: 21.1662589\ttotal: 7.62s\tremaining: 1.76s\n",
      "812:\tlearn: 21.1643083\ttotal: 7.63s\tremaining: 1.75s\n",
      "813:\tlearn: 21.1603906\ttotal: 7.64s\tremaining: 1.75s\n",
      "814:\tlearn: 21.1591322\ttotal: 7.65s\tremaining: 1.74s\n",
      "815:\tlearn: 21.1570782\ttotal: 7.67s\tremaining: 1.73s\n",
      "816:\tlearn: 21.1531399\ttotal: 7.68s\tremaining: 1.72s\n",
      "817:\tlearn: 21.1518906\ttotal: 7.69s\tremaining: 1.71s\n",
      "818:\tlearn: 21.1503964\ttotal: 7.7s\tremaining: 1.7s\n",
      "819:\tlearn: 21.1485579\ttotal: 7.71s\tremaining: 1.69s\n",
      "820:\tlearn: 21.1453005\ttotal: 7.72s\tremaining: 1.68s\n",
      "821:\tlearn: 21.1435988\ttotal: 7.73s\tremaining: 1.67s\n",
      "822:\tlearn: 21.1423319\ttotal: 7.73s\tremaining: 1.66s\n",
      "823:\tlearn: 21.1403418\ttotal: 7.74s\tremaining: 1.65s\n",
      "824:\tlearn: 21.1368327\ttotal: 7.75s\tremaining: 1.64s\n",
      "825:\tlearn: 21.1352461\ttotal: 7.76s\tremaining: 1.63s\n",
      "826:\tlearn: 21.1332901\ttotal: 7.76s\tremaining: 1.62s\n",
      "827:\tlearn: 21.1322970\ttotal: 7.78s\tremaining: 1.61s\n",
      "828:\tlearn: 21.1306793\ttotal: 7.79s\tremaining: 1.61s\n",
      "829:\tlearn: 21.1279561\ttotal: 7.79s\tremaining: 1.6s\n",
      "830:\tlearn: 21.1262582\ttotal: 7.8s\tremaining: 1.59s\n",
      "831:\tlearn: 21.1242305\ttotal: 7.81s\tremaining: 1.58s\n",
      "832:\tlearn: 21.1232676\ttotal: 7.82s\tremaining: 1.57s\n",
      "833:\tlearn: 21.1217058\ttotal: 7.83s\tremaining: 1.56s\n",
      "834:\tlearn: 21.1202758\ttotal: 7.83s\tremaining: 1.55s\n",
      "835:\tlearn: 21.1189658\ttotal: 7.84s\tremaining: 1.54s\n",
      "836:\tlearn: 21.1149159\ttotal: 7.85s\tremaining: 1.53s\n",
      "837:\tlearn: 21.1133441\ttotal: 7.86s\tremaining: 1.52s\n",
      "838:\tlearn: 21.1124104\ttotal: 7.87s\tremaining: 1.51s\n",
      "839:\tlearn: 21.1106745\ttotal: 7.87s\tremaining: 1.5s\n",
      "840:\tlearn: 21.1090116\ttotal: 7.88s\tremaining: 1.49s\n",
      "841:\tlearn: 21.1067640\ttotal: 7.89s\tremaining: 1.48s\n",
      "842:\tlearn: 21.1054799\ttotal: 7.9s\tremaining: 1.47s\n",
      "843:\tlearn: 21.1031865\ttotal: 7.9s\tremaining: 1.46s\n",
      "844:\tlearn: 21.1021405\ttotal: 7.91s\tremaining: 1.45s\n",
      "845:\tlearn: 21.1013846\ttotal: 7.92s\tremaining: 1.44s\n",
      "846:\tlearn: 21.0990579\ttotal: 7.92s\tremaining: 1.43s\n",
      "847:\tlearn: 21.0979457\ttotal: 7.93s\tremaining: 1.42s\n",
      "848:\tlearn: 21.0947653\ttotal: 7.94s\tremaining: 1.41s\n",
      "849:\tlearn: 21.0917498\ttotal: 7.95s\tremaining: 1.4s\n",
      "850:\tlearn: 21.0892895\ttotal: 7.96s\tremaining: 1.39s\n",
      "851:\tlearn: 21.0881192\ttotal: 7.96s\tremaining: 1.38s\n",
      "852:\tlearn: 21.0875842\ttotal: 7.97s\tremaining: 1.37s\n",
      "853:\tlearn: 21.0864084\ttotal: 7.98s\tremaining: 1.36s\n",
      "854:\tlearn: 21.0853120\ttotal: 7.99s\tremaining: 1.35s\n"
     ]
    },
    {
     "name": "stdout",
     "output_type": "stream",
     "text": [
      "855:\tlearn: 21.0838785\ttotal: 7.99s\tremaining: 1.34s\n",
      "856:\tlearn: 21.0817574\ttotal: 8s\tremaining: 1.33s\n",
      "857:\tlearn: 21.0803446\ttotal: 8.01s\tremaining: 1.32s\n",
      "858:\tlearn: 21.0790859\ttotal: 8.02s\tremaining: 1.32s\n",
      "859:\tlearn: 21.0778328\ttotal: 8.02s\tremaining: 1.31s\n",
      "860:\tlearn: 21.0760159\ttotal: 8.03s\tremaining: 1.3s\n",
      "861:\tlearn: 21.0731773\ttotal: 8.04s\tremaining: 1.29s\n",
      "862:\tlearn: 21.0704935\ttotal: 8.05s\tremaining: 1.28s\n",
      "863:\tlearn: 21.0692459\ttotal: 8.06s\tremaining: 1.27s\n",
      "864:\tlearn: 21.0681786\ttotal: 8.06s\tremaining: 1.26s\n",
      "865:\tlearn: 21.0667428\ttotal: 8.07s\tremaining: 1.25s\n",
      "866:\tlearn: 21.0644179\ttotal: 8.08s\tremaining: 1.24s\n",
      "867:\tlearn: 21.0625867\ttotal: 8.09s\tremaining: 1.23s\n",
      "868:\tlearn: 21.0613150\ttotal: 8.09s\tremaining: 1.22s\n",
      "869:\tlearn: 21.0587326\ttotal: 8.1s\tremaining: 1.21s\n",
      "870:\tlearn: 21.0564492\ttotal: 8.11s\tremaining: 1.2s\n",
      "871:\tlearn: 21.0526746\ttotal: 8.12s\tremaining: 1.19s\n",
      "872:\tlearn: 21.0516967\ttotal: 8.13s\tremaining: 1.18s\n",
      "873:\tlearn: 21.0510794\ttotal: 8.13s\tremaining: 1.17s\n",
      "874:\tlearn: 21.0484451\ttotal: 8.14s\tremaining: 1.16s\n",
      "875:\tlearn: 21.0472567\ttotal: 8.15s\tremaining: 1.15s\n",
      "876:\tlearn: 21.0452508\ttotal: 8.15s\tremaining: 1.14s\n",
      "877:\tlearn: 21.0430451\ttotal: 8.16s\tremaining: 1.13s\n",
      "878:\tlearn: 21.0379121\ttotal: 8.17s\tremaining: 1.12s\n",
      "879:\tlearn: 21.0351268\ttotal: 8.18s\tremaining: 1.11s\n",
      "880:\tlearn: 21.0326336\ttotal: 8.19s\tremaining: 1.1s\n",
      "881:\tlearn: 21.0317740\ttotal: 8.2s\tremaining: 1.1s\n",
      "882:\tlearn: 21.0295691\ttotal: 8.2s\tremaining: 1.09s\n",
      "883:\tlearn: 21.0274276\ttotal: 8.21s\tremaining: 1.08s\n",
      "884:\tlearn: 21.0245700\ttotal: 8.22s\tremaining: 1.07s\n",
      "885:\tlearn: 21.0229599\ttotal: 8.23s\tremaining: 1.06s\n",
      "886:\tlearn: 21.0175128\ttotal: 8.24s\tremaining: 1.05s\n",
      "887:\tlearn: 21.0162531\ttotal: 8.25s\tremaining: 1.04s\n",
      "888:\tlearn: 21.0154522\ttotal: 8.26s\tremaining: 1.03s\n",
      "889:\tlearn: 21.0141882\ttotal: 8.27s\tremaining: 1.02s\n",
      "890:\tlearn: 21.0127955\ttotal: 8.28s\tremaining: 1.01s\n",
      "891:\tlearn: 21.0120388\ttotal: 8.29s\tremaining: 1s\n",
      "892:\tlearn: 21.0111496\ttotal: 8.3s\tremaining: 995ms\n",
      "893:\tlearn: 21.0096353\ttotal: 8.32s\tremaining: 986ms\n",
      "894:\tlearn: 21.0087217\ttotal: 8.33s\tremaining: 977ms\n",
      "895:\tlearn: 21.0078724\ttotal: 8.34s\tremaining: 968ms\n",
      "896:\tlearn: 21.0071238\ttotal: 8.35s\tremaining: 959ms\n",
      "897:\tlearn: 21.0054741\ttotal: 8.36s\tremaining: 950ms\n",
      "898:\tlearn: 21.0045616\ttotal: 8.37s\tremaining: 941ms\n",
      "899:\tlearn: 21.0017880\ttotal: 8.38s\tremaining: 931ms\n",
      "900:\tlearn: 21.0000367\ttotal: 8.39s\tremaining: 922ms\n",
      "901:\tlearn: 20.9981629\ttotal: 8.4s\tremaining: 913ms\n",
      "902:\tlearn: 20.9968386\ttotal: 8.42s\tremaining: 904ms\n",
      "903:\tlearn: 20.9951793\ttotal: 8.43s\tremaining: 895ms\n",
      "904:\tlearn: 20.9941029\ttotal: 8.44s\tremaining: 886ms\n",
      "905:\tlearn: 20.9909007\ttotal: 8.45s\tremaining: 877ms\n",
      "906:\tlearn: 20.9879356\ttotal: 8.46s\tremaining: 868ms\n",
      "907:\tlearn: 20.9858785\ttotal: 8.48s\tremaining: 859ms\n",
      "908:\tlearn: 20.9842511\ttotal: 8.49s\tremaining: 850ms\n",
      "909:\tlearn: 20.9834397\ttotal: 8.5s\tremaining: 841ms\n",
      "910:\tlearn: 20.9812286\ttotal: 8.52s\tremaining: 832ms\n",
      "911:\tlearn: 20.9803060\ttotal: 8.53s\tremaining: 823ms\n",
      "912:\tlearn: 20.9796022\ttotal: 8.54s\tremaining: 814ms\n",
      "913:\tlearn: 20.9777973\ttotal: 8.55s\tremaining: 804ms\n",
      "914:\tlearn: 20.9741851\ttotal: 8.56s\tremaining: 796ms\n",
      "915:\tlearn: 20.9706323\ttotal: 8.58s\tremaining: 787ms\n",
      "916:\tlearn: 20.9679458\ttotal: 8.58s\tremaining: 777ms\n",
      "917:\tlearn: 20.9651118\ttotal: 8.6s\tremaining: 768ms\n",
      "918:\tlearn: 20.9631797\ttotal: 8.61s\tremaining: 759ms\n",
      "919:\tlearn: 20.9614240\ttotal: 8.63s\tremaining: 750ms\n",
      "920:\tlearn: 20.9577667\ttotal: 8.63s\tremaining: 741ms\n",
      "921:\tlearn: 20.9560849\ttotal: 8.65s\tremaining: 732ms\n",
      "922:\tlearn: 20.9534486\ttotal: 8.66s\tremaining: 723ms\n",
      "923:\tlearn: 20.9495318\ttotal: 8.68s\tremaining: 714ms\n",
      "924:\tlearn: 20.9470989\ttotal: 8.68s\tremaining: 704ms\n",
      "925:\tlearn: 20.9459029\ttotal: 8.7s\tremaining: 695ms\n",
      "926:\tlearn: 20.9427293\ttotal: 8.71s\tremaining: 686ms\n",
      "927:\tlearn: 20.9388008\ttotal: 8.72s\tremaining: 677ms\n",
      "928:\tlearn: 20.9344669\ttotal: 8.74s\tremaining: 668ms\n",
      "929:\tlearn: 20.9317992\ttotal: 8.75s\tremaining: 659ms\n",
      "930:\tlearn: 20.9309263\ttotal: 8.76s\tremaining: 650ms\n",
      "931:\tlearn: 20.9299482\ttotal: 8.78s\tremaining: 641ms\n",
      "932:\tlearn: 20.9272278\ttotal: 8.79s\tremaining: 632ms\n",
      "933:\tlearn: 20.9244570\ttotal: 8.8s\tremaining: 622ms\n",
      "934:\tlearn: 20.9234102\ttotal: 8.82s\tremaining: 613ms\n",
      "935:\tlearn: 20.9211452\ttotal: 8.83s\tremaining: 604ms\n",
      "936:\tlearn: 20.9193971\ttotal: 8.84s\tremaining: 595ms\n",
      "937:\tlearn: 20.9185219\ttotal: 8.85s\tremaining: 585ms\n",
      "938:\tlearn: 20.9142460\ttotal: 8.86s\tremaining: 576ms\n",
      "939:\tlearn: 20.9130376\ttotal: 8.88s\tremaining: 567ms\n",
      "940:\tlearn: 20.9117087\ttotal: 8.89s\tremaining: 557ms\n",
      "941:\tlearn: 20.9100033\ttotal: 8.9s\tremaining: 548ms\n",
      "942:\tlearn: 20.9073929\ttotal: 8.92s\tremaining: 539ms\n",
      "943:\tlearn: 20.9047914\ttotal: 8.93s\tremaining: 530ms\n",
      "944:\tlearn: 20.9040344\ttotal: 8.95s\tremaining: 521ms\n",
      "945:\tlearn: 20.9019878\ttotal: 8.96s\tremaining: 512ms\n",
      "946:\tlearn: 20.8999022\ttotal: 8.98s\tremaining: 502ms\n",
      "947:\tlearn: 20.8967929\ttotal: 8.99s\tremaining: 493ms\n",
      "948:\tlearn: 20.8956549\ttotal: 8.99s\tremaining: 483ms\n",
      "949:\tlearn: 20.8942803\ttotal: 9.01s\tremaining: 474ms\n",
      "950:\tlearn: 20.8929331\ttotal: 9.02s\tremaining: 465ms\n",
      "951:\tlearn: 20.8906041\ttotal: 9.04s\tremaining: 456ms\n",
      "952:\tlearn: 20.8892320\ttotal: 9.05s\tremaining: 446ms\n",
      "953:\tlearn: 20.8873211\ttotal: 9.06s\tremaining: 437ms\n",
      "954:\tlearn: 20.8856309\ttotal: 9.07s\tremaining: 428ms\n",
      "955:\tlearn: 20.8835492\ttotal: 9.09s\tremaining: 418ms\n",
      "956:\tlearn: 20.8818024\ttotal: 9.1s\tremaining: 409ms\n",
      "957:\tlearn: 20.8794869\ttotal: 9.11s\tremaining: 399ms\n",
      "958:\tlearn: 20.8775569\ttotal: 9.13s\tremaining: 390ms\n",
      "959:\tlearn: 20.8749968\ttotal: 9.14s\tremaining: 381ms\n",
      "960:\tlearn: 20.8718111\ttotal: 9.15s\tremaining: 371ms\n",
      "961:\tlearn: 20.8701493\ttotal: 9.16s\tremaining: 362ms\n",
      "962:\tlearn: 20.8686965\ttotal: 9.17s\tremaining: 352ms\n",
      "963:\tlearn: 20.8665005\ttotal: 9.18s\tremaining: 343ms\n",
      "964:\tlearn: 20.8641969\ttotal: 9.19s\tremaining: 333ms\n",
      "965:\tlearn: 20.8630464\ttotal: 9.21s\tremaining: 324ms\n",
      "966:\tlearn: 20.8602388\ttotal: 9.22s\tremaining: 315ms\n",
      "967:\tlearn: 20.8593522\ttotal: 9.23s\tremaining: 305ms\n",
      "968:\tlearn: 20.8556258\ttotal: 9.24s\tremaining: 296ms\n",
      "969:\tlearn: 20.8512820\ttotal: 9.26s\tremaining: 286ms\n",
      "970:\tlearn: 20.8485929\ttotal: 9.27s\tremaining: 277ms\n",
      "971:\tlearn: 20.8464423\ttotal: 9.28s\tremaining: 267ms\n",
      "972:\tlearn: 20.8454714\ttotal: 9.29s\tremaining: 258ms\n",
      "973:\tlearn: 20.8438479\ttotal: 9.3s\tremaining: 248ms\n",
      "974:\tlearn: 20.8424615\ttotal: 9.32s\tremaining: 239ms\n",
      "975:\tlearn: 20.8407617\ttotal: 9.33s\tremaining: 229ms\n",
      "976:\tlearn: 20.8400279\ttotal: 9.34s\tremaining: 220ms\n",
      "977:\tlearn: 20.8395922\ttotal: 9.36s\tremaining: 210ms\n",
      "978:\tlearn: 20.8382156\ttotal: 9.37s\tremaining: 201ms\n",
      "979:\tlearn: 20.8361727\ttotal: 9.38s\tremaining: 191ms\n",
      "980:\tlearn: 20.8336942\ttotal: 9.39s\tremaining: 182ms\n",
      "981:\tlearn: 20.8331352\ttotal: 9.41s\tremaining: 172ms\n",
      "982:\tlearn: 20.8312894\ttotal: 9.42s\tremaining: 163ms\n",
      "983:\tlearn: 20.8288952\ttotal: 9.44s\tremaining: 153ms\n",
      "984:\tlearn: 20.8277259\ttotal: 9.45s\tremaining: 144ms\n",
      "985:\tlearn: 20.8258379\ttotal: 9.46s\tremaining: 134ms\n",
      "986:\tlearn: 20.8240480\ttotal: 9.47s\tremaining: 125ms\n",
      "987:\tlearn: 20.8215699\ttotal: 9.48s\tremaining: 115ms\n",
      "988:\tlearn: 20.8186712\ttotal: 9.49s\tremaining: 106ms\n",
      "989:\tlearn: 20.8178892\ttotal: 9.5s\tremaining: 95.9ms\n",
      "990:\tlearn: 20.8160385\ttotal: 9.51s\tremaining: 86.4ms\n",
      "991:\tlearn: 20.8148439\ttotal: 9.52s\tremaining: 76.8ms\n",
      "992:\tlearn: 20.8135514\ttotal: 9.53s\tremaining: 67.2ms\n",
      "993:\tlearn: 20.8125893\ttotal: 9.54s\tremaining: 57.6ms\n",
      "994:\tlearn: 20.8102351\ttotal: 9.55s\tremaining: 48ms\n",
      "995:\tlearn: 20.8089361\ttotal: 9.56s\tremaining: 38.4ms\n",
      "996:\tlearn: 20.8081981\ttotal: 9.57s\tremaining: 28.8ms\n",
      "997:\tlearn: 20.8047212\ttotal: 9.58s\tremaining: 19.2ms\n",
      "998:\tlearn: 20.8030009\ttotal: 9.59s\tremaining: 9.6ms\n",
      "999:\tlearn: 20.8006719\ttotal: 9.61s\tremaining: 0us\n"
     ]
    },
    {
     "data": {
      "text/plain": [
       "<catboost.core.CatBoostRegressor at 0x7f88ffb2a9b0>"
      ]
     },
     "execution_count": 25,
     "metadata": {},
     "output_type": "execute_result"
    }
   ],
   "source": [
    "model_cat.fit(X_train,y_train)"
   ]
  },
  {
   "cell_type": "markdown",
   "metadata": {},
   "source": [
    "Model evaluation"
   ]
  },
  {
   "cell_type": "code",
   "execution_count": 26,
   "metadata": {},
   "outputs": [
    {
     "data": {
      "text/plain": [
       "array([30.97156165, 36.82988847, 12.66416369, ..., 35.16954446,\n",
       "       20.01777059, 29.34723379])"
      ]
     },
     "execution_count": 26,
     "metadata": {},
     "output_type": "execute_result"
    }
   ],
   "source": [
    "preds = model_cat.predict(X_test)\n",
    "\n",
    "preds\n",
    "#import numpy as np\n",
    "#np.shape(wine_train)\n",
    "#len(preds)\n",
    "#preds"
   ]
  },
  {
   "cell_type": "code",
   "execution_count": 27,
   "metadata": {},
   "outputs": [
    {
     "name": "stdout",
     "output_type": "stream",
     "text": [
      "11.499400924840197\n",
      "22.54846732637354\n"
     ]
    },
    {
     "data": {
      "text/plain": [
       "34991"
      ]
     },
     "execution_count": 27,
     "metadata": {},
     "output_type": "execute_result"
    }
   ],
   "source": [
    "\n",
    "from sklearn import metrics\n",
    "print (metrics.mean_absolute_error(preds,y_test))\n",
    "print(np.sqrt(metrics.mean_squared_error(preds,y_test)))\n",
    "len(preds)\n",
    "#len(y_test) 23.00807804423797"
   ]
  },
  {
   "cell_type": "code",
   "execution_count": 28,
   "metadata": {},
   "outputs": [
    {
     "data": {
      "text/plain": [
       "{\"Model Regression's accuracy 3.723814695207339\"}"
      ]
     },
     "execution_count": 28,
     "metadata": {},
     "output_type": "execute_result"
    }
   ],
   "source": [
    "from sklearn.metrics import accuracy_score\n",
    "result = {'Model Regression\\'s accuracy {}'.format(accuracy_score(preds.round(),y_test)*100,normalize=False)}\n",
    "result"
   ]
  },
  {
   "cell_type": "code",
   "execution_count": 29,
   "metadata": {},
   "outputs": [
    {
     "name": "stdout",
     "output_type": "stream",
     "text": [
      "{\"Model Regression's accuracy 3.723814695207339\"} %\n"
     ]
    }
   ],
   "source": [
    "print(result,'%')"
   ]
  },
  {
   "cell_type": "markdown",
   "metadata": {},
   "source": [
    "# Testing"
   ]
  },
  {
   "cell_type": "code",
   "execution_count": 30,
   "metadata": {},
   "outputs": [],
   "source": [
    "wine_test['variety']=pd.Categorical(wine_test['variety'])\n",
    "wine_test[\"variety\"] = wine_test.variety.cat.codes\n",
    "\n",
    "\n",
    "wine_test['province']=pd.Categorical(wine_test['province'])\n",
    "wine_test[\"province\"] = wine_test.province.cat.codes\n",
    "\n",
    "wine_test['designation']=pd.Categorical(wine_test['designation'])\n",
    "wine_test[\"designation\"] = wine_test.designation.cat.codes\n",
    "\n",
    "wine_test['country']=pd.Categorical(wine_test['country'])\n",
    "wine_test[\"country\"] = wine_test.country.cat.codes\n",
    "\n",
    "\n",
    "\n",
    "wine_test['winery']=pd.Categorical(wine_test['winery'])\n",
    "wine_test[\"winery\"] = wine_test.winery.cat.codes\n",
    "\n",
    "wine_test['description']=pd.Categorical(wine_test['description'])\n",
    "wine_test[\"description\"] = wine_test.description.cat.codes\n",
    "\n",
    "wine_test['region_1']=pd.Categorical(wine_test['region_1'])\n",
    "wine_test[\"region_1\"] = wine_test.region_1.cat.codes\n",
    "\n",
    "wine_test['region_2']=pd.Categorical(wine_test['region_2'])\n",
    "wine_test[\"region_2\"] = wine_test.region_2.cat.codes\n",
    "#wine_train['region_1']=pd.Categorical(wine_train['region_1'])\n",
    "\n"
   ]
  },
  {
   "cell_type": "code",
   "execution_count": 31,
   "metadata": {},
   "outputs": [],
   "source": [
    "wine_test_selected = wine_test[['description','designation','points','province'\n",
    "              ,'country','variety','winery','region_1','region_2']]\n",
    "#wine_test_selected=wine_test.drop('price',axis=1)  \n",
    "#X=wine_train[['points','winery','designation']]\n"
   ]
  },
  {
   "cell_type": "code",
   "execution_count": 32,
   "metadata": {},
   "outputs": [
    {
     "data": {
      "text/plain": [
       "array([128.71006769,  47.63407875,  42.69748715, ...,  36.92259521,\n",
       "        19.35596559,  49.38747643])"
      ]
     },
     "execution_count": 32,
     "metadata": {},
     "output_type": "execute_result"
    }
   ],
   "source": [
    "preds = model_cat.predict(wine_test_selected)\n",
    "preds"
   ]
  },
  {
   "cell_type": "code",
   "execution_count": 33,
   "metadata": {},
   "outputs": [
    {
     "data": {
      "text/plain": [
       "83210"
      ]
     },
     "execution_count": 33,
     "metadata": {},
     "output_type": "execute_result"
    }
   ],
   "source": [
    "len(preds)"
   ]
  },
  {
   "cell_type": "code",
   "execution_count": 34,
   "metadata": {},
   "outputs": [],
   "source": [
    "#from sklearn import metrics\n",
    "#print (metrics.mean_absolute_error(preds,y_test))"
   ]
  },
  {
   "cell_type": "code",
   "execution_count": 35,
   "metadata": {},
   "outputs": [
    {
     "data": {
      "text/plain": [
       "0            0\n",
       "1            1\n",
       "2            2\n",
       "3            3\n",
       "4            4\n",
       "         ...  \n",
       "83205    83205\n",
       "83206    83206\n",
       "83207    83207\n",
       "83208    83208\n",
       "83209    83209\n",
       "Name: id, Length: 83210, dtype: int64"
      ]
     },
     "execution_count": 35,
     "metadata": {},
     "output_type": "execute_result"
    }
   ],
   "source": [
    "wine_test.id"
   ]
  },
  {
   "cell_type": "code",
   "execution_count": 36,
   "metadata": {},
   "outputs": [
    {
     "data": {
      "text/plain": [
       "numpy.ndarray"
      ]
     },
     "execution_count": 36,
     "metadata": {},
     "output_type": "execute_result"
    }
   ],
   "source": [
    "type(preds)#.size"
   ]
  },
  {
   "cell_type": "code",
   "execution_count": 37,
   "metadata": {},
   "outputs": [
    {
     "data": {
      "text/plain": [
       "(83210, 1)"
      ]
     },
     "execution_count": 37,
     "metadata": {},
     "output_type": "execute_result"
    }
   ],
   "source": [
    "preds.reshape(-1,1).shape"
   ]
  },
  {
   "cell_type": "code",
   "execution_count": 38,
   "metadata": {},
   "outputs": [
    {
     "name": "stderr",
     "output_type": "stream",
     "text": [
      "/usr/lib/python3/dist-packages/ipykernel_launcher.py:2: SettingWithCopyWarning: \n",
      "A value is trying to be set on a copy of a slice from a DataFrame.\n",
      "Try using .loc[row_indexer,col_indexer] = value instead\n",
      "\n",
      "See the caveats in the documentation: http://pandas.pydata.org/pandas-docs/stable/user_guide/indexing.html#returning-a-view-versus-a-copy\n",
      "  \n"
     ]
    }
   ],
   "source": [
    "output = wine_test[['id']]\n",
    "output['price']=preds.reshape(-1,1)"
   ]
  },
  {
   "cell_type": "code",
   "execution_count": 39,
   "metadata": {},
   "outputs": [
    {
     "data": {
      "text/plain": [
       "0        128.710068\n",
       "1         47.634079\n",
       "2         42.697487\n",
       "3         40.908971\n",
       "4         21.560034\n",
       "            ...    \n",
       "83205     29.566356\n",
       "83206     43.779511\n",
       "83207     36.922595\n",
       "83208     19.355966\n",
       "83209     49.387476\n",
       "Name: price, Length: 83210, dtype: float64"
      ]
     },
     "execution_count": 39,
     "metadata": {},
     "output_type": "execute_result"
    }
   ],
   "source": [
    "output['price']"
   ]
  },
  {
   "cell_type": "code",
   "execution_count": 40,
   "metadata": {},
   "outputs": [],
   "source": [
    "output.to_csv('final_output.csv',index=False)"
   ]
  },
  {
   "cell_type": "code",
   "execution_count": 41,
   "metadata": {},
   "outputs": [
    {
     "name": "stdout",
     "output_type": "stream",
     "text": [
      " catboost_info\t\t      final_output_rf.csv\r\n",
      " Cat_boost_Regression.ipynb  'Group 1.ipynb'\r\n",
      " Datasets\t\t     'K-fold Cross Validation.ipynb'\r\n",
      " final1_output.csv\t      LICENSE\r\n",
      " final_output\t\t      README.md\r\n",
      " final_output.csv\t     'RF and others Models.ipynb'\r\n",
      " final_output_rf2.csv\t     'XG Boost.ipynb'\r\n",
      " final_output_rf3.csv\r\n"
     ]
    }
   ],
   "source": [
    "!ls"
   ]
  },
  {
   "cell_type": "code",
   "execution_count": 42,
   "metadata": {},
   "outputs": [
    {
     "data": {
      "text/plain": [
       "83210"
      ]
     },
     "execution_count": 42,
     "metadata": {},
     "output_type": "execute_result"
    }
   ],
   "source": [
    "wine_test.index.nunique()"
   ]
  },
  {
   "cell_type": "code",
   "execution_count": 43,
   "metadata": {},
   "outputs": [],
   "source": [
    "# result = {'Model Regression\\'s accuracy {}'.format(accuracy_score(pred,y_test))}"
   ]
  },
  {
   "cell_type": "code",
   "execution_count": 44,
   "metadata": {},
   "outputs": [
    {
     "name": "stdout",
     "output_type": "stream",
     "text": [
      "sklearn: 0.20.2\n"
     ]
    }
   ],
   "source": [
    "import sklearn\n",
    "print('sklearn: %s' % sklearn.__version__)"
   ]
  },
  {
   "cell_type": "code",
   "execution_count": null,
   "metadata": {},
   "outputs": [],
   "source": []
  }
 ],
 "metadata": {
  "kernelspec": {
   "display_name": "Python 3",
   "language": "python",
   "name": "python3"
  },
  "language_info": {
   "codemirror_mode": {
    "name": "ipython",
    "version": 3
   },
   "file_extension": ".py",
   "mimetype": "text/x-python",
   "name": "python",
   "nbconvert_exporter": "python",
   "pygments_lexer": "ipython3",
   "version": "3.7.3"
  }
 },
 "nbformat": 4,
 "nbformat_minor": 4
}
