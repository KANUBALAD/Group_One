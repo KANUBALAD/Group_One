{
 "cells": [
  {
   "cell_type": "markdown",
   "metadata": {},
   "source": [
    "# Predict __Price of a bottle of wine__\n",
    "\n",
    "# Summary\n",
    "\n",
    "The data summarize **258210** wine reviews:\n",
    "\n",
    "__175000__ are the training set, the data on which to train your models;\n",
    "\n",
    "The remaining __83210__ observations constitute the validation set (or score set), or the data on which you must make the estimate for the submission. The validation set at your disposal obviously does not contain the variable price, the price of the bottle of wine that the goal of your forecast.\n",
    "\n",
    " \n",
    "\n",
    "## File descriptions\n",
    "\n",
    "    - train.csv - the training set\n",
    "    - test.csv - the test set\n",
    "    - Sample_Submission.csv  - a sample submission file in the correct format\n",
    " \n",
    "### Data fields\n",
    "\n",
    "**country (String)** The country that the wine is from\n",
    "\n",
    "**province (String)** The province or state that the wine is from\n",
    "\n",
    "**region_1 (String)** The wine growing area in a province or state (ie Napa)\n",
    "\n",
    "**region_2 (String)** Sometimes there are more specific regions within the wine growing area (ie Rutherford inside the Napa Valley), but this value can sometimes be blank\n",
    "\n",
    "**winery (String)** The winery that made the wine\n",
    "\n",
    "**variety (String)** The type of grapes used to make the wine (ie Pinot Noir)\n",
    "\n",
    "**designation (String)** The vineyard within the winery where the grapes that made the wine are from\n",
    "\n",
    "**taster_name (String)** taster name\n",
    "\n",
    "**taster_twitter_handle (String)** taster twitter account name\n",
    "\n",
    "**description (String)** A few sentences from a sommelier describing the wine's taste, smell, look, feel, etc.\n",
    "\n",
    "**points (Numeric)** Number of points WineEnthusiast rated the wine on a scale of **1-100**\n",
    "\n",
    "## __TARGET: price (Numeric) The cost for a bottle of wine__"
   ]
  },
  {
   "cell_type": "markdown",
   "metadata": {},
   "source": [
    "The accuracy of your forecasts will be evaluated using the Root Mean Squared Error (RMSE).\n",
    "\n",
    "An example code for the calculation:\n",
    "\n",
    "RMSE = sqrt (mean ((predicted-true) ^ 2))\n",
    "\n",
    "This leaderboard is calculated with approximately 30% of the test data.\n",
    "\n",
    "The final results will be based on the other 70%, so the final standings may be different"
   ]
  },
  {
   "cell_type": "markdown",
   "metadata": {},
   "source": [
    "# Import Libraries"
   ]
  },
  {
   "cell_type": "code",
   "execution_count": 1,
   "metadata": {},
   "outputs": [
    {
     "name": "stderr",
     "output_type": "stream",
     "text": [
      "Using TensorFlow backend.\n",
      "[nltk_data] Downloading package punkt to /home/aims/nltk_data...\n",
      "[nltk_data]   Package punkt is already up-to-date!\n",
      "[nltk_data] Downloading package stopwords to /home/aims/nltk_data...\n",
      "[nltk_data]   Package stopwords is already up-to-date!\n"
     ]
    },
    {
     "name": "stdout",
     "output_type": "stream",
     "text": [
      "1.17.3\n"
     ]
    }
   ],
   "source": [
    "# Import packages\n",
    "import tensorflow as tf\n",
    "# tf.enable_eager_execution()\n",
    "\n",
    "from keras.datasets import imdb\n",
    "from keras import preprocessing\n",
    "from keras.models import Sequential\n",
    "from keras.layers import Flatten, Dense\n",
    "from keras.layers import Embedding\n",
    "from keras.preprocessing.text import Tokenizer\n",
    "from keras.preprocessing.sequence import pad_sequences\n",
    "from keras import losses\n",
    "from keras import metrics\n",
    "from keras import optimizers\n",
    "from keras.layers import Dropout\n",
    "\n",
    "import string\n",
    "from nltk.tokenize import word_tokenize\n",
    "from nltk.corpus import stopwords\n",
    "\n",
    "import nltk\n",
    "nltk.download('punkt')\n",
    "nltk.download('stopwords')\n",
    "\n",
    "# Downgrate numpy to fix a problem\n",
    "# !pip install numpy==1.16.2\n",
    "import numpy as np\n",
    "print(np.__version__)\n",
    "\n",
    "import matplotlib.pyplot as plt\n",
    "\n",
    "import os\n",
    "\n",
    "import numpy as np\n",
    "\n",
    "import string\n",
    "\n",
    "# !pip install ipdb\n",
    "import ipdb # deb\n",
    "\n",
    "from gensim.models.keyedvectors import KeyedVectors\n",
    "\n",
    "# Spliting data\n",
    "from sklearn.model_selection import train_test_split\n",
    "\n",
    "from sklearn import metrics # For RUC\n",
    "\n",
    "from nltk.stem import PorterStemmer\n",
    "\n",
    "import tensorflow_hub as hub\n",
    "import pandas as pd\n",
    "import re\n",
    "import seaborn as sns\n",
    "\n",
    "# from google.colab import files\n",
    "\n",
    "from IPython import display\n",
    "\n",
    "import logging\n",
    "logging.getLogger('googleapiclient.discovery_cache').setLevel(logging.ERROR)"
   ]
  },
  {
   "cell_type": "code",
   "execution_count": 2,
   "metadata": {},
   "outputs": [],
   "source": [
    "%matplotlib inline"
   ]
  },
  {
   "cell_type": "code",
   "execution_count": 3,
   "metadata": {},
   "outputs": [],
   "source": [
    "train = pd.read_csv(\"./Datasets/train.csv\")\n",
    "test = pd.read_csv(\"./Datasets/test.csv\")\n",
    "test.drop(['price', 'index'], axis=1, inplace=True)"
   ]
  },
  {
   "cell_type": "code",
   "execution_count": 78,
   "metadata": {},
   "outputs": [],
   "source": [
    "def preprocess(df: pd.DataFrame) -> pd.DataFrame:\n",
    "    df['country'] = df['country'].fillna('') + ' ' + df['province'].fillna('')+\\\n",
    "    ' ' + df['region_1'].fillna('')+' ' + df['region_2'].fillna('')\n",
    "    df['text'] = (df['description'].fillna('') + ' ' + df['country'] + ' ' + df['designation'].fillna(''))\n",
    "    df['info'] = (df['text'].fillna('')+' '+df['taster_name'].fillna('')+' '+\\\n",
    "                  df['taster_twitter_handle'].fillna('')+\\\n",
    "                 ' ' + df['title'].fillna('') + df['variety'].fillna('')+df['winery'].fillna(''))\n",
    "    return df[['country', 'text', 'info']]"
   ]
  },
  {
   "cell_type": "code",
   "execution_count": 79,
   "metadata": {},
   "outputs": [
    {
     "data": {
      "text/html": [
       "<div>\n",
       "<style scoped>\n",
       "    .dataframe tbody tr th:only-of-type {\n",
       "        vertical-align: middle;\n",
       "    }\n",
       "\n",
       "    .dataframe tbody tr th {\n",
       "        vertical-align: top;\n",
       "    }\n",
       "\n",
       "    .dataframe thead th {\n",
       "        text-align: right;\n",
       "    }\n",
       "</style>\n",
       "<table border=\"1\" class=\"dataframe\">\n",
       "  <thead>\n",
       "    <tr style=\"text-align: right;\">\n",
       "      <th></th>\n",
       "      <th>country</th>\n",
       "      <th>text</th>\n",
       "      <th>info</th>\n",
       "    </tr>\n",
       "  </thead>\n",
       "  <tbody>\n",
       "    <tr>\n",
       "      <th>0</th>\n",
       "      <td>Portugal Alentejano Alentejano   Alentejano</td>\n",
       "      <td>This is a fine rich balanced wine. It has ripe...</td>\n",
       "      <td>This is a fine rich balanced wine. It has ripe...</td>\n",
       "    </tr>\n",
       "    <tr>\n",
       "      <th>1</th>\n",
       "      <td>France Bordeaux Bordeaux Lalande de Pomerol  B...</td>\n",
       "      <td>A solid, chunky wine, with a structure that is...</td>\n",
       "      <td>A solid, chunky wine, with a structure that is...</td>\n",
       "    </tr>\n",
       "    <tr>\n",
       "      <th>2</th>\n",
       "      <td>France Bordeaux Bordeaux Saint-Émilion  Bordea...</td>\n",
       "      <td>This is powerful and concentrated, with the hi...</td>\n",
       "      <td>This is powerful and concentrated, with the hi...</td>\n",
       "    </tr>\n",
       "    <tr>\n",
       "      <th>3</th>\n",
       "      <td>US California California Santa Barbara County ...</td>\n",
       "      <td>Rich, ripe and oaky, this Petite Sirah charms ...</td>\n",
       "      <td>Rich, ripe and oaky, this Petite Sirah charms ...</td>\n",
       "    </tr>\n",
       "    <tr>\n",
       "      <th>4</th>\n",
       "      <td>US Washington Washington Horse Heaven Hills Co...</td>\n",
       "      <td>This wine is a unique in the state blend and f...</td>\n",
       "      <td>This wine is a unique in the state blend and f...</td>\n",
       "    </tr>\n",
       "    <tr>\n",
       "      <th>...</th>\n",
       "      <td>...</td>\n",
       "      <td>...</td>\n",
       "      <td>...</td>\n",
       "    </tr>\n",
       "    <tr>\n",
       "      <th>174995</th>\n",
       "      <td>US California California Russian River Valley ...</td>\n",
       "      <td>Named for the clone so beloved by winemakers, ...</td>\n",
       "      <td>Named for the clone so beloved by winemakers, ...</td>\n",
       "    </tr>\n",
       "    <tr>\n",
       "      <th>174996</th>\n",
       "      <td>Portugal Alentejano Alentejano   Alentejano</td>\n",
       "      <td>This is a fresh, fruity and juicy wine. Shot t...</td>\n",
       "      <td>This is a fresh, fruity and juicy wine. Shot t...</td>\n",
       "    </tr>\n",
       "    <tr>\n",
       "      <th>174997</th>\n",
       "      <td>Spain Catalonia Catalonia Cava  Catalonia Cava</td>\n",
       "      <td>Clean and toasty, with mineral and the slighte...</td>\n",
       "      <td>Clean and toasty, with mineral and the slighte...</td>\n",
       "    </tr>\n",
       "    <tr>\n",
       "      <th>174998</th>\n",
       "      <td>US California California Russian River Valley ...</td>\n",
       "      <td>A lovely Pinot Noir, showing flamboyantly ripe...</td>\n",
       "      <td>A lovely Pinot Noir, showing flamboyantly ripe...</td>\n",
       "    </tr>\n",
       "    <tr>\n",
       "      <th>174999</th>\n",
       "      <td>US California California Green Valley Sonoma C...</td>\n",
       "      <td>Made to benefit the exploratory organization, ...</td>\n",
       "      <td>Made to benefit the exploratory organization, ...</td>\n",
       "    </tr>\n",
       "  </tbody>\n",
       "</table>\n",
       "<p>175000 rows × 3 columns</p>\n",
       "</div>"
      ],
      "text/plain": [
       "                                                  country  \\\n",
       "0           Portugal Alentejano Alentejano   Alentejano     \n",
       "1       France Bordeaux Bordeaux Lalande de Pomerol  B...   \n",
       "2       France Bordeaux Bordeaux Saint-Émilion  Bordea...   \n",
       "3       US California California Santa Barbara County ...   \n",
       "4       US Washington Washington Horse Heaven Hills Co...   \n",
       "...                                                   ...   \n",
       "174995  US California California Russian River Valley ...   \n",
       "174996      Portugal Alentejano Alentejano   Alentejano     \n",
       "174997    Spain Catalonia Catalonia Cava  Catalonia Cava    \n",
       "174998  US California California Russian River Valley ...   \n",
       "174999  US California California Green Valley Sonoma C...   \n",
       "\n",
       "                                                     text  \\\n",
       "0       This is a fine rich balanced wine. It has ripe...   \n",
       "1       A solid, chunky wine, with a structure that is...   \n",
       "2       This is powerful and concentrated, with the hi...   \n",
       "3       Rich, ripe and oaky, this Petite Sirah charms ...   \n",
       "4       This wine is a unique in the state blend and f...   \n",
       "...                                                   ...   \n",
       "174995  Named for the clone so beloved by winemakers, ...   \n",
       "174996  This is a fresh, fruity and juicy wine. Shot t...   \n",
       "174997  Clean and toasty, with mineral and the slighte...   \n",
       "174998  A lovely Pinot Noir, showing flamboyantly ripe...   \n",
       "174999  Made to benefit the exploratory organization, ...   \n",
       "\n",
       "                                                     info  \n",
       "0       This is a fine rich balanced wine. It has ripe...  \n",
       "1       A solid, chunky wine, with a structure that is...  \n",
       "2       This is powerful and concentrated, with the hi...  \n",
       "3       Rich, ripe and oaky, this Petite Sirah charms ...  \n",
       "4       This wine is a unique in the state blend and f...  \n",
       "...                                                   ...  \n",
       "174995  Named for the clone so beloved by winemakers, ...  \n",
       "174996  This is a fresh, fruity and juicy wine. Shot t...  \n",
       "174997  Clean and toasty, with mineral and the slighte...  \n",
       "174998  A lovely Pinot Noir, showing flamboyantly ripe...  \n",
       "174999  Made to benefit the exploratory organization, ...  \n",
       "\n",
       "[175000 rows x 3 columns]"
      ]
     },
     "execution_count": 79,
     "metadata": {},
     "output_type": "execute_result"
    }
   ],
   "source": [
    "preprocess(train)"
   ]
  },
  {
   "cell_type": "code",
   "execution_count": null,
   "metadata": {},
   "outputs": [],
   "source": []
  },
  {
   "cell_type": "code",
   "execution_count": null,
   "metadata": {},
   "outputs": [],
   "source": []
  },
  {
   "cell_type": "code",
   "execution_count": null,
   "metadata": {},
   "outputs": [],
   "source": []
  },
  {
   "cell_type": "code",
   "execution_count": null,
   "metadata": {},
   "outputs": [],
   "source": []
  },
  {
   "cell_type": "code",
   "execution_count": null,
   "metadata": {},
   "outputs": [],
   "source": []
  },
  {
   "cell_type": "code",
   "execution_count": null,
   "metadata": {},
   "outputs": [],
   "source": []
  },
  {
   "cell_type": "code",
   "execution_count": null,
   "metadata": {},
   "outputs": [],
   "source": []
  },
  {
   "cell_type": "markdown",
   "metadata": {},
   "source": [
    "# Other Method (In class)"
   ]
  },
  {
   "cell_type": "code",
   "execution_count": 48,
   "metadata": {},
   "outputs": [],
   "source": [
    "import numpy as np\n",
    "import pandas as pd\n",
    "\n",
    "from sklearn.preprocessing import LabelEncoder, MinMaxScaler, StandardScaler\n",
    "from sklearn.model_selection import train_test_split\n",
    "\n",
    "import matplotlib.pyplot as plt\n",
    "%matplotlib inline \n",
    "\n",
    "import math\n",
    "\n",
    "\n",
    "from subprocess import check_output\n",
    "# print(check_output([\"ls\", \"../input\"]).decode(\"utf8\"))"
   ]
  },
  {
   "cell_type": "code",
   "execution_count": 77,
   "metadata": {},
   "outputs": [],
   "source": [
    "train = pd.read_csv(\"./Datasets/train.csv\")\n",
    "test = pd.read_csv(\"./Datasets/test.csv\")\n",
    "test.drop(['price', 'index'], axis=1, inplace=True)"
   ]
  },
  {
   "cell_type": "code",
   "execution_count": 78,
   "metadata": {},
   "outputs": [],
   "source": [
    "train.fillna(value='missing', inplace=True)\n",
    "test.fillna(value='missing', inplace=True)"
   ]
  },
  {
   "cell_type": "code",
   "execution_count": 79,
   "metadata": {},
   "outputs": [],
   "source": [
    "train['target'] = np.log1p(train['price'])"
   ]
  },
  {
   "cell_type": "code",
   "execution_count": 80,
   "metadata": {},
   "outputs": [
    {
     "data": {
      "text/html": [
       "<div>\n",
       "<style scoped>\n",
       "    .dataframe tbody tr th:only-of-type {\n",
       "        vertical-align: middle;\n",
       "    }\n",
       "\n",
       "    .dataframe tbody tr th {\n",
       "        vertical-align: top;\n",
       "    }\n",
       "\n",
       "    .dataframe thead th {\n",
       "        text-align: right;\n",
       "    }\n",
       "</style>\n",
       "<table border=\"1\" class=\"dataframe\">\n",
       "  <thead>\n",
       "    <tr style=\"text-align: right;\">\n",
       "      <th></th>\n",
       "      <th>country</th>\n",
       "      <th>description</th>\n",
       "      <th>designation</th>\n",
       "      <th>points</th>\n",
       "      <th>price</th>\n",
       "      <th>province</th>\n",
       "      <th>region_1</th>\n",
       "      <th>region_2</th>\n",
       "      <th>taster_name</th>\n",
       "      <th>taster_twitter_handle</th>\n",
       "      <th>title</th>\n",
       "      <th>variety</th>\n",
       "      <th>winery</th>\n",
       "      <th>id</th>\n",
       "      <th>target</th>\n",
       "    </tr>\n",
       "  </thead>\n",
       "  <tbody>\n",
       "    <tr>\n",
       "      <th>0</th>\n",
       "      <td>Portugal</td>\n",
       "      <td>This is a fine rich balanced wine. It has ripe...</td>\n",
       "      <td>Vila Santa Reserva</td>\n",
       "      <td>88.870874</td>\n",
       "      <td>20.0</td>\n",
       "      <td>Alentejano</td>\n",
       "      <td>missing</td>\n",
       "      <td>missing</td>\n",
       "      <td>missing</td>\n",
       "      <td>missing</td>\n",
       "      <td>missing</td>\n",
       "      <td>PORTUGUESE RED</td>\n",
       "      <td>J. Portugal Ramos</td>\n",
       "      <td>32027</td>\n",
       "      <td>3.044522</td>\n",
       "    </tr>\n",
       "    <tr>\n",
       "      <th>1</th>\n",
       "      <td>France</td>\n",
       "      <td>A solid, chunky wine, with a structure that is...</td>\n",
       "      <td>missing</td>\n",
       "      <td>88.041695</td>\n",
       "      <td>28.0</td>\n",
       "      <td>Bordeaux</td>\n",
       "      <td>Lalande de Pomerol</td>\n",
       "      <td>missing</td>\n",
       "      <td>missing</td>\n",
       "      <td>missing</td>\n",
       "      <td>missing</td>\n",
       "      <td>BORDEAUX-STYLE RED BLEND</td>\n",
       "      <td>Château Tour Grand Colombier</td>\n",
       "      <td>71079</td>\n",
       "      <td>3.367296</td>\n",
       "    </tr>\n",
       "    <tr>\n",
       "      <th>2</th>\n",
       "      <td>France</td>\n",
       "      <td>This is powerful and concentrated, with the hi...</td>\n",
       "      <td>missing</td>\n",
       "      <td>94.085021</td>\n",
       "      <td>130.0</td>\n",
       "      <td>Bordeaux</td>\n",
       "      <td>Saint-Émilion</td>\n",
       "      <td>missing</td>\n",
       "      <td>missing</td>\n",
       "      <td>missing</td>\n",
       "      <td>missing</td>\n",
       "      <td>BORDEAUX-STYLE RED BLEND</td>\n",
       "      <td>Château Figeac</td>\n",
       "      <td>32440</td>\n",
       "      <td>4.875197</td>\n",
       "    </tr>\n",
       "    <tr>\n",
       "      <th>3</th>\n",
       "      <td>US</td>\n",
       "      <td>Rich, ripe and oaky, this Petite Sirah charms ...</td>\n",
       "      <td>Thompson Vineyard</td>\n",
       "      <td>89.869797</td>\n",
       "      <td>34.0</td>\n",
       "      <td>California</td>\n",
       "      <td>Santa Barbara County</td>\n",
       "      <td>Central Coast</td>\n",
       "      <td>missing</td>\n",
       "      <td>missing</td>\n",
       "      <td>Jaffurs 2010 Thompson Vineyard Petite Sirah (S...</td>\n",
       "      <td>PETITE SIRAH</td>\n",
       "      <td>Jaffurs</td>\n",
       "      <td>124405</td>\n",
       "      <td>3.555348</td>\n",
       "    </tr>\n",
       "    <tr>\n",
       "      <th>4</th>\n",
       "      <td>US</td>\n",
       "      <td>This wine is a unique in the state blend and f...</td>\n",
       "      <td>McKinley Springs Vineyard</td>\n",
       "      <td>89.017651</td>\n",
       "      <td>24.0</td>\n",
       "      <td>Washington</td>\n",
       "      <td>Horse Heaven Hills</td>\n",
       "      <td>Columbia Valley</td>\n",
       "      <td>Sean P. Sullivan</td>\n",
       "      <td>@wawinereport</td>\n",
       "      <td>Syncline 2016 McKinley Springs Vineyard Rosé (...</td>\n",
       "      <td>ROSé</td>\n",
       "      <td>Syncline</td>\n",
       "      <td>33649</td>\n",
       "      <td>3.218876</td>\n",
       "    </tr>\n",
       "  </tbody>\n",
       "</table>\n",
       "</div>"
      ],
      "text/plain": [
       "    country                                        description  \\\n",
       "0  Portugal  This is a fine rich balanced wine. It has ripe...   \n",
       "1    France  A solid, chunky wine, with a structure that is...   \n",
       "2    France  This is powerful and concentrated, with the hi...   \n",
       "3        US  Rich, ripe and oaky, this Petite Sirah charms ...   \n",
       "4        US  This wine is a unique in the state blend and f...   \n",
       "\n",
       "                 designation     points  price    province  \\\n",
       "0         Vila Santa Reserva  88.870874   20.0  Alentejano   \n",
       "1                    missing  88.041695   28.0    Bordeaux   \n",
       "2                    missing  94.085021  130.0    Bordeaux   \n",
       "3          Thompson Vineyard  89.869797   34.0  California   \n",
       "4  McKinley Springs Vineyard  89.017651   24.0  Washington   \n",
       "\n",
       "               region_1         region_2       taster_name  \\\n",
       "0               missing          missing           missing   \n",
       "1    Lalande de Pomerol          missing           missing   \n",
       "2         Saint-Émilion          missing           missing   \n",
       "3  Santa Barbara County    Central Coast           missing   \n",
       "4    Horse Heaven Hills  Columbia Valley  Sean P. Sullivan   \n",
       "\n",
       "  taster_twitter_handle                                              title  \\\n",
       "0               missing                                            missing   \n",
       "1               missing                                            missing   \n",
       "2               missing                                            missing   \n",
       "3               missing  Jaffurs 2010 Thompson Vineyard Petite Sirah (S...   \n",
       "4         @wawinereport  Syncline 2016 McKinley Springs Vineyard Rosé (...   \n",
       "\n",
       "                    variety                        winery      id    target  \n",
       "0            PORTUGUESE RED             J. Portugal Ramos   32027  3.044522  \n",
       "1  BORDEAUX-STYLE RED BLEND  Château Tour Grand Colombier   71079  3.367296  \n",
       "2  BORDEAUX-STYLE RED BLEND                Château Figeac   32440  4.875197  \n",
       "3              PETITE SIRAH                       Jaffurs  124405  3.555348  \n",
       "4                      ROSé                      Syncline   33649  3.218876  "
      ]
     },
     "execution_count": 80,
     "metadata": {},
     "output_type": "execute_result"
    }
   ],
   "source": [
    "train.head()"
   ]
  },
  {
   "cell_type": "code",
   "execution_count": 12,
   "metadata": {},
   "outputs": [
    {
     "data": {
      "text/html": [
       "<div>\n",
       "<style scoped>\n",
       "    .dataframe tbody tr th:only-of-type {\n",
       "        vertical-align: middle;\n",
       "    }\n",
       "\n",
       "    .dataframe tbody tr th {\n",
       "        vertical-align: top;\n",
       "    }\n",
       "\n",
       "    .dataframe thead th {\n",
       "        text-align: right;\n",
       "    }\n",
       "</style>\n",
       "<table border=\"1\" class=\"dataframe\">\n",
       "  <thead>\n",
       "    <tr style=\"text-align: right;\">\n",
       "      <th></th>\n",
       "      <th>country</th>\n",
       "      <th>description</th>\n",
       "      <th>designation</th>\n",
       "      <th>points</th>\n",
       "      <th>province</th>\n",
       "      <th>region_1</th>\n",
       "      <th>region_2</th>\n",
       "      <th>taster_name</th>\n",
       "      <th>taster_twitter_handle</th>\n",
       "      <th>title</th>\n",
       "      <th>variety</th>\n",
       "      <th>winery</th>\n",
       "      <th>id</th>\n",
       "    </tr>\n",
       "  </thead>\n",
       "  <tbody>\n",
       "    <tr>\n",
       "      <th>83205</th>\n",
       "      <td>US</td>\n",
       "      <td>A simple, direct wine, pretty full-bodied for ...</td>\n",
       "      <td>Le Pique-Nique</td>\n",
       "      <td>81.961663</td>\n",
       "      <td>California</td>\n",
       "      <td>Sonoma Valley</td>\n",
       "      <td>Sonoma</td>\n",
       "      <td>missing</td>\n",
       "      <td>missing</td>\n",
       "      <td>missing</td>\n",
       "      <td>ROSé</td>\n",
       "      <td>Wellington</td>\n",
       "      <td>83205</td>\n",
       "    </tr>\n",
       "    <tr>\n",
       "      <th>83206</th>\n",
       "      <td>US</td>\n",
       "      <td>This dry, spicy wine shows the rustic, rugged ...</td>\n",
       "      <td>Rebecca's Vineyard</td>\n",
       "      <td>87.162191</td>\n",
       "      <td>California</td>\n",
       "      <td>Dry Creek Valley</td>\n",
       "      <td>Sonoma</td>\n",
       "      <td>missing</td>\n",
       "      <td>missing</td>\n",
       "      <td>missing</td>\n",
       "      <td>CABERNET SAUVIGNON</td>\n",
       "      <td>Forth</td>\n",
       "      <td>83206</td>\n",
       "    </tr>\n",
       "    <tr>\n",
       "      <th>83207</th>\n",
       "      <td>Italy</td>\n",
       "      <td>Attractive apricot, peach and honey aromas vie...</td>\n",
       "      <td>Aurente</td>\n",
       "      <td>89.057585</td>\n",
       "      <td>Central Italy</td>\n",
       "      <td>Umbria</td>\n",
       "      <td>missing</td>\n",
       "      <td>missing</td>\n",
       "      <td>missing</td>\n",
       "      <td>missing</td>\n",
       "      <td>CHARDONNAY</td>\n",
       "      <td>Lungarotti</td>\n",
       "      <td>83207</td>\n",
       "    </tr>\n",
       "    <tr>\n",
       "      <th>83208</th>\n",
       "      <td>France</td>\n",
       "      <td>Red cherries and jelly fruits highlight a wine...</td>\n",
       "      <td>missing</td>\n",
       "      <td>84.907909</td>\n",
       "      <td>Burgundy</td>\n",
       "      <td>Bourgogne</td>\n",
       "      <td>missing</td>\n",
       "      <td>missing</td>\n",
       "      <td>missing</td>\n",
       "      <td>missing</td>\n",
       "      <td>PINOT NOIR</td>\n",
       "      <td>Bouchard Père &amp; Fils</td>\n",
       "      <td>83208</td>\n",
       "    </tr>\n",
       "    <tr>\n",
       "      <th>83209</th>\n",
       "      <td>Italy</td>\n",
       "      <td>Tasca d'Almerita makes what may be the best ex...</td>\n",
       "      <td>missing</td>\n",
       "      <td>92.038702</td>\n",
       "      <td>Sicily &amp; Sardinia</td>\n",
       "      <td>Sicilia</td>\n",
       "      <td>missing</td>\n",
       "      <td>missing</td>\n",
       "      <td>missing</td>\n",
       "      <td>missing</td>\n",
       "      <td>CABERNET SAUVIGNON</td>\n",
       "      <td>Tasca d'Almerita</td>\n",
       "      <td>83209</td>\n",
       "    </tr>\n",
       "  </tbody>\n",
       "</table>\n",
       "</div>"
      ],
      "text/plain": [
       "      country                                        description  \\\n",
       "83205      US  A simple, direct wine, pretty full-bodied for ...   \n",
       "83206      US  This dry, spicy wine shows the rustic, rugged ...   \n",
       "83207   Italy  Attractive apricot, peach and honey aromas vie...   \n",
       "83208  France  Red cherries and jelly fruits highlight a wine...   \n",
       "83209   Italy  Tasca d'Almerita makes what may be the best ex...   \n",
       "\n",
       "              designation     points           province          region_1  \\\n",
       "83205      Le Pique-Nique  81.961663         California     Sonoma Valley   \n",
       "83206  Rebecca's Vineyard  87.162191         California  Dry Creek Valley   \n",
       "83207             Aurente  89.057585      Central Italy            Umbria   \n",
       "83208             missing  84.907909           Burgundy         Bourgogne   \n",
       "83209             missing  92.038702  Sicily & Sardinia           Sicilia   \n",
       "\n",
       "      region_2 taster_name taster_twitter_handle    title             variety  \\\n",
       "83205   Sonoma     missing               missing  missing                ROSé   \n",
       "83206   Sonoma     missing               missing  missing  CABERNET SAUVIGNON   \n",
       "83207  missing     missing               missing  missing          CHARDONNAY   \n",
       "83208  missing     missing               missing  missing          PINOT NOIR   \n",
       "83209  missing     missing               missing  missing  CABERNET SAUVIGNON   \n",
       "\n",
       "                     winery     id  \n",
       "83205            Wellington  83205  \n",
       "83206                 Forth  83206  \n",
       "83207            Lungarotti  83207  \n",
       "83208  Bouchard Père & Fils  83208  \n",
       "83209      Tasca d'Almerita  83209  "
      ]
     },
     "execution_count": 12,
     "metadata": {},
     "output_type": "execute_result"
    }
   ],
   "source": [
    "test.tail()"
   ]
  },
  {
   "cell_type": "code",
   "execution_count": 81,
   "metadata": {},
   "outputs": [
    {
     "name": "stdout",
     "output_type": "stream",
     "text": [
      "Handling categorical variables...\n"
     ]
    },
    {
     "data": {
      "text/html": [
       "<div>\n",
       "<style scoped>\n",
       "    .dataframe tbody tr th:only-of-type {\n",
       "        vertical-align: middle;\n",
       "    }\n",
       "\n",
       "    .dataframe tbody tr th {\n",
       "        vertical-align: top;\n",
       "    }\n",
       "\n",
       "    .dataframe thead th {\n",
       "        text-align: right;\n",
       "    }\n",
       "</style>\n",
       "<table border=\"1\" class=\"dataframe\">\n",
       "  <thead>\n",
       "    <tr style=\"text-align: right;\">\n",
       "      <th></th>\n",
       "      <th>country</th>\n",
       "      <th>description</th>\n",
       "      <th>designation</th>\n",
       "      <th>points</th>\n",
       "      <th>price</th>\n",
       "      <th>province</th>\n",
       "      <th>region_1</th>\n",
       "      <th>region_2</th>\n",
       "      <th>taster_name</th>\n",
       "      <th>taster_twitter_handle</th>\n",
       "      <th>title</th>\n",
       "      <th>variety</th>\n",
       "      <th>winery</th>\n",
       "      <th>id</th>\n",
       "      <th>target</th>\n",
       "    </tr>\n",
       "  </thead>\n",
       "  <tbody>\n",
       "    <tr>\n",
       "      <th>0</th>\n",
       "      <td>34</td>\n",
       "      <td>This is a fine rich balanced wine. It has ripe...</td>\n",
       "      <td>Vila Santa Reserva</td>\n",
       "      <td>88.870874</td>\n",
       "      <td>20.0</td>\n",
       "      <td>8</td>\n",
       "      <td>missing</td>\n",
       "      <td>18</td>\n",
       "      <td>19</td>\n",
       "      <td>15</td>\n",
       "      <td>missing</td>\n",
       "      <td>PORTUGUESE RED</td>\n",
       "      <td>J. Portugal Ramos</td>\n",
       "      <td>32027</td>\n",
       "      <td>3.044522</td>\n",
       "    </tr>\n",
       "    <tr>\n",
       "      <th>1</th>\n",
       "      <td>15</td>\n",
       "      <td>A solid, chunky wine, with a structure that is...</td>\n",
       "      <td>missing</td>\n",
       "      <td>88.041695</td>\n",
       "      <td>28.0</td>\n",
       "      <td>38</td>\n",
       "      <td>Lalande de Pomerol</td>\n",
       "      <td>18</td>\n",
       "      <td>19</td>\n",
       "      <td>15</td>\n",
       "      <td>missing</td>\n",
       "      <td>BORDEAUX-STYLE RED BLEND</td>\n",
       "      <td>Château Tour Grand Colombier</td>\n",
       "      <td>71079</td>\n",
       "      <td>3.367296</td>\n",
       "    </tr>\n",
       "    <tr>\n",
       "      <th>2</th>\n",
       "      <td>15</td>\n",
       "      <td>This is powerful and concentrated, with the hi...</td>\n",
       "      <td>missing</td>\n",
       "      <td>94.085021</td>\n",
       "      <td>130.0</td>\n",
       "      <td>38</td>\n",
       "      <td>Saint-Émilion</td>\n",
       "      <td>18</td>\n",
       "      <td>19</td>\n",
       "      <td>15</td>\n",
       "      <td>missing</td>\n",
       "      <td>BORDEAUX-STYLE RED BLEND</td>\n",
       "      <td>Château Figeac</td>\n",
       "      <td>32440</td>\n",
       "      <td>4.875197</td>\n",
       "    </tr>\n",
       "  </tbody>\n",
       "</table>\n",
       "</div>"
      ],
      "text/plain": [
       "   country                                        description  \\\n",
       "0       34  This is a fine rich balanced wine. It has ripe...   \n",
       "1       15  A solid, chunky wine, with a structure that is...   \n",
       "2       15  This is powerful and concentrated, with the hi...   \n",
       "\n",
       "          designation     points  price  province            region_1  \\\n",
       "0  Vila Santa Reserva  88.870874   20.0         8             missing   \n",
       "1             missing  88.041695   28.0        38  Lalande de Pomerol   \n",
       "2             missing  94.085021  130.0        38       Saint-Émilion   \n",
       "\n",
       "   region_2  taster_name  taster_twitter_handle    title  \\\n",
       "0        18           19                     15  missing   \n",
       "1        18           19                     15  missing   \n",
       "2        18           19                     15  missing   \n",
       "\n",
       "                    variety                        winery     id    target  \n",
       "0            PORTUGUESE RED             J. Portugal Ramos  32027  3.044522  \n",
       "1  BORDEAUX-STYLE RED BLEND  Château Tour Grand Colombier  71079  3.367296  \n",
       "2  BORDEAUX-STYLE RED BLEND                Château Figeac  32440  4.875197  "
      ]
     },
     "execution_count": 81,
     "metadata": {},
     "output_type": "execute_result"
    }
   ],
   "source": [
    "print(\"Handling categorical variables...\")\n",
    "le = LabelEncoder()\n",
    "\n",
    "le.fit(np.hstack([train.country, test.country]))\n",
    "train['country'] = le.transform(train.country)\n",
    "test['country'] = le.transform(test.country)\n",
    "\n",
    "le.fit(np.hstack([train.province, test.province]))\n",
    "train['province'] = le.transform(train.province)\n",
    "test['province'] = le.transform(test.province)\n",
    "\n",
    "le.fit(np.hstack([train.taster_name, test.taster_name]))\n",
    "train['taster_name'] = le.transform(train.taster_name)\n",
    "test['taster_name'] = le.transform(test.taster_name)\n",
    "\n",
    "le.fit(np.hstack([train.taster_twitter_handle, test.taster_twitter_handle]))\n",
    "train['taster_twitter_handle'] = le.transform(train.taster_twitter_handle)\n",
    "test['taster_twitter_handle'] = le.transform(test.taster_twitter_handle)\n",
    "\n",
    "le.fit(np.hstack([train.region_2, test.region_2]))\n",
    "train['region_2'] = le.transform(train.region_2)\n",
    "test['region_2'] = le.transform(test.region_2)\n",
    "\n",
    "# le.fit(np.hstack([train.id, test.id]))\n",
    "# train['id'] = le.transform(train.id)\n",
    "# test['id'] = le.transform(test.id)\n",
    "\n",
    "del le\n",
    "\n",
    "train.head(3)"
   ]
  },
  {
   "cell_type": "code",
   "execution_count": 82,
   "metadata": {},
   "outputs": [
    {
     "name": "stdout",
     "output_type": "stream",
     "text": [
      "Text to seq process...\n",
      "   Fitting tokenizer...\n",
      "   Transforming text to seq...\n"
     ]
    },
    {
     "data": {
      "text/html": [
       "<div>\n",
       "<style scoped>\n",
       "    .dataframe tbody tr th:only-of-type {\n",
       "        vertical-align: middle;\n",
       "    }\n",
       "\n",
       "    .dataframe tbody tr th {\n",
       "        vertical-align: top;\n",
       "    }\n",
       "\n",
       "    .dataframe thead th {\n",
       "        text-align: right;\n",
       "    }\n",
       "</style>\n",
       "<table border=\"1\" class=\"dataframe\">\n",
       "  <thead>\n",
       "    <tr style=\"text-align: right;\">\n",
       "      <th></th>\n",
       "      <th>country</th>\n",
       "      <th>description</th>\n",
       "      <th>designation</th>\n",
       "      <th>points</th>\n",
       "      <th>price</th>\n",
       "      <th>province</th>\n",
       "      <th>region_1</th>\n",
       "      <th>region_2</th>\n",
       "      <th>taster_name</th>\n",
       "      <th>taster_twitter_handle</th>\n",
       "      <th>...</th>\n",
       "      <th>variety</th>\n",
       "      <th>winery</th>\n",
       "      <th>id</th>\n",
       "      <th>target</th>\n",
       "      <th>seq_description</th>\n",
       "      <th>seq_designation</th>\n",
       "      <th>seq_region_1</th>\n",
       "      <th>seq_title</th>\n",
       "      <th>seq_variety</th>\n",
       "      <th>seq_winery</th>\n",
       "    </tr>\n",
       "  </thead>\n",
       "  <tbody>\n",
       "    <tr>\n",
       "      <th>0</th>\n",
       "      <td>34</td>\n",
       "      <td>This is a fine rich balanced wine. It has ripe...</td>\n",
       "      <td>Vila Santa Reserva</td>\n",
       "      <td>88.870874</td>\n",
       "      <td>20.0</td>\n",
       "      <td>8</td>\n",
       "      <td>missing</td>\n",
       "      <td>18</td>\n",
       "      <td>19</td>\n",
       "      <td>15</td>\n",
       "      <td>...</td>\n",
       "      <td>PORTUGUESE RED</td>\n",
       "      <td>J. Portugal Ramos</td>\n",
       "      <td>32027</td>\n",
       "      <td>3.044522</td>\n",
       "      <td>[7, 8, 3, 127, 51, 107, 9, 13, 40, 37, 78, 19,...</td>\n",
       "      <td>[3613, 102, 160]</td>\n",
       "      <td>[5]</td>\n",
       "      <td>[5]</td>\n",
       "      <td>[311, 15]</td>\n",
       "      <td>[659, 1789, 2300]</td>\n",
       "    </tr>\n",
       "    <tr>\n",
       "      <th>1</th>\n",
       "      <td>15</td>\n",
       "      <td>A solid, chunky wine, with a structure that is...</td>\n",
       "      <td>missing</td>\n",
       "      <td>88.041695</td>\n",
       "      <td>28.0</td>\n",
       "      <td>38</td>\n",
       "      <td>Lalande de Pomerol</td>\n",
       "      <td>18</td>\n",
       "      <td>19</td>\n",
       "      <td>15</td>\n",
       "      <td>...</td>\n",
       "      <td>BORDEAUX-STYLE RED BLEND</td>\n",
       "      <td>Château Tour Grand Colombier</td>\n",
       "      <td>71079</td>\n",
       "      <td>3.367296</td>\n",
       "      <td>[3, 242, 614, 9, 6, 3, 131, 19, 8, 60, 4, 7094...</td>\n",
       "      <td>[5]</td>\n",
       "      <td>[3591, 43, 2529]</td>\n",
       "      <td>[5]</td>\n",
       "      <td>[86, 58, 15, 20]</td>\n",
       "      <td>[101, 1804, 375, 10929]</td>\n",
       "    </tr>\n",
       "    <tr>\n",
       "      <th>2</th>\n",
       "      <td>15</td>\n",
       "      <td>This is powerful and concentrated, with the hi...</td>\n",
       "      <td>missing</td>\n",
       "      <td>94.085021</td>\n",
       "      <td>130.0</td>\n",
       "      <td>38</td>\n",
       "      <td>Saint-Émilion</td>\n",
       "      <td>18</td>\n",
       "      <td>19</td>\n",
       "      <td>15</td>\n",
       "      <td>...</td>\n",
       "      <td>BORDEAUX-STYLE RED BLEND</td>\n",
       "      <td>Château Figeac</td>\n",
       "      <td>32440</td>\n",
       "      <td>4.875197</td>\n",
       "      <td>[7, 8, 332, 1, 184, 6, 2, 213, 2228, 4, 27, 23...</td>\n",
       "      <td>[5]</td>\n",
       "      <td>[430, 1258]</td>\n",
       "      <td>[5]</td>\n",
       "      <td>[86, 58, 15, 20]</td>\n",
       "      <td>[101, 9386]</td>\n",
       "    </tr>\n",
       "  </tbody>\n",
       "</table>\n",
       "<p>3 rows × 21 columns</p>\n",
       "</div>"
      ],
      "text/plain": [
       "   country                                        description  \\\n",
       "0       34  This is a fine rich balanced wine. It has ripe...   \n",
       "1       15  A solid, chunky wine, with a structure that is...   \n",
       "2       15  This is powerful and concentrated, with the hi...   \n",
       "\n",
       "          designation     points  price  province            region_1  \\\n",
       "0  Vila Santa Reserva  88.870874   20.0         8             missing   \n",
       "1             missing  88.041695   28.0        38  Lalande de Pomerol   \n",
       "2             missing  94.085021  130.0        38       Saint-Émilion   \n",
       "\n",
       "   region_2  taster_name  taster_twitter_handle  ...  \\\n",
       "0        18           19                     15  ...   \n",
       "1        18           19                     15  ...   \n",
       "2        18           19                     15  ...   \n",
       "\n",
       "                    variety                        winery     id    target  \\\n",
       "0            PORTUGUESE RED             J. Portugal Ramos  32027  3.044522   \n",
       "1  BORDEAUX-STYLE RED BLEND  Château Tour Grand Colombier  71079  3.367296   \n",
       "2  BORDEAUX-STYLE RED BLEND                Château Figeac  32440  4.875197   \n",
       "\n",
       "                                     seq_description   seq_designation  \\\n",
       "0  [7, 8, 3, 127, 51, 107, 9, 13, 40, 37, 78, 19,...  [3613, 102, 160]   \n",
       "1  [3, 242, 614, 9, 6, 3, 131, 19, 8, 60, 4, 7094...               [5]   \n",
       "2  [7, 8, 332, 1, 184, 6, 2, 213, 2228, 4, 27, 23...               [5]   \n",
       "\n",
       "       seq_region_1 seq_title       seq_variety               seq_winery  \n",
       "0               [5]       [5]         [311, 15]        [659, 1789, 2300]  \n",
       "1  [3591, 43, 2529]       [5]  [86, 58, 15, 20]  [101, 1804, 375, 10929]  \n",
       "2       [430, 1258]       [5]  [86, 58, 15, 20]              [101, 9386]  \n",
       "\n",
       "[3 rows x 21 columns]"
      ]
     },
     "execution_count": 82,
     "metadata": {},
     "output_type": "execute_result"
    }
   ],
   "source": [
    "#PROCESS TEXT: RAW\n",
    "print(\"Text to seq process...\")\n",
    "print(\"   Fitting tokenizer...\")\n",
    "from keras.preprocessing.text import Tokenizer\n",
    "raw_text = np.hstack([train.description.str.lower(), \n",
    "                      train.designation.str.lower(), \n",
    "                      train.region_1.str.lower(),\n",
    "                      train.title.str.lower(),\n",
    "                      train.variety.str.lower(),\n",
    "                      train.winery.str.lower()])\n",
    "\n",
    "tok_raw = Tokenizer()\n",
    "tok_raw.fit_on_texts(raw_text)\n",
    "print(\"   Transforming text to seq...\")\n",
    "\n",
    "train[\"seq_description\"] = tok_raw.texts_to_sequences(train.description.str.lower())\n",
    "test[\"seq_description\"] = tok_raw.texts_to_sequences(test.description.str.lower())\n",
    "\n",
    "train[\"seq_designation\"] = tok_raw.texts_to_sequences(train.designation.str.lower())\n",
    "test[\"seq_designation\"] = tok_raw.texts_to_sequences(test.designation.str.lower())\n",
    "\n",
    "train[\"seq_region_1\"] = tok_raw.texts_to_sequences(train.region_1.str.lower())\n",
    "test[\"seq_region_1\"] = tok_raw.texts_to_sequences(test.region_1.str.lower())\n",
    "\n",
    "train[\"seq_title\"] = tok_raw.texts_to_sequences(train.title.str.lower())\n",
    "test[\"seq_title\"] = tok_raw.texts_to_sequences(test.title.str.lower())\n",
    "\n",
    "train[\"seq_variety\"] = tok_raw.texts_to_sequences(train.variety.str.lower())\n",
    "test[\"seq_variety\"] = tok_raw.texts_to_sequences(test.variety.str.lower())\n",
    "\n",
    "train[\"seq_winery\"] = tok_raw.texts_to_sequences(train.winery.str.lower())\n",
    "test[\"seq_winery\"] = tok_raw.texts_to_sequences(test.winery.str.lower())\n",
    "train.head(3)"
   ]
  },
  {
   "cell_type": "code",
   "execution_count": null,
   "metadata": {},
   "outputs": [],
   "source": []
  },
  {
   "cell_type": "code",
   "execution_count": 15,
   "metadata": {},
   "outputs": [
    {
     "name": "stdout",
     "output_type": "stream",
     "text": [
      "<class 'pandas.core.frame.DataFrame'>\n",
      "RangeIndex: 175000 entries, 0 to 174999\n",
      "Data columns (total 21 columns):\n",
      "country                  175000 non-null int64\n",
      "description              175000 non-null object\n",
      "designation              175000 non-null object\n",
      "points                   175000 non-null float64\n",
      "price                    175000 non-null float64\n",
      "province                 175000 non-null int64\n",
      "region_1                 175000 non-null object\n",
      "region_2                 175000 non-null int64\n",
      "taster_name              175000 non-null int64\n",
      "taster_twitter_handle    175000 non-null int64\n",
      "title                    175000 non-null object\n",
      "variety                  175000 non-null object\n",
      "winery                   175000 non-null object\n",
      "id                       175000 non-null int64\n",
      "target                   175000 non-null float64\n",
      "seq_description          175000 non-null object\n",
      "seq_designation          175000 non-null object\n",
      "seq_region_1             175000 non-null object\n",
      "seq_title                175000 non-null object\n",
      "seq_variety              175000 non-null object\n",
      "seq_winery               175000 non-null object\n",
      "dtypes: float64(3), int64(6), object(12)\n",
      "memory usage: 28.0+ MB\n"
     ]
    }
   ],
   "source": [
    "train.info()"
   ]
  },
  {
   "cell_type": "code",
   "execution_count": 36,
   "metadata": {},
   "outputs": [
    {
     "data": {
      "text/plain": [
       "11.953577142857142"
      ]
     },
     "execution_count": 36,
     "metadata": {},
     "output_type": "execute_result"
    }
   ],
   "source": [
    "train['winery'].apply(lambda x: len(x) ).mean()"
   ]
  },
  {
   "cell_type": "code",
   "execution_count": 83,
   "metadata": {},
   "outputs": [],
   "source": [
    "#EMBEDDINGS MAX VALUE\n",
    "#Base on the histograms, we select the next lengths\n",
    "MAX_Description = 245\n",
    "MAX_Designation = 13\n",
    "MAX_Region_1 = 13\n",
    "MAX_Title = 29\n",
    "MAX_Variety = 12\n",
    "MAX_Winery = 12\n",
    "\n",
    "MAX_TEXT = np.max([np.max(train.seq_description.max())\n",
    "                   , np.max(test.seq_description.max())\n",
    "                   , np.max(train.seq_designation.max())\n",
    "                   , np.max(test.seq_designation.max())\n",
    "                   , np.max(train.seq_region_1.max())\n",
    "                   , np.max(test.seq_region_1.max())\n",
    "                   , np.max(train.seq_title.max())\n",
    "                   , np.max(test.seq_title.max())\n",
    "                   , np.max(train.seq_variety.max())\n",
    "                   , np.max(test.seq_variety.max())\n",
    "                   , np.max(train.seq_winery.max())\n",
    "                   , np.max(test.seq_winery.max())])+2\n",
    "MAX_Country = np.max([train.country.max(), test.country.max()])+1\n",
    "MAX_Province = np.max([train.province.max(), test.province.max()])+1\n",
    "MAX_Taster_name = np.max([train.taster_name.max(), test.taster_name.max()])+1\n",
    "MAX_Taster_twitter_handle = np.max([train.taster_twitter_handle.max(), test.taster_twitter_handle.max()])+1\n",
    "MAX_Region_2 = np.max([train.region_2.max(), test.region_2.max()])+1\n",
    "# MAX_id= np.max([train.id.max(), test.id.max()])+1"
   ]
  },
  {
   "cell_type": "code",
   "execution_count": 56,
   "metadata": {},
   "outputs": [
    {
     "data": {
      "text/plain": [
       "array([[<matplotlib.axes._subplots.AxesSubplot object at 0x7fc04ac25ac8>]],\n",
       "      dtype=object)"
      ]
     },
     "execution_count": 56,
     "metadata": {},
     "output_type": "execute_result"
    },
    {
     "data": {
      "image/png": "[encoded data removed]",
      "text/plain": [
       "<Figure size 432x288 with 1 Axes>"
      ]
     },
     "metadata": {
      "needs_background": "light"
     },
     "output_type": "display_data"
    }
   ],
   "source": [
    "# target_scaler = MinMaxScaler(feature_range=(-1, 1))\n",
    "# train[\"target\"] = target_scaler.fit_transform(train[['target']].values.reshape(-1,1))\n",
    "train[\"target\"] = train[\"price\"]\n",
    "pd.DataFrame(train.target).hist()"
   ]
  },
  {
   "cell_type": "code",
   "execution_count": 75,
   "metadata": {},
   "outputs": [
    {
     "name": "stdout",
     "output_type": "stream",
     "text": [
      "(173250, 21)\n",
      "(1750, 21)\n"
     ]
    }
   ],
   "source": [
    "#EXTRACT DEVELOPTMENT TEST\n",
    "dtrain, dvalid = train_test_split(train, random_state=123, train_size=0.99)\n",
    "print(dtrain.shape)\n",
    "print(dvalid.shape)"
   ]
  },
  {
   "cell_type": "code",
   "execution_count": 84,
   "metadata": {},
   "outputs": [],
   "source": [
    "#KERAS DATA DEFINITION\n",
    "from keras.preprocessing.sequence import pad_sequences\n",
    "\n",
    "def get_keras_data(dataset):\n",
    "    X = {\n",
    "        'country': np.array(dataset.country)\n",
    "        ,'description': pad_sequences(dataset.seq_description, \n",
    "                                      maxlen=MAX_Description)\n",
    "        ,'designation': pad_sequences(dataset.seq_designation, \n",
    "                                      maxlen=MAX_Description)\n",
    "        ,'points_imp': np.array(dataset[[\"points\"]])\n",
    "        ,'province': np.array(dataset.province)\n",
    "        ,'region_1': pad_sequences(dataset.seq_region_1, \n",
    "                                   maxlen=MAX_Region_1)\n",
    "        ,'region_2': np.array(dataset.region_2)\n",
    "        ,'taster_name': np.array(dataset.taster_name)\n",
    "        ,'taster_twitter_handle': np.array(dataset.taster_twitter_handle)\n",
    "        ,'title': pad_sequences(dataset.seq_title\n",
    "                                        , maxlen=MAX_Title)\n",
    "        ,'variety': pad_sequences(dataset.seq_variety\n",
    "                                        , maxlen=MAX_Variety)\n",
    "        ,'winery': pad_sequences(dataset.seq_winery\n",
    "                                        , maxlen=MAX_Winery)\n",
    "    }\n",
    "    return X\n",
    "\n",
    "X_train = get_keras_data(dtrain)\n",
    "X_valid = get_keras_data(dvalid)\n",
    "X_test = get_keras_data(test)"
   ]
  },
  {
   "cell_type": "code",
   "execution_count": 93,
   "metadata": {},
   "outputs": [
    {
     "name": "stdout",
     "output_type": "stream",
     "text": [
      "Model: \"model_14\"\n",
      "__________________________________________________________________________________________________\n",
      "Layer (type)                    Output Shape         Param #     Connected to                     \n",
      "==================================================================================================\n",
      "country (InputLayer)            (None, 1)            0                                            \n",
      "__________________________________________________________________________________________________\n",
      "province (InputLayer)           (None, 1)            0                                            \n",
      "__________________________________________________________________________________________________\n",
      "region_2 (InputLayer)           (None, 1)            0                                            \n",
      "__________________________________________________________________________________________________\n",
      "taster_name (InputLayer)        (None, 1)            0                                            \n",
      "__________________________________________________________________________________________________\n",
      "taster_twitter_handle (InputLay (None, 1)            0                                            \n",
      "__________________________________________________________________________________________________\n",
      "description (InputLayer)        (None, 245)          0                                            \n",
      "__________________________________________________________________________________________________\n",
      "designation (InputLayer)        (None, 245)          0                                            \n",
      "__________________________________________________________________________________________________\n",
      "region_1 (InputLayer)           (None, 13)           0                                            \n",
      "__________________________________________________________________________________________________\n",
      "title (InputLayer)              (None, 29)           0                                            \n",
      "__________________________________________________________________________________________________\n",
      "variety (InputLayer)            (None, 12)           0                                            \n",
      "__________________________________________________________________________________________________\n",
      "winery (InputLayer)             (None, 12)           0                                            \n",
      "__________________________________________________________________________________________________\n",
      "embedding_155 (Embedding)       (None, 1, 20)        980         country[0][0]                    \n",
      "__________________________________________________________________________________________________\n",
      "embedding_158 (Embedding)       (None, 1, 60)        29040       province[0][0]                   \n",
      "__________________________________________________________________________________________________\n",
      "embedding_160 (Embedding)       (None, 1, 20)        380         region_2[0][0]                   \n",
      "__________________________________________________________________________________________________\n",
      "embedding_161 (Embedding)       (None, 1, 10)        200         taster_name[0][0]                \n",
      "__________________________________________________________________________________________________\n",
      "embedding_162 (Embedding)       (None, 1, 20)        320         taster_twitter_handle[0][0]      \n",
      "__________________________________________________________________________________________________\n",
      "embedding_156 (Embedding)       (None, 245, 100)     6248400     description[0][0]                \n",
      "__________________________________________________________________________________________________\n",
      "embedding_157 (Embedding)       (None, 245, 60)      3749040     designation[0][0]                \n",
      "__________________________________________________________________________________________________\n",
      "embedding_159 (Embedding)       (None, 13, 60)       3749040     region_1[0][0]                   \n",
      "__________________________________________________________________________________________________\n",
      "embedding_163 (Embedding)       (None, 29, 10)       624840      title[0][0]                      \n",
      "__________________________________________________________________________________________________\n",
      "embedding_164 (Embedding)       (None, 12, 10)       624840      variety[0][0]                    \n",
      "__________________________________________________________________________________________________\n",
      "embedding_165 (Embedding)       (None, 12, 10)       624840      winery[0][0]                     \n",
      "__________________________________________________________________________________________________\n",
      "flatten_70 (Flatten)            (None, 20)           0           embedding_155[0][0]              \n",
      "__________________________________________________________________________________________________\n",
      "flatten_71 (Flatten)            (None, 60)           0           embedding_158[0][0]              \n",
      "__________________________________________________________________________________________________\n",
      "flatten_72 (Flatten)            (None, 20)           0           embedding_160[0][0]              \n",
      "__________________________________________________________________________________________________\n",
      "flatten_73 (Flatten)            (None, 10)           0           embedding_161[0][0]              \n",
      "__________________________________________________________________________________________________\n",
      "flatten_74 (Flatten)            (None, 20)           0           embedding_162[0][0]              \n",
      "__________________________________________________________________________________________________\n",
      "lstm_1 (LSTM)                   (None, 16)           7488        embedding_156[0][0]              \n",
      "__________________________________________________________________________________________________\n",
      "lstm_2 (LSTM)                   (None, 16)           4928        embedding_157[0][0]              \n",
      "__________________________________________________________________________________________________\n",
      "lstm_3 (LSTM)                   (None, 16)           4928        embedding_159[0][0]              \n",
      "__________________________________________________________________________________________________\n",
      "lstm_4 (LSTM)                   (None, 16)           1728        embedding_163[0][0]              \n",
      "__________________________________________________________________________________________________\n",
      "lstm_5 (LSTM)                   (None, 16)           1728        embedding_164[0][0]              \n",
      "__________________________________________________________________________________________________\n",
      "lstm_6 (LSTM)                   (None, 16)           1728        embedding_165[0][0]              \n",
      "__________________________________________________________________________________________________\n",
      "points_imp (InputLayer)         (None, 1)            0                                            \n",
      "__________________________________________________________________________________________________\n",
      "concatenate_14 (Concatenate)    (None, 227)          0           flatten_70[0][0]                 \n",
      "                                                                 flatten_71[0][0]                 \n",
      "                                                                 flatten_72[0][0]                 \n",
      "                                                                 flatten_73[0][0]                 \n",
      "                                                                 flatten_74[0][0]                 \n",
      "                                                                 lstm_1[0][0]                     \n",
      "                                                                 lstm_2[0][0]                     \n",
      "                                                                 lstm_3[0][0]                     \n",
      "                                                                 lstm_4[0][0]                     \n",
      "                                                                 lstm_5[0][0]                     \n",
      "                                                                 lstm_6[0][0]                     \n",
      "                                                                 points_imp[0][0]                 \n",
      "__________________________________________________________________________________________________\n",
      "dense_40 (Dense)                (None, 512)          116736      concatenate_14[0][0]             \n",
      "__________________________________________________________________________________________________\n",
      "dropout_27 (Dropout)            (None, 512)          0           dense_40[0][0]                   \n",
      "__________________________________________________________________________________________________\n",
      "dense_41 (Dense)                (None, 16)           8208        dropout_27[0][0]                 \n",
      "__________________________________________________________________________________________________\n",
      "dropout_28 (Dropout)            (None, 16)           0           dense_41[0][0]                   \n",
      "__________________________________________________________________________________________________\n",
      "dense_42 (Dense)                (None, 1)            17          dropout_28[0][0]                 \n",
      "==================================================================================================\n",
      "Total params: 15,799,409\n",
      "Trainable params: 15,799,409\n",
      "Non-trainable params: 0\n",
      "__________________________________________________________________________________________________\n"
     ]
    }
   ],
   "source": [
    "#KERAS MODEL DEFINITION\n",
    "from keras.layers import Input, Dropout, Dense, BatchNormalization, Activation, concatenate, GRU, Embedding, Flatten, BatchNormalization, LSTM\n",
    "from keras.models import Model\n",
    "from keras.callbacks import ModelCheckpoint, Callback, EarlyStopping\n",
    "from keras import backend as K\n",
    "\n",
    "def get_callbacks(filepath, patience=2):\n",
    "    es = EarlyStopping('val_loss', patience=patience, mode=\"min\")\n",
    "#     msave = ModelCheckpoint(filepath, save_best_only=True)\n",
    "    return es\n",
    "\n",
    "def rmse_cust(y_true, y_pred):\n",
    "    return np.sqrt(metrics.mean_squared_error(y_true, y_pred))\n",
    "\n",
    "def get_model():\n",
    "    #params\n",
    "    dr_r = 0.05\n",
    "    dr_d = 0.05\n",
    "    \n",
    "    #Inputs\n",
    "    country = Input(shape=[1], name=\"country\")\n",
    "    description = Input(shape=[X_train[\"description\"].shape[1]], \n",
    "                        name=\"description\")\n",
    "    designation = Input(shape=[X_train[\"designation\"].shape[1]], \n",
    "                        name=\"designation\")\n",
    "    points_imp = Input(shape=[1], name=\"points_imp\")\n",
    "    province = Input(shape=[1], name=\"province\")\n",
    "    region_1 = Input(shape=[X_train[\"region_1\"].shape[1]], \n",
    "                     name=\"region_1\")\n",
    "    region_2 = Input(shape=[1], name=\"region_2\")\n",
    "    taster_name = Input(shape=[1], name=\"taster_name\")\n",
    "    taster_twitter_handle = Input(shape=[1], name=\"taster_twitter_handle\")\n",
    "    title = Input(shape=[X_train[\"title\"].shape[1]], \n",
    "                  name=\"title\")\n",
    "    variety = Input(shape=[X_train[\"variety\"].shape[1]], \n",
    "                  name=\"variety\")\n",
    "    winery = Input(shape=[X_train[\"winery\"].shape[1]], name=\"winery\")\n",
    "    \n",
    "    \n",
    "    #Embeddings layers\n",
    "    emb_size = 65\n",
    "        \n",
    "    emb_country = Embedding(MAX_Country, 20)(country)\n",
    "    emb_description = Embedding(MAX_TEXT, 100)(description)\n",
    "    emb_designation = Embedding(MAX_TEXT, 60)(designation)\n",
    "#     emb_category_name = Embedding(MAX_TEXT, emb_size//3)(category_name)\n",
    "    emb_province = Embedding(MAX_Province, 60)(province)\n",
    "    emb_region_1 = Embedding(MAX_TEXT, 60)(region_1)\n",
    "    emb_region_2 = Embedding(MAX_Region_2, 20)(region_2)\n",
    "    \n",
    "    emb_taster_name = Embedding(MAX_Taster_name, 10)(taster_name)\n",
    "    emb_taster_twitter_handle = Embedding(MAX_Taster_twitter_handle,\n",
    "                                          20)(taster_twitter_handle)\n",
    "    emb_title = Embedding(MAX_TEXT, 10)(title)\n",
    "    emb_variety = Embedding(MAX_TEXT, 10)(variety)\n",
    "    emb_winery = Embedding(MAX_TEXT, 10)(winery)\n",
    "    \n",
    "    #rnn layer\n",
    "    rnn_layer1 = LSTM(16) (emb_description)\n",
    "    rnn_layer2 = LSTM(16) (emb_designation)\n",
    "    rnn_layer3 = LSTM(16) (emb_region_1)\n",
    "    rnn_layer4 = LSTM(16) (emb_title)\n",
    "    rnn_layer5 = LSTM(16) (emb_variety)\n",
    "    rnn_layer6 = LSTM(16) (emb_winery)\n",
    "    \n",
    "    #main layer\n",
    "    main_l = concatenate([\n",
    "        Flatten() (emb_country)\n",
    "        , Flatten() (emb_province)\n",
    "        , Flatten() (emb_region_2)\n",
    "        , Flatten() (emb_taster_name)\n",
    "        , Flatten() (emb_taster_twitter_handle)\n",
    "        , rnn_layer1\n",
    "        , rnn_layer2\n",
    "        , rnn_layer3\n",
    "        , rnn_layer4\n",
    "        , rnn_layer5\n",
    "        , rnn_layer6\n",
    "        , points_imp\n",
    "    ])\n",
    "    main_l = Dropout(dr_r) (Dense(512,activation='elu') (main_l))\n",
    "    main_l = Dropout(dr_d) (Dense(16,activation='elu') (main_l))\n",
    "    \n",
    "    #output\n",
    "    output = Dense(1, activation=\"linear\") (main_l)\n",
    "    \n",
    "    \n",
    "    #model\n",
    "    model = Model([country, description, designation,\n",
    "                   points_imp, province, region_1, region_2,\n",
    "                  taster_name, taster_twitter_handle, title,\n",
    "                  variety, winery], output)\n",
    "    model.compile(loss=\"mse\", optimizer=\"adam\", metrics=[\"mse\"])\n",
    "    \n",
    "    return model\n",
    "\n",
    "    \n",
    "model = get_model()\n",
    "model.summary()"
   ]
  },
  {
   "cell_type": "code",
   "execution_count": 94,
   "metadata": {},
   "outputs": [],
   "source": [
    "class myCallback(tf.keras.callbacks.Callback):\n",
    "        def on_epoch_end(self, epoch, logs={}):\n",
    "            if(logs.get('val_mse')<250):\n",
    "                print(\"\\nReached 90% val_acc so cancelling training!\")\n",
    "                self.model.stop_training = True"
   ]
  },
  {
   "cell_type": "code",
   "execution_count": null,
   "metadata": {},
   "outputs": [
    {
     "name": "stderr",
     "output_type": "stream",
     "text": [
      "/home/aims/anaconda3/envs/aims/lib/python3.5/site-packages/tensorflow_core/python/framework/indexed_slices.py:424: UserWarning: Converting sparse IndexedSlices to a dense Tensor of unknown shape. This may consume a large amount of memory.\n",
      "  \"Converting sparse IndexedSlices to a dense Tensor of unknown shape. \"\n"
     ]
    },
    {
     "name": "stdout",
     "output_type": "stream",
     "text": [
      "Train on 173250 samples, validate on 1750 samples\n",
      "Epoch 1/10\n",
      "173250/173250 [==============================] - 124s 715us/step - loss: 1336.7125 - mse: 1336.7122 - val_loss: 1349.0413 - val_mse: 1349.0413\n",
      "Epoch 2/10\n",
      "173250/173250 [==============================] - 120s 692us/step - loss: 825.7702 - mse: 825.7704 - val_loss: 953.4156 - val_mse: 953.4156\n",
      "Epoch 3/10\n",
      "173250/173250 [==============================] - 117s 676us/step - loss: 554.1363 - mse: 554.1364 - val_loss: 743.0262 - val_mse: 743.0262\n",
      "Epoch 4/10\n",
      "173250/173250 [==============================] - 112s 644us/step - loss: 409.9572 - mse: 409.9573 - val_loss: 651.8731 - val_mse: 651.8732\n",
      "Epoch 5/10\n",
      " 84480/173250 [=============>................] - ETA: 1:03 - loss: 298.9701 - mse: 298.9702"
     ]
    }
   ],
   "source": [
    "#FITTING THE MODEL\n",
    "BATCH_SIZE = 512 * 3\n",
    "epochs = 10\n",
    "\n",
    "model = get_model()\n",
    "model.fit(X_train, dtrain.target, epochs=epochs, batch_size=BATCH_SIZE\n",
    "          , validation_data=(X_valid, dvalid.target)\n",
    "          , verbose=1)#, callbacks=[myCallback])"
   ]
  },
  {
   "cell_type": "code",
   "execution_count": 87,
   "metadata": {},
   "outputs": [
    {
     "data": {
      "text/plain": [
       "array([[21.986656],\n",
       "       [44.21048 ],\n",
       "       [24.591307],\n",
       "       ...,\n",
       "       [31.0223  ],\n",
       "       [25.381834],\n",
       "       [30.59005 ]], dtype=float32)"
      ]
     },
     "execution_count": 87,
     "metadata": {},
     "output_type": "execute_result"
    }
   ],
   "source": [
    "val_preds = model.predict(X_valid)\n",
    "val_preds"
   ]
  },
  {
   "cell_type": "code",
   "execution_count": 88,
   "metadata": {},
   "outputs": [
    {
     "name": "stdout",
     "output_type": "stream",
     "text": [
      " RMSE error on dev test: 14.642797581251283\n"
     ]
    }
   ],
   "source": [
    "y_true = np.array(dvalid.price.values)\n",
    "y_pred = val_preds[:,0]\n",
    "v_rmsle = rmse_cust(y_true, y_pred)\n",
    "\n",
    "print(\" RMSE error on dev test: \"+str(v_rmsle)) #14.642797581251283 BEST = 30"
   ]
  },
  {
   "cell_type": "code",
   "execution_count": 63,
   "metadata": {},
   "outputs": [
    {
     "name": "stdout",
     "output_type": "stream",
     "text": [
      " RMSE error on dev test: 29.23230019321053\n"
     ]
    }
   ],
   "source": []
  },
  {
   "cell_type": "code",
   "execution_count": 47,
   "metadata": {},
   "outputs": [
    {
     "name": "stdout",
     "output_type": "stream",
     "text": [
      " RMSE error on dev test: 54.06418651109476\n"
     ]
    }
   ],
   "source": [
    "#EVLUEATE THE MODEL ON DEV TEST: What is it doing?\n",
    "# val_preds = model.predict(X_valid)\n",
    "# val_preds = target_scaler.inverse_transform(val_preds)\n",
    "# val_preds = np.exp(val_preds)+1\n",
    "\n",
    "# #mean_absolute_error, mean_squared_log_error\n",
    "# y_true = np.array(dvalid.price.values)\n",
    "# y_pred = val_preds[:,0]\n",
    "# v_rmsle = rmse_cust(y_true, y_pred)\n",
    "# print(\" RMSE error on dev test: \"+str(v_rmsle))"
   ]
  },
  {
   "cell_type": "code",
   "execution_count": 89,
   "metadata": {},
   "outputs": [
    {
     "data": {
      "text/plain": [
       "array([[106.507805],\n",
       "       [ 22.875227],\n",
       "       [ 51.8577  ],\n",
       "       ...,\n",
       "       [ 34.53157 ],\n",
       "       [ 33.67137 ],\n",
       "       [ 41.739414]], dtype=float32)"
      ]
     },
     "execution_count": 89,
     "metadata": {},
     "output_type": "execute_result"
    }
   ],
   "source": [
    "#CREATE PREDICTIONS\n",
    "preds = model.predict(X_test, batch_size=BATCH_SIZE)\n",
    "# preds = target_scaler.inverse_transform(preds)\n",
    "# preds = np.exp(preds)-1\n",
    "\n",
    "# submission = test[[\"test_id\"]]\n",
    "# submission[\"price\"] = preds\n",
    "preds"
   ]
  },
  {
   "cell_type": "code",
   "execution_count": 90,
   "metadata": {},
   "outputs": [
    {
     "name": "stderr",
     "output_type": "stream",
     "text": [
      "/home/aims/anaconda3/envs/aims/lib/python3.5/site-packages/ipykernel_launcher.py:2: SettingWithCopyWarning: \n",
      "A value is trying to be set on a copy of a slice from a DataFrame.\n",
      "Try using .loc[row_indexer,col_indexer] = value instead\n",
      "\n",
      "See the caveats in the documentation: http://pandas.pydata.org/pandas-docs/stable/user_guide/indexing.html#returning-a-view-versus-a-copy\n",
      "  \n"
     ]
    },
    {
     "data": {
      "text/html": [
       "<div>\n",
       "<style scoped>\n",
       "    .dataframe tbody tr th:only-of-type {\n",
       "        vertical-align: middle;\n",
       "    }\n",
       "\n",
       "    .dataframe tbody tr th {\n",
       "        vertical-align: top;\n",
       "    }\n",
       "\n",
       "    .dataframe thead th {\n",
       "        text-align: right;\n",
       "    }\n",
       "</style>\n",
       "<table border=\"1\" class=\"dataframe\">\n",
       "  <thead>\n",
       "    <tr style=\"text-align: right;\">\n",
       "      <th></th>\n",
       "      <th>id</th>\n",
       "      <th>price</th>\n",
       "    </tr>\n",
       "  </thead>\n",
       "  <tbody>\n",
       "    <tr>\n",
       "      <th>0</th>\n",
       "      <td>0</td>\n",
       "      <td>106.507805</td>\n",
       "    </tr>\n",
       "    <tr>\n",
       "      <th>1</th>\n",
       "      <td>1</td>\n",
       "      <td>22.875227</td>\n",
       "    </tr>\n",
       "    <tr>\n",
       "      <th>2</th>\n",
       "      <td>2</td>\n",
       "      <td>51.857700</td>\n",
       "    </tr>\n",
       "    <tr>\n",
       "      <th>3</th>\n",
       "      <td>3</td>\n",
       "      <td>29.922876</td>\n",
       "    </tr>\n",
       "    <tr>\n",
       "      <th>4</th>\n",
       "      <td>4</td>\n",
       "      <td>14.789967</td>\n",
       "    </tr>\n",
       "  </tbody>\n",
       "</table>\n",
       "</div>"
      ],
      "text/plain": [
       "   id       price\n",
       "0   0  106.507805\n",
       "1   1   22.875227\n",
       "2   2   51.857700\n",
       "3   3   29.922876\n",
       "4   4   14.789967"
      ]
     },
     "execution_count": 90,
     "metadata": {},
     "output_type": "execute_result"
    }
   ],
   "source": [
    "output = test[['id']]\n",
    "output['price']=preds.reshape(-1,1)\n",
    "output.head()"
   ]
  },
  {
   "cell_type": "code",
   "execution_count": 91,
   "metadata": {},
   "outputs": [],
   "source": [
    "output.to_csv('best_2.csv',index=False)"
   ]
  },
  {
   "cell_type": "code",
   "execution_count": null,
   "metadata": {},
   "outputs": [],
   "source": []
  },
  {
   "cell_type": "code",
   "execution_count": null,
   "metadata": {},
   "outputs": [],
   "source": []
  },
  {
   "cell_type": "code",
   "execution_count": null,
   "metadata": {},
   "outputs": [],
   "source": []
  },
  {
   "cell_type": "code",
   "execution_count": null,
   "metadata": {},
   "outputs": [],
   "source": []
  },
  {
   "cell_type": "code",
   "execution_count": null,
   "metadata": {},
   "outputs": [],
   "source": []
  },
  {
   "cell_type": "code",
   "execution_count": null,
   "metadata": {},
   "outputs": [],
   "source": []
  },
  {
   "cell_type": "code",
   "execution_count": null,
   "metadata": {},
   "outputs": [],
   "source": []
  },
  {
   "cell_type": "code",
   "execution_count": 47,
   "metadata": {},
   "outputs": [
    {
     "data": {
      "text/html": [
       "<div>\n",
       "<style scoped>\n",
       "    .dataframe tbody tr th:only-of-type {\n",
       "        vertical-align: middle;\n",
       "    }\n",
       "\n",
       "    .dataframe tbody tr th {\n",
       "        vertical-align: top;\n",
       "    }\n",
       "\n",
       "    .dataframe thead th {\n",
       "        text-align: right;\n",
       "    }\n",
       "</style>\n",
       "<table border=\"1\" class=\"dataframe\">\n",
       "  <thead>\n",
       "    <tr style=\"text-align: right;\">\n",
       "      <th></th>\n",
       "      <th>country</th>\n",
       "      <th>description</th>\n",
       "      <th>designation</th>\n",
       "      <th>points</th>\n",
       "      <th>price</th>\n",
       "      <th>province</th>\n",
       "      <th>region_1</th>\n",
       "      <th>region_2</th>\n",
       "      <th>taster_name</th>\n",
       "      <th>taster_twitter_handle</th>\n",
       "      <th>title</th>\n",
       "      <th>variety</th>\n",
       "      <th>winery</th>\n",
       "      <th>id</th>\n",
       "    </tr>\n",
       "  </thead>\n",
       "  <tbody>\n",
       "    <tr>\n",
       "      <th>174995</th>\n",
       "      <td>US</td>\n",
       "      <td>Named for the clone so beloved by winemakers, ...</td>\n",
       "      <td>Old Wente</td>\n",
       "      <td>93.965358</td>\n",
       "      <td>55.0</td>\n",
       "      <td>California</td>\n",
       "      <td>Russian River Valley</td>\n",
       "      <td>Sonoma</td>\n",
       "      <td>Virginie Boone</td>\n",
       "      <td>@vboone</td>\n",
       "      <td>Lynmar 2014 Old Wente Chardonnay (Russian Rive...</td>\n",
       "      <td>CHARDONNAY</td>\n",
       "      <td>Lynmar</td>\n",
       "      <td>51364</td>\n",
       "    </tr>\n",
       "    <tr>\n",
       "      <th>174996</th>\n",
       "      <td>Portugal</td>\n",
       "      <td>This is a fresh, fruity and juicy wine. Shot t...</td>\n",
       "      <td>Bojador Branco</td>\n",
       "      <td>85.975164</td>\n",
       "      <td>14.0</td>\n",
       "      <td>Alentejano</td>\n",
       "      <td>NaN</td>\n",
       "      <td>NaN</td>\n",
       "      <td>Roger Voss</td>\n",
       "      <td>@vossroger</td>\n",
       "      <td>Espaço Rural 2014 Bojador Branco White (Alente...</td>\n",
       "      <td>PORTUGUESE WHITE</td>\n",
       "      <td>Espaço Rural</td>\n",
       "      <td>87223</td>\n",
       "    </tr>\n",
       "    <tr>\n",
       "      <th>174997</th>\n",
       "      <td>Spain</td>\n",
       "      <td>Clean and toasty, with mineral and the slighte...</td>\n",
       "      <td>Cordon Negro Brut</td>\n",
       "      <td>85.030109</td>\n",
       "      <td>10.0</td>\n",
       "      <td>Catalonia</td>\n",
       "      <td>Cava</td>\n",
       "      <td>NaN</td>\n",
       "      <td>NaN</td>\n",
       "      <td>NaN</td>\n",
       "      <td>NaN</td>\n",
       "      <td>SPARKLING BLEND</td>\n",
       "      <td>Freixenet</td>\n",
       "      <td>142217</td>\n",
       "    </tr>\n",
       "    <tr>\n",
       "      <th>174998</th>\n",
       "      <td>US</td>\n",
       "      <td>A lovely Pinot Noir, showing flamboyantly ripe...</td>\n",
       "      <td>Estate Grown</td>\n",
       "      <td>90.867770</td>\n",
       "      <td>65.0</td>\n",
       "      <td>California</td>\n",
       "      <td>Russian River Valley</td>\n",
       "      <td>Sonoma</td>\n",
       "      <td>NaN</td>\n",
       "      <td>NaN</td>\n",
       "      <td>NaN</td>\n",
       "      <td>PINOT NOIR</td>\n",
       "      <td>Donum</td>\n",
       "      <td>64741</td>\n",
       "    </tr>\n",
       "    <tr>\n",
       "      <th>174999</th>\n",
       "      <td>US</td>\n",
       "      <td>Made to benefit the exploratory organization, ...</td>\n",
       "      <td>National Geographic Ocean Reserve Blanc de Blancs</td>\n",
       "      <td>91.881217</td>\n",
       "      <td>50.0</td>\n",
       "      <td>California</td>\n",
       "      <td>Green Valley</td>\n",
       "      <td>Sonoma</td>\n",
       "      <td>Virginie Boone</td>\n",
       "      <td>@vboone</td>\n",
       "      <td>Iron Horse 2013 National Geographic Ocean Rese...</td>\n",
       "      <td>SPARKLING BLEND</td>\n",
       "      <td>Iron Horse</td>\n",
       "      <td>91621</td>\n",
       "    </tr>\n",
       "  </tbody>\n",
       "</table>\n",
       "</div>"
      ],
      "text/plain": [
       "         country                                        description  \\\n",
       "174995        US  Named for the clone so beloved by winemakers, ...   \n",
       "174996  Portugal  This is a fresh, fruity and juicy wine. Shot t...   \n",
       "174997     Spain  Clean and toasty, with mineral and the slighte...   \n",
       "174998        US  A lovely Pinot Noir, showing flamboyantly ripe...   \n",
       "174999        US  Made to benefit the exploratory organization, ...   \n",
       "\n",
       "                                              designation     points  price  \\\n",
       "174995                                          Old Wente  93.965358   55.0   \n",
       "174996                                     Bojador Branco  85.975164   14.0   \n",
       "174997                                  Cordon Negro Brut  85.030109   10.0   \n",
       "174998                                       Estate Grown  90.867770   65.0   \n",
       "174999  National Geographic Ocean Reserve Blanc de Blancs  91.881217   50.0   \n",
       "\n",
       "          province              region_1 region_2     taster_name  \\\n",
       "174995  California  Russian River Valley   Sonoma  Virginie Boone   \n",
       "174996  Alentejano                   NaN      NaN      Roger Voss   \n",
       "174997   Catalonia                  Cava      NaN             NaN   \n",
       "174998  California  Russian River Valley   Sonoma             NaN   \n",
       "174999  California          Green Valley   Sonoma  Virginie Boone   \n",
       "\n",
       "       taster_twitter_handle  \\\n",
       "174995               @vboone   \n",
       "174996            @vossroger   \n",
       "174997                   NaN   \n",
       "174998                   NaN   \n",
       "174999               @vboone   \n",
       "\n",
       "                                                    title           variety  \\\n",
       "174995  Lynmar 2014 Old Wente Chardonnay (Russian Rive...        CHARDONNAY   \n",
       "174996  Espaço Rural 2014 Bojador Branco White (Alente...  PORTUGUESE WHITE   \n",
       "174997                                                NaN   SPARKLING BLEND   \n",
       "174998                                                NaN        PINOT NOIR   \n",
       "174999  Iron Horse 2013 National Geographic Ocean Rese...   SPARKLING BLEND   \n",
       "\n",
       "              winery      id  \n",
       "174995        Lynmar   51364  \n",
       "174996  Espaço Rural   87223  \n",
       "174997     Freixenet  142217  \n",
       "174998         Donum   64741  \n",
       "174999    Iron Horse   91621  "
      ]
     },
     "execution_count": 47,
     "metadata": {},
     "output_type": "execute_result"
    }
   ],
   "source": [
    "train.tail()"
   ]
  },
  {
   "cell_type": "code",
   "execution_count": 48,
   "metadata": {},
   "outputs": [
    {
     "name": "stdout",
     "output_type": "stream",
     "text": [
      "<class 'pandas.core.frame.DataFrame'>\n",
      "RangeIndex: 175000 entries, 0 to 174999\n",
      "Data columns (total 14 columns):\n",
      "country                  174953 non-null object\n",
      "description              175000 non-null object\n",
      "designation              122734 non-null object\n",
      "points                   175000 non-null float64\n",
      "price                    175000 non-null float64\n",
      "province                 174953 non-null object\n",
      "region_1                 146466 non-null object\n",
      "region_2                 75394 non-null object\n",
      "taster_name              65509 non-null object\n",
      "taster_twitter_handle    62190 non-null object\n",
      "title                    82189 non-null object\n",
      "variety                  174999 non-null object\n",
      "winery                   175000 non-null object\n",
      "id                       175000 non-null int64\n",
      "dtypes: float64(2), int64(1), object(11)\n",
      "memory usage: 18.7+ MB\n"
     ]
    }
   ],
   "source": [
    "train.info()"
   ]
  },
  {
   "cell_type": "code",
   "execution_count": 49,
   "metadata": {},
   "outputs": [
    {
     "data": {
      "text/plain": [
       "124675"
      ]
     },
     "execution_count": 49,
     "metadata": {},
     "output_type": "execute_result"
    }
   ],
   "source": [
    "train.id.nunique()"
   ]
  },
  {
   "cell_type": "code",
   "execution_count": 50,
   "metadata": {},
   "outputs": [
    {
     "data": {
      "text/plain": [
       "country                   object\n",
       "description               object\n",
       "designation               object\n",
       "points                   float64\n",
       "price                    float64\n",
       "province                  object\n",
       "region_1                  object\n",
       "region_2                  object\n",
       "taster_name               object\n",
       "taster_twitter_handle     object\n",
       "title                     object\n",
       "variety                   object\n",
       "winery                    object\n",
       "id                         int64\n",
       "dtype: object"
      ]
     },
     "execution_count": 50,
     "metadata": {},
     "output_type": "execute_result"
    }
   ],
   "source": [
    "train.dtypes"
   ]
  },
  {
   "cell_type": "code",
   "execution_count": null,
   "metadata": {},
   "outputs": [],
   "source": []
  },
  {
   "cell_type": "markdown",
   "metadata": {},
   "source": [
    "## Investigating on __NAN__ values"
   ]
  },
  {
   "cell_type": "markdown",
   "metadata": {},
   "source": [
    "We have 14 columns and we need to investigate each and everyone of them, we have a total of $175000$ examples"
   ]
  },
  {
   "cell_type": "code",
   "execution_count": null,
   "metadata": {},
   "outputs": [],
   "source": [
    "# train.dropna(thresh=2)"
   ]
  },
  {
   "cell_type": "code",
   "execution_count": 59,
   "metadata": {},
   "outputs": [
    {
     "data": {
      "text/html": [
       "<div>\n",
       "<style scoped>\n",
       "    .dataframe tbody tr th:only-of-type {\n",
       "        vertical-align: middle;\n",
       "    }\n",
       "\n",
       "    .dataframe tbody tr th {\n",
       "        vertical-align: top;\n",
       "    }\n",
       "\n",
       "    .dataframe thead th {\n",
       "        text-align: right;\n",
       "    }\n",
       "</style>\n",
       "<table border=\"1\" class=\"dataframe\">\n",
       "  <thead>\n",
       "    <tr style=\"text-align: right;\">\n",
       "      <th></th>\n",
       "      <th>country</th>\n",
       "      <th>description</th>\n",
       "      <th>designation</th>\n",
       "      <th>points</th>\n",
       "      <th>price</th>\n",
       "      <th>province</th>\n",
       "      <th>region_1</th>\n",
       "      <th>region_2</th>\n",
       "      <th>taster_name</th>\n",
       "      <th>taster_twitter_handle</th>\n",
       "      <th>title</th>\n",
       "      <th>variety</th>\n",
       "      <th>winery</th>\n",
       "      <th>id</th>\n",
       "    </tr>\n",
       "  </thead>\n",
       "  <tbody>\n",
       "    <tr>\n",
       "      <th>0</th>\n",
       "      <td>Portugal</td>\n",
       "      <td>This is a fine rich balanced wine. It has ripe...</td>\n",
       "      <td>Vila Santa Reserva</td>\n",
       "      <td>88.870874</td>\n",
       "      <td>20.0</td>\n",
       "      <td>Alentejano</td>\n",
       "      <td>Missing</td>\n",
       "      <td>Missing</td>\n",
       "      <td>Missing</td>\n",
       "      <td>Missing</td>\n",
       "      <td>Missing</td>\n",
       "      <td>PORTUGUESE RED</td>\n",
       "      <td>J. Portugal Ramos</td>\n",
       "      <td>32027</td>\n",
       "    </tr>\n",
       "    <tr>\n",
       "      <th>1</th>\n",
       "      <td>France</td>\n",
       "      <td>A solid, chunky wine, with a structure that is...</td>\n",
       "      <td>Missing</td>\n",
       "      <td>88.041695</td>\n",
       "      <td>28.0</td>\n",
       "      <td>Bordeaux</td>\n",
       "      <td>Lalande de Pomerol</td>\n",
       "      <td>Missing</td>\n",
       "      <td>Missing</td>\n",
       "      <td>Missing</td>\n",
       "      <td>Missing</td>\n",
       "      <td>BORDEAUX-STYLE RED BLEND</td>\n",
       "      <td>Château Tour Grand Colombier</td>\n",
       "      <td>71079</td>\n",
       "    </tr>\n",
       "    <tr>\n",
       "      <th>2</th>\n",
       "      <td>France</td>\n",
       "      <td>This is powerful and concentrated, with the hi...</td>\n",
       "      <td>Missing</td>\n",
       "      <td>94.085021</td>\n",
       "      <td>130.0</td>\n",
       "      <td>Bordeaux</td>\n",
       "      <td>Saint-Émilion</td>\n",
       "      <td>Missing</td>\n",
       "      <td>Missing</td>\n",
       "      <td>Missing</td>\n",
       "      <td>Missing</td>\n",
       "      <td>BORDEAUX-STYLE RED BLEND</td>\n",
       "      <td>Château Figeac</td>\n",
       "      <td>32440</td>\n",
       "    </tr>\n",
       "    <tr>\n",
       "      <th>3</th>\n",
       "      <td>US</td>\n",
       "      <td>Rich, ripe and oaky, this Petite Sirah charms ...</td>\n",
       "      <td>Thompson Vineyard</td>\n",
       "      <td>89.869797</td>\n",
       "      <td>34.0</td>\n",
       "      <td>California</td>\n",
       "      <td>Santa Barbara County</td>\n",
       "      <td>Central Coast</td>\n",
       "      <td>Missing</td>\n",
       "      <td>Missing</td>\n",
       "      <td>Jaffurs 2010 Thompson Vineyard Petite Sirah (S...</td>\n",
       "      <td>PETITE SIRAH</td>\n",
       "      <td>Jaffurs</td>\n",
       "      <td>124405</td>\n",
       "    </tr>\n",
       "    <tr>\n",
       "      <th>4</th>\n",
       "      <td>US</td>\n",
       "      <td>This wine is a unique in the state blend and f...</td>\n",
       "      <td>McKinley Springs Vineyard</td>\n",
       "      <td>89.017651</td>\n",
       "      <td>24.0</td>\n",
       "      <td>Washington</td>\n",
       "      <td>Horse Heaven Hills</td>\n",
       "      <td>Columbia Valley</td>\n",
       "      <td>Sean P. Sullivan</td>\n",
       "      <td>@wawinereport</td>\n",
       "      <td>Syncline 2016 McKinley Springs Vineyard Rosé (...</td>\n",
       "      <td>ROSé</td>\n",
       "      <td>Syncline</td>\n",
       "      <td>33649</td>\n",
       "    </tr>\n",
       "    <tr>\n",
       "      <th>...</th>\n",
       "      <td>...</td>\n",
       "      <td>...</td>\n",
       "      <td>...</td>\n",
       "      <td>...</td>\n",
       "      <td>...</td>\n",
       "      <td>...</td>\n",
       "      <td>...</td>\n",
       "      <td>...</td>\n",
       "      <td>...</td>\n",
       "      <td>...</td>\n",
       "      <td>...</td>\n",
       "      <td>...</td>\n",
       "      <td>...</td>\n",
       "      <td>...</td>\n",
       "    </tr>\n",
       "    <tr>\n",
       "      <th>174995</th>\n",
       "      <td>US</td>\n",
       "      <td>Named for the clone so beloved by winemakers, ...</td>\n",
       "      <td>Old Wente</td>\n",
       "      <td>93.965358</td>\n",
       "      <td>55.0</td>\n",
       "      <td>California</td>\n",
       "      <td>Russian River Valley</td>\n",
       "      <td>Sonoma</td>\n",
       "      <td>Virginie Boone</td>\n",
       "      <td>@vboone</td>\n",
       "      <td>Lynmar 2014 Old Wente Chardonnay (Russian Rive...</td>\n",
       "      <td>CHARDONNAY</td>\n",
       "      <td>Lynmar</td>\n",
       "      <td>51364</td>\n",
       "    </tr>\n",
       "    <tr>\n",
       "      <th>174996</th>\n",
       "      <td>Portugal</td>\n",
       "      <td>This is a fresh, fruity and juicy wine. Shot t...</td>\n",
       "      <td>Bojador Branco</td>\n",
       "      <td>85.975164</td>\n",
       "      <td>14.0</td>\n",
       "      <td>Alentejano</td>\n",
       "      <td>Missing</td>\n",
       "      <td>Missing</td>\n",
       "      <td>Roger Voss</td>\n",
       "      <td>@vossroger</td>\n",
       "      <td>Espaço Rural 2014 Bojador Branco White (Alente...</td>\n",
       "      <td>PORTUGUESE WHITE</td>\n",
       "      <td>Espaço Rural</td>\n",
       "      <td>87223</td>\n",
       "    </tr>\n",
       "    <tr>\n",
       "      <th>174997</th>\n",
       "      <td>Spain</td>\n",
       "      <td>Clean and toasty, with mineral and the slighte...</td>\n",
       "      <td>Cordon Negro Brut</td>\n",
       "      <td>85.030109</td>\n",
       "      <td>10.0</td>\n",
       "      <td>Catalonia</td>\n",
       "      <td>Cava</td>\n",
       "      <td>Missing</td>\n",
       "      <td>Missing</td>\n",
       "      <td>Missing</td>\n",
       "      <td>Missing</td>\n",
       "      <td>SPARKLING BLEND</td>\n",
       "      <td>Freixenet</td>\n",
       "      <td>142217</td>\n",
       "    </tr>\n",
       "    <tr>\n",
       "      <th>174998</th>\n",
       "      <td>US</td>\n",
       "      <td>A lovely Pinot Noir, showing flamboyantly ripe...</td>\n",
       "      <td>Estate Grown</td>\n",
       "      <td>90.867770</td>\n",
       "      <td>65.0</td>\n",
       "      <td>California</td>\n",
       "      <td>Russian River Valley</td>\n",
       "      <td>Sonoma</td>\n",
       "      <td>Missing</td>\n",
       "      <td>Missing</td>\n",
       "      <td>Missing</td>\n",
       "      <td>PINOT NOIR</td>\n",
       "      <td>Donum</td>\n",
       "      <td>64741</td>\n",
       "    </tr>\n",
       "    <tr>\n",
       "      <th>174999</th>\n",
       "      <td>US</td>\n",
       "      <td>Made to benefit the exploratory organization, ...</td>\n",
       "      <td>National Geographic Ocean Reserve Blanc de Blancs</td>\n",
       "      <td>91.881217</td>\n",
       "      <td>50.0</td>\n",
       "      <td>California</td>\n",
       "      <td>Green Valley</td>\n",
       "      <td>Sonoma</td>\n",
       "      <td>Virginie Boone</td>\n",
       "      <td>@vboone</td>\n",
       "      <td>Iron Horse 2013 National Geographic Ocean Rese...</td>\n",
       "      <td>SPARKLING BLEND</td>\n",
       "      <td>Iron Horse</td>\n",
       "      <td>91621</td>\n",
       "    </tr>\n",
       "  </tbody>\n",
       "</table>\n",
       "<p>175000 rows × 14 columns</p>\n",
       "</div>"
      ],
      "text/plain": [
       "         country                                        description  \\\n",
       "0       Portugal  This is a fine rich balanced wine. It has ripe...   \n",
       "1         France  A solid, chunky wine, with a structure that is...   \n",
       "2         France  This is powerful and concentrated, with the hi...   \n",
       "3             US  Rich, ripe and oaky, this Petite Sirah charms ...   \n",
       "4             US  This wine is a unique in the state blend and f...   \n",
       "...          ...                                                ...   \n",
       "174995        US  Named for the clone so beloved by winemakers, ...   \n",
       "174996  Portugal  This is a fresh, fruity and juicy wine. Shot t...   \n",
       "174997     Spain  Clean and toasty, with mineral and the slighte...   \n",
       "174998        US  A lovely Pinot Noir, showing flamboyantly ripe...   \n",
       "174999        US  Made to benefit the exploratory organization, ...   \n",
       "\n",
       "                                              designation     points  price  \\\n",
       "0                                      Vila Santa Reserva  88.870874   20.0   \n",
       "1                                                 Missing  88.041695   28.0   \n",
       "2                                                 Missing  94.085021  130.0   \n",
       "3                                       Thompson Vineyard  89.869797   34.0   \n",
       "4                               McKinley Springs Vineyard  89.017651   24.0   \n",
       "...                                                   ...        ...    ...   \n",
       "174995                                          Old Wente  93.965358   55.0   \n",
       "174996                                     Bojador Branco  85.975164   14.0   \n",
       "174997                                  Cordon Negro Brut  85.030109   10.0   \n",
       "174998                                       Estate Grown  90.867770   65.0   \n",
       "174999  National Geographic Ocean Reserve Blanc de Blancs  91.881217   50.0   \n",
       "\n",
       "          province              region_1         region_2       taster_name  \\\n",
       "0       Alentejano               Missing          Missing           Missing   \n",
       "1         Bordeaux    Lalande de Pomerol          Missing           Missing   \n",
       "2         Bordeaux         Saint-Émilion          Missing           Missing   \n",
       "3       California  Santa Barbara County    Central Coast           Missing   \n",
       "4       Washington    Horse Heaven Hills  Columbia Valley  Sean P. Sullivan   \n",
       "...            ...                   ...              ...               ...   \n",
       "174995  California  Russian River Valley           Sonoma    Virginie Boone   \n",
       "174996  Alentejano               Missing          Missing        Roger Voss   \n",
       "174997   Catalonia                  Cava          Missing           Missing   \n",
       "174998  California  Russian River Valley           Sonoma           Missing   \n",
       "174999  California          Green Valley           Sonoma    Virginie Boone   \n",
       "\n",
       "       taster_twitter_handle  \\\n",
       "0                    Missing   \n",
       "1                    Missing   \n",
       "2                    Missing   \n",
       "3                    Missing   \n",
       "4              @wawinereport   \n",
       "...                      ...   \n",
       "174995               @vboone   \n",
       "174996            @vossroger   \n",
       "174997               Missing   \n",
       "174998               Missing   \n",
       "174999               @vboone   \n",
       "\n",
       "                                                    title  \\\n",
       "0                                                 Missing   \n",
       "1                                                 Missing   \n",
       "2                                                 Missing   \n",
       "3       Jaffurs 2010 Thompson Vineyard Petite Sirah (S...   \n",
       "4       Syncline 2016 McKinley Springs Vineyard Rosé (...   \n",
       "...                                                   ...   \n",
       "174995  Lynmar 2014 Old Wente Chardonnay (Russian Rive...   \n",
       "174996  Espaço Rural 2014 Bojador Branco White (Alente...   \n",
       "174997                                            Missing   \n",
       "174998                                            Missing   \n",
       "174999  Iron Horse 2013 National Geographic Ocean Rese...   \n",
       "\n",
       "                         variety                        winery      id  \n",
       "0                 PORTUGUESE RED             J. Portugal Ramos   32027  \n",
       "1       BORDEAUX-STYLE RED BLEND  Château Tour Grand Colombier   71079  \n",
       "2       BORDEAUX-STYLE RED BLEND                Château Figeac   32440  \n",
       "3                   PETITE SIRAH                       Jaffurs  124405  \n",
       "4                           ROSé                      Syncline   33649  \n",
       "...                          ...                           ...     ...  \n",
       "174995                CHARDONNAY                        Lynmar   51364  \n",
       "174996          PORTUGUESE WHITE                  Espaço Rural   87223  \n",
       "174997           SPARKLING BLEND                     Freixenet  142217  \n",
       "174998                PINOT NOIR                         Donum   64741  \n",
       "174999           SPARKLING BLEND                    Iron Horse   91621  \n",
       "\n",
       "[175000 rows x 14 columns]"
      ]
     },
     "execution_count": 59,
     "metadata": {},
     "output_type": "execute_result"
    }
   ],
   "source": [
    "train.fillna(value='Missing')"
   ]
  },
  {
   "cell_type": "code",
   "execution_count": 60,
   "metadata": {},
   "outputs": [
    {
     "data": {
      "text/html": [
       "<div>\n",
       "<style scoped>\n",
       "    .dataframe tbody tr th:only-of-type {\n",
       "        vertical-align: middle;\n",
       "    }\n",
       "\n",
       "    .dataframe tbody tr th {\n",
       "        vertical-align: top;\n",
       "    }\n",
       "\n",
       "    .dataframe thead th {\n",
       "        text-align: right;\n",
       "    }\n",
       "</style>\n",
       "<table border=\"1\" class=\"dataframe\">\n",
       "  <thead>\n",
       "    <tr style=\"text-align: right;\">\n",
       "      <th></th>\n",
       "      <th>country</th>\n",
       "      <th>description</th>\n",
       "      <th>designation</th>\n",
       "      <th>points</th>\n",
       "      <th>province</th>\n",
       "      <th>region_1</th>\n",
       "      <th>region_2</th>\n",
       "      <th>taster_name</th>\n",
       "      <th>taster_twitter_handle</th>\n",
       "      <th>title</th>\n",
       "      <th>variety</th>\n",
       "      <th>winery</th>\n",
       "      <th>id</th>\n",
       "    </tr>\n",
       "  </thead>\n",
       "  <tbody>\n",
       "    <tr>\n",
       "      <th>0</th>\n",
       "      <td>US</td>\n",
       "      <td>Sweet new oak stands out, giving this Cabernet...</td>\n",
       "      <td>3D</td>\n",
       "      <td>95.036469</td>\n",
       "      <td>California</td>\n",
       "      <td>St. Helena</td>\n",
       "      <td>Napa</td>\n",
       "      <td>Missing</td>\n",
       "      <td>Missing</td>\n",
       "      <td>Salvestrin 2007 3D Cabernet Sauvignon (St. Hel...</td>\n",
       "      <td>CABERNET SAUVIGNON</td>\n",
       "      <td>Salvestrin</td>\n",
       "      <td>0</td>\n",
       "    </tr>\n",
       "    <tr>\n",
       "      <th>1</th>\n",
       "      <td>France</td>\n",
       "      <td>Charming raspberry aromas intertwine with scen...</td>\n",
       "      <td>Heluicum</td>\n",
       "      <td>90.966405</td>\n",
       "      <td>Rhône Valley</td>\n",
       "      <td>Collines Rhôdaniennes</td>\n",
       "      <td>Missing</td>\n",
       "      <td>Missing</td>\n",
       "      <td>Missing</td>\n",
       "      <td>Missing</td>\n",
       "      <td>SYRAH</td>\n",
       "      <td>Les Vins de Vienne</td>\n",
       "      <td>1</td>\n",
       "    </tr>\n",
       "    <tr>\n",
       "      <th>2</th>\n",
       "      <td>US</td>\n",
       "      <td>Ripe blackberry, leather and soy show on the n...</td>\n",
       "      <td>Estate</td>\n",
       "      <td>88.964358</td>\n",
       "      <td>California</td>\n",
       "      <td>Santa Ynez Valley</td>\n",
       "      <td>Central Coast</td>\n",
       "      <td>Matt Kettmann</td>\n",
       "      <td>@mattkettmann</td>\n",
       "      <td>Brave &amp; Maiden 2013 Estate Cabernet Franc (San...</td>\n",
       "      <td>CABERNET FRANC</td>\n",
       "      <td>Brave &amp; Maiden</td>\n",
       "      <td>2</td>\n",
       "    </tr>\n",
       "    <tr>\n",
       "      <th>3</th>\n",
       "      <td>US</td>\n",
       "      <td>White flowers and wild anise give this a crisp...</td>\n",
       "      <td>Missing</td>\n",
       "      <td>89.960356</td>\n",
       "      <td>California</td>\n",
       "      <td>Sonoma Coast</td>\n",
       "      <td>Sonoma</td>\n",
       "      <td>Virginie Boone</td>\n",
       "      <td>@vboone</td>\n",
       "      <td>Les Voleurs 2013 Chardonnay (Sonoma Coast)</td>\n",
       "      <td>CHARDONNAY</td>\n",
       "      <td>Les Voleurs</td>\n",
       "      <td>3</td>\n",
       "    </tr>\n",
       "    <tr>\n",
       "      <th>4</th>\n",
       "      <td>US</td>\n",
       "      <td>Pinot Gris has been making inroads in Washingt...</td>\n",
       "      <td>Missing</td>\n",
       "      <td>88.075501</td>\n",
       "      <td>Washington</td>\n",
       "      <td>Columbia Valley (WA)</td>\n",
       "      <td>Columbia Valley</td>\n",
       "      <td>Sean P. Sullivan</td>\n",
       "      <td>@wawinereport</td>\n",
       "      <td>Chateau Ste. Michelle 2015 Pinot Gris (Columbi...</td>\n",
       "      <td>PINOT GRIS</td>\n",
       "      <td>Chateau Ste. Michelle</td>\n",
       "      <td>4</td>\n",
       "    </tr>\n",
       "    <tr>\n",
       "      <th>...</th>\n",
       "      <td>...</td>\n",
       "      <td>...</td>\n",
       "      <td>...</td>\n",
       "      <td>...</td>\n",
       "      <td>...</td>\n",
       "      <td>...</td>\n",
       "      <td>...</td>\n",
       "      <td>...</td>\n",
       "      <td>...</td>\n",
       "      <td>...</td>\n",
       "      <td>...</td>\n",
       "      <td>...</td>\n",
       "      <td>...</td>\n",
       "    </tr>\n",
       "    <tr>\n",
       "      <th>83205</th>\n",
       "      <td>US</td>\n",
       "      <td>A simple, direct wine, pretty full-bodied for ...</td>\n",
       "      <td>Le Pique-Nique</td>\n",
       "      <td>81.961663</td>\n",
       "      <td>California</td>\n",
       "      <td>Sonoma Valley</td>\n",
       "      <td>Sonoma</td>\n",
       "      <td>Missing</td>\n",
       "      <td>Missing</td>\n",
       "      <td>Missing</td>\n",
       "      <td>ROSé</td>\n",
       "      <td>Wellington</td>\n",
       "      <td>83205</td>\n",
       "    </tr>\n",
       "    <tr>\n",
       "      <th>83206</th>\n",
       "      <td>US</td>\n",
       "      <td>This dry, spicy wine shows the rustic, rugged ...</td>\n",
       "      <td>Rebecca's Vineyard</td>\n",
       "      <td>87.162191</td>\n",
       "      <td>California</td>\n",
       "      <td>Dry Creek Valley</td>\n",
       "      <td>Sonoma</td>\n",
       "      <td>Missing</td>\n",
       "      <td>Missing</td>\n",
       "      <td>Missing</td>\n",
       "      <td>CABERNET SAUVIGNON</td>\n",
       "      <td>Forth</td>\n",
       "      <td>83206</td>\n",
       "    </tr>\n",
       "    <tr>\n",
       "      <th>83207</th>\n",
       "      <td>Italy</td>\n",
       "      <td>Attractive apricot, peach and honey aromas vie...</td>\n",
       "      <td>Aurente</td>\n",
       "      <td>89.057585</td>\n",
       "      <td>Central Italy</td>\n",
       "      <td>Umbria</td>\n",
       "      <td>Missing</td>\n",
       "      <td>Missing</td>\n",
       "      <td>Missing</td>\n",
       "      <td>Missing</td>\n",
       "      <td>CHARDONNAY</td>\n",
       "      <td>Lungarotti</td>\n",
       "      <td>83207</td>\n",
       "    </tr>\n",
       "    <tr>\n",
       "      <th>83208</th>\n",
       "      <td>France</td>\n",
       "      <td>Red cherries and jelly fruits highlight a wine...</td>\n",
       "      <td>Missing</td>\n",
       "      <td>84.907909</td>\n",
       "      <td>Burgundy</td>\n",
       "      <td>Bourgogne</td>\n",
       "      <td>Missing</td>\n",
       "      <td>Missing</td>\n",
       "      <td>Missing</td>\n",
       "      <td>Missing</td>\n",
       "      <td>PINOT NOIR</td>\n",
       "      <td>Bouchard Père &amp; Fils</td>\n",
       "      <td>83208</td>\n",
       "    </tr>\n",
       "    <tr>\n",
       "      <th>83209</th>\n",
       "      <td>Italy</td>\n",
       "      <td>Tasca d'Almerita makes what may be the best ex...</td>\n",
       "      <td>Missing</td>\n",
       "      <td>92.038702</td>\n",
       "      <td>Sicily &amp; Sardinia</td>\n",
       "      <td>Sicilia</td>\n",
       "      <td>Missing</td>\n",
       "      <td>Missing</td>\n",
       "      <td>Missing</td>\n",
       "      <td>Missing</td>\n",
       "      <td>CABERNET SAUVIGNON</td>\n",
       "      <td>Tasca d'Almerita</td>\n",
       "      <td>83209</td>\n",
       "    </tr>\n",
       "  </tbody>\n",
       "</table>\n",
       "<p>83210 rows × 13 columns</p>\n",
       "</div>"
      ],
      "text/plain": [
       "      country                                        description  \\\n",
       "0          US  Sweet new oak stands out, giving this Cabernet...   \n",
       "1      France  Charming raspberry aromas intertwine with scen...   \n",
       "2          US  Ripe blackberry, leather and soy show on the n...   \n",
       "3          US  White flowers and wild anise give this a crisp...   \n",
       "4          US  Pinot Gris has been making inroads in Washingt...   \n",
       "...       ...                                                ...   \n",
       "83205      US  A simple, direct wine, pretty full-bodied for ...   \n",
       "83206      US  This dry, spicy wine shows the rustic, rugged ...   \n",
       "83207   Italy  Attractive apricot, peach and honey aromas vie...   \n",
       "83208  France  Red cherries and jelly fruits highlight a wine...   \n",
       "83209   Italy  Tasca d'Almerita makes what may be the best ex...   \n",
       "\n",
       "              designation     points           province  \\\n",
       "0                      3D  95.036469         California   \n",
       "1                Heluicum  90.966405       Rhône Valley   \n",
       "2                  Estate  88.964358         California   \n",
       "3                 Missing  89.960356         California   \n",
       "4                 Missing  88.075501         Washington   \n",
       "...                   ...        ...                ...   \n",
       "83205      Le Pique-Nique  81.961663         California   \n",
       "83206  Rebecca's Vineyard  87.162191         California   \n",
       "83207             Aurente  89.057585      Central Italy   \n",
       "83208             Missing  84.907909           Burgundy   \n",
       "83209             Missing  92.038702  Sicily & Sardinia   \n",
       "\n",
       "                    region_1         region_2       taster_name  \\\n",
       "0                 St. Helena             Napa           Missing   \n",
       "1      Collines Rhôdaniennes          Missing           Missing   \n",
       "2          Santa Ynez Valley    Central Coast     Matt Kettmann   \n",
       "3               Sonoma Coast           Sonoma    Virginie Boone   \n",
       "4       Columbia Valley (WA)  Columbia Valley  Sean P. Sullivan   \n",
       "...                      ...              ...               ...   \n",
       "83205          Sonoma Valley           Sonoma           Missing   \n",
       "83206       Dry Creek Valley           Sonoma           Missing   \n",
       "83207                 Umbria          Missing           Missing   \n",
       "83208              Bourgogne          Missing           Missing   \n",
       "83209                Sicilia          Missing           Missing   \n",
       "\n",
       "      taster_twitter_handle  \\\n",
       "0                   Missing   \n",
       "1                   Missing   \n",
       "2             @mattkettmann   \n",
       "3                   @vboone   \n",
       "4             @wawinereport   \n",
       "...                     ...   \n",
       "83205               Missing   \n",
       "83206               Missing   \n",
       "83207               Missing   \n",
       "83208               Missing   \n",
       "83209               Missing   \n",
       "\n",
       "                                                   title             variety  \\\n",
       "0      Salvestrin 2007 3D Cabernet Sauvignon (St. Hel...  CABERNET SAUVIGNON   \n",
       "1                                                Missing               SYRAH   \n",
       "2      Brave & Maiden 2013 Estate Cabernet Franc (San...      CABERNET FRANC   \n",
       "3             Les Voleurs 2013 Chardonnay (Sonoma Coast)          CHARDONNAY   \n",
       "4      Chateau Ste. Michelle 2015 Pinot Gris (Columbi...          PINOT GRIS   \n",
       "...                                                  ...                 ...   \n",
       "83205                                            Missing                ROSé   \n",
       "83206                                            Missing  CABERNET SAUVIGNON   \n",
       "83207                                            Missing          CHARDONNAY   \n",
       "83208                                            Missing          PINOT NOIR   \n",
       "83209                                            Missing  CABERNET SAUVIGNON   \n",
       "\n",
       "                      winery     id  \n",
       "0                 Salvestrin      0  \n",
       "1         Les Vins de Vienne      1  \n",
       "2             Brave & Maiden      2  \n",
       "3                Les Voleurs      3  \n",
       "4      Chateau Ste. Michelle      4  \n",
       "...                      ...    ...  \n",
       "83205             Wellington  83205  \n",
       "83206                  Forth  83206  \n",
       "83207             Lungarotti  83207  \n",
       "83208   Bouchard Père & Fils  83208  \n",
       "83209       Tasca d'Almerita  83209  \n",
       "\n",
       "[83210 rows x 13 columns]"
      ]
     },
     "execution_count": 60,
     "metadata": {},
     "output_type": "execute_result"
    }
   ],
   "source": [
    "test.fillna(value='Missing')"
   ]
  },
  {
   "cell_type": "code",
   "execution_count": 53,
   "metadata": {},
   "outputs": [
    {
     "data": {
      "text/plain": [
       "country                      47\n",
       "description                   0\n",
       "designation               52266\n",
       "points                        0\n",
       "price                         0\n",
       "province                     47\n",
       "region_1                  28534\n",
       "region_2                  99606\n",
       "taster_name              109491\n",
       "taster_twitter_handle    112810\n",
       "title                     92811\n",
       "variety                       1\n",
       "winery                        0\n",
       "id                            0\n",
       "dtype: int64"
      ]
     },
     "execution_count": 53,
     "metadata": {},
     "output_type": "execute_result"
    }
   ],
   "source": [
    "train.isnull().sum()"
   ]
  },
  {
   "cell_type": "code",
   "execution_count": 54,
   "metadata": {},
   "outputs": [
    {
     "data": {
      "text/plain": [
       "country                     17\n",
       "description                  0\n",
       "designation              24824\n",
       "points                       0\n",
       "province                    17\n",
       "region_1                 13883\n",
       "region_2                 47608\n",
       "taster_name              52240\n",
       "taster_twitter_handle    53841\n",
       "title                    44424\n",
       "variety                      0\n",
       "winery                       0\n",
       "id                           0\n",
       "dtype: int64"
      ]
     },
     "execution_count": 54,
     "metadata": {},
     "output_type": "execute_result"
    }
   ],
   "source": [
    "test.isnull().sum()"
   ]
  },
  {
   "cell_type": "code",
   "execution_count": 55,
   "metadata": {},
   "outputs": [
    {
     "data": {
      "text/plain": [
       "object     11\n",
       "float64     2\n",
       "int64       1\n",
       "dtype: int64"
      ]
     },
     "execution_count": 55,
     "metadata": {},
     "output_type": "execute_result"
    }
   ],
   "source": [
    "train.dtypes.value_counts()"
   ]
  },
  {
   "cell_type": "code",
   "execution_count": 61,
   "metadata": {},
   "outputs": [
    {
     "data": {
      "text/plain": [
       "country                      45\n",
       "description              123811\n",
       "designation               37931\n",
       "points                   175000\n",
       "price                       387\n",
       "province                    468\n",
       "region_1                   1278\n",
       "region_2                     18\n",
       "taster_name                  19\n",
       "taster_twitter_handle        15\n",
       "title                     77411\n",
       "variety                     706\n",
       "winery                    16968\n",
       "id                       124675\n",
       "dtype: int64"
      ]
     },
     "execution_count": 61,
     "metadata": {},
     "output_type": "execute_result"
    }
   ],
   "source": [
    "train.nunique()"
   ]
  },
  {
   "cell_type": "code",
   "execution_count": 62,
   "metadata": {},
   "outputs": [
    {
     "data": {
      "text/plain": [
       "country                     46\n",
       "description              70235\n",
       "designation              25487\n",
       "points                   83210\n",
       "province                   423\n",
       "region_1                  1145\n",
       "region_2                    18\n",
       "taster_name                 19\n",
       "taster_twitter_handle       15\n",
       "title                    37684\n",
       "variety                    622\n",
       "winery                   13962\n",
       "id                       83210\n",
       "dtype: int64"
      ]
     },
     "execution_count": 62,
     "metadata": {},
     "output_type": "execute_result"
    }
   ],
   "source": [
    "test.nunique()"
   ]
  },
  {
   "cell_type": "code",
   "execution_count": 57,
   "metadata": {},
   "outputs": [
    {
     "data": {
      "text/plain": [
       "<matplotlib.axes._subplots.AxesSubplot at 0x7f19f48c80b8>"
      ]
     },
     "execution_count": 57,
     "metadata": {},
     "output_type": "execute_result"
    },
    {
     "data": {
      "image/png": "[encoded data removed]",
      "text/plain": [
       "<Figure size 432x288 with 1 Axes>"
      ]
     },
     "metadata": {
      "needs_background": "light"
     },
     "output_type": "display_data"
    }
   ],
   "source": [
    "sns.countplot(x='region_2',data=train)"
   ]
  },
  {
   "cell_type": "code",
   "execution_count": 58,
   "metadata": {},
   "outputs": [
    {
     "data": {
      "text/plain": [
       "Central Coast              16174\n",
       "Sonoma                     13718\n",
       "Columbia Valley            11672\n",
       "Napa                       10572\n",
       "Willamette Valley           4484\n",
       "California Other            4248\n",
       "Finger Lakes                2221\n",
       "Sierra Foothills            2159\n",
       "Napa-Sonoma                 1914\n",
       "Mendocino/Lake Counties     1657\n",
       "Central Valley              1467\n",
       "Southern Oregon             1045\n",
       "Long Island                  974\n",
       "Oregon Other                 952\n",
       "North Coast                  819\n",
       "Washington Other             731\n",
       "South Coast                  308\n",
       "New York Other               279\n",
       "Name: region_2, dtype: int64"
      ]
     },
     "execution_count": 58,
     "metadata": {},
     "output_type": "execute_result"
    }
   ],
   "source": [
    "train.region_2.value_counts()"
   ]
  },
  {
   "cell_type": "code",
   "execution_count": 44,
   "metadata": {},
   "outputs": [
    {
     "data": {
      "text/plain": [
       "Central Coast              7788\n",
       "Sonoma                     6505\n",
       "Columbia Valley            5478\n",
       "Napa                       5010\n",
       "Willamette Valley          2098\n",
       "California Other           1927\n",
       "Finger Lakes               1050\n",
       "Sierra Foothills            961\n",
       "Napa-Sonoma                 898\n",
       "Mendocino/Lake Counties     729\n",
       "Central Valley              700\n",
       "Southern Oregon             529\n",
       "Long Island                 468\n",
       "Oregon Other                431\n",
       "North Coast                 395\n",
       "Washington Other            384\n",
       "South Coast                 152\n",
       "New York Other               99\n",
       "Name: region_2, dtype: int64"
      ]
     },
     "execution_count": 44,
     "metadata": {},
     "output_type": "execute_result"
    }
   ],
   "source": [
    "test.region_2.value_counts()"
   ]
  },
  {
   "cell_type": "code",
   "execution_count": 28,
   "metadata": {},
   "outputs": [
    {
     "data": {
      "text/plain": [
       "index                    71856\n",
       "country                     46\n",
       "description              70235\n",
       "designation              25487\n",
       "points                   83210\n",
       "price                        0\n",
       "province                   423\n",
       "region_1                  1145\n",
       "region_2                    18\n",
       "taster_name                 19\n",
       "taster_twitter_handle       15\n",
       "title                    37684\n",
       "variety                    622\n",
       "winery                   13962\n",
       "id                       83210\n",
       "dtype: int64"
      ]
     },
     "execution_count": 28,
     "metadata": {},
     "output_type": "execute_result"
    }
   ],
   "source": [
    "test.nunique()"
   ]
  },
  {
   "cell_type": "code",
   "execution_count": 30,
   "metadata": {},
   "outputs": [
    {
     "data": {
      "text/plain": [
       "<matplotlib.axes._subplots.AxesSubplot at 0x7f1a0b7fa908>"
      ]
     },
     "execution_count": 30,
     "metadata": {},
     "output_type": "execute_result"
    },
    {
     "data": {
      "image/png": "[encoded data removed]",
      "text/plain": [
       "<Figure size 432x288 with 1 Axes>"
      ]
     },
     "metadata": {
      "needs_background": "light"
     },
     "output_type": "display_data"
    }
   ],
   "source": [
    "sns.countplot(x='region_2',data=test)"
   ]
  },
  {
   "cell_type": "markdown",
   "metadata": {},
   "source": [
    "## Numerical "
   ]
  },
  {
   "cell_type": "code",
   "execution_count": null,
   "metadata": {},
   "outputs": [],
   "source": [
    "train.columns[train.dtypes != 'object']"
   ]
  },
  {
   "cell_type": "markdown",
   "metadata": {},
   "source": [
    "### Points"
   ]
  },
  {
   "cell_type": "code",
   "execution_count": null,
   "metadata": {},
   "outputs": [],
   "source": [
    "train[train.points.isnull()].head()"
   ]
  },
  {
   "cell_type": "code",
   "execution_count": null,
   "metadata": {},
   "outputs": [],
   "source": [
    "train.points.isnull().sum()"
   ]
  },
  {
   "cell_type": "code",
   "execution_count": null,
   "metadata": {},
   "outputs": [],
   "source": [
    "sns.distplot(train['points'])"
   ]
  },
  {
   "cell_type": "code",
   "execution_count": null,
   "metadata": {},
   "outputs": [],
   "source": [
    "train['points'].describe()"
   ]
  },
  {
   "cell_type": "markdown",
   "metadata": {},
   "source": [
    "### Price"
   ]
  },
  {
   "cell_type": "code",
   "execution_count": null,
   "metadata": {},
   "outputs": [],
   "source": [
    "train[train.price.isnull()].head()"
   ]
  },
  {
   "cell_type": "code",
   "execution_count": null,
   "metadata": {},
   "outputs": [],
   "source": [
    "train.price.isnull().sum()"
   ]
  },
  {
   "cell_type": "code",
   "execution_count": null,
   "metadata": {},
   "outputs": [],
   "source": [
    "sns.distplot(train['price'])"
   ]
  },
  {
   "cell_type": "code",
   "execution_count": null,
   "metadata": {},
   "outputs": [],
   "source": [
    "train['points'].describe()"
   ]
  },
  {
   "cell_type": "code",
   "execution_count": null,
   "metadata": {},
   "outputs": [],
   "source": [
    "train['price_log'] = np.log(train.price+1)"
   ]
  },
  {
   "cell_type": "code",
   "execution_count": null,
   "metadata": {},
   "outputs": [],
   "source": [
    "sns.distplot(train['price_log'])"
   ]
  },
  {
   "cell_type": "markdown",
   "metadata": {},
   "source": [
    "### Id"
   ]
  },
  {
   "cell_type": "code",
   "execution_count": null,
   "metadata": {},
   "outputs": [],
   "source": [
    "train[train.id.isnull()].head()"
   ]
  },
  {
   "cell_type": "code",
   "execution_count": null,
   "metadata": {},
   "outputs": [],
   "source": [
    "train.id.isnull().sum()"
   ]
  },
  {
   "cell_type": "code",
   "execution_count": null,
   "metadata": {},
   "outputs": [],
   "source": [
    "sns.distplot(train['id'])"
   ]
  },
  {
   "cell_type": "code",
   "execution_count": null,
   "metadata": {},
   "outputs": [],
   "source": [
    "train['id'].describe()"
   ]
  },
  {
   "cell_type": "code",
   "execution_count": null,
   "metadata": {},
   "outputs": [],
   "source": [
    "train['id'].nunique()"
   ]
  },
  {
   "cell_type": "markdown",
   "metadata": {},
   "source": [
    "__It clear that there is no issue with numerical features, regarding missing values__"
   ]
  },
  {
   "cell_type": "markdown",
   "metadata": {},
   "source": [
    "## Categorical features"
   ]
  },
  {
   "cell_type": "code",
   "execution_count": null,
   "metadata": {},
   "outputs": [],
   "source": [
    "train.columns[train.dtypes == 'object']"
   ]
  },
  {
   "cell_type": "markdown",
   "metadata": {},
   "source": [
    "### Country"
   ]
  },
  {
   "cell_type": "code",
   "execution_count": 11,
   "metadata": {},
   "outputs": [
    {
     "data": {
      "text/html": [
       "<div>\n",
       "<style scoped>\n",
       "    .dataframe tbody tr th:only-of-type {\n",
       "        vertical-align: middle;\n",
       "    }\n",
       "\n",
       "    .dataframe tbody tr th {\n",
       "        vertical-align: top;\n",
       "    }\n",
       "\n",
       "    .dataframe thead th {\n",
       "        text-align: right;\n",
       "    }\n",
       "</style>\n",
       "<table border=\"1\" class=\"dataframe\">\n",
       "  <thead>\n",
       "    <tr style=\"text-align: right;\">\n",
       "      <th></th>\n",
       "      <th>country</th>\n",
       "      <th>description</th>\n",
       "      <th>designation</th>\n",
       "      <th>points</th>\n",
       "      <th>price</th>\n",
       "      <th>province</th>\n",
       "      <th>region_1</th>\n",
       "      <th>region_2</th>\n",
       "      <th>taster_name</th>\n",
       "      <th>taster_twitter_handle</th>\n",
       "      <th>title</th>\n",
       "      <th>variety</th>\n",
       "      <th>winery</th>\n",
       "      <th>id</th>\n",
       "    </tr>\n",
       "  </thead>\n",
       "  <tbody>\n",
       "    <tr>\n",
       "      <th>3571</th>\n",
       "      <td>NaN</td>\n",
       "      <td>Scents of clover, stem, green herb and red cur...</td>\n",
       "      <td>Wismer-Parke Vineyard</td>\n",
       "      <td>89.215051</td>\n",
       "      <td>34.0</td>\n",
       "      <td>NaN</td>\n",
       "      <td>NaN</td>\n",
       "      <td>NaN</td>\n",
       "      <td>Paul Gregutt</td>\n",
       "      <td>@paulgwine</td>\n",
       "      <td>Bachelder 2014 Wismer-Parke Vineyard Pinot Noir</td>\n",
       "      <td>PINOT NOIR</td>\n",
       "      <td>Bachelder</td>\n",
       "      <td>38898</td>\n",
       "    </tr>\n",
       "    <tr>\n",
       "      <th>4887</th>\n",
       "      <td>NaN</td>\n",
       "      <td>Amber in color, this wine has aromas of peach ...</td>\n",
       "      <td>Asureti Valley</td>\n",
       "      <td>86.801277</td>\n",
       "      <td>30.0</td>\n",
       "      <td>NaN</td>\n",
       "      <td>NaN</td>\n",
       "      <td>NaN</td>\n",
       "      <td>Mike DeSimone</td>\n",
       "      <td>@worldwineguys</td>\n",
       "      <td>Gotsa Family Wines 2014 Asureti Valley Chinuri</td>\n",
       "      <td>CHINURI</td>\n",
       "      <td>Gotsa Family Wines</td>\n",
       "      <td>913</td>\n",
       "    </tr>\n",
       "    <tr>\n",
       "      <th>8233</th>\n",
       "      <td>NaN</td>\n",
       "      <td>This white blend is comprised of 50% Chardonna...</td>\n",
       "      <td>Nikolaevo Unison Chardonnay-Gewürtztraminer</td>\n",
       "      <td>89.017591</td>\n",
       "      <td>16.0</td>\n",
       "      <td>NaN</td>\n",
       "      <td>NaN</td>\n",
       "      <td>NaN</td>\n",
       "      <td>Jeff Jenssen</td>\n",
       "      <td>@worldwineguys</td>\n",
       "      <td>Ross-idi 2014 Nikolaevo Unison Chardonnay-Gewü...</td>\n",
       "      <td>WHITE BLEND</td>\n",
       "      <td>Ross-idi</td>\n",
       "      <td>81955</td>\n",
       "    </tr>\n",
       "    <tr>\n",
       "      <th>13247</th>\n",
       "      <td>NaN</td>\n",
       "      <td>Made from 100% Melnick this garnet-colored win...</td>\n",
       "      <td>Nobile</td>\n",
       "      <td>87.959122</td>\n",
       "      <td>23.0</td>\n",
       "      <td>NaN</td>\n",
       "      <td>NaN</td>\n",
       "      <td>NaN</td>\n",
       "      <td>Jeff Jenssen</td>\n",
       "      <td>@worldwineguys</td>\n",
       "      <td>Logodaj 2013 Nobile Melnik</td>\n",
       "      <td>MELNIK</td>\n",
       "      <td>Logodaj</td>\n",
       "      <td>85603</td>\n",
       "    </tr>\n",
       "    <tr>\n",
       "      <th>16758</th>\n",
       "      <td>NaN</td>\n",
       "      <td>Just a whiff of citrus shows on the restrained...</td>\n",
       "      <td>Steirische Klassik</td>\n",
       "      <td>89.002808</td>\n",
       "      <td>25.0</td>\n",
       "      <td>NaN</td>\n",
       "      <td>NaN</td>\n",
       "      <td>NaN</td>\n",
       "      <td>Anne Krebiehl MW</td>\n",
       "      <td>@AnneInVino</td>\n",
       "      <td>Neumeister 2016 Steirische Klassik Sauvignon B...</td>\n",
       "      <td>SAUVIGNON BLANC</td>\n",
       "      <td>Neumeister</td>\n",
       "      <td>45247</td>\n",
       "    </tr>\n",
       "  </tbody>\n",
       "</table>\n",
       "</div>"
      ],
      "text/plain": [
       "      country                                        description  \\\n",
       "3571      NaN  Scents of clover, stem, green herb and red cur...   \n",
       "4887      NaN  Amber in color, this wine has aromas of peach ...   \n",
       "8233      NaN  This white blend is comprised of 50% Chardonna...   \n",
       "13247     NaN  Made from 100% Melnick this garnet-colored win...   \n",
       "16758     NaN  Just a whiff of citrus shows on the restrained...   \n",
       "\n",
       "                                       designation     points  price province  \\\n",
       "3571                         Wismer-Parke Vineyard  89.215051   34.0      NaN   \n",
       "4887                                Asureti Valley  86.801277   30.0      NaN   \n",
       "8233   Nikolaevo Unison Chardonnay-Gewürtztraminer  89.017591   16.0      NaN   \n",
       "13247                                       Nobile  87.959122   23.0      NaN   \n",
       "16758                           Steirische Klassik  89.002808   25.0      NaN   \n",
       "\n",
       "      region_1 region_2       taster_name taster_twitter_handle  \\\n",
       "3571       NaN      NaN      Paul Gregutt           @paulgwine    \n",
       "4887       NaN      NaN     Mike DeSimone        @worldwineguys   \n",
       "8233       NaN      NaN      Jeff Jenssen        @worldwineguys   \n",
       "13247      NaN      NaN      Jeff Jenssen        @worldwineguys   \n",
       "16758      NaN      NaN  Anne Krebiehl MW           @AnneInVino   \n",
       "\n",
       "                                                   title          variety  \\\n",
       "3571     Bachelder 2014 Wismer-Parke Vineyard Pinot Noir       PINOT NOIR   \n",
       "4887      Gotsa Family Wines 2014 Asureti Valley Chinuri          CHINURI   \n",
       "8233   Ross-idi 2014 Nikolaevo Unison Chardonnay-Gewü...      WHITE BLEND   \n",
       "13247                         Logodaj 2013 Nobile Melnik           MELNIK   \n",
       "16758  Neumeister 2016 Steirische Klassik Sauvignon B...  SAUVIGNON BLANC   \n",
       "\n",
       "                   winery     id  \n",
       "3571            Bachelder  38898  \n",
       "4887   Gotsa Family Wines    913  \n",
       "8233             Ross-idi  81955  \n",
       "13247             Logodaj  85603  \n",
       "16758          Neumeister  45247  "
      ]
     },
     "execution_count": 11,
     "metadata": {},
     "output_type": "execute_result"
    }
   ],
   "source": [
    "train[train.country.isnull()].head()"
   ]
  },
  {
   "cell_type": "code",
   "execution_count": 12,
   "metadata": {},
   "outputs": [
    {
     "name": "stdout",
     "output_type": "stream",
     "text": [
      "We have 0.02686 % of missing values in the feature Country\n"
     ]
    }
   ],
   "source": [
    "print(\"We have {:.4} % of missing values in the feature Country\".format(train.country.isnull().sum()*100/train.index.nunique()))"
   ]
  },
  {
   "cell_type": "code",
   "execution_count": 13,
   "metadata": {},
   "outputs": [
    {
     "data": {
      "text/plain": [
       "<matplotlib.axes._subplots.AxesSubplot at 0x7f1a0dbbbc88>"
      ]
     },
     "execution_count": 13,
     "metadata": {},
     "output_type": "execute_result"
    },
    {
     "data": {
      "image/png": "[encoded data removed]",
      "text/plain": [
       "<Figure size 432x288 with 1 Axes>"
      ]
     },
     "metadata": {
      "needs_background": "light"
     },
     "output_type": "display_data"
    }
   ],
   "source": [
    "sns.countplot(x='country',data=train)"
   ]
  },
  {
   "cell_type": "code",
   "execution_count": 14,
   "metadata": {},
   "outputs": [
    {
     "data": {
      "text/plain": [
       "45"
      ]
     },
     "execution_count": 14,
     "metadata": {},
     "output_type": "execute_result"
    }
   ],
   "source": [
    "train['country'].nunique()"
   ]
  },
  {
   "cell_type": "code",
   "execution_count": null,
   "metadata": {},
   "outputs": [],
   "source": [
    "selected = ['Croatia', 'Mexico', 'Georgia', 'Moldova', 'Brazil', 'England', 'Lebanon', 'Morocco', 'Cyprus', 'Macedonia',\n",
    "'Serbia' , 'India', 'Czech Republic', 'Ukraine, Peru', 'Luxembourg', 'Switzerland', 'Lithuania',\n",
    " 'Bosnia and Herzegovina', 'China', 'Slovakia', 'Armenia', 'Japan', 'South Korea']"
   ]
  },
  {
   "cell_type": "code",
   "execution_count": null,
   "metadata": {},
   "outputs": [],
   "source": [
    "train['country'].value_counts()"
   ]
  },
  {
   "cell_type": "code",
   "execution_count": null,
   "metadata": {},
   "outputs": [],
   "source": [
    "def cut_levels(x, threshold, new_value):\n",
    "    value_counts = x.value_counts()\n",
    "    labels = value_counts.index[value_counts < threshold]\n",
    "    x[np.in1d(x, labels)] = new_value"
   ]
  },
  {
   "cell_type": "code",
   "execution_count": null,
   "metadata": {},
   "outputs": [],
   "source": [
    "cut_levels(train.country, 30, 'other')\n",
    "cut_levels(test.country, 30, 'other')"
   ]
  },
  {
   "cell_type": "code",
   "execution_count": null,
   "metadata": {},
   "outputs": [],
   "source": [
    "train['country'].value_counts()"
   ]
  },
  {
   "cell_type": "code",
   "execution_count": null,
   "metadata": {},
   "outputs": [],
   "source": [
    "sns.countplot(x='country',data=train)"
   ]
  },
  {
   "cell_type": "markdown",
   "metadata": {},
   "source": [
    "### Description"
   ]
  },
  {
   "cell_type": "code",
   "execution_count": null,
   "metadata": {},
   "outputs": [],
   "source": [
    "train[train.description.isnull()].head()"
   ]
  },
  {
   "cell_type": "code",
   "execution_count": null,
   "metadata": {},
   "outputs": [],
   "source": [
    "train.description.isnull().sum()"
   ]
  },
  {
   "cell_type": "code",
   "execution_count": null,
   "metadata": {},
   "outputs": [],
   "source": [
    "import regex as re\n",
    "import nltk\n",
    "nltk.download('stopwords')\n",
    "import string  \n",
    "from nltk.corpus import stopwords\n"
   ]
  },
  {
   "cell_type": "code",
   "execution_count": null,
   "metadata": {},
   "outputs": [],
   "source": [
    "# add a column of word counts to both the training and test set\n",
    "train['desc_len'] = train['description'].apply(lambda x: len(x))\n",
    "test['desc_len'] = test['description'].apply(lambda x: len(x))"
   ]
  },
  {
   "cell_type": "code",
   "execution_count": null,
   "metadata": {},
   "outputs": [],
   "source": [
    "description_tr = train.description\n",
    "description_tst = test.description\n",
    "\n",
    "# texts_tr = clean_doc(train_df.sentence)\n",
    "# texts_tst = clean_doc(test_df.sentence)\n",
    "\n",
    "# Training 92916\n",
    "# Considers only the top \n",
    "# 20,000 words in the dataset\n",
    "max_words = 10\n",
    "\n",
    "tokenizer_tr = Tokenizer(num_words=max_words)\n",
    "# tokenizer_tr = Tokenizer()\n",
    "tokenizer_tr.fit_on_texts(description_tr)\n",
    "# data_tr = tokenizer_tr.texts_to_sequences(description_tr)\n",
    "tfidf_train = tokenizer_tr.texts_to_matrix(description_tr, mode='tfidf')\n",
    "bin_tr = tokenizer_tr.texts_to_matrix(description_tr, mode='binary')\n",
    "\n",
    "\n",
    "# # Testing \n",
    "tokenizer_tst = Tokenizer(num_words=max_words)\n",
    "# # tokenizer_tst = Tokenizer()\n",
    "tokenizer_tst.fit_on_texts(description_tst)\n",
    "# data_tst = tokenizer_tst.texts_to_sequences(texts_tst)\n",
    "tfidf_tst = tokenizer_tr.texts_to_matrix(description_tst, mode='tfidf')\n",
    "bin_tst = tokenizer_tr.texts_to_matrix(description_tst, mode='binary')\n",
    "\n",
    "\n",
    "# word_index = tokenizer_tr.word_index\n",
    "# print('Found %s unique tokens.' % len(set(word_index))) #88582 "
   ]
  },
  {
   "cell_type": "code",
   "execution_count": null,
   "metadata": {},
   "outputs": [],
   "source": [
    "tfidf_train"
   ]
  },
  {
   "cell_type": "code",
   "execution_count": null,
   "metadata": {},
   "outputs": [],
   "source": [
    "tfidf_train[:]\n",
    "desc_tdidf_tr = pd.DataFrame(tfidf_train)\n",
    "desc_tdidf_tst = pd.DataFrame(tfidf_tst)"
   ]
  },
  {
   "cell_type": "code",
   "execution_count": null,
   "metadata": {},
   "outputs": [],
   "source": [
    "train_selected = pd.concat([train, desc_tdidf_tr], axis=1)"
   ]
  },
  {
   "cell_type": "code",
   "execution_count": null,
   "metadata": {},
   "outputs": [],
   "source": [
    "test_selected = pd.concat([test, desc_tdidf_tst], axis=1)"
   ]
  },
  {
   "cell_type": "code",
   "execution_count": null,
   "metadata": {},
   "outputs": [],
   "source": [
    "test_selected"
   ]
  },
  {
   "cell_type": "markdown",
   "metadata": {},
   "source": [
    "### Designation"
   ]
  },
  {
   "cell_type": "code",
   "execution_count": null,
   "metadata": {},
   "outputs": [],
   "source": [
    "train[train.designation.isnull()].head()"
   ]
  },
  {
   "cell_type": "code",
   "execution_count": null,
   "metadata": {},
   "outputs": [],
   "source": [
    " print(\"We have {:.4} % of missing values in the feature Designation\".format(train.designation.isnull().sum()*100/train.index.nunique()))"
   ]
  },
  {
   "cell_type": "code",
   "execution_count": null,
   "metadata": {},
   "outputs": [],
   "source": [
    "sns.countplot(x='designation',data=train)"
   ]
  },
  {
   "cell_type": "markdown",
   "metadata": {},
   "source": [
    "### Province"
   ]
  },
  {
   "cell_type": "code",
   "execution_count": 5,
   "metadata": {},
   "outputs": [
    {
     "data": {
      "text/html": [
       "<div>\n",
       "<style scoped>\n",
       "    .dataframe tbody tr th:only-of-type {\n",
       "        vertical-align: middle;\n",
       "    }\n",
       "\n",
       "    .dataframe tbody tr th {\n",
       "        vertical-align: top;\n",
       "    }\n",
       "\n",
       "    .dataframe thead th {\n",
       "        text-align: right;\n",
       "    }\n",
       "</style>\n",
       "<table border=\"1\" class=\"dataframe\">\n",
       "  <thead>\n",
       "    <tr style=\"text-align: right;\">\n",
       "      <th></th>\n",
       "      <th>country</th>\n",
       "      <th>description</th>\n",
       "      <th>designation</th>\n",
       "      <th>points</th>\n",
       "      <th>price</th>\n",
       "      <th>province</th>\n",
       "      <th>region_1</th>\n",
       "      <th>region_2</th>\n",
       "      <th>taster_name</th>\n",
       "      <th>taster_twitter_handle</th>\n",
       "      <th>title</th>\n",
       "      <th>variety</th>\n",
       "      <th>winery</th>\n",
       "      <th>id</th>\n",
       "    </tr>\n",
       "  </thead>\n",
       "  <tbody>\n",
       "    <tr>\n",
       "      <th>3571</th>\n",
       "      <td>NaN</td>\n",
       "      <td>Scents of clover, stem, green herb and red cur...</td>\n",
       "      <td>Wismer-Parke Vineyard</td>\n",
       "      <td>89.215051</td>\n",
       "      <td>34.0</td>\n",
       "      <td>NaN</td>\n",
       "      <td>NaN</td>\n",
       "      <td>NaN</td>\n",
       "      <td>Paul Gregutt</td>\n",
       "      <td>@paulgwine</td>\n",
       "      <td>Bachelder 2014 Wismer-Parke Vineyard Pinot Noir</td>\n",
       "      <td>PINOT NOIR</td>\n",
       "      <td>Bachelder</td>\n",
       "      <td>38898</td>\n",
       "    </tr>\n",
       "    <tr>\n",
       "      <th>4887</th>\n",
       "      <td>NaN</td>\n",
       "      <td>Amber in color, this wine has aromas of peach ...</td>\n",
       "      <td>Asureti Valley</td>\n",
       "      <td>86.801277</td>\n",
       "      <td>30.0</td>\n",
       "      <td>NaN</td>\n",
       "      <td>NaN</td>\n",
       "      <td>NaN</td>\n",
       "      <td>Mike DeSimone</td>\n",
       "      <td>@worldwineguys</td>\n",
       "      <td>Gotsa Family Wines 2014 Asureti Valley Chinuri</td>\n",
       "      <td>CHINURI</td>\n",
       "      <td>Gotsa Family Wines</td>\n",
       "      <td>913</td>\n",
       "    </tr>\n",
       "    <tr>\n",
       "      <th>8233</th>\n",
       "      <td>NaN</td>\n",
       "      <td>This white blend is comprised of 50% Chardonna...</td>\n",
       "      <td>Nikolaevo Unison Chardonnay-Gewürtztraminer</td>\n",
       "      <td>89.017591</td>\n",
       "      <td>16.0</td>\n",
       "      <td>NaN</td>\n",
       "      <td>NaN</td>\n",
       "      <td>NaN</td>\n",
       "      <td>Jeff Jenssen</td>\n",
       "      <td>@worldwineguys</td>\n",
       "      <td>Ross-idi 2014 Nikolaevo Unison Chardonnay-Gewü...</td>\n",
       "      <td>WHITE BLEND</td>\n",
       "      <td>Ross-idi</td>\n",
       "      <td>81955</td>\n",
       "    </tr>\n",
       "    <tr>\n",
       "      <th>13247</th>\n",
       "      <td>NaN</td>\n",
       "      <td>Made from 100% Melnick this garnet-colored win...</td>\n",
       "      <td>Nobile</td>\n",
       "      <td>87.959122</td>\n",
       "      <td>23.0</td>\n",
       "      <td>NaN</td>\n",
       "      <td>NaN</td>\n",
       "      <td>NaN</td>\n",
       "      <td>Jeff Jenssen</td>\n",
       "      <td>@worldwineguys</td>\n",
       "      <td>Logodaj 2013 Nobile Melnik</td>\n",
       "      <td>MELNIK</td>\n",
       "      <td>Logodaj</td>\n",
       "      <td>85603</td>\n",
       "    </tr>\n",
       "    <tr>\n",
       "      <th>16758</th>\n",
       "      <td>NaN</td>\n",
       "      <td>Just a whiff of citrus shows on the restrained...</td>\n",
       "      <td>Steirische Klassik</td>\n",
       "      <td>89.002808</td>\n",
       "      <td>25.0</td>\n",
       "      <td>NaN</td>\n",
       "      <td>NaN</td>\n",
       "      <td>NaN</td>\n",
       "      <td>Anne Krebiehl MW</td>\n",
       "      <td>@AnneInVino</td>\n",
       "      <td>Neumeister 2016 Steirische Klassik Sauvignon B...</td>\n",
       "      <td>SAUVIGNON BLANC</td>\n",
       "      <td>Neumeister</td>\n",
       "      <td>45247</td>\n",
       "    </tr>\n",
       "  </tbody>\n",
       "</table>\n",
       "</div>"
      ],
      "text/plain": [
       "      country                                        description  \\\n",
       "3571      NaN  Scents of clover, stem, green herb and red cur...   \n",
       "4887      NaN  Amber in color, this wine has aromas of peach ...   \n",
       "8233      NaN  This white blend is comprised of 50% Chardonna...   \n",
       "13247     NaN  Made from 100% Melnick this garnet-colored win...   \n",
       "16758     NaN  Just a whiff of citrus shows on the restrained...   \n",
       "\n",
       "                                       designation     points  price province  \\\n",
       "3571                         Wismer-Parke Vineyard  89.215051   34.0      NaN   \n",
       "4887                                Asureti Valley  86.801277   30.0      NaN   \n",
       "8233   Nikolaevo Unison Chardonnay-Gewürtztraminer  89.017591   16.0      NaN   \n",
       "13247                                       Nobile  87.959122   23.0      NaN   \n",
       "16758                           Steirische Klassik  89.002808   25.0      NaN   \n",
       "\n",
       "      region_1 region_2       taster_name taster_twitter_handle  \\\n",
       "3571       NaN      NaN      Paul Gregutt           @paulgwine    \n",
       "4887       NaN      NaN     Mike DeSimone        @worldwineguys   \n",
       "8233       NaN      NaN      Jeff Jenssen        @worldwineguys   \n",
       "13247      NaN      NaN      Jeff Jenssen        @worldwineguys   \n",
       "16758      NaN      NaN  Anne Krebiehl MW           @AnneInVino   \n",
       "\n",
       "                                                   title          variety  \\\n",
       "3571     Bachelder 2014 Wismer-Parke Vineyard Pinot Noir       PINOT NOIR   \n",
       "4887      Gotsa Family Wines 2014 Asureti Valley Chinuri          CHINURI   \n",
       "8233   Ross-idi 2014 Nikolaevo Unison Chardonnay-Gewü...      WHITE BLEND   \n",
       "13247                         Logodaj 2013 Nobile Melnik           MELNIK   \n",
       "16758  Neumeister 2016 Steirische Klassik Sauvignon B...  SAUVIGNON BLANC   \n",
       "\n",
       "                   winery     id  \n",
       "3571            Bachelder  38898  \n",
       "4887   Gotsa Family Wines    913  \n",
       "8233             Ross-idi  81955  \n",
       "13247             Logodaj  85603  \n",
       "16758          Neumeister  45247  "
      ]
     },
     "execution_count": 5,
     "metadata": {},
     "output_type": "execute_result"
    }
   ],
   "source": [
    "train[train.province.isnull()].head()"
   ]
  },
  {
   "cell_type": "code",
   "execution_count": 6,
   "metadata": {},
   "outputs": [
    {
     "name": "stdout",
     "output_type": "stream",
     "text": [
      "We have 0.02686 % of missing values in the feature Province\n"
     ]
    }
   ],
   "source": [
    "print(\"We have {:.4} % of missing values in the feature Province\".format(train.province.isnull().sum()*100/train.index.nunique()))"
   ]
  },
  {
   "cell_type": "code",
   "execution_count": 7,
   "metadata": {},
   "outputs": [
    {
     "data": {
      "text/plain": [
       "47"
      ]
     },
     "execution_count": 7,
     "metadata": {},
     "output_type": "execute_result"
    }
   ],
   "source": [
    "train.province.isnull().sum()"
   ]
  },
  {
   "cell_type": "code",
   "execution_count": 16,
   "metadata": {},
   "outputs": [
    {
     "data": {
      "text/plain": [
       "count         174953\n",
       "unique           468\n",
       "top       California\n",
       "freq           54692\n",
       "Name: province, dtype: object"
      ]
     },
     "execution_count": 16,
     "metadata": {},
     "output_type": "execute_result"
    }
   ],
   "source": [
    "train.province.describe()"
   ]
  },
  {
   "cell_type": "code",
   "execution_count": 15,
   "metadata": {},
   "outputs": [
    {
     "data": {
      "text/plain": [
       "<matplotlib.axes._subplots.AxesSubplot at 0x7f1a0da9c438>"
      ]
     },
     "execution_count": 15,
     "metadata": {},
     "output_type": "execute_result"
    },
    {
     "data": {
      "image/png": "[encoded data removed]",
      "text/plain": [
       "<Figure size 432x288 with 1 Axes>"
      ]
     },
     "metadata": {
      "needs_background": "light"
     },
     "output_type": "display_data"
    }
   ],
   "source": [
    "sns.countplot(x='province',data=train)"
   ]
  },
  {
   "cell_type": "markdown",
   "metadata": {},
   "source": [
    "### Region 1"
   ]
  },
  {
   "cell_type": "code",
   "execution_count": null,
   "metadata": {},
   "outputs": [],
   "source": [
    "train[train.region_1.isnull()].head()"
   ]
  },
  {
   "cell_type": "code",
   "execution_count": null,
   "metadata": {},
   "outputs": [],
   "source": [
    "print(\"We have {:.4} % of missing values in the feature Region 1\".format(train.region_1.isnull().sum()*100/train.index.nunique()))"
   ]
  },
  {
   "cell_type": "code",
   "execution_count": null,
   "metadata": {},
   "outputs": [],
   "source": [
    "train.region_1.isnull().sum()"
   ]
  },
  {
   "cell_type": "markdown",
   "metadata": {},
   "source": [
    "### Region 2"
   ]
  },
  {
   "cell_type": "code",
   "execution_count": null,
   "metadata": {},
   "outputs": [],
   "source": [
    "train[train.region_2.isnull()].head()"
   ]
  },
  {
   "cell_type": "code",
   "execution_count": null,
   "metadata": {},
   "outputs": [],
   "source": [
    "print(\"We have {:.4} % of missing values in the feature Region 2\".format(train.region_2.isnull().sum()*100/train.index.nunique()))"
   ]
  },
  {
   "cell_type": "code",
   "execution_count": null,
   "metadata": {},
   "outputs": [],
   "source": [
    "train.region_2.isnull().sum()"
   ]
  },
  {
   "cell_type": "markdown",
   "metadata": {},
   "source": [
    "### Taster Name "
   ]
  },
  {
   "cell_type": "code",
   "execution_count": null,
   "metadata": {},
   "outputs": [],
   "source": [
    "train[train.taster_name.isnull()].head()"
   ]
  },
  {
   "cell_type": "code",
   "execution_count": null,
   "metadata": {},
   "outputs": [],
   "source": [
    "print(\"We have {:.4} % of missing values in the feature Taster Name\".format(train.taster_name.isnull().sum()*100/train.index.nunique()))"
   ]
  },
  {
   "cell_type": "code",
   "execution_count": null,
   "metadata": {},
   "outputs": [],
   "source": [
    "train.taster_name.isnull().sum()"
   ]
  },
  {
   "cell_type": "markdown",
   "metadata": {},
   "source": [
    "### Taster Twitter Handle"
   ]
  },
  {
   "cell_type": "code",
   "execution_count": null,
   "metadata": {},
   "outputs": [],
   "source": [
    "train[train.taster_twitter_handle.isnull()].head()"
   ]
  },
  {
   "cell_type": "code",
   "execution_count": null,
   "metadata": {},
   "outputs": [],
   "source": [
    "print(\"We have {:.4} % of missing values in the feature Taster Twitter Handle\".format(train.taster_twitter_handle.isnull().sum()*100/train.index.nunique()))"
   ]
  },
  {
   "cell_type": "code",
   "execution_count": null,
   "metadata": {},
   "outputs": [],
   "source": [
    "train.taster_twitter_handle.isnull().sum()"
   ]
  },
  {
   "cell_type": "markdown",
   "metadata": {},
   "source": [
    "### Title "
   ]
  },
  {
   "cell_type": "code",
   "execution_count": null,
   "metadata": {},
   "outputs": [],
   "source": [
    "train[train.title.isnull()].head()"
   ]
  },
  {
   "cell_type": "code",
   "execution_count": null,
   "metadata": {},
   "outputs": [],
   "source": [
    "print(\"We have {:.4} % of missing values in the feature Title\".format(train.title.isnull().sum()*100/train.index.nunique()))"
   ]
  },
  {
   "cell_type": "code",
   "execution_count": null,
   "metadata": {},
   "outputs": [],
   "source": [
    "train.title.isnull().sum()"
   ]
  },
  {
   "cell_type": "markdown",
   "metadata": {},
   "source": [
    "### Variety "
   ]
  },
  {
   "cell_type": "code",
   "execution_count": null,
   "metadata": {},
   "outputs": [],
   "source": [
    "train[train.variety.isnull()].head()"
   ]
  },
  {
   "cell_type": "code",
   "execution_count": null,
   "metadata": {},
   "outputs": [],
   "source": [
    "print(\"We have {:.4} % of missing values in the feature Variety\".format(train.variety.isnull().sum()*100/train.index.nunique()))"
   ]
  },
  {
   "cell_type": "code",
   "execution_count": null,
   "metadata": {},
   "outputs": [],
   "source": [
    "train.variety.isnull().sum()"
   ]
  },
  {
   "cell_type": "markdown",
   "metadata": {},
   "source": [
    "### Winery"
   ]
  },
  {
   "cell_type": "code",
   "execution_count": null,
   "metadata": {},
   "outputs": [],
   "source": [
    "train[train.winery.isnull()].head()"
   ]
  },
  {
   "cell_type": "code",
   "execution_count": null,
   "metadata": {},
   "outputs": [],
   "source": [
    "print(\"We have {:.4} % of missing values in the feature Winery\".format(train.winery.isnull().sum().sum()*100/train.index.nunique()))"
   ]
  },
  {
   "cell_type": "code",
   "execution_count": null,
   "metadata": {},
   "outputs": [],
   "source": [
    "train.winery.isnull().sum()"
   ]
  },
  {
   "cell_type": "markdown",
   "metadata": {},
   "source": [
    "## Analysis "
   ]
  },
  {
   "cell_type": "markdown",
   "metadata": {},
   "source": [
    "### Numerical variables "
   ]
  },
  {
   "cell_type": "code",
   "execution_count": null,
   "metadata": {},
   "outputs": [],
   "source": [
    "numerical_train = train[train.columns[train.dtypes != 'object']]"
   ]
  },
  {
   "cell_type": "code",
   "execution_count": null,
   "metadata": {},
   "outputs": [],
   "source": [
    "numerical_train.info()"
   ]
  },
  {
   "cell_type": "code",
   "execution_count": null,
   "metadata": {},
   "outputs": [],
   "source": [
    "sns.heatmap(numerical_train.corr(),cmap='coolwarm')"
   ]
  },
  {
   "cell_type": "markdown",
   "metadata": {},
   "source": [
    "### Categorical "
   ]
  },
  {
   "cell_type": "code",
   "execution_count": null,
   "metadata": {},
   "outputs": [],
   "source": [
    "categorical_train = train[train.columns[train.dtypes == 'object']]\n",
    "categorical_train.head()"
   ]
  },
  {
   "cell_type": "code",
   "execution_count": null,
   "metadata": {},
   "outputs": [],
   "source": [
    "import statsmodels.api as sm"
   ]
  },
  {
   "cell_type": "code",
   "execution_count": null,
   "metadata": {},
   "outputs": [],
   "source": [
    "from statsmodels.formula.api import ols "
   ]
  },
  {
   "cell_type": "code",
   "execution_count": null,
   "metadata": {},
   "outputs": [],
   "source": [
    "# train."
   ]
  },
  {
   "cell_type": "code",
   "execution_count": null,
   "metadata": {},
   "outputs": [],
   "source": [
    "# Anove_test_F_value = []\n",
    "# Anove_test_P_value = []\n",
    "# variable_name_list = []\n",
    "\n",
    "# for variable in categorical_train.columns:\n",
    "#     print(variable)\n",
    "#     mod = ols('price ~ '+variable, data = train).fit()\n",
    "#     aov_table = sm.stats.anova_lm(mod, type=2)\n",
    "#     Fvalue = aov_table.loc[variable, 'F']\n",
    "#     Pvalue = aov_table.loc[variable, 'PR(>F)']\n",
    "#     variable_name_list.append(variable)\n",
    "#     Anove_test_F_value.append(Fvalue)\n",
    "#     Anove_test_P_value.append(Pvalue)\n",
    "    \n",
    "# Anova_categorical_variable_test = pd.DataFrame({'Variable':variable_name_list, \"F Value\":Anove_test_F_value, \\\n",
    "#                                                \"P Value\":Anove_test_P_value})"
   ]
  },
  {
   "cell_type": "code",
   "execution_count": null,
   "metadata": {},
   "outputs": [],
   "source": [
    "# >>> import statsmodels.api as sm\n",
    "# >>> from statsmodels.formula.api import ols\n",
    "# >>> moore = sm.datasets.get_rdataset(\"Moore\", \"carData\", cache=True) # load\n",
    "# >>> data = moore.data\n",
    "# >>> data = data.rename(columns={\"partner.status\" :\n",
    "# ...                             \"partner_status\"}) # make name pythonic\n",
    "\n",
    "# for var in data.columns:\n",
    "#         oore_lm = ols('conformity ~'+var,\n",
    "# ...                 data=data).fit()\n",
    "#         table = sm.stats.anova_lm(moore_lm, typ=2) # Type 2 Anova DataFrame\n",
    "#         print(table)\n",
    "# # >>> moore_lm = ols('conformity ~ C(fcategory, Sum)*C(partner_status, Sum)',\n",
    "# # ...                 data=data).fit()\n",
    "# # >>> table = sm.stats.anova_lm(moore_lm, typ=2) # Type 2 Anova DataFrame\n",
    "# # >>> print(table)"
   ]
  },
  {
   "cell_type": "code",
   "execution_count": null,
   "metadata": {},
   "outputs": [],
   "source": [
    "categorical_train.columns"
   ]
  },
  {
   "cell_type": "markdown",
   "metadata": {},
   "source": [
    "We are selecting only those with few missing data to greate one hot encoding "
   ]
  },
  {
   "cell_type": "code",
   "execution_count": null,
   "metadata": {},
   "outputs": [],
   "source": [
    "dummy_fields = ['region_2', 'taster_name', 'taster_twitter_handle']\n",
    "# train[train.columns[train.dtypes == 'object']], 'country'\n",
    "train_select = numerical_train\n",
    "for each in dummy_fields:\n",
    "    dummies = pd.get_dummies(train[each], prefix=each)\n",
    "    train_select = pd.concat([train_select, dummies], axis=1)\n",
    "\n",
    "numerical_test = test[test.columns[test.dtypes != 'object']]\n",
    "test_select = numerical_test\n",
    "for each in dummy_fields:\n",
    "    dummies = pd.get_dummies(test[each], prefix=each)\n",
    "    test_select = pd.concat([test_select, dummies], axis=1)\n",
    "test_select.drop(['index', 'price'], axis=1, inplace=True)"
   ]
  },
  {
   "cell_type": "code",
   "execution_count": null,
   "metadata": {},
   "outputs": [],
   "source": [
    "test.columns"
   ]
  },
  {
   "cell_type": "code",
   "execution_count": null,
   "metadata": {},
   "outputs": [],
   "source": [
    "train.columns"
   ]
  },
  {
   "cell_type": "code",
   "execution_count": null,
   "metadata": {},
   "outputs": [],
   "source": [
    "train.country.value_counts().count()"
   ]
  },
  {
   "cell_type": "code",
   "execution_count": null,
   "metadata": {},
   "outputs": [],
   "source": [
    "test.country.value_counts().count()"
   ]
  },
  {
   "cell_type": "code",
   "execution_count": null,
   "metadata": {},
   "outputs": [],
   "source": [
    "test_select"
   ]
  },
  {
   "cell_type": "code",
   "execution_count": null,
   "metadata": {},
   "outputs": [],
   "source": [
    "train_select.describe()"
   ]
  },
  {
   "cell_type": "code",
   "execution_count": null,
   "metadata": {},
   "outputs": [],
   "source": []
  },
  {
   "cell_type": "code",
   "execution_count": null,
   "metadata": {},
   "outputs": [],
   "source": [
    "# quant_features = ['casual', 'registered', 'cnt', 'temp', 'hum', 'windspeed']\n",
    "# Store scalings in a dictionary so we can convert back later\n",
    "scaled_features = {}\n",
    "for each in train_select.columns:\n",
    "    mean, std = train_select[each].mean(), train_select[each].std()\n",
    "    scaled_features[each] = [mean, std]\n",
    "    train_select.loc[:, each] = (train_select[each] - mean)/std"
   ]
  },
  {
   "cell_type": "code",
   "execution_count": null,
   "metadata": {},
   "outputs": [],
   "source": [
    "train_select.describe()"
   ]
  },
  {
   "cell_type": "code",
   "execution_count": null,
   "metadata": {},
   "outputs": [],
   "source": []
  },
  {
   "cell_type": "code",
   "execution_count": null,
   "metadata": {},
   "outputs": [],
   "source": [
    "# from sklearn.preprocessing import MinMaxScaler\n",
    "# numerical_train_selected_min = MinMaxScaler().fit_transform(numerical_train_selected)"
   ]
  },
  {
   "cell_type": "code",
   "execution_count": null,
   "metadata": {},
   "outputs": [],
   "source": [
    "# numerical_train_selected_min.describe()"
   ]
  },
  {
   "cell_type": "code",
   "execution_count": null,
   "metadata": {},
   "outputs": [],
   "source": [
    "# TODO: Scale the columns\n",
    "# numerical_train_selected.points=processed_data.gre/800\n",
    "# processed_data.gpa=processed_data.gpa/4.0"
   ]
  },
  {
   "cell_type": "code",
   "execution_count": null,
   "metadata": {},
   "outputs": [],
   "source": [
    "train_select.shape"
   ]
  },
  {
   "cell_type": "code",
   "execution_count": null,
   "metadata": {},
   "outputs": [],
   "source": [
    "# X = numerical_train_selected.drop(labels=\"price\", axis=1)\n",
    "train_features = train_select.drop(labels=\"price\", axis=1)"
   ]
  },
  {
   "cell_type": "code",
   "execution_count": null,
   "metadata": {},
   "outputs": [],
   "source": [
    "# y = numerical_train_selected['price']\n",
    "train_targets = train_select[['price']]"
   ]
  },
  {
   "cell_type": "markdown",
   "metadata": {},
   "source": [
    "## Random Forest"
   ]
  },
  {
   "cell_type": "code",
   "execution_count": null,
   "metadata": {},
   "outputs": [],
   "source": [
    "import scipy.optimize as opt\n",
    "from sklearn import preprocessing\n",
    "from sklearn.ensemble import RandomForestRegressor\n",
    "from sklearn.metrics import mean_absolute_error\n",
    "from sklearn.model_selection import train_test_split"
   ]
  },
  {
   "cell_type": "code",
   "execution_count": null,
   "metadata": {},
   "outputs": [],
   "source": [
    "model = RandomForestRegressor(n_estimators=500, criterion=\"mse\", n_jobs=-1)"
   ]
  },
  {
   "cell_type": "code",
   "execution_count": null,
   "metadata": {},
   "outputs": [],
   "source": [
    "X_train, X_test, y_train, y_test = train_test_split(train_features, train_targets, test_size=0.2, random_state=4)\n",
    "\n",
    "print ('Train set:', X_train.shape,  y_train.shape)\n",
    "print ('Test set:', X_test.shape,  y_test.shape)"
   ]
  },
  {
   "cell_type": "code",
   "execution_count": null,
   "metadata": {},
   "outputs": [],
   "source": [
    "model.fit(X_train,y_train)"
   ]
  },
  {
   "cell_type": "code",
   "execution_count": null,
   "metadata": {},
   "outputs": [],
   "source": [
    "y_preds = model.predict(X_test)"
   ]
  },
  {
   "cell_type": "code",
   "execution_count": null,
   "metadata": {},
   "outputs": [],
   "source": [
    "print (np.sqrt(mean_absolute_error(y_preds,y_test)))"
   ]
  },
  {
   "cell_type": "markdown",
   "metadata": {},
   "source": [
    "## Catboost"
   ]
  },
  {
   "cell_type": "code",
   "execution_count": null,
   "metadata": {},
   "outputs": [],
   "source": [
    "from catboost import CatBoostRegressor"
   ]
  },
  {
   "cell_type": "code",
   "execution_count": null,
   "metadata": {},
   "outputs": [],
   "source": [
    "model_cat = CatBoostRegressor()"
   ]
  },
  {
   "cell_type": "code",
   "execution_count": null,
   "metadata": {},
   "outputs": [],
   "source": [
    "# Total Training \n",
    "model_cat.fit(X_train, y_train, silent=True)"
   ]
  },
  {
   "cell_type": "code",
   "execution_count": null,
   "metadata": {},
   "outputs": [],
   "source": [
    "preds = model_cat.predict(X_test)"
   ]
  },
  {
   "cell_type": "code",
   "execution_count": null,
   "metadata": {},
   "outputs": [],
   "source": [
    "print (np.sqrt(metrics.mean_absolute_error(preds,y_test)))"
   ]
  },
  {
   "cell_type": "code",
   "execution_count": null,
   "metadata": {},
   "outputs": [],
   "source": []
  },
  {
   "cell_type": "markdown",
   "metadata": {},
   "source": [
    "# Testing"
   ]
  },
  {
   "cell_type": "code",
   "execution_count": null,
   "metadata": {},
   "outputs": [],
   "source": [
    "numerical_test = test[test.columns[test.dtypes != 'object']]\n",
    "categorical_test = test[test.columns[test.dtypes == 'object']]"
   ]
  },
  {
   "cell_type": "code",
   "execution_count": null,
   "metadata": {},
   "outputs": [],
   "source": [
    "categorical_train_t.head()"
   ]
  },
  {
   "cell_type": "code",
   "execution_count": null,
   "metadata": {},
   "outputs": [],
   "source": []
  },
  {
   "cell_type": "code",
   "execution_count": null,
   "metadata": {},
   "outputs": [],
   "source": [
    "taster_twitter_handle_cat = pd.get_dummies(categorical_test['taster_twitter_handle'], prefix='taster_twitter_handle')"
   ]
  },
  {
   "cell_type": "code",
   "execution_count": null,
   "metadata": {},
   "outputs": [],
   "source": [
    "taster_name = pd.get_dummies(categorical_train['taster_name'], prefix='taster_name')"
   ]
  },
  {
   "cell_type": "code",
   "execution_count": null,
   "metadata": {},
   "outputs": [],
   "source": [
    "region_2  = pd.get_dummies(categorical_train['region_2'], prefix='region_2')"
   ]
  },
  {
   "cell_type": "code",
   "execution_count": null,
   "metadata": {},
   "outputs": [],
   "source": [
    "country  = pd.get_dummies(categorical_train['country'], prefix='country')"
   ]
  },
  {
   "cell_type": "code",
   "execution_count": null,
   "metadata": {},
   "outputs": [],
   "source": [
    "numerical_test.drop('price', implace=True)"
   ]
  },
  {
   "cell_type": "code",
   "execution_count": null,
   "metadata": {},
   "outputs": [],
   "source": [
    "numerical_test_selected = pd.concat([numerical_test, taster_twitter_handle_cat, taster_name,\n",
    "                                      region_2, country], axis=1)"
   ]
  },
  {
   "cell_type": "code",
   "execution_count": null,
   "metadata": {},
   "outputs": [],
   "source": []
  },
  {
   "cell_type": "markdown",
   "metadata": {},
   "source": [
    "# Neural Network"
   ]
  },
  {
   "cell_type": "markdown",
   "metadata": {},
   "source": [
    "# Udacity Method"
   ]
  },
  {
   "cell_type": "code",
   "execution_count": null,
   "metadata": {},
   "outputs": [],
   "source": [
    "#############\n",
    "# In the my_answers.py\n",
    "#############\n",
    "\n",
    "from my_answers import NeuralNetwork"
   ]
  },
  {
   "cell_type": "code",
   "execution_count": null,
   "metadata": {},
   "outputs": [],
   "source": [
    "def RMSE(y, Y):\n",
    "    return np.sqrt(np.mean((y-Y)**2))"
   ]
  },
  {
   "cell_type": "code",
   "execution_count": null,
   "metadata": {},
   "outputs": [],
   "source": [
    "def MSE(y, Y):\n",
    "    return np.mean((y-Y)**2)"
   ]
  },
  {
   "cell_type": "code",
   "execution_count": null,
   "metadata": {},
   "outputs": [],
   "source": [
    "train_features"
   ]
  },
  {
   "cell_type": "code",
   "execution_count": null,
   "metadata": {},
   "outputs": [],
   "source": [
    "train_features, val_features, train_targets, val_targets = train_test_split(train_features, \n",
    "                                                    train_targets, test_size=0.2, random_state=4)\n"
   ]
  },
  {
   "cell_type": "code",
   "execution_count": null,
   "metadata": {},
   "outputs": [],
   "source": [
    "import sys\n",
    "\n",
    "####################\n",
    "### Set the hyperparameters in you myanswers.py file ###\n",
    "####################\n",
    "\n",
    "from my_answers import iterations, learning_rate, hidden_nodes, output_nodes\n",
    "\n",
    "\n",
    "N_i = train_features.shape[1]\n",
    "network = NeuralNetwork(N_i, hidden_nodes, output_nodes, learning_rate)\n",
    "\n",
    "losses = {'train':[], 'validation':[]}\n",
    "for ii in range(iterations):\n",
    "    # Go through a random batch of 128 records from the training data set\n",
    "    batch = np.random.choice(train_features.index, size=128)\n",
    "    X, y = train_features.ix[batch].values, train_targets.ix[batch]['price']\n",
    "                             \n",
    "    network.train(X, y)\n",
    "    \n",
    "    # Printing out the training progress\n",
    "    train_loss = MSE(network.run(train_features).T, train_targets['price'].values)\n",
    "    val_loss = MSE(network.run(val_features).T, val_targets['price'].values)\n",
    "    sys.stdout.write(\"\\rProgress: {:2.1f}\".format(100 * ii/float(iterations)) \\\n",
    "                     + \"% ... Training loss: \" + str(train_loss)[:5] \\\n",
    "                     + \" ... Validation loss: \" + str(val_loss)[:5])\n",
    "    sys.stdout.flush()\n",
    "    \n",
    "    losses['train'].append(train_loss)\n",
    "    losses['validation'].append(val_loss)"
   ]
  },
  {
   "cell_type": "code",
   "execution_count": null,
   "metadata": {},
   "outputs": [],
   "source": [
    "predictions = network.run(val_features).T*scaled_features['price'][1]  + scaled_features['price'][0]"
   ]
  },
  {
   "cell_type": "code",
   "execution_count": null,
   "metadata": {},
   "outputs": [],
   "source": [
    "RMSE((val_targets['price']*scaled_features['price'][1] + scaled_features['price'][0]).values, predictions[0])"
   ]
  },
  {
   "cell_type": "code",
   "execution_count": null,
   "metadata": {},
   "outputs": [],
   "source": [
    "scaled_features['price']"
   ]
  },
  {
   "cell_type": "markdown",
   "metadata": {},
   "source": [
    "# OTher approach "
   ]
  },
  {
   "cell_type": "code",
   "execution_count": null,
   "metadata": {},
   "outputs": [],
   "source": [
    "train.price.describe()"
   ]
  },
  {
   "cell_type": "code",
   "execution_count": null,
   "metadata": {},
   "outputs": [],
   "source": [
    "train['price_log']=np.log(train.price+1)"
   ]
  },
  {
   "cell_type": "code",
   "execution_count": null,
   "metadata": {},
   "outputs": [],
   "source": [
    "plt.figure(figsize=(11,7))\n",
    "\n",
    "sns.countplot(x='price_log', data=train)"
   ]
  },
  {
   "cell_type": "code",
   "execution_count": null,
   "metadata": {},
   "outputs": [],
   "source": [
    "sns.distplot(train['price'])"
   ]
  },
  {
   "cell_type": "code",
   "execution_count": null,
   "metadata": {},
   "outputs": [],
   "source": [
    "train.price"
   ]
  },
  {
   "cell_type": "code",
   "execution_count": null,
   "metadata": {},
   "outputs": [],
   "source": [
    "sns.distplot(train['price_log'])"
   ]
  }
 ],
 "metadata": {
  "kernelspec": {
   "display_name": "Python 3",
   "language": "python",
   "name": "python3"
  },
  "language_info": {
   "codemirror_mode": {
    "name": "ipython",
    "version": 3
   },
   "file_extension": ".py",
   "mimetype": "text/x-python",
   "name": "python",
   "nbconvert_exporter": "python",
   "pygments_lexer": "ipython3",
   "version": "3.5.6"
  }
 },
 "nbformat": 4,
 "nbformat_minor": 4
}
