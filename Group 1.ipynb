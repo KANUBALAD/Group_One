{
 "cells": [
  {
   "cell_type": "markdown",
   "metadata": {},
   "source": [
    "# Predict __Price of a bottle of wine__\n",
    "\n",
    "# Summary\n",
    "\n",
    "The data summarize **258210** wine reviews:\n",
    "\n",
    "__175000__ are the training set, the data on which to train your models;\n",
    "\n",
    "The remaining __83210__ observations constitute the validation set (or score set), or the data on which you must make the estimate for the submission. The validation set at your disposal obviously does not contain the variable price, the price of the bottle of wine that the goal of your forecast.\n",
    "\n",
    " \n",
    "\n",
    "## File descriptions\n",
    "\n",
    "    - train.csv - the training set\n",
    "    - test.csv - the test set\n",
    "    - Sample_Submission.csv  - a sample submission file in the correct format\n",
    " \n",
    "### Data fields\n",
    "\n",
    "**country (String)** The country that the wine is from\n",
    "\n",
    "**province (String)** The province or state that the wine is from\n",
    "\n",
    "**region_1 (String)** The wine growing area in a province or state (ie Napa)\n",
    "\n",
    "**region_2 (String)** Sometimes there are more specific regions within the wine growing area (ie Rutherford inside the Napa Valley), but this value can sometimes be blank\n",
    "\n",
    "**winery (String)** The winery that made the wine\n",
    "\n",
    "**variety (String)** The type of grapes used to make the wine (ie Pinot Noir)\n",
    "\n",
    "**designation (String)** The vineyard within the winery where the grapes that made the wine are from\n",
    "\n",
    "**taster_name (String)** taster name\n",
    "\n",
    "**taster_twitter_handle (String)** taster twitter account name\n",
    "\n",
    "**review (String)** A few sentences from a sommelier describing the wine's taste, smell, look, feel, etc.\n",
    "\n",
    "**review_score (Numeric)** Number of points WineEnthusiast rated the wine on a scale of **1-100**\n",
    "\n",
    "## __TARGET: price (Numeric) The cost for a bottle of wine__"
   ]
  },
  {
   "cell_type": "markdown",
   "metadata": {},
   "source": [
    "The accuracy of your forecasts will be evaluated using the Root Mean Squared Error (RMSE).\n",
    "\n",
    "An example code for the calculation:\n",
    "\n",
    "RMSE = sqrt (mean ((predicted-true) ^ 2))\n",
    "\n",
    "This leaderboard is calculated with approximately 30% of the test data.\n",
    "\n",
    "The final results will be based on the other 70%, so the final standings may be different"
   ]
  },
  {
   "cell_type": "markdown",
   "metadata": {},
   "source": [
    "# Import Libraries"
   ]
  },
  {
   "cell_type": "code",
   "execution_count": 2,
   "metadata": {},
   "outputs": [],
   "source": [
    "import pandas as pd\n",
    "import numpy as np\n",
    "import matplotlib.pyplot as plt\n",
    "import seaborn as sns\n",
    "%matplotlib inline"
   ]
  },
  {
   "cell_type": "code",
   "execution_count": 9,
   "metadata": {},
   "outputs": [],
   "source": [
    "train = pd.read_csv(\"./Datasets/train.csv\")\n",
    "test = pd.read_csv(\"./Datasets/test.csv\")"
   ]
  },
  {
   "cell_type": "code",
   "execution_count": 13,
   "metadata": {},
   "outputs": [
    {
     "data": {
      "text/html": [
       "<div>\n",
       "<style scoped>\n",
       "    .dataframe tbody tr th:only-of-type {\n",
       "        vertical-align: middle;\n",
       "    }\n",
       "\n",
       "    .dataframe tbody tr th {\n",
       "        vertical-align: top;\n",
       "    }\n",
       "\n",
       "    .dataframe thead th {\n",
       "        text-align: right;\n",
       "    }\n",
       "</style>\n",
       "<table border=\"1\" class=\"dataframe\">\n",
       "  <thead>\n",
       "    <tr style=\"text-align: right;\">\n",
       "      <th></th>\n",
       "      <th>country</th>\n",
       "      <th>description</th>\n",
       "      <th>designation</th>\n",
       "      <th>points</th>\n",
       "      <th>price</th>\n",
       "      <th>province</th>\n",
       "      <th>region_1</th>\n",
       "      <th>region_2</th>\n",
       "      <th>taster_name</th>\n",
       "      <th>taster_twitter_handle</th>\n",
       "      <th>title</th>\n",
       "      <th>variety</th>\n",
       "      <th>winery</th>\n",
       "      <th>id</th>\n",
       "    </tr>\n",
       "  </thead>\n",
       "  <tbody>\n",
       "    <tr>\n",
       "      <th>174995</th>\n",
       "      <td>US</td>\n",
       "      <td>Named for the clone so beloved by winemakers, ...</td>\n",
       "      <td>Old Wente</td>\n",
       "      <td>93.965358</td>\n",
       "      <td>55.0</td>\n",
       "      <td>California</td>\n",
       "      <td>Russian River Valley</td>\n",
       "      <td>Sonoma</td>\n",
       "      <td>Virginie Boone</td>\n",
       "      <td>@vboone</td>\n",
       "      <td>Lynmar 2014 Old Wente Chardonnay (Russian Rive...</td>\n",
       "      <td>CHARDONNAY</td>\n",
       "      <td>Lynmar</td>\n",
       "      <td>51364</td>\n",
       "    </tr>\n",
       "    <tr>\n",
       "      <th>174996</th>\n",
       "      <td>Portugal</td>\n",
       "      <td>This is a fresh, fruity and juicy wine. Shot t...</td>\n",
       "      <td>Bojador Branco</td>\n",
       "      <td>85.975164</td>\n",
       "      <td>14.0</td>\n",
       "      <td>Alentejano</td>\n",
       "      <td>NaN</td>\n",
       "      <td>NaN</td>\n",
       "      <td>Roger Voss</td>\n",
       "      <td>@vossroger</td>\n",
       "      <td>Espaço Rural 2014 Bojador Branco White (Alente...</td>\n",
       "      <td>PORTUGUESE WHITE</td>\n",
       "      <td>Espaço Rural</td>\n",
       "      <td>87223</td>\n",
       "    </tr>\n",
       "    <tr>\n",
       "      <th>174997</th>\n",
       "      <td>Spain</td>\n",
       "      <td>Clean and toasty, with mineral and the slighte...</td>\n",
       "      <td>Cordon Negro Brut</td>\n",
       "      <td>85.030109</td>\n",
       "      <td>10.0</td>\n",
       "      <td>Catalonia</td>\n",
       "      <td>Cava</td>\n",
       "      <td>NaN</td>\n",
       "      <td>NaN</td>\n",
       "      <td>NaN</td>\n",
       "      <td>NaN</td>\n",
       "      <td>SPARKLING BLEND</td>\n",
       "      <td>Freixenet</td>\n",
       "      <td>142217</td>\n",
       "    </tr>\n",
       "    <tr>\n",
       "      <th>174998</th>\n",
       "      <td>US</td>\n",
       "      <td>A lovely Pinot Noir, showing flamboyantly ripe...</td>\n",
       "      <td>Estate Grown</td>\n",
       "      <td>90.867770</td>\n",
       "      <td>65.0</td>\n",
       "      <td>California</td>\n",
       "      <td>Russian River Valley</td>\n",
       "      <td>Sonoma</td>\n",
       "      <td>NaN</td>\n",
       "      <td>NaN</td>\n",
       "      <td>NaN</td>\n",
       "      <td>PINOT NOIR</td>\n",
       "      <td>Donum</td>\n",
       "      <td>64741</td>\n",
       "    </tr>\n",
       "    <tr>\n",
       "      <th>174999</th>\n",
       "      <td>US</td>\n",
       "      <td>Made to benefit the exploratory organization, ...</td>\n",
       "      <td>National Geographic Ocean Reserve Blanc de Blancs</td>\n",
       "      <td>91.881217</td>\n",
       "      <td>50.0</td>\n",
       "      <td>California</td>\n",
       "      <td>Green Valley</td>\n",
       "      <td>Sonoma</td>\n",
       "      <td>Virginie Boone</td>\n",
       "      <td>@vboone</td>\n",
       "      <td>Iron Horse 2013 National Geographic Ocean Rese...</td>\n",
       "      <td>SPARKLING BLEND</td>\n",
       "      <td>Iron Horse</td>\n",
       "      <td>91621</td>\n",
       "    </tr>\n",
       "  </tbody>\n",
       "</table>\n",
       "</div>"
      ],
      "text/plain": [
       "         country                                        description  \\\n",
       "174995        US  Named for the clone so beloved by winemakers, ...   \n",
       "174996  Portugal  This is a fresh, fruity and juicy wine. Shot t...   \n",
       "174997     Spain  Clean and toasty, with mineral and the slighte...   \n",
       "174998        US  A lovely Pinot Noir, showing flamboyantly ripe...   \n",
       "174999        US  Made to benefit the exploratory organization, ...   \n",
       "\n",
       "                                              designation     points  price  \\\n",
       "174995                                          Old Wente  93.965358   55.0   \n",
       "174996                                     Bojador Branco  85.975164   14.0   \n",
       "174997                                  Cordon Negro Brut  85.030109   10.0   \n",
       "174998                                       Estate Grown  90.867770   65.0   \n",
       "174999  National Geographic Ocean Reserve Blanc de Blancs  91.881217   50.0   \n",
       "\n",
       "          province              region_1 region_2     taster_name  \\\n",
       "174995  California  Russian River Valley   Sonoma  Virginie Boone   \n",
       "174996  Alentejano                   NaN      NaN      Roger Voss   \n",
       "174997   Catalonia                  Cava      NaN             NaN   \n",
       "174998  California  Russian River Valley   Sonoma             NaN   \n",
       "174999  California          Green Valley   Sonoma  Virginie Boone   \n",
       "\n",
       "       taster_twitter_handle  \\\n",
       "174995               @vboone   \n",
       "174996            @vossroger   \n",
       "174997                   NaN   \n",
       "174998                   NaN   \n",
       "174999               @vboone   \n",
       "\n",
       "                                                    title           variety  \\\n",
       "174995  Lynmar 2014 Old Wente Chardonnay (Russian Rive...        CHARDONNAY   \n",
       "174996  Espaço Rural 2014 Bojador Branco White (Alente...  PORTUGUESE WHITE   \n",
       "174997                                                NaN   SPARKLING BLEND   \n",
       "174998                                                NaN        PINOT NOIR   \n",
       "174999  Iron Horse 2013 National Geographic Ocean Rese...   SPARKLING BLEND   \n",
       "\n",
       "              winery      id  \n",
       "174995        Lynmar   51364  \n",
       "174996  Espaço Rural   87223  \n",
       "174997     Freixenet  142217  \n",
       "174998         Donum   64741  \n",
       "174999    Iron Horse   91621  "
      ]
     },
     "execution_count": 13,
     "metadata": {},
     "output_type": "execute_result"
    }
   ],
   "source": [
    "train.tail()"
   ]
  },
  {
   "cell_type": "code",
   "execution_count": 17,
   "metadata": {},
   "outputs": [
    {
     "name": "stdout",
     "output_type": "stream",
     "text": [
      "<class 'pandas.core.frame.DataFrame'>\n",
      "RangeIndex: 175000 entries, 0 to 174999\n",
      "Data columns (total 14 columns):\n",
      "country                  174953 non-null object\n",
      "description              175000 non-null object\n",
      "designation              122734 non-null object\n",
      "points                   175000 non-null float64\n",
      "price                    175000 non-null float64\n",
      "province                 174953 non-null object\n",
      "region_1                 146466 non-null object\n",
      "region_2                 75394 non-null object\n",
      "taster_name              65509 non-null object\n",
      "taster_twitter_handle    62190 non-null object\n",
      "title                    82189 non-null object\n",
      "variety                  174999 non-null object\n",
      "winery                   175000 non-null object\n",
      "id                       175000 non-null int64\n",
      "dtypes: float64(2), int64(1), object(11)\n",
      "memory usage: 18.7+ MB\n"
     ]
    }
   ],
   "source": [
    "train.info()"
   ]
  },
  {
   "cell_type": "code",
   "execution_count": 19,
   "metadata": {},
   "outputs": [
    {
     "data": {
      "text/plain": [
       "124675"
      ]
     },
     "execution_count": 19,
     "metadata": {},
     "output_type": "execute_result"
    }
   ],
   "source": [
    "train.id.nunique()"
   ]
  },
  {
   "cell_type": "markdown",
   "metadata": {},
   "source": [
    "## Investigating on __NAN__ values"
   ]
  },
  {
   "cell_type": "markdown",
   "metadata": {},
   "source": [
    "We have 14 columns and we need to investigate each and everyone of them, we have a total of $175000$ examples"
   ]
  },
  {
   "cell_type": "code",
   "execution_count": 57,
   "metadata": {},
   "outputs": [
    {
     "data": {
      "text/plain": [
       "object     11\n",
       "float64     2\n",
       "int64       1\n",
       "dtype: int64"
      ]
     },
     "execution_count": 57,
     "metadata": {},
     "output_type": "execute_result"
    }
   ],
   "source": [
    "train.dtypes.value_counts()"
   ]
  },
  {
   "cell_type": "markdown",
   "metadata": {},
   "source": [
    "## Numerical "
   ]
  },
  {
   "cell_type": "code",
   "execution_count": 58,
   "metadata": {},
   "outputs": [
    {
     "data": {
      "text/plain": [
       "Index(['points', 'price', 'id'], dtype='object')"
      ]
     },
     "execution_count": 58,
     "metadata": {},
     "output_type": "execute_result"
    }
   ],
   "source": [
    "train.columns[train.dtypes != 'object']"
   ]
  },
  {
   "cell_type": "markdown",
   "metadata": {},
   "source": [
    "### Points"
   ]
  },
  {
   "cell_type": "code",
   "execution_count": 32,
   "metadata": {},
   "outputs": [
    {
     "data": {
      "text/html": [
       "<div>\n",
       "<style scoped>\n",
       "    .dataframe tbody tr th:only-of-type {\n",
       "        vertical-align: middle;\n",
       "    }\n",
       "\n",
       "    .dataframe tbody tr th {\n",
       "        vertical-align: top;\n",
       "    }\n",
       "\n",
       "    .dataframe thead th {\n",
       "        text-align: right;\n",
       "    }\n",
       "</style>\n",
       "<table border=\"1\" class=\"dataframe\">\n",
       "  <thead>\n",
       "    <tr style=\"text-align: right;\">\n",
       "      <th></th>\n",
       "      <th>country</th>\n",
       "      <th>description</th>\n",
       "      <th>designation</th>\n",
       "      <th>points</th>\n",
       "      <th>price</th>\n",
       "      <th>province</th>\n",
       "      <th>region_1</th>\n",
       "      <th>region_2</th>\n",
       "      <th>taster_name</th>\n",
       "      <th>taster_twitter_handle</th>\n",
       "      <th>title</th>\n",
       "      <th>variety</th>\n",
       "      <th>winery</th>\n",
       "      <th>id</th>\n",
       "    </tr>\n",
       "  </thead>\n",
       "  <tbody>\n",
       "  </tbody>\n",
       "</table>\n",
       "</div>"
      ],
      "text/plain": [
       "Empty DataFrame\n",
       "Columns: [country, description, designation, points, price, province, region_1, region_2, taster_name, taster_twitter_handle, title, variety, winery, id]\n",
       "Index: []"
      ]
     },
     "execution_count": 32,
     "metadata": {},
     "output_type": "execute_result"
    }
   ],
   "source": [
    "train[train.points.isnull()].head()"
   ]
  },
  {
   "cell_type": "code",
   "execution_count": 33,
   "metadata": {},
   "outputs": [
    {
     "data": {
      "text/plain": [
       "0"
      ]
     },
     "execution_count": 33,
     "metadata": {},
     "output_type": "execute_result"
    }
   ],
   "source": [
    "train.points.isnull().sum()"
   ]
  },
  {
   "cell_type": "markdown",
   "metadata": {},
   "source": [
    "### Price"
   ]
  },
  {
   "cell_type": "code",
   "execution_count": 34,
   "metadata": {},
   "outputs": [
    {
     "data": {
      "text/html": [
       "<div>\n",
       "<style scoped>\n",
       "    .dataframe tbody tr th:only-of-type {\n",
       "        vertical-align: middle;\n",
       "    }\n",
       "\n",
       "    .dataframe tbody tr th {\n",
       "        vertical-align: top;\n",
       "    }\n",
       "\n",
       "    .dataframe thead th {\n",
       "        text-align: right;\n",
       "    }\n",
       "</style>\n",
       "<table border=\"1\" class=\"dataframe\">\n",
       "  <thead>\n",
       "    <tr style=\"text-align: right;\">\n",
       "      <th></th>\n",
       "      <th>country</th>\n",
       "      <th>description</th>\n",
       "      <th>designation</th>\n",
       "      <th>points</th>\n",
       "      <th>price</th>\n",
       "      <th>province</th>\n",
       "      <th>region_1</th>\n",
       "      <th>region_2</th>\n",
       "      <th>taster_name</th>\n",
       "      <th>taster_twitter_handle</th>\n",
       "      <th>title</th>\n",
       "      <th>variety</th>\n",
       "      <th>winery</th>\n",
       "      <th>id</th>\n",
       "    </tr>\n",
       "  </thead>\n",
       "  <tbody>\n",
       "  </tbody>\n",
       "</table>\n",
       "</div>"
      ],
      "text/plain": [
       "Empty DataFrame\n",
       "Columns: [country, description, designation, points, price, province, region_1, region_2, taster_name, taster_twitter_handle, title, variety, winery, id]\n",
       "Index: []"
      ]
     },
     "execution_count": 34,
     "metadata": {},
     "output_type": "execute_result"
    }
   ],
   "source": [
    "train[train.price.isnull()].head()"
   ]
  },
  {
   "cell_type": "code",
   "execution_count": 35,
   "metadata": {},
   "outputs": [
    {
     "data": {
      "text/plain": [
       "0"
      ]
     },
     "execution_count": 35,
     "metadata": {},
     "output_type": "execute_result"
    }
   ],
   "source": [
    "train.price.isnull().sum()"
   ]
  },
  {
   "cell_type": "markdown",
   "metadata": {},
   "source": [
    "### Id"
   ]
  },
  {
   "cell_type": "code",
   "execution_count": 52,
   "metadata": {},
   "outputs": [
    {
     "data": {
      "text/html": [
       "<div>\n",
       "<style scoped>\n",
       "    .dataframe tbody tr th:only-of-type {\n",
       "        vertical-align: middle;\n",
       "    }\n",
       "\n",
       "    .dataframe tbody tr th {\n",
       "        vertical-align: top;\n",
       "    }\n",
       "\n",
       "    .dataframe thead th {\n",
       "        text-align: right;\n",
       "    }\n",
       "</style>\n",
       "<table border=\"1\" class=\"dataframe\">\n",
       "  <thead>\n",
       "    <tr style=\"text-align: right;\">\n",
       "      <th></th>\n",
       "      <th>country</th>\n",
       "      <th>description</th>\n",
       "      <th>designation</th>\n",
       "      <th>points</th>\n",
       "      <th>price</th>\n",
       "      <th>province</th>\n",
       "      <th>region_1</th>\n",
       "      <th>region_2</th>\n",
       "      <th>taster_name</th>\n",
       "      <th>taster_twitter_handle</th>\n",
       "      <th>title</th>\n",
       "      <th>variety</th>\n",
       "      <th>winery</th>\n",
       "      <th>id</th>\n",
       "    </tr>\n",
       "  </thead>\n",
       "  <tbody>\n",
       "  </tbody>\n",
       "</table>\n",
       "</div>"
      ],
      "text/plain": [
       "Empty DataFrame\n",
       "Columns: [country, description, designation, points, price, province, region_1, region_2, taster_name, taster_twitter_handle, title, variety, winery, id]\n",
       "Index: []"
      ]
     },
     "execution_count": 52,
     "metadata": {},
     "output_type": "execute_result"
    }
   ],
   "source": [
    "train[train.id.isnull()].head()"
   ]
  },
  {
   "cell_type": "code",
   "execution_count": 53,
   "metadata": {},
   "outputs": [
    {
     "data": {
      "text/plain": [
       "0"
      ]
     },
     "execution_count": 53,
     "metadata": {},
     "output_type": "execute_result"
    }
   ],
   "source": [
    "train.id.isnull().sum()"
   ]
  },
  {
   "cell_type": "markdown",
   "metadata": {},
   "source": [
    "It clear that there is no issue with numerical features, regarding missing values"
   ]
  },
  {
   "cell_type": "markdown",
   "metadata": {},
   "source": [
    "## Categorical features"
   ]
  },
  {
   "cell_type": "code",
   "execution_count": 59,
   "metadata": {},
   "outputs": [
    {
     "data": {
      "text/plain": [
       "Index(['country', 'description', 'designation', 'province', 'region_1',\n",
       "       'region_2', 'taster_name', 'taster_twitter_handle', 'title', 'variety',\n",
       "       'winery'],\n",
       "      dtype='object')"
      ]
     },
     "execution_count": 59,
     "metadata": {},
     "output_type": "execute_result"
    }
   ],
   "source": [
    "train.columns[train.dtypes == 'object']"
   ]
  },
  {
   "cell_type": "markdown",
   "metadata": {},
   "source": [
    "### Country"
   ]
  },
  {
   "cell_type": "code",
   "execution_count": 61,
   "metadata": {},
   "outputs": [
    {
     "data": {
      "text/html": [
       "<div>\n",
       "<style scoped>\n",
       "    .dataframe tbody tr th:only-of-type {\n",
       "        vertical-align: middle;\n",
       "    }\n",
       "\n",
       "    .dataframe tbody tr th {\n",
       "        vertical-align: top;\n",
       "    }\n",
       "\n",
       "    .dataframe thead th {\n",
       "        text-align: right;\n",
       "    }\n",
       "</style>\n",
       "<table border=\"1\" class=\"dataframe\">\n",
       "  <thead>\n",
       "    <tr style=\"text-align: right;\">\n",
       "      <th></th>\n",
       "      <th>country</th>\n",
       "      <th>description</th>\n",
       "      <th>designation</th>\n",
       "      <th>points</th>\n",
       "      <th>price</th>\n",
       "      <th>province</th>\n",
       "      <th>region_1</th>\n",
       "      <th>region_2</th>\n",
       "      <th>taster_name</th>\n",
       "      <th>taster_twitter_handle</th>\n",
       "      <th>title</th>\n",
       "      <th>variety</th>\n",
       "      <th>winery</th>\n",
       "      <th>id</th>\n",
       "    </tr>\n",
       "  </thead>\n",
       "  <tbody>\n",
       "    <tr>\n",
       "      <th>3571</th>\n",
       "      <td>NaN</td>\n",
       "      <td>Scents of clover, stem, green herb and red cur...</td>\n",
       "      <td>Wismer-Parke Vineyard</td>\n",
       "      <td>89.215051</td>\n",
       "      <td>34.0</td>\n",
       "      <td>NaN</td>\n",
       "      <td>NaN</td>\n",
       "      <td>NaN</td>\n",
       "      <td>Paul Gregutt</td>\n",
       "      <td>@paulgwine</td>\n",
       "      <td>Bachelder 2014 Wismer-Parke Vineyard Pinot Noir</td>\n",
       "      <td>PINOT NOIR</td>\n",
       "      <td>Bachelder</td>\n",
       "      <td>38898</td>\n",
       "    </tr>\n",
       "    <tr>\n",
       "      <th>4887</th>\n",
       "      <td>NaN</td>\n",
       "      <td>Amber in color, this wine has aromas of peach ...</td>\n",
       "      <td>Asureti Valley</td>\n",
       "      <td>86.801277</td>\n",
       "      <td>30.0</td>\n",
       "      <td>NaN</td>\n",
       "      <td>NaN</td>\n",
       "      <td>NaN</td>\n",
       "      <td>Mike DeSimone</td>\n",
       "      <td>@worldwineguys</td>\n",
       "      <td>Gotsa Family Wines 2014 Asureti Valley Chinuri</td>\n",
       "      <td>CHINURI</td>\n",
       "      <td>Gotsa Family Wines</td>\n",
       "      <td>913</td>\n",
       "    </tr>\n",
       "    <tr>\n",
       "      <th>8233</th>\n",
       "      <td>NaN</td>\n",
       "      <td>This white blend is comprised of 50% Chardonna...</td>\n",
       "      <td>Nikolaevo Unison Chardonnay-Gewürtztraminer</td>\n",
       "      <td>89.017591</td>\n",
       "      <td>16.0</td>\n",
       "      <td>NaN</td>\n",
       "      <td>NaN</td>\n",
       "      <td>NaN</td>\n",
       "      <td>Jeff Jenssen</td>\n",
       "      <td>@worldwineguys</td>\n",
       "      <td>Ross-idi 2014 Nikolaevo Unison Chardonnay-Gewü...</td>\n",
       "      <td>WHITE BLEND</td>\n",
       "      <td>Ross-idi</td>\n",
       "      <td>81955</td>\n",
       "    </tr>\n",
       "    <tr>\n",
       "      <th>13247</th>\n",
       "      <td>NaN</td>\n",
       "      <td>Made from 100% Melnick this garnet-colored win...</td>\n",
       "      <td>Nobile</td>\n",
       "      <td>87.959122</td>\n",
       "      <td>23.0</td>\n",
       "      <td>NaN</td>\n",
       "      <td>NaN</td>\n",
       "      <td>NaN</td>\n",
       "      <td>Jeff Jenssen</td>\n",
       "      <td>@worldwineguys</td>\n",
       "      <td>Logodaj 2013 Nobile Melnik</td>\n",
       "      <td>MELNIK</td>\n",
       "      <td>Logodaj</td>\n",
       "      <td>85603</td>\n",
       "    </tr>\n",
       "    <tr>\n",
       "      <th>16758</th>\n",
       "      <td>NaN</td>\n",
       "      <td>Just a whiff of citrus shows on the restrained...</td>\n",
       "      <td>Steirische Klassik</td>\n",
       "      <td>89.002808</td>\n",
       "      <td>25.0</td>\n",
       "      <td>NaN</td>\n",
       "      <td>NaN</td>\n",
       "      <td>NaN</td>\n",
       "      <td>Anne Krebiehl MW</td>\n",
       "      <td>@AnneInVino</td>\n",
       "      <td>Neumeister 2016 Steirische Klassik Sauvignon B...</td>\n",
       "      <td>SAUVIGNON BLANC</td>\n",
       "      <td>Neumeister</td>\n",
       "      <td>45247</td>\n",
       "    </tr>\n",
       "  </tbody>\n",
       "</table>\n",
       "</div>"
      ],
      "text/plain": [
       "      country                                        description  \\\n",
       "3571      NaN  Scents of clover, stem, green herb and red cur...   \n",
       "4887      NaN  Amber in color, this wine has aromas of peach ...   \n",
       "8233      NaN  This white blend is comprised of 50% Chardonna...   \n",
       "13247     NaN  Made from 100% Melnick this garnet-colored win...   \n",
       "16758     NaN  Just a whiff of citrus shows on the restrained...   \n",
       "\n",
       "                                       designation     points  price province  \\\n",
       "3571                         Wismer-Parke Vineyard  89.215051   34.0      NaN   \n",
       "4887                                Asureti Valley  86.801277   30.0      NaN   \n",
       "8233   Nikolaevo Unison Chardonnay-Gewürtztraminer  89.017591   16.0      NaN   \n",
       "13247                                       Nobile  87.959122   23.0      NaN   \n",
       "16758                           Steirische Klassik  89.002808   25.0      NaN   \n",
       "\n",
       "      region_1 region_2       taster_name taster_twitter_handle  \\\n",
       "3571       NaN      NaN      Paul Gregutt           @paulgwine    \n",
       "4887       NaN      NaN     Mike DeSimone        @worldwineguys   \n",
       "8233       NaN      NaN      Jeff Jenssen        @worldwineguys   \n",
       "13247      NaN      NaN      Jeff Jenssen        @worldwineguys   \n",
       "16758      NaN      NaN  Anne Krebiehl MW           @AnneInVino   \n",
       "\n",
       "                                                   title          variety  \\\n",
       "3571     Bachelder 2014 Wismer-Parke Vineyard Pinot Noir       PINOT NOIR   \n",
       "4887      Gotsa Family Wines 2014 Asureti Valley Chinuri          CHINURI   \n",
       "8233   Ross-idi 2014 Nikolaevo Unison Chardonnay-Gewü...      WHITE BLEND   \n",
       "13247                         Logodaj 2013 Nobile Melnik           MELNIK   \n",
       "16758  Neumeister 2016 Steirische Klassik Sauvignon B...  SAUVIGNON BLANC   \n",
       "\n",
       "                   winery     id  \n",
       "3571            Bachelder  38898  \n",
       "4887   Gotsa Family Wines    913  \n",
       "8233             Ross-idi  81955  \n",
       "13247             Logodaj  85603  \n",
       "16758          Neumeister  45247  "
      ]
     },
     "execution_count": 61,
     "metadata": {},
     "output_type": "execute_result"
    }
   ],
   "source": [
    "train[train.country.isnull()].head()"
   ]
  },
  {
   "cell_type": "code",
   "execution_count": 77,
   "metadata": {},
   "outputs": [
    {
     "name": "stdout",
     "output_type": "stream",
     "text": [
      "We have 0.02686 % of missing values in the feature Country\n"
     ]
    }
   ],
   "source": [
    "print(\"We have {:.4} % of missing values in the feature Country\".format(train.country.isnull().sum()*100/train.index.nunique()))"
   ]
  },
  {
   "cell_type": "markdown",
   "metadata": {},
   "source": [
    "### Description"
   ]
  },
  {
   "cell_type": "code",
   "execution_count": 30,
   "metadata": {},
   "outputs": [
    {
     "data": {
      "text/html": [
       "<div>\n",
       "<style scoped>\n",
       "    .dataframe tbody tr th:only-of-type {\n",
       "        vertical-align: middle;\n",
       "    }\n",
       "\n",
       "    .dataframe tbody tr th {\n",
       "        vertical-align: top;\n",
       "    }\n",
       "\n",
       "    .dataframe thead th {\n",
       "        text-align: right;\n",
       "    }\n",
       "</style>\n",
       "<table border=\"1\" class=\"dataframe\">\n",
       "  <thead>\n",
       "    <tr style=\"text-align: right;\">\n",
       "      <th></th>\n",
       "      <th>country</th>\n",
       "      <th>description</th>\n",
       "      <th>designation</th>\n",
       "      <th>points</th>\n",
       "      <th>price</th>\n",
       "      <th>province</th>\n",
       "      <th>region_1</th>\n",
       "      <th>region_2</th>\n",
       "      <th>taster_name</th>\n",
       "      <th>taster_twitter_handle</th>\n",
       "      <th>title</th>\n",
       "      <th>variety</th>\n",
       "      <th>winery</th>\n",
       "      <th>id</th>\n",
       "    </tr>\n",
       "  </thead>\n",
       "  <tbody>\n",
       "  </tbody>\n",
       "</table>\n",
       "</div>"
      ],
      "text/plain": [
       "Empty DataFrame\n",
       "Columns: [country, description, designation, points, price, province, region_1, region_2, taster_name, taster_twitter_handle, title, variety, winery, id]\n",
       "Index: []"
      ]
     },
     "execution_count": 30,
     "metadata": {},
     "output_type": "execute_result"
    }
   ],
   "source": [
    "train[train.description.isnull()].head()"
   ]
  },
  {
   "cell_type": "code",
   "execution_count": 27,
   "metadata": {},
   "outputs": [
    {
     "data": {
      "text/plain": [
       "0"
      ]
     },
     "execution_count": 27,
     "metadata": {},
     "output_type": "execute_result"
    }
   ],
   "source": [
    "train.description.isnull().sum()"
   ]
  },
  {
   "cell_type": "markdown",
   "metadata": {},
   "source": [
    "### Designation"
   ]
  },
  {
   "cell_type": "code",
   "execution_count": 29,
   "metadata": {},
   "outputs": [
    {
     "data": {
      "text/html": [
       "<div>\n",
       "<style scoped>\n",
       "    .dataframe tbody tr th:only-of-type {\n",
       "        vertical-align: middle;\n",
       "    }\n",
       "\n",
       "    .dataframe tbody tr th {\n",
       "        vertical-align: top;\n",
       "    }\n",
       "\n",
       "    .dataframe thead th {\n",
       "        text-align: right;\n",
       "    }\n",
       "</style>\n",
       "<table border=\"1\" class=\"dataframe\">\n",
       "  <thead>\n",
       "    <tr style=\"text-align: right;\">\n",
       "      <th></th>\n",
       "      <th>country</th>\n",
       "      <th>description</th>\n",
       "      <th>designation</th>\n",
       "      <th>points</th>\n",
       "      <th>price</th>\n",
       "      <th>province</th>\n",
       "      <th>region_1</th>\n",
       "      <th>region_2</th>\n",
       "      <th>taster_name</th>\n",
       "      <th>taster_twitter_handle</th>\n",
       "      <th>title</th>\n",
       "      <th>variety</th>\n",
       "      <th>winery</th>\n",
       "      <th>id</th>\n",
       "    </tr>\n",
       "  </thead>\n",
       "  <tbody>\n",
       "    <tr>\n",
       "      <th>1</th>\n",
       "      <td>France</td>\n",
       "      <td>A solid, chunky wine, with a structure that is...</td>\n",
       "      <td>NaN</td>\n",
       "      <td>88.041695</td>\n",
       "      <td>28.0</td>\n",
       "      <td>Bordeaux</td>\n",
       "      <td>Lalande de Pomerol</td>\n",
       "      <td>NaN</td>\n",
       "      <td>NaN</td>\n",
       "      <td>NaN</td>\n",
       "      <td>NaN</td>\n",
       "      <td>BORDEAUX-STYLE RED BLEND</td>\n",
       "      <td>Château Tour Grand Colombier</td>\n",
       "      <td>71079</td>\n",
       "    </tr>\n",
       "    <tr>\n",
       "      <th>2</th>\n",
       "      <td>France</td>\n",
       "      <td>This is powerful and concentrated, with the hi...</td>\n",
       "      <td>NaN</td>\n",
       "      <td>94.085021</td>\n",
       "      <td>130.0</td>\n",
       "      <td>Bordeaux</td>\n",
       "      <td>Saint-Émilion</td>\n",
       "      <td>NaN</td>\n",
       "      <td>NaN</td>\n",
       "      <td>NaN</td>\n",
       "      <td>NaN</td>\n",
       "      <td>BORDEAUX-STYLE RED BLEND</td>\n",
       "      <td>Château Figeac</td>\n",
       "      <td>32440</td>\n",
       "    </tr>\n",
       "    <tr>\n",
       "      <th>8</th>\n",
       "      <td>US</td>\n",
       "      <td>This wine plays close to the edge of overripe-...</td>\n",
       "      <td>NaN</td>\n",
       "      <td>85.908686</td>\n",
       "      <td>38.0</td>\n",
       "      <td>California</td>\n",
       "      <td>Russian River Valley</td>\n",
       "      <td>Sonoma</td>\n",
       "      <td>Virginie Boone</td>\n",
       "      <td>@vboone</td>\n",
       "      <td>Matrix 2013 Pinot Noir (Russian River Valley)</td>\n",
       "      <td>PINOT NOIR</td>\n",
       "      <td>Matrix</td>\n",
       "      <td>112993</td>\n",
       "    </tr>\n",
       "    <tr>\n",
       "      <th>11</th>\n",
       "      <td>Chile</td>\n",
       "      <td>Sort of sweet on the bouquet, with hints of le...</td>\n",
       "      <td>NaN</td>\n",
       "      <td>83.951573</td>\n",
       "      <td>8.0</td>\n",
       "      <td>Curicó Valley</td>\n",
       "      <td>NaN</td>\n",
       "      <td>NaN</td>\n",
       "      <td>NaN</td>\n",
       "      <td>NaN</td>\n",
       "      <td>NaN</td>\n",
       "      <td>CHARDONNAY</td>\n",
       "      <td>San Nicolas</td>\n",
       "      <td>138625</td>\n",
       "    </tr>\n",
       "    <tr>\n",
       "      <th>24</th>\n",
       "      <td>US</td>\n",
       "      <td>Not a whole lot of oomph in this dry, unidimen...</td>\n",
       "      <td>NaN</td>\n",
       "      <td>84.961308</td>\n",
       "      <td>20.0</td>\n",
       "      <td>California</td>\n",
       "      <td>Santa Ynez Valley</td>\n",
       "      <td>Central Coast</td>\n",
       "      <td>NaN</td>\n",
       "      <td>NaN</td>\n",
       "      <td>NaN</td>\n",
       "      <td>MERLOT</td>\n",
       "      <td>Gainey</td>\n",
       "      <td>125232</td>\n",
       "    </tr>\n",
       "  </tbody>\n",
       "</table>\n",
       "</div>"
      ],
      "text/plain": [
       "   country                                        description designation  \\\n",
       "1   France  A solid, chunky wine, with a structure that is...         NaN   \n",
       "2   France  This is powerful and concentrated, with the hi...         NaN   \n",
       "8       US  This wine plays close to the edge of overripe-...         NaN   \n",
       "11   Chile  Sort of sweet on the bouquet, with hints of le...         NaN   \n",
       "24      US  Not a whole lot of oomph in this dry, unidimen...         NaN   \n",
       "\n",
       "       points  price       province              region_1       region_2  \\\n",
       "1   88.041695   28.0       Bordeaux    Lalande de Pomerol            NaN   \n",
       "2   94.085021  130.0       Bordeaux         Saint-Émilion            NaN   \n",
       "8   85.908686   38.0     California  Russian River Valley         Sonoma   \n",
       "11  83.951573    8.0  Curicó Valley                   NaN            NaN   \n",
       "24  84.961308   20.0     California     Santa Ynez Valley  Central Coast   \n",
       "\n",
       "       taster_name taster_twitter_handle  \\\n",
       "1              NaN                   NaN   \n",
       "2              NaN                   NaN   \n",
       "8   Virginie Boone               @vboone   \n",
       "11             NaN                   NaN   \n",
       "24             NaN                   NaN   \n",
       "\n",
       "                                            title                   variety  \\\n",
       "1                                             NaN  BORDEAUX-STYLE RED BLEND   \n",
       "2                                             NaN  BORDEAUX-STYLE RED BLEND   \n",
       "8   Matrix 2013 Pinot Noir (Russian River Valley)                PINOT NOIR   \n",
       "11                                            NaN                CHARDONNAY   \n",
       "24                                            NaN                    MERLOT   \n",
       "\n",
       "                          winery      id  \n",
       "1   Château Tour Grand Colombier   71079  \n",
       "2                 Château Figeac   32440  \n",
       "8                         Matrix  112993  \n",
       "11                   San Nicolas  138625  \n",
       "24                        Gainey  125232  "
      ]
     },
     "execution_count": 29,
     "metadata": {},
     "output_type": "execute_result"
    }
   ],
   "source": [
    "train[train.designation.isnull()].head()"
   ]
  },
  {
   "cell_type": "code",
   "execution_count": 76,
   "metadata": {},
   "outputs": [
    {
     "name": "stdout",
     "output_type": "stream",
     "text": [
      "We have 29.87 % of missing values in the feature Designation\n"
     ]
    }
   ],
   "source": [
    " print(\"We have {:.4} % of missing values in the feature Designation\".format(train.designation.isnull().sum()*100/train.index.nunique()))"
   ]
  },
  {
   "cell_type": "code",
   "execution_count": 31,
   "metadata": {},
   "outputs": [
    {
     "data": {
      "text/plain": [
       "52266"
      ]
     },
     "execution_count": 31,
     "metadata": {},
     "output_type": "execute_result"
    }
   ],
   "source": []
  },
  {
   "cell_type": "markdown",
   "metadata": {},
   "source": [
    "### Province"
   ]
  },
  {
   "cell_type": "code",
   "execution_count": 36,
   "metadata": {},
   "outputs": [
    {
     "data": {
      "text/html": [
       "<div>\n",
       "<style scoped>\n",
       "    .dataframe tbody tr th:only-of-type {\n",
       "        vertical-align: middle;\n",
       "    }\n",
       "\n",
       "    .dataframe tbody tr th {\n",
       "        vertical-align: top;\n",
       "    }\n",
       "\n",
       "    .dataframe thead th {\n",
       "        text-align: right;\n",
       "    }\n",
       "</style>\n",
       "<table border=\"1\" class=\"dataframe\">\n",
       "  <thead>\n",
       "    <tr style=\"text-align: right;\">\n",
       "      <th></th>\n",
       "      <th>country</th>\n",
       "      <th>description</th>\n",
       "      <th>designation</th>\n",
       "      <th>points</th>\n",
       "      <th>price</th>\n",
       "      <th>province</th>\n",
       "      <th>region_1</th>\n",
       "      <th>region_2</th>\n",
       "      <th>taster_name</th>\n",
       "      <th>taster_twitter_handle</th>\n",
       "      <th>title</th>\n",
       "      <th>variety</th>\n",
       "      <th>winery</th>\n",
       "      <th>id</th>\n",
       "    </tr>\n",
       "  </thead>\n",
       "  <tbody>\n",
       "    <tr>\n",
       "      <th>3571</th>\n",
       "      <td>NaN</td>\n",
       "      <td>Scents of clover, stem, green herb and red cur...</td>\n",
       "      <td>Wismer-Parke Vineyard</td>\n",
       "      <td>89.215051</td>\n",
       "      <td>34.0</td>\n",
       "      <td>NaN</td>\n",
       "      <td>NaN</td>\n",
       "      <td>NaN</td>\n",
       "      <td>Paul Gregutt</td>\n",
       "      <td>@paulgwine</td>\n",
       "      <td>Bachelder 2014 Wismer-Parke Vineyard Pinot Noir</td>\n",
       "      <td>PINOT NOIR</td>\n",
       "      <td>Bachelder</td>\n",
       "      <td>38898</td>\n",
       "    </tr>\n",
       "    <tr>\n",
       "      <th>4887</th>\n",
       "      <td>NaN</td>\n",
       "      <td>Amber in color, this wine has aromas of peach ...</td>\n",
       "      <td>Asureti Valley</td>\n",
       "      <td>86.801277</td>\n",
       "      <td>30.0</td>\n",
       "      <td>NaN</td>\n",
       "      <td>NaN</td>\n",
       "      <td>NaN</td>\n",
       "      <td>Mike DeSimone</td>\n",
       "      <td>@worldwineguys</td>\n",
       "      <td>Gotsa Family Wines 2014 Asureti Valley Chinuri</td>\n",
       "      <td>CHINURI</td>\n",
       "      <td>Gotsa Family Wines</td>\n",
       "      <td>913</td>\n",
       "    </tr>\n",
       "    <tr>\n",
       "      <th>8233</th>\n",
       "      <td>NaN</td>\n",
       "      <td>This white blend is comprised of 50% Chardonna...</td>\n",
       "      <td>Nikolaevo Unison Chardonnay-Gewürtztraminer</td>\n",
       "      <td>89.017591</td>\n",
       "      <td>16.0</td>\n",
       "      <td>NaN</td>\n",
       "      <td>NaN</td>\n",
       "      <td>NaN</td>\n",
       "      <td>Jeff Jenssen</td>\n",
       "      <td>@worldwineguys</td>\n",
       "      <td>Ross-idi 2014 Nikolaevo Unison Chardonnay-Gewü...</td>\n",
       "      <td>WHITE BLEND</td>\n",
       "      <td>Ross-idi</td>\n",
       "      <td>81955</td>\n",
       "    </tr>\n",
       "    <tr>\n",
       "      <th>13247</th>\n",
       "      <td>NaN</td>\n",
       "      <td>Made from 100% Melnick this garnet-colored win...</td>\n",
       "      <td>Nobile</td>\n",
       "      <td>87.959122</td>\n",
       "      <td>23.0</td>\n",
       "      <td>NaN</td>\n",
       "      <td>NaN</td>\n",
       "      <td>NaN</td>\n",
       "      <td>Jeff Jenssen</td>\n",
       "      <td>@worldwineguys</td>\n",
       "      <td>Logodaj 2013 Nobile Melnik</td>\n",
       "      <td>MELNIK</td>\n",
       "      <td>Logodaj</td>\n",
       "      <td>85603</td>\n",
       "    </tr>\n",
       "    <tr>\n",
       "      <th>16758</th>\n",
       "      <td>NaN</td>\n",
       "      <td>Just a whiff of citrus shows on the restrained...</td>\n",
       "      <td>Steirische Klassik</td>\n",
       "      <td>89.002808</td>\n",
       "      <td>25.0</td>\n",
       "      <td>NaN</td>\n",
       "      <td>NaN</td>\n",
       "      <td>NaN</td>\n",
       "      <td>Anne Krebiehl MW</td>\n",
       "      <td>@AnneInVino</td>\n",
       "      <td>Neumeister 2016 Steirische Klassik Sauvignon B...</td>\n",
       "      <td>SAUVIGNON BLANC</td>\n",
       "      <td>Neumeister</td>\n",
       "      <td>45247</td>\n",
       "    </tr>\n",
       "  </tbody>\n",
       "</table>\n",
       "</div>"
      ],
      "text/plain": [
       "      country                                        description  \\\n",
       "3571      NaN  Scents of clover, stem, green herb and red cur...   \n",
       "4887      NaN  Amber in color, this wine has aromas of peach ...   \n",
       "8233      NaN  This white blend is comprised of 50% Chardonna...   \n",
       "13247     NaN  Made from 100% Melnick this garnet-colored win...   \n",
       "16758     NaN  Just a whiff of citrus shows on the restrained...   \n",
       "\n",
       "                                       designation     points  price province  \\\n",
       "3571                         Wismer-Parke Vineyard  89.215051   34.0      NaN   \n",
       "4887                                Asureti Valley  86.801277   30.0      NaN   \n",
       "8233   Nikolaevo Unison Chardonnay-Gewürtztraminer  89.017591   16.0      NaN   \n",
       "13247                                       Nobile  87.959122   23.0      NaN   \n",
       "16758                           Steirische Klassik  89.002808   25.0      NaN   \n",
       "\n",
       "      region_1 region_2       taster_name taster_twitter_handle  \\\n",
       "3571       NaN      NaN      Paul Gregutt           @paulgwine    \n",
       "4887       NaN      NaN     Mike DeSimone        @worldwineguys   \n",
       "8233       NaN      NaN      Jeff Jenssen        @worldwineguys   \n",
       "13247      NaN      NaN      Jeff Jenssen        @worldwineguys   \n",
       "16758      NaN      NaN  Anne Krebiehl MW           @AnneInVino   \n",
       "\n",
       "                                                   title          variety  \\\n",
       "3571     Bachelder 2014 Wismer-Parke Vineyard Pinot Noir       PINOT NOIR   \n",
       "4887      Gotsa Family Wines 2014 Asureti Valley Chinuri          CHINURI   \n",
       "8233   Ross-idi 2014 Nikolaevo Unison Chardonnay-Gewü...      WHITE BLEND   \n",
       "13247                         Logodaj 2013 Nobile Melnik           MELNIK   \n",
       "16758  Neumeister 2016 Steirische Klassik Sauvignon B...  SAUVIGNON BLANC   \n",
       "\n",
       "                   winery     id  \n",
       "3571            Bachelder  38898  \n",
       "4887   Gotsa Family Wines    913  \n",
       "8233             Ross-idi  81955  \n",
       "13247             Logodaj  85603  \n",
       "16758          Neumeister  45247  "
      ]
     },
     "execution_count": 36,
     "metadata": {},
     "output_type": "execute_result"
    }
   ],
   "source": [
    "train[train.province.isnull()].head()"
   ]
  },
  {
   "cell_type": "code",
   "execution_count": 78,
   "metadata": {},
   "outputs": [
    {
     "name": "stdout",
     "output_type": "stream",
     "text": [
      "We have 0.02686 % of missing values in the feature Province\n"
     ]
    }
   ],
   "source": [
    "print(\"We have {:.4} % of missing values in the feature Province\".format(train.province.isnull().sum()*100/train.index.nunique()))"
   ]
  },
  {
   "cell_type": "code",
   "execution_count": 37,
   "metadata": {},
   "outputs": [
    {
     "data": {
      "text/plain": [
       "47"
      ]
     },
     "execution_count": 37,
     "metadata": {},
     "output_type": "execute_result"
    }
   ],
   "source": [
    "train.province.isnull().sum()"
   ]
  },
  {
   "cell_type": "markdown",
   "metadata": {},
   "source": [
    "### Region 1"
   ]
  },
  {
   "cell_type": "code",
   "execution_count": 38,
   "metadata": {},
   "outputs": [
    {
     "data": {
      "text/html": [
       "<div>\n",
       "<style scoped>\n",
       "    .dataframe tbody tr th:only-of-type {\n",
       "        vertical-align: middle;\n",
       "    }\n",
       "\n",
       "    .dataframe tbody tr th {\n",
       "        vertical-align: top;\n",
       "    }\n",
       "\n",
       "    .dataframe thead th {\n",
       "        text-align: right;\n",
       "    }\n",
       "</style>\n",
       "<table border=\"1\" class=\"dataframe\">\n",
       "  <thead>\n",
       "    <tr style=\"text-align: right;\">\n",
       "      <th></th>\n",
       "      <th>country</th>\n",
       "      <th>description</th>\n",
       "      <th>designation</th>\n",
       "      <th>points</th>\n",
       "      <th>price</th>\n",
       "      <th>province</th>\n",
       "      <th>region_1</th>\n",
       "      <th>region_2</th>\n",
       "      <th>taster_name</th>\n",
       "      <th>taster_twitter_handle</th>\n",
       "      <th>title</th>\n",
       "      <th>variety</th>\n",
       "      <th>winery</th>\n",
       "      <th>id</th>\n",
       "    </tr>\n",
       "  </thead>\n",
       "  <tbody>\n",
       "    <tr>\n",
       "      <th>0</th>\n",
       "      <td>Portugal</td>\n",
       "      <td>This is a fine rich balanced wine. It has ripe...</td>\n",
       "      <td>Vila Santa Reserva</td>\n",
       "      <td>88.870874</td>\n",
       "      <td>20.0</td>\n",
       "      <td>Alentejano</td>\n",
       "      <td>NaN</td>\n",
       "      <td>NaN</td>\n",
       "      <td>NaN</td>\n",
       "      <td>NaN</td>\n",
       "      <td>NaN</td>\n",
       "      <td>PORTUGUESE RED</td>\n",
       "      <td>J. Portugal Ramos</td>\n",
       "      <td>32027</td>\n",
       "    </tr>\n",
       "    <tr>\n",
       "      <th>11</th>\n",
       "      <td>Chile</td>\n",
       "      <td>Sort of sweet on the bouquet, with hints of le...</td>\n",
       "      <td>NaN</td>\n",
       "      <td>83.951573</td>\n",
       "      <td>8.0</td>\n",
       "      <td>Curicó Valley</td>\n",
       "      <td>NaN</td>\n",
       "      <td>NaN</td>\n",
       "      <td>NaN</td>\n",
       "      <td>NaN</td>\n",
       "      <td>NaN</td>\n",
       "      <td>CHARDONNAY</td>\n",
       "      <td>San Nicolas</td>\n",
       "      <td>138625</td>\n",
       "    </tr>\n",
       "    <tr>\n",
       "      <th>17</th>\n",
       "      <td>Chile</td>\n",
       "      <td>Opaque in color, with herbal aromas that inclu...</td>\n",
       "      <td>Gran Reserva</td>\n",
       "      <td>87.973036</td>\n",
       "      <td>30.0</td>\n",
       "      <td>Casablanca Valley</td>\n",
       "      <td>NaN</td>\n",
       "      <td>NaN</td>\n",
       "      <td>NaN</td>\n",
       "      <td>NaN</td>\n",
       "      <td>NaN</td>\n",
       "      <td>SYRAH</td>\n",
       "      <td>Casas del Bosque</td>\n",
       "      <td>35319</td>\n",
       "    </tr>\n",
       "    <tr>\n",
       "      <th>21</th>\n",
       "      <td>Greece</td>\n",
       "      <td>Lemon and lime aromas are followed by citrus, ...</td>\n",
       "      <td>Atlantis</td>\n",
       "      <td>87.132911</td>\n",
       "      <td>17.0</td>\n",
       "      <td>Santorini</td>\n",
       "      <td>NaN</td>\n",
       "      <td>NaN</td>\n",
       "      <td>NaN</td>\n",
       "      <td>NaN</td>\n",
       "      <td>NaN</td>\n",
       "      <td>WHITE BLEND</td>\n",
       "      <td>Argyros</td>\n",
       "      <td>132328</td>\n",
       "    </tr>\n",
       "    <tr>\n",
       "      <th>25</th>\n",
       "      <td>Portugal</td>\n",
       "      <td>Soft and ripe, a flavor of crushed strawberrie...</td>\n",
       "      <td>Portada Winemaker's Selection</td>\n",
       "      <td>84.964618</td>\n",
       "      <td>7.0</td>\n",
       "      <td>Lisboa</td>\n",
       "      <td>NaN</td>\n",
       "      <td>NaN</td>\n",
       "      <td>NaN</td>\n",
       "      <td>NaN</td>\n",
       "      <td>NaN</td>\n",
       "      <td>ROSé</td>\n",
       "      <td>DFJ Vinhos</td>\n",
       "      <td>32885</td>\n",
       "    </tr>\n",
       "  </tbody>\n",
       "</table>\n",
       "</div>"
      ],
      "text/plain": [
       "     country                                        description  \\\n",
       "0   Portugal  This is a fine rich balanced wine. It has ripe...   \n",
       "11     Chile  Sort of sweet on the bouquet, with hints of le...   \n",
       "17     Chile  Opaque in color, with herbal aromas that inclu...   \n",
       "21    Greece  Lemon and lime aromas are followed by citrus, ...   \n",
       "25  Portugal  Soft and ripe, a flavor of crushed strawberrie...   \n",
       "\n",
       "                      designation     points  price           province  \\\n",
       "0              Vila Santa Reserva  88.870874   20.0         Alentejano   \n",
       "11                            NaN  83.951573    8.0      Curicó Valley   \n",
       "17                   Gran Reserva  87.973036   30.0  Casablanca Valley   \n",
       "21                       Atlantis  87.132911   17.0          Santorini   \n",
       "25  Portada Winemaker's Selection  84.964618    7.0             Lisboa   \n",
       "\n",
       "   region_1 region_2 taster_name taster_twitter_handle title         variety  \\\n",
       "0       NaN      NaN         NaN                   NaN   NaN  PORTUGUESE RED   \n",
       "11      NaN      NaN         NaN                   NaN   NaN      CHARDONNAY   \n",
       "17      NaN      NaN         NaN                   NaN   NaN           SYRAH   \n",
       "21      NaN      NaN         NaN                   NaN   NaN     WHITE BLEND   \n",
       "25      NaN      NaN         NaN                   NaN   NaN            ROSé   \n",
       "\n",
       "               winery      id  \n",
       "0   J. Portugal Ramos   32027  \n",
       "11        San Nicolas  138625  \n",
       "17   Casas del Bosque   35319  \n",
       "21            Argyros  132328  \n",
       "25         DFJ Vinhos   32885  "
      ]
     },
     "execution_count": 38,
     "metadata": {},
     "output_type": "execute_result"
    }
   ],
   "source": [
    "train[train.region_1.isnull()].head()"
   ]
  },
  {
   "cell_type": "code",
   "execution_count": 79,
   "metadata": {},
   "outputs": [
    {
     "name": "stdout",
     "output_type": "stream",
     "text": [
      "We have 16.31 % of missing values in the feature Region 1\n"
     ]
    }
   ],
   "source": [
    "print(\"We have {:.4} % of missing values in the feature Region 1\".format(train.region_1.isnull().sum()*100/train.index.nunique()))"
   ]
  },
  {
   "cell_type": "code",
   "execution_count": 39,
   "metadata": {},
   "outputs": [
    {
     "data": {
      "text/plain": [
       "28534"
      ]
     },
     "execution_count": 39,
     "metadata": {},
     "output_type": "execute_result"
    }
   ],
   "source": [
    "train.region_1.isnull().sum()"
   ]
  },
  {
   "cell_type": "markdown",
   "metadata": {},
   "source": [
    "### Region 2"
   ]
  },
  {
   "cell_type": "code",
   "execution_count": 40,
   "metadata": {},
   "outputs": [
    {
     "data": {
      "text/html": [
       "<div>\n",
       "<style scoped>\n",
       "    .dataframe tbody tr th:only-of-type {\n",
       "        vertical-align: middle;\n",
       "    }\n",
       "\n",
       "    .dataframe tbody tr th {\n",
       "        vertical-align: top;\n",
       "    }\n",
       "\n",
       "    .dataframe thead th {\n",
       "        text-align: right;\n",
       "    }\n",
       "</style>\n",
       "<table border=\"1\" class=\"dataframe\">\n",
       "  <thead>\n",
       "    <tr style=\"text-align: right;\">\n",
       "      <th></th>\n",
       "      <th>country</th>\n",
       "      <th>description</th>\n",
       "      <th>designation</th>\n",
       "      <th>points</th>\n",
       "      <th>price</th>\n",
       "      <th>province</th>\n",
       "      <th>region_1</th>\n",
       "      <th>region_2</th>\n",
       "      <th>taster_name</th>\n",
       "      <th>taster_twitter_handle</th>\n",
       "      <th>title</th>\n",
       "      <th>variety</th>\n",
       "      <th>winery</th>\n",
       "      <th>id</th>\n",
       "    </tr>\n",
       "  </thead>\n",
       "  <tbody>\n",
       "    <tr>\n",
       "      <th>0</th>\n",
       "      <td>Portugal</td>\n",
       "      <td>This is a fine rich balanced wine. It has ripe...</td>\n",
       "      <td>Vila Santa Reserva</td>\n",
       "      <td>88.870874</td>\n",
       "      <td>20.0</td>\n",
       "      <td>Alentejano</td>\n",
       "      <td>NaN</td>\n",
       "      <td>NaN</td>\n",
       "      <td>NaN</td>\n",
       "      <td>NaN</td>\n",
       "      <td>NaN</td>\n",
       "      <td>PORTUGUESE RED</td>\n",
       "      <td>J. Portugal Ramos</td>\n",
       "      <td>32027</td>\n",
       "    </tr>\n",
       "    <tr>\n",
       "      <th>1</th>\n",
       "      <td>France</td>\n",
       "      <td>A solid, chunky wine, with a structure that is...</td>\n",
       "      <td>NaN</td>\n",
       "      <td>88.041695</td>\n",
       "      <td>28.0</td>\n",
       "      <td>Bordeaux</td>\n",
       "      <td>Lalande de Pomerol</td>\n",
       "      <td>NaN</td>\n",
       "      <td>NaN</td>\n",
       "      <td>NaN</td>\n",
       "      <td>NaN</td>\n",
       "      <td>BORDEAUX-STYLE RED BLEND</td>\n",
       "      <td>Château Tour Grand Colombier</td>\n",
       "      <td>71079</td>\n",
       "    </tr>\n",
       "    <tr>\n",
       "      <th>2</th>\n",
       "      <td>France</td>\n",
       "      <td>This is powerful and concentrated, with the hi...</td>\n",
       "      <td>NaN</td>\n",
       "      <td>94.085021</td>\n",
       "      <td>130.0</td>\n",
       "      <td>Bordeaux</td>\n",
       "      <td>Saint-Émilion</td>\n",
       "      <td>NaN</td>\n",
       "      <td>NaN</td>\n",
       "      <td>NaN</td>\n",
       "      <td>NaN</td>\n",
       "      <td>BORDEAUX-STYLE RED BLEND</td>\n",
       "      <td>Château Figeac</td>\n",
       "      <td>32440</td>\n",
       "    </tr>\n",
       "    <tr>\n",
       "      <th>5</th>\n",
       "      <td>Spain</td>\n",
       "      <td>This brut nature is citric and bubbly on the p...</td>\n",
       "      <td>Brut Nature Reserva</td>\n",
       "      <td>83.118679</td>\n",
       "      <td>13.0</td>\n",
       "      <td>Catalonia</td>\n",
       "      <td>Cava</td>\n",
       "      <td>NaN</td>\n",
       "      <td>Michael Schachner</td>\n",
       "      <td>@wineschach</td>\n",
       "      <td>Mas Fi NV Brut Nature Reserva Sparkling (Cava)</td>\n",
       "      <td>SPARKLING BLEND</td>\n",
       "      <td>Mas Fi</td>\n",
       "      <td>20153</td>\n",
       "    </tr>\n",
       "    <tr>\n",
       "      <th>6</th>\n",
       "      <td>France</td>\n",
       "      <td>A ripe wine that has red-berry fruits, slices ...</td>\n",
       "      <td>Cuvée Prestige</td>\n",
       "      <td>88.320513</td>\n",
       "      <td>35.0</td>\n",
       "      <td>Bordeaux</td>\n",
       "      <td>Bordeaux Supérieur</td>\n",
       "      <td>NaN</td>\n",
       "      <td>Roger Voss</td>\n",
       "      <td>@vossroger</td>\n",
       "      <td>Château Tayet 2014 Cuvée Prestige  (Bordeaux S...</td>\n",
       "      <td>BORDEAUX-STYLE RED BLEND</td>\n",
       "      <td>Château Tayet</td>\n",
       "      <td>72654</td>\n",
       "    </tr>\n",
       "  </tbody>\n",
       "</table>\n",
       "</div>"
      ],
      "text/plain": [
       "    country                                        description  \\\n",
       "0  Portugal  This is a fine rich balanced wine. It has ripe...   \n",
       "1    France  A solid, chunky wine, with a structure that is...   \n",
       "2    France  This is powerful and concentrated, with the hi...   \n",
       "5     Spain  This brut nature is citric and bubbly on the p...   \n",
       "6    France  A ripe wine that has red-berry fruits, slices ...   \n",
       "\n",
       "           designation     points  price    province            region_1  \\\n",
       "0   Vila Santa Reserva  88.870874   20.0  Alentejano                 NaN   \n",
       "1                  NaN  88.041695   28.0    Bordeaux  Lalande de Pomerol   \n",
       "2                  NaN  94.085021  130.0    Bordeaux       Saint-Émilion   \n",
       "5  Brut Nature Reserva  83.118679   13.0   Catalonia                Cava   \n",
       "6       Cuvée Prestige  88.320513   35.0    Bordeaux  Bordeaux Supérieur   \n",
       "\n",
       "  region_2        taster_name taster_twitter_handle  \\\n",
       "0      NaN                NaN                   NaN   \n",
       "1      NaN                NaN                   NaN   \n",
       "2      NaN                NaN                   NaN   \n",
       "5      NaN  Michael Schachner           @wineschach   \n",
       "6      NaN         Roger Voss            @vossroger   \n",
       "\n",
       "                                               title  \\\n",
       "0                                                NaN   \n",
       "1                                                NaN   \n",
       "2                                                NaN   \n",
       "5     Mas Fi NV Brut Nature Reserva Sparkling (Cava)   \n",
       "6  Château Tayet 2014 Cuvée Prestige  (Bordeaux S...   \n",
       "\n",
       "                    variety                        winery     id  \n",
       "0            PORTUGUESE RED             J. Portugal Ramos  32027  \n",
       "1  BORDEAUX-STYLE RED BLEND  Château Tour Grand Colombier  71079  \n",
       "2  BORDEAUX-STYLE RED BLEND                Château Figeac  32440  \n",
       "5           SPARKLING BLEND                        Mas Fi  20153  \n",
       "6  BORDEAUX-STYLE RED BLEND                 Château Tayet  72654  "
      ]
     },
     "execution_count": 40,
     "metadata": {},
     "output_type": "execute_result"
    }
   ],
   "source": [
    "train[train.region_2.isnull()].head()"
   ]
  },
  {
   "cell_type": "code",
   "execution_count": 80,
   "metadata": {},
   "outputs": [
    {
     "name": "stdout",
     "output_type": "stream",
     "text": [
      "We have 56.92 % of missing values in the feature Region 2\n"
     ]
    }
   ],
   "source": [
    "print(\"We have {:.4} % of missing values in the feature Region 2\".format(train.region_2.isnull().sum()*100/train.index.nunique()))"
   ]
  },
  {
   "cell_type": "code",
   "execution_count": 41,
   "metadata": {},
   "outputs": [
    {
     "data": {
      "text/plain": [
       "99606"
      ]
     },
     "execution_count": 41,
     "metadata": {},
     "output_type": "execute_result"
    }
   ],
   "source": [
    "train.region_2.isnull().sum()"
   ]
  },
  {
   "cell_type": "markdown",
   "metadata": {},
   "source": [
    "### Taster Name "
   ]
  },
  {
   "cell_type": "code",
   "execution_count": 42,
   "metadata": {},
   "outputs": [
    {
     "data": {
      "text/html": [
       "<div>\n",
       "<style scoped>\n",
       "    .dataframe tbody tr th:only-of-type {\n",
       "        vertical-align: middle;\n",
       "    }\n",
       "\n",
       "    .dataframe tbody tr th {\n",
       "        vertical-align: top;\n",
       "    }\n",
       "\n",
       "    .dataframe thead th {\n",
       "        text-align: right;\n",
       "    }\n",
       "</style>\n",
       "<table border=\"1\" class=\"dataframe\">\n",
       "  <thead>\n",
       "    <tr style=\"text-align: right;\">\n",
       "      <th></th>\n",
       "      <th>country</th>\n",
       "      <th>description</th>\n",
       "      <th>designation</th>\n",
       "      <th>points</th>\n",
       "      <th>price</th>\n",
       "      <th>province</th>\n",
       "      <th>region_1</th>\n",
       "      <th>region_2</th>\n",
       "      <th>taster_name</th>\n",
       "      <th>taster_twitter_handle</th>\n",
       "      <th>title</th>\n",
       "      <th>variety</th>\n",
       "      <th>winery</th>\n",
       "      <th>id</th>\n",
       "    </tr>\n",
       "  </thead>\n",
       "  <tbody>\n",
       "    <tr>\n",
       "      <th>0</th>\n",
       "      <td>Portugal</td>\n",
       "      <td>This is a fine rich balanced wine. It has ripe...</td>\n",
       "      <td>Vila Santa Reserva</td>\n",
       "      <td>88.870874</td>\n",
       "      <td>20.0</td>\n",
       "      <td>Alentejano</td>\n",
       "      <td>NaN</td>\n",
       "      <td>NaN</td>\n",
       "      <td>NaN</td>\n",
       "      <td>NaN</td>\n",
       "      <td>NaN</td>\n",
       "      <td>PORTUGUESE RED</td>\n",
       "      <td>J. Portugal Ramos</td>\n",
       "      <td>32027</td>\n",
       "    </tr>\n",
       "    <tr>\n",
       "      <th>1</th>\n",
       "      <td>France</td>\n",
       "      <td>A solid, chunky wine, with a structure that is...</td>\n",
       "      <td>NaN</td>\n",
       "      <td>88.041695</td>\n",
       "      <td>28.0</td>\n",
       "      <td>Bordeaux</td>\n",
       "      <td>Lalande de Pomerol</td>\n",
       "      <td>NaN</td>\n",
       "      <td>NaN</td>\n",
       "      <td>NaN</td>\n",
       "      <td>NaN</td>\n",
       "      <td>BORDEAUX-STYLE RED BLEND</td>\n",
       "      <td>Château Tour Grand Colombier</td>\n",
       "      <td>71079</td>\n",
       "    </tr>\n",
       "    <tr>\n",
       "      <th>2</th>\n",
       "      <td>France</td>\n",
       "      <td>This is powerful and concentrated, with the hi...</td>\n",
       "      <td>NaN</td>\n",
       "      <td>94.085021</td>\n",
       "      <td>130.0</td>\n",
       "      <td>Bordeaux</td>\n",
       "      <td>Saint-Émilion</td>\n",
       "      <td>NaN</td>\n",
       "      <td>NaN</td>\n",
       "      <td>NaN</td>\n",
       "      <td>NaN</td>\n",
       "      <td>BORDEAUX-STYLE RED BLEND</td>\n",
       "      <td>Château Figeac</td>\n",
       "      <td>32440</td>\n",
       "    </tr>\n",
       "    <tr>\n",
       "      <th>3</th>\n",
       "      <td>US</td>\n",
       "      <td>Rich, ripe and oaky, this Petite Sirah charms ...</td>\n",
       "      <td>Thompson Vineyard</td>\n",
       "      <td>89.869797</td>\n",
       "      <td>34.0</td>\n",
       "      <td>California</td>\n",
       "      <td>Santa Barbara County</td>\n",
       "      <td>Central Coast</td>\n",
       "      <td>NaN</td>\n",
       "      <td>NaN</td>\n",
       "      <td>Jaffurs 2010 Thompson Vineyard Petite Sirah (S...</td>\n",
       "      <td>PETITE SIRAH</td>\n",
       "      <td>Jaffurs</td>\n",
       "      <td>124405</td>\n",
       "    </tr>\n",
       "    <tr>\n",
       "      <th>7</th>\n",
       "      <td>Italy</td>\n",
       "      <td>From one of Sicily's most beautiful and promis...</td>\n",
       "      <td>Baccante</td>\n",
       "      <td>85.173533</td>\n",
       "      <td>42.0</td>\n",
       "      <td>Sicily &amp; Sardinia</td>\n",
       "      <td>Sicilia</td>\n",
       "      <td>NaN</td>\n",
       "      <td>NaN</td>\n",
       "      <td>NaN</td>\n",
       "      <td>NaN</td>\n",
       "      <td>WHITE BLEND</td>\n",
       "      <td>Abbazia Santa Anastasia</td>\n",
       "      <td>117626</td>\n",
       "    </tr>\n",
       "  </tbody>\n",
       "</table>\n",
       "</div>"
      ],
      "text/plain": [
       "    country                                        description  \\\n",
       "0  Portugal  This is a fine rich balanced wine. It has ripe...   \n",
       "1    France  A solid, chunky wine, with a structure that is...   \n",
       "2    France  This is powerful and concentrated, with the hi...   \n",
       "3        US  Rich, ripe and oaky, this Petite Sirah charms ...   \n",
       "7     Italy  From one of Sicily's most beautiful and promis...   \n",
       "\n",
       "          designation     points  price           province  \\\n",
       "0  Vila Santa Reserva  88.870874   20.0         Alentejano   \n",
       "1                 NaN  88.041695   28.0           Bordeaux   \n",
       "2                 NaN  94.085021  130.0           Bordeaux   \n",
       "3   Thompson Vineyard  89.869797   34.0         California   \n",
       "7            Baccante  85.173533   42.0  Sicily & Sardinia   \n",
       "\n",
       "               region_1       region_2 taster_name taster_twitter_handle  \\\n",
       "0                   NaN            NaN         NaN                   NaN   \n",
       "1    Lalande de Pomerol            NaN         NaN                   NaN   \n",
       "2         Saint-Émilion            NaN         NaN                   NaN   \n",
       "3  Santa Barbara County  Central Coast         NaN                   NaN   \n",
       "7               Sicilia            NaN         NaN                   NaN   \n",
       "\n",
       "                                               title  \\\n",
       "0                                                NaN   \n",
       "1                                                NaN   \n",
       "2                                                NaN   \n",
       "3  Jaffurs 2010 Thompson Vineyard Petite Sirah (S...   \n",
       "7                                                NaN   \n",
       "\n",
       "                    variety                        winery      id  \n",
       "0            PORTUGUESE RED             J. Portugal Ramos   32027  \n",
       "1  BORDEAUX-STYLE RED BLEND  Château Tour Grand Colombier   71079  \n",
       "2  BORDEAUX-STYLE RED BLEND                Château Figeac   32440  \n",
       "3              PETITE SIRAH                       Jaffurs  124405  \n",
       "7               WHITE BLEND       Abbazia Santa Anastasia  117626  "
      ]
     },
     "execution_count": 42,
     "metadata": {},
     "output_type": "execute_result"
    }
   ],
   "source": [
    "train[train.taster_name.isnull()].head()"
   ]
  },
  {
   "cell_type": "code",
   "execution_count": 81,
   "metadata": {},
   "outputs": [
    {
     "name": "stdout",
     "output_type": "stream",
     "text": [
      "We have 62.57 % of missing values in the feature Taster Name\n"
     ]
    }
   ],
   "source": [
    "print(\"We have {:.4} % of missing values in the feature Taster Name\".format(train.taster_name.isnull().sum()*100/train.index.nunique()))"
   ]
  },
  {
   "cell_type": "code",
   "execution_count": 43,
   "metadata": {},
   "outputs": [
    {
     "data": {
      "text/plain": [
       "109491"
      ]
     },
     "execution_count": 43,
     "metadata": {},
     "output_type": "execute_result"
    }
   ],
   "source": [
    "train.taster_name.isnull().sum()"
   ]
  },
  {
   "cell_type": "markdown",
   "metadata": {},
   "source": [
    "### Taster Twitter Handle"
   ]
  },
  {
   "cell_type": "code",
   "execution_count": 44,
   "metadata": {},
   "outputs": [
    {
     "data": {
      "text/html": [
       "<div>\n",
       "<style scoped>\n",
       "    .dataframe tbody tr th:only-of-type {\n",
       "        vertical-align: middle;\n",
       "    }\n",
       "\n",
       "    .dataframe tbody tr th {\n",
       "        vertical-align: top;\n",
       "    }\n",
       "\n",
       "    .dataframe thead th {\n",
       "        text-align: right;\n",
       "    }\n",
       "</style>\n",
       "<table border=\"1\" class=\"dataframe\">\n",
       "  <thead>\n",
       "    <tr style=\"text-align: right;\">\n",
       "      <th></th>\n",
       "      <th>country</th>\n",
       "      <th>description</th>\n",
       "      <th>designation</th>\n",
       "      <th>points</th>\n",
       "      <th>price</th>\n",
       "      <th>province</th>\n",
       "      <th>region_1</th>\n",
       "      <th>region_2</th>\n",
       "      <th>taster_name</th>\n",
       "      <th>taster_twitter_handle</th>\n",
       "      <th>title</th>\n",
       "      <th>variety</th>\n",
       "      <th>winery</th>\n",
       "      <th>id</th>\n",
       "    </tr>\n",
       "  </thead>\n",
       "  <tbody>\n",
       "    <tr>\n",
       "      <th>0</th>\n",
       "      <td>Portugal</td>\n",
       "      <td>This is a fine rich balanced wine. It has ripe...</td>\n",
       "      <td>Vila Santa Reserva</td>\n",
       "      <td>88.870874</td>\n",
       "      <td>20.0</td>\n",
       "      <td>Alentejano</td>\n",
       "      <td>NaN</td>\n",
       "      <td>NaN</td>\n",
       "      <td>NaN</td>\n",
       "      <td>NaN</td>\n",
       "      <td>NaN</td>\n",
       "      <td>PORTUGUESE RED</td>\n",
       "      <td>J. Portugal Ramos</td>\n",
       "      <td>32027</td>\n",
       "    </tr>\n",
       "    <tr>\n",
       "      <th>1</th>\n",
       "      <td>France</td>\n",
       "      <td>A solid, chunky wine, with a structure that is...</td>\n",
       "      <td>NaN</td>\n",
       "      <td>88.041695</td>\n",
       "      <td>28.0</td>\n",
       "      <td>Bordeaux</td>\n",
       "      <td>Lalande de Pomerol</td>\n",
       "      <td>NaN</td>\n",
       "      <td>NaN</td>\n",
       "      <td>NaN</td>\n",
       "      <td>NaN</td>\n",
       "      <td>BORDEAUX-STYLE RED BLEND</td>\n",
       "      <td>Château Tour Grand Colombier</td>\n",
       "      <td>71079</td>\n",
       "    </tr>\n",
       "    <tr>\n",
       "      <th>2</th>\n",
       "      <td>France</td>\n",
       "      <td>This is powerful and concentrated, with the hi...</td>\n",
       "      <td>NaN</td>\n",
       "      <td>94.085021</td>\n",
       "      <td>130.0</td>\n",
       "      <td>Bordeaux</td>\n",
       "      <td>Saint-Émilion</td>\n",
       "      <td>NaN</td>\n",
       "      <td>NaN</td>\n",
       "      <td>NaN</td>\n",
       "      <td>NaN</td>\n",
       "      <td>BORDEAUX-STYLE RED BLEND</td>\n",
       "      <td>Château Figeac</td>\n",
       "      <td>32440</td>\n",
       "    </tr>\n",
       "    <tr>\n",
       "      <th>3</th>\n",
       "      <td>US</td>\n",
       "      <td>Rich, ripe and oaky, this Petite Sirah charms ...</td>\n",
       "      <td>Thompson Vineyard</td>\n",
       "      <td>89.869797</td>\n",
       "      <td>34.0</td>\n",
       "      <td>California</td>\n",
       "      <td>Santa Barbara County</td>\n",
       "      <td>Central Coast</td>\n",
       "      <td>NaN</td>\n",
       "      <td>NaN</td>\n",
       "      <td>Jaffurs 2010 Thompson Vineyard Petite Sirah (S...</td>\n",
       "      <td>PETITE SIRAH</td>\n",
       "      <td>Jaffurs</td>\n",
       "      <td>124405</td>\n",
       "    </tr>\n",
       "    <tr>\n",
       "      <th>7</th>\n",
       "      <td>Italy</td>\n",
       "      <td>From one of Sicily's most beautiful and promis...</td>\n",
       "      <td>Baccante</td>\n",
       "      <td>85.173533</td>\n",
       "      <td>42.0</td>\n",
       "      <td>Sicily &amp; Sardinia</td>\n",
       "      <td>Sicilia</td>\n",
       "      <td>NaN</td>\n",
       "      <td>NaN</td>\n",
       "      <td>NaN</td>\n",
       "      <td>NaN</td>\n",
       "      <td>WHITE BLEND</td>\n",
       "      <td>Abbazia Santa Anastasia</td>\n",
       "      <td>117626</td>\n",
       "    </tr>\n",
       "  </tbody>\n",
       "</table>\n",
       "</div>"
      ],
      "text/plain": [
       "    country                                        description  \\\n",
       "0  Portugal  This is a fine rich balanced wine. It has ripe...   \n",
       "1    France  A solid, chunky wine, with a structure that is...   \n",
       "2    France  This is powerful and concentrated, with the hi...   \n",
       "3        US  Rich, ripe and oaky, this Petite Sirah charms ...   \n",
       "7     Italy  From one of Sicily's most beautiful and promis...   \n",
       "\n",
       "          designation     points  price           province  \\\n",
       "0  Vila Santa Reserva  88.870874   20.0         Alentejano   \n",
       "1                 NaN  88.041695   28.0           Bordeaux   \n",
       "2                 NaN  94.085021  130.0           Bordeaux   \n",
       "3   Thompson Vineyard  89.869797   34.0         California   \n",
       "7            Baccante  85.173533   42.0  Sicily & Sardinia   \n",
       "\n",
       "               region_1       region_2 taster_name taster_twitter_handle  \\\n",
       "0                   NaN            NaN         NaN                   NaN   \n",
       "1    Lalande de Pomerol            NaN         NaN                   NaN   \n",
       "2         Saint-Émilion            NaN         NaN                   NaN   \n",
       "3  Santa Barbara County  Central Coast         NaN                   NaN   \n",
       "7               Sicilia            NaN         NaN                   NaN   \n",
       "\n",
       "                                               title  \\\n",
       "0                                                NaN   \n",
       "1                                                NaN   \n",
       "2                                                NaN   \n",
       "3  Jaffurs 2010 Thompson Vineyard Petite Sirah (S...   \n",
       "7                                                NaN   \n",
       "\n",
       "                    variety                        winery      id  \n",
       "0            PORTUGUESE RED             J. Portugal Ramos   32027  \n",
       "1  BORDEAUX-STYLE RED BLEND  Château Tour Grand Colombier   71079  \n",
       "2  BORDEAUX-STYLE RED BLEND                Château Figeac   32440  \n",
       "3              PETITE SIRAH                       Jaffurs  124405  \n",
       "7               WHITE BLEND       Abbazia Santa Anastasia  117626  "
      ]
     },
     "execution_count": 44,
     "metadata": {},
     "output_type": "execute_result"
    }
   ],
   "source": [
    "train[train.taster_twitter_handle.isnull()].head()"
   ]
  },
  {
   "cell_type": "code",
   "execution_count": 82,
   "metadata": {},
   "outputs": [
    {
     "name": "stdout",
     "output_type": "stream",
     "text": [
      "We have 64.46 % of missing values in the feature Taster Twitter Handle\n"
     ]
    }
   ],
   "source": [
    "print(\"We have {:.4} % of missing values in the feature Taster Twitter Handle\".format(train.taster_twitter_handle.isnull().sum()*100/train.index.nunique()))"
   ]
  },
  {
   "cell_type": "code",
   "execution_count": 45,
   "metadata": {},
   "outputs": [
    {
     "data": {
      "text/plain": [
       "112810"
      ]
     },
     "execution_count": 45,
     "metadata": {},
     "output_type": "execute_result"
    }
   ],
   "source": [
    "train.taster_twitter_handle.isnull().sum()"
   ]
  },
  {
   "cell_type": "markdown",
   "metadata": {},
   "source": [
    "### Title "
   ]
  },
  {
   "cell_type": "code",
   "execution_count": 46,
   "metadata": {},
   "outputs": [
    {
     "data": {
      "text/html": [
       "<div>\n",
       "<style scoped>\n",
       "    .dataframe tbody tr th:only-of-type {\n",
       "        vertical-align: middle;\n",
       "    }\n",
       "\n",
       "    .dataframe tbody tr th {\n",
       "        vertical-align: top;\n",
       "    }\n",
       "\n",
       "    .dataframe thead th {\n",
       "        text-align: right;\n",
       "    }\n",
       "</style>\n",
       "<table border=\"1\" class=\"dataframe\">\n",
       "  <thead>\n",
       "    <tr style=\"text-align: right;\">\n",
       "      <th></th>\n",
       "      <th>country</th>\n",
       "      <th>description</th>\n",
       "      <th>designation</th>\n",
       "      <th>points</th>\n",
       "      <th>price</th>\n",
       "      <th>province</th>\n",
       "      <th>region_1</th>\n",
       "      <th>region_2</th>\n",
       "      <th>taster_name</th>\n",
       "      <th>taster_twitter_handle</th>\n",
       "      <th>title</th>\n",
       "      <th>variety</th>\n",
       "      <th>winery</th>\n",
       "      <th>id</th>\n",
       "    </tr>\n",
       "  </thead>\n",
       "  <tbody>\n",
       "    <tr>\n",
       "      <th>0</th>\n",
       "      <td>Portugal</td>\n",
       "      <td>This is a fine rich balanced wine. It has ripe...</td>\n",
       "      <td>Vila Santa Reserva</td>\n",
       "      <td>88.870874</td>\n",
       "      <td>20.0</td>\n",
       "      <td>Alentejano</td>\n",
       "      <td>NaN</td>\n",
       "      <td>NaN</td>\n",
       "      <td>NaN</td>\n",
       "      <td>NaN</td>\n",
       "      <td>NaN</td>\n",
       "      <td>PORTUGUESE RED</td>\n",
       "      <td>J. Portugal Ramos</td>\n",
       "      <td>32027</td>\n",
       "    </tr>\n",
       "    <tr>\n",
       "      <th>1</th>\n",
       "      <td>France</td>\n",
       "      <td>A solid, chunky wine, with a structure that is...</td>\n",
       "      <td>NaN</td>\n",
       "      <td>88.041695</td>\n",
       "      <td>28.0</td>\n",
       "      <td>Bordeaux</td>\n",
       "      <td>Lalande de Pomerol</td>\n",
       "      <td>NaN</td>\n",
       "      <td>NaN</td>\n",
       "      <td>NaN</td>\n",
       "      <td>NaN</td>\n",
       "      <td>BORDEAUX-STYLE RED BLEND</td>\n",
       "      <td>Château Tour Grand Colombier</td>\n",
       "      <td>71079</td>\n",
       "    </tr>\n",
       "    <tr>\n",
       "      <th>2</th>\n",
       "      <td>France</td>\n",
       "      <td>This is powerful and concentrated, with the hi...</td>\n",
       "      <td>NaN</td>\n",
       "      <td>94.085021</td>\n",
       "      <td>130.0</td>\n",
       "      <td>Bordeaux</td>\n",
       "      <td>Saint-Émilion</td>\n",
       "      <td>NaN</td>\n",
       "      <td>NaN</td>\n",
       "      <td>NaN</td>\n",
       "      <td>NaN</td>\n",
       "      <td>BORDEAUX-STYLE RED BLEND</td>\n",
       "      <td>Château Figeac</td>\n",
       "      <td>32440</td>\n",
       "    </tr>\n",
       "    <tr>\n",
       "      <th>7</th>\n",
       "      <td>Italy</td>\n",
       "      <td>From one of Sicily's most beautiful and promis...</td>\n",
       "      <td>Baccante</td>\n",
       "      <td>85.173533</td>\n",
       "      <td>42.0</td>\n",
       "      <td>Sicily &amp; Sardinia</td>\n",
       "      <td>Sicilia</td>\n",
       "      <td>NaN</td>\n",
       "      <td>NaN</td>\n",
       "      <td>NaN</td>\n",
       "      <td>NaN</td>\n",
       "      <td>WHITE BLEND</td>\n",
       "      <td>Abbazia Santa Anastasia</td>\n",
       "      <td>117626</td>\n",
       "    </tr>\n",
       "    <tr>\n",
       "      <th>9</th>\n",
       "      <td>Italy</td>\n",
       "      <td>This basic Prosecco is perfectly quaffable tha...</td>\n",
       "      <td>Lellè Extra Dry</td>\n",
       "      <td>81.929514</td>\n",
       "      <td>14.0</td>\n",
       "      <td>Veneto</td>\n",
       "      <td>Prosecco</td>\n",
       "      <td>NaN</td>\n",
       "      <td>NaN</td>\n",
       "      <td>NaN</td>\n",
       "      <td>NaN</td>\n",
       "      <td>GLERA</td>\n",
       "      <td>Fattoria Giuseppe Savini</td>\n",
       "      <td>32542</td>\n",
       "    </tr>\n",
       "  </tbody>\n",
       "</table>\n",
       "</div>"
      ],
      "text/plain": [
       "    country                                        description  \\\n",
       "0  Portugal  This is a fine rich balanced wine. It has ripe...   \n",
       "1    France  A solid, chunky wine, with a structure that is...   \n",
       "2    France  This is powerful and concentrated, with the hi...   \n",
       "7     Italy  From one of Sicily's most beautiful and promis...   \n",
       "9     Italy  This basic Prosecco is perfectly quaffable tha...   \n",
       "\n",
       "          designation     points  price           province  \\\n",
       "0  Vila Santa Reserva  88.870874   20.0         Alentejano   \n",
       "1                 NaN  88.041695   28.0           Bordeaux   \n",
       "2                 NaN  94.085021  130.0           Bordeaux   \n",
       "7            Baccante  85.173533   42.0  Sicily & Sardinia   \n",
       "9     Lellè Extra Dry  81.929514   14.0             Veneto   \n",
       "\n",
       "             region_1 region_2 taster_name taster_twitter_handle title  \\\n",
       "0                 NaN      NaN         NaN                   NaN   NaN   \n",
       "1  Lalande de Pomerol      NaN         NaN                   NaN   NaN   \n",
       "2       Saint-Émilion      NaN         NaN                   NaN   NaN   \n",
       "7             Sicilia      NaN         NaN                   NaN   NaN   \n",
       "9            Prosecco      NaN         NaN                   NaN   NaN   \n",
       "\n",
       "                    variety                        winery      id  \n",
       "0            PORTUGUESE RED             J. Portugal Ramos   32027  \n",
       "1  BORDEAUX-STYLE RED BLEND  Château Tour Grand Colombier   71079  \n",
       "2  BORDEAUX-STYLE RED BLEND                Château Figeac   32440  \n",
       "7               WHITE BLEND       Abbazia Santa Anastasia  117626  \n",
       "9                     GLERA      Fattoria Giuseppe Savini   32542  "
      ]
     },
     "execution_count": 46,
     "metadata": {},
     "output_type": "execute_result"
    }
   ],
   "source": [
    "train[train.title.isnull()].head()"
   ]
  },
  {
   "cell_type": "code",
   "execution_count": 83,
   "metadata": {},
   "outputs": [
    {
     "name": "stdout",
     "output_type": "stream",
     "text": [
      "We have 53.03 % of missing values in the feature Taster Title\n"
     ]
    }
   ],
   "source": [
    "print(\"We have {:.4} % of missing values in the feature Title\".format(train.title.isnull().sum()*100/train.index.nunique()))"
   ]
  },
  {
   "cell_type": "code",
   "execution_count": 47,
   "metadata": {},
   "outputs": [
    {
     "data": {
      "text/plain": [
       "92811"
      ]
     },
     "execution_count": 47,
     "metadata": {},
     "output_type": "execute_result"
    }
   ],
   "source": [
    "train.title.isnull().sum()"
   ]
  },
  {
   "cell_type": "markdown",
   "metadata": {},
   "source": [
    "### Variety "
   ]
  },
  {
   "cell_type": "code",
   "execution_count": 48,
   "metadata": {},
   "outputs": [
    {
     "data": {
      "text/html": [
       "<div>\n",
       "<style scoped>\n",
       "    .dataframe tbody tr th:only-of-type {\n",
       "        vertical-align: middle;\n",
       "    }\n",
       "\n",
       "    .dataframe tbody tr th {\n",
       "        vertical-align: top;\n",
       "    }\n",
       "\n",
       "    .dataframe thead th {\n",
       "        text-align: right;\n",
       "    }\n",
       "</style>\n",
       "<table border=\"1\" class=\"dataframe\">\n",
       "  <thead>\n",
       "    <tr style=\"text-align: right;\">\n",
       "      <th></th>\n",
       "      <th>country</th>\n",
       "      <th>description</th>\n",
       "      <th>designation</th>\n",
       "      <th>points</th>\n",
       "      <th>price</th>\n",
       "      <th>province</th>\n",
       "      <th>region_1</th>\n",
       "      <th>region_2</th>\n",
       "      <th>taster_name</th>\n",
       "      <th>taster_twitter_handle</th>\n",
       "      <th>title</th>\n",
       "      <th>variety</th>\n",
       "      <th>winery</th>\n",
       "      <th>id</th>\n",
       "    </tr>\n",
       "  </thead>\n",
       "  <tbody>\n",
       "    <tr>\n",
       "      <th>86403</th>\n",
       "      <td>Chile</td>\n",
       "      <td>A chalky, dusty mouthfeel nicely balances this...</td>\n",
       "      <td>NaN</td>\n",
       "      <td>88.046742</td>\n",
       "      <td>17.0</td>\n",
       "      <td>Maipo Valley</td>\n",
       "      <td>NaN</td>\n",
       "      <td>NaN</td>\n",
       "      <td>NaN</td>\n",
       "      <td>NaN</td>\n",
       "      <td>Carmen 1999  (Maipo Valley)</td>\n",
       "      <td>NaN</td>\n",
       "      <td>Carmen</td>\n",
       "      <td>86909</td>\n",
       "    </tr>\n",
       "  </tbody>\n",
       "</table>\n",
       "</div>"
      ],
      "text/plain": [
       "      country                                        description designation  \\\n",
       "86403   Chile  A chalky, dusty mouthfeel nicely balances this...         NaN   \n",
       "\n",
       "          points  price      province region_1 region_2 taster_name  \\\n",
       "86403  88.046742   17.0  Maipo Valley      NaN      NaN         NaN   \n",
       "\n",
       "      taster_twitter_handle                        title variety  winery  \\\n",
       "86403                   NaN  Carmen 1999  (Maipo Valley)     NaN  Carmen   \n",
       "\n",
       "          id  \n",
       "86403  86909  "
      ]
     },
     "execution_count": 48,
     "metadata": {},
     "output_type": "execute_result"
    }
   ],
   "source": [
    "train[train.variety.isnull()].head()"
   ]
  },
  {
   "cell_type": "code",
   "execution_count": 84,
   "metadata": {},
   "outputs": [
    {
     "name": "stdout",
     "output_type": "stream",
     "text": [
      "We have 0.0005714 % of missing values in the feature Variety\n"
     ]
    }
   ],
   "source": [
    "print(\"We have {:.4} % of missing values in the feature Variety\".format(train.variety.isnull().sum()*100/train.index.nunique()))"
   ]
  },
  {
   "cell_type": "code",
   "execution_count": 85,
   "metadata": {},
   "outputs": [
    {
     "data": {
      "text/plain": [
       "1"
      ]
     },
     "execution_count": 85,
     "metadata": {},
     "output_type": "execute_result"
    }
   ],
   "source": [
    "train.variety.isnull().sum()"
   ]
  },
  {
   "cell_type": "markdown",
   "metadata": {},
   "source": [
    "### Winery"
   ]
  },
  {
   "cell_type": "code",
   "execution_count": 50,
   "metadata": {},
   "outputs": [
    {
     "data": {
      "text/html": [
       "<div>\n",
       "<style scoped>\n",
       "    .dataframe tbody tr th:only-of-type {\n",
       "        vertical-align: middle;\n",
       "    }\n",
       "\n",
       "    .dataframe tbody tr th {\n",
       "        vertical-align: top;\n",
       "    }\n",
       "\n",
       "    .dataframe thead th {\n",
       "        text-align: right;\n",
       "    }\n",
       "</style>\n",
       "<table border=\"1\" class=\"dataframe\">\n",
       "  <thead>\n",
       "    <tr style=\"text-align: right;\">\n",
       "      <th></th>\n",
       "      <th>country</th>\n",
       "      <th>description</th>\n",
       "      <th>designation</th>\n",
       "      <th>points</th>\n",
       "      <th>price</th>\n",
       "      <th>province</th>\n",
       "      <th>region_1</th>\n",
       "      <th>region_2</th>\n",
       "      <th>taster_name</th>\n",
       "      <th>taster_twitter_handle</th>\n",
       "      <th>title</th>\n",
       "      <th>variety</th>\n",
       "      <th>winery</th>\n",
       "      <th>id</th>\n",
       "    </tr>\n",
       "  </thead>\n",
       "  <tbody>\n",
       "  </tbody>\n",
       "</table>\n",
       "</div>"
      ],
      "text/plain": [
       "Empty DataFrame\n",
       "Columns: [country, description, designation, points, price, province, region_1, region_2, taster_name, taster_twitter_handle, title, variety, winery, id]\n",
       "Index: []"
      ]
     },
     "execution_count": 50,
     "metadata": {},
     "output_type": "execute_result"
    }
   ],
   "source": [
    "train[train.winery.isnull()].head()"
   ]
  },
  {
   "cell_type": "code",
   "execution_count": 86,
   "metadata": {},
   "outputs": [
    {
     "name": "stdout",
     "output_type": "stream",
     "text": [
      "We have 0.0 % of missing values in the feature Winery\n"
     ]
    }
   ],
   "source": [
    "print(\"We have {:.4} % of missing values in the feature Winery\".format(train.winery.isnull().sum().sum()*100/train.index.nunique()))"
   ]
  },
  {
   "cell_type": "code",
   "execution_count": 87,
   "metadata": {},
   "outputs": [
    {
     "data": {
      "text/plain": [
       "0"
      ]
     },
     "execution_count": 87,
     "metadata": {},
     "output_type": "execute_result"
    }
   ],
   "source": [
    "train.winery.isnull().sum()"
   ]
  }
 ],
 "metadata": {
  "kernelspec": {
   "display_name": "Python 3",
   "language": "python",
   "name": "python3"
  },
  "language_info": {
   "codemirror_mode": {
    "name": "ipython",
    "version": 3
   },
   "file_extension": ".py",
   "mimetype": "text/x-python",
   "name": "python",
   "nbconvert_exporter": "python",
   "pygments_lexer": "ipython3",
   "version": "3.5.6"
  }
 },
 "nbformat": 4,
 "nbformat_minor": 4
}
