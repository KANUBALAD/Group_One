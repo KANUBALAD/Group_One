{
 "cells": [
  {
   "cell_type": "code",
   "execution_count": 1,
   "metadata": {},
   "outputs": [],
   "source": [
    "import pandas as pd\n",
    "import numpy as np\n",
    "import matplotlib.pyplot as plt\n",
    "import seaborn as sb"
   ]
  },
  {
   "cell_type": "markdown",
   "metadata": {},
   "source": [
    "*Here We are importing the data*\n",
    "\n",
    "We have decided to import the train and the test wine data"
   ]
  },
  {
   "cell_type": "code",
   "execution_count": 2,
   "metadata": {},
   "outputs": [],
   "source": [
    "wine_train=pd.read_csv('Datasets/train.csv')\n",
    "wine_test=pd.read_csv('Datasets/test.csv')"
   ]
  },
  {
   "cell_type": "markdown",
   "metadata": {},
   "source": [
    "**Head of test data and train data**"
   ]
  },
  {
   "cell_type": "code",
   "execution_count": 3,
   "metadata": {},
   "outputs": [
    {
     "data": {
      "text/html": [
       "<div>\n",
       "<style scoped>\n",
       "    .dataframe tbody tr th:only-of-type {\n",
       "        vertical-align: middle;\n",
       "    }\n",
       "\n",
       "    .dataframe tbody tr th {\n",
       "        vertical-align: top;\n",
       "    }\n",
       "\n",
       "    .dataframe thead th {\n",
       "        text-align: right;\n",
       "    }\n",
       "</style>\n",
       "<table border=\"1\" class=\"dataframe\">\n",
       "  <thead>\n",
       "    <tr style=\"text-align: right;\">\n",
       "      <th></th>\n",
       "      <th>index</th>\n",
       "      <th>country</th>\n",
       "      <th>description</th>\n",
       "      <th>designation</th>\n",
       "      <th>points</th>\n",
       "      <th>price</th>\n",
       "      <th>province</th>\n",
       "      <th>region_1</th>\n",
       "      <th>region_2</th>\n",
       "      <th>taster_name</th>\n",
       "      <th>taster_twitter_handle</th>\n",
       "      <th>title</th>\n",
       "      <th>variety</th>\n",
       "      <th>winery</th>\n",
       "      <th>id</th>\n",
       "    </tr>\n",
       "  </thead>\n",
       "  <tbody>\n",
       "    <tr>\n",
       "      <th>0</th>\n",
       "      <td>41855</td>\n",
       "      <td>US</td>\n",
       "      <td>Sweet new oak stands out, giving this Cabernet...</td>\n",
       "      <td>3D</td>\n",
       "      <td>95.036469</td>\n",
       "      <td>NaN</td>\n",
       "      <td>California</td>\n",
       "      <td>St. Helena</td>\n",
       "      <td>Napa</td>\n",
       "      <td>NaN</td>\n",
       "      <td>NaN</td>\n",
       "      <td>Salvestrin 2007 3D Cabernet Sauvignon (St. Hel...</td>\n",
       "      <td>CABERNET SAUVIGNON</td>\n",
       "      <td>Salvestrin</td>\n",
       "      <td>0</td>\n",
       "    </tr>\n",
       "  </tbody>\n",
       "</table>\n",
       "</div>"
      ],
      "text/plain": [
       "   index country                                        description  \\\n",
       "0  41855      US  Sweet new oak stands out, giving this Cabernet...   \n",
       "\n",
       "  designation     points  price    province    region_1 region_2 taster_name  \\\n",
       "0          3D  95.036469    NaN  California  St. Helena     Napa         NaN   \n",
       "\n",
       "  taster_twitter_handle                                              title  \\\n",
       "0                   NaN  Salvestrin 2007 3D Cabernet Sauvignon (St. Hel...   \n",
       "\n",
       "              variety      winery  id  \n",
       "0  CABERNET SAUVIGNON  Salvestrin   0  "
      ]
     },
     "execution_count": 3,
     "metadata": {},
     "output_type": "execute_result"
    }
   ],
   "source": [
    "wine_test.head(1)"
   ]
  },
  {
   "cell_type": "code",
   "execution_count": 4,
   "metadata": {},
   "outputs": [
    {
     "data": {
      "text/html": [
       "<div>\n",
       "<style scoped>\n",
       "    .dataframe tbody tr th:only-of-type {\n",
       "        vertical-align: middle;\n",
       "    }\n",
       "\n",
       "    .dataframe tbody tr th {\n",
       "        vertical-align: top;\n",
       "    }\n",
       "\n",
       "    .dataframe thead th {\n",
       "        text-align: right;\n",
       "    }\n",
       "</style>\n",
       "<table border=\"1\" class=\"dataframe\">\n",
       "  <thead>\n",
       "    <tr style=\"text-align: right;\">\n",
       "      <th></th>\n",
       "      <th>country</th>\n",
       "      <th>description</th>\n",
       "      <th>designation</th>\n",
       "      <th>points</th>\n",
       "      <th>price</th>\n",
       "      <th>province</th>\n",
       "      <th>region_1</th>\n",
       "      <th>region_2</th>\n",
       "      <th>taster_name</th>\n",
       "      <th>taster_twitter_handle</th>\n",
       "      <th>title</th>\n",
       "      <th>variety</th>\n",
       "      <th>winery</th>\n",
       "      <th>id</th>\n",
       "    </tr>\n",
       "  </thead>\n",
       "  <tbody>\n",
       "    <tr>\n",
       "      <th>0</th>\n",
       "      <td>Portugal</td>\n",
       "      <td>This is a fine rich balanced wine. It has ripe...</td>\n",
       "      <td>Vila Santa Reserva</td>\n",
       "      <td>88.870874</td>\n",
       "      <td>20.0</td>\n",
       "      <td>Alentejano</td>\n",
       "      <td>NaN</td>\n",
       "      <td>NaN</td>\n",
       "      <td>NaN</td>\n",
       "      <td>NaN</td>\n",
       "      <td>NaN</td>\n",
       "      <td>PORTUGUESE RED</td>\n",
       "      <td>J. Portugal Ramos</td>\n",
       "      <td>32027</td>\n",
       "    </tr>\n",
       "  </tbody>\n",
       "</table>\n",
       "</div>"
      ],
      "text/plain": [
       "    country                                        description  \\\n",
       "0  Portugal  This is a fine rich balanced wine. It has ripe...   \n",
       "\n",
       "          designation     points  price    province region_1 region_2  \\\n",
       "0  Vila Santa Reserva  88.870874   20.0  Alentejano      NaN      NaN   \n",
       "\n",
       "  taster_name taster_twitter_handle title         variety             winery  \\\n",
       "0         NaN                   NaN   NaN  PORTUGUESE RED  J. Portugal Ramos   \n",
       "\n",
       "      id  \n",
       "0  32027  "
      ]
     },
     "execution_count": 4,
     "metadata": {},
     "output_type": "execute_result"
    }
   ],
   "source": [
    "wine_train.head(1)"
   ]
  },
  {
   "cell_type": "markdown",
   "metadata": {},
   "source": [
    "**Data train info**"
   ]
  },
  {
   "cell_type": "code",
   "execution_count": 5,
   "metadata": {},
   "outputs": [
    {
     "name": "stdout",
     "output_type": "stream",
     "text": [
      "<class 'pandas.core.frame.DataFrame'>\n",
      "RangeIndex: 175000 entries, 0 to 174999\n",
      "Data columns (total 14 columns):\n",
      "country                  174953 non-null object\n",
      "description              175000 non-null object\n",
      "designation              122734 non-null object\n",
      "points                   175000 non-null float64\n",
      "price                    175000 non-null float64\n",
      "province                 174953 non-null object\n",
      "region_1                 146466 non-null object\n",
      "region_2                 75394 non-null object\n",
      "taster_name              65509 non-null object\n",
      "taster_twitter_handle    62190 non-null object\n",
      "title                    82189 non-null object\n",
      "variety                  174999 non-null object\n",
      "winery                   175000 non-null object\n",
      "id                       175000 non-null int64\n",
      "dtypes: float64(2), int64(1), object(11)\n",
      "memory usage: 18.7+ MB\n"
     ]
    }
   ],
   "source": [
    "wine_train.info()"
   ]
  },
  {
   "cell_type": "markdown",
   "metadata": {},
   "source": [
    "Data Description"
   ]
  },
  {
   "cell_type": "code",
   "execution_count": 6,
   "metadata": {},
   "outputs": [
    {
     "data": {
      "text/html": [
       "<div>\n",
       "<style scoped>\n",
       "    .dataframe tbody tr th:only-of-type {\n",
       "        vertical-align: middle;\n",
       "    }\n",
       "\n",
       "    .dataframe tbody tr th {\n",
       "        vertical-align: top;\n",
       "    }\n",
       "\n",
       "    .dataframe thead th {\n",
       "        text-align: right;\n",
       "    }\n",
       "</style>\n",
       "<table border=\"1\" class=\"dataframe\">\n",
       "  <thead>\n",
       "    <tr style=\"text-align: right;\">\n",
       "      <th></th>\n",
       "      <th>points</th>\n",
       "      <th>price</th>\n",
       "      <th>id</th>\n",
       "    </tr>\n",
       "  </thead>\n",
       "  <tbody>\n",
       "    <tr>\n",
       "      <th>count</th>\n",
       "      <td>175000.000000</td>\n",
       "      <td>175000.000000</td>\n",
       "      <td>175000.000000</td>\n",
       "    </tr>\n",
       "    <tr>\n",
       "      <th>mean</th>\n",
       "      <td>88.083987</td>\n",
       "      <td>34.304400</td>\n",
       "      <td>70684.047240</td>\n",
       "    </tr>\n",
       "    <tr>\n",
       "      <th>std</th>\n",
       "      <td>3.157001</td>\n",
       "      <td>38.398146</td>\n",
       "      <td>41341.638798</td>\n",
       "    </tr>\n",
       "    <tr>\n",
       "      <th>min</th>\n",
       "      <td>79.636128</td>\n",
       "      <td>4.000000</td>\n",
       "      <td>1.000000</td>\n",
       "    </tr>\n",
       "    <tr>\n",
       "      <th>25%</th>\n",
       "      <td>85.971283</td>\n",
       "      <td>16.000000</td>\n",
       "      <td>35020.000000</td>\n",
       "    </tr>\n",
       "    <tr>\n",
       "      <th>50%</th>\n",
       "      <td>87.981631</td>\n",
       "      <td>25.000000</td>\n",
       "      <td>70256.500000</td>\n",
       "    </tr>\n",
       "    <tr>\n",
       "      <th>75%</th>\n",
       "      <td>90.085631</td>\n",
       "      <td>40.000000</td>\n",
       "      <td>105550.250000</td>\n",
       "    </tr>\n",
       "    <tr>\n",
       "      <th>max</th>\n",
       "      <td>100.220603</td>\n",
       "      <td>2500.000000</td>\n",
       "      <td>150929.000000</td>\n",
       "    </tr>\n",
       "  </tbody>\n",
       "</table>\n",
       "</div>"
      ],
      "text/plain": [
       "              points          price             id\n",
       "count  175000.000000  175000.000000  175000.000000\n",
       "mean       88.083987      34.304400   70684.047240\n",
       "std         3.157001      38.398146   41341.638798\n",
       "min        79.636128       4.000000       1.000000\n",
       "25%        85.971283      16.000000   35020.000000\n",
       "50%        87.981631      25.000000   70256.500000\n",
       "75%        90.085631      40.000000  105550.250000\n",
       "max       100.220603    2500.000000  150929.000000"
      ]
     },
     "execution_count": 6,
     "metadata": {},
     "output_type": "execute_result"
    }
   ],
   "source": [
    "wine_train.describe()"
   ]
  },
  {
   "cell_type": "markdown",
   "metadata": {},
   "source": [
    "**Install Package to use for**"
   ]
  },
  {
   "cell_type": "code",
   "execution_count": 7,
   "metadata": {},
   "outputs": [
    {
     "name": "stdout",
     "output_type": "stream",
     "text": [
      "Requirement already satisfied: catboost in /home/aims/anaconda3/envs/aims/lib/python3.5/site-packages (0.17.5)\n",
      "Requirement already satisfied: numpy>=1.16.0 in /home/aims/anaconda3/envs/aims/lib/python3.5/site-packages (from catboost) (1.17.3)\n",
      "Requirement already satisfied: graphviz in /home/aims/anaconda3/envs/aims/lib/python3.5/site-packages (from catboost) (0.13)\n",
      "Requirement already satisfied: scipy in /home/aims/anaconda3/envs/aims/lib/python3.5/site-packages (from catboost) (1.3.1)\n",
      "Requirement already satisfied: six in /home/aims/anaconda3/envs/aims/lib/python3.5/site-packages (from catboost) (1.12.0)\n",
      "Requirement already satisfied: plotly in /home/aims/anaconda3/envs/aims/lib/python3.5/site-packages (from catboost) (4.2.1)\n",
      "Requirement already satisfied: matplotlib in /home/aims/anaconda3/envs/aims/lib/python3.5/site-packages (from catboost) (3.0.3)\n",
      "Requirement already satisfied: pandas>=0.24.0 in /home/aims/anaconda3/envs/aims/lib/python3.5/site-packages (from catboost) (0.25.2)\n",
      "Requirement already satisfied: retrying>=1.3.3 in /home/aims/anaconda3/envs/aims/lib/python3.5/site-packages (from plotly->catboost) (1.3.3)\n",
      "Requirement already satisfied: pyparsing!=2.0.4,!=2.1.2,!=2.1.6,>=2.0.1 in /home/aims/anaconda3/envs/aims/lib/python3.5/site-packages (from matplotlib->catboost) (2.4.2)\n",
      "Requirement already satisfied: python-dateutil>=2.1 in /home/aims/anaconda3/envs/aims/lib/python3.5/site-packages (from matplotlib->catboost) (2.7.3)\n",
      "Requirement already satisfied: cycler>=0.10 in /home/aims/anaconda3/envs/aims/lib/python3.5/site-packages (from matplotlib->catboost) (0.10.0)\n",
      "Requirement already satisfied: kiwisolver>=1.0.1 in /home/aims/anaconda3/envs/aims/lib/python3.5/site-packages (from matplotlib->catboost) (1.1.0)\n",
      "Requirement already satisfied: pytz>=2017.2 in /home/aims/anaconda3/envs/aims/lib/python3.5/site-packages (from pandas>=0.24.0->catboost) (2019.3)\n",
      "Requirement already satisfied: setuptools in /home/aims/anaconda3/envs/aims/lib/python3.5/site-packages (from kiwisolver>=1.0.1->matplotlib->catboost) (40.2.0)\n",
      "\u001b[33mWARNING: You are using pip version 19.2.3, however version 19.3 is available.\n",
      "You should consider upgrading via the 'pip install --upgrade pip' command.\u001b[0m\n"
     ]
    }
   ],
   "source": [
    "!pip install catboost"
   ]
  },
  {
   "cell_type": "markdown",
   "metadata": {},
   "source": [
    "The Model that we are going to implement is the cat Boost regression Model"
   ]
  },
  {
   "cell_type": "code",
   "execution_count": null,
   "metadata": {},
   "outputs": [],
   "source": []
  },
  {
   "cell_type": "code",
   "execution_count": 7,
   "metadata": {},
   "outputs": [],
   "source": [
    "from catboost import CatBoostRegressor"
   ]
  },
  {
   "cell_type": "markdown",
   "metadata": {},
   "source": [
    "**Code to identify the missing values in our train dataset**"
   ]
  },
  {
   "cell_type": "code",
   "execution_count": 8,
   "metadata": {},
   "outputs": [
    {
     "data": {
      "text/plain": [
       "country                      47\n",
       "description                   0\n",
       "designation               52266\n",
       "points                        0\n",
       "price                         0\n",
       "province                     47\n",
       "region_1                  28534\n",
       "region_2                  99606\n",
       "taster_name              109491\n",
       "taster_twitter_handle    112810\n",
       "title                     92811\n",
       "variety                       1\n",
       "winery                        0\n",
       "id                            0\n",
       "dtype: int64"
      ]
     },
     "execution_count": 8,
     "metadata": {},
     "output_type": "execute_result"
    }
   ],
   "source": [
    "wine_train.isnull().sum()"
   ]
  },
  {
   "cell_type": "code",
   "execution_count": 9,
   "metadata": {},
   "outputs": [
    {
     "data": {
      "text/html": [
       "<div>\n",
       "<style scoped>\n",
       "    .dataframe tbody tr th:only-of-type {\n",
       "        vertical-align: middle;\n",
       "    }\n",
       "\n",
       "    .dataframe tbody tr th {\n",
       "        vertical-align: top;\n",
       "    }\n",
       "\n",
       "    .dataframe thead th {\n",
       "        text-align: right;\n",
       "    }\n",
       "</style>\n",
       "<table border=\"1\" class=\"dataframe\">\n",
       "  <thead>\n",
       "    <tr style=\"text-align: right;\">\n",
       "      <th></th>\n",
       "      <th>country</th>\n",
       "      <th>description</th>\n",
       "      <th>designation</th>\n",
       "      <th>points</th>\n",
       "      <th>price</th>\n",
       "      <th>province</th>\n",
       "      <th>region_1</th>\n",
       "      <th>region_2</th>\n",
       "      <th>taster_name</th>\n",
       "      <th>taster_twitter_handle</th>\n",
       "      <th>title</th>\n",
       "      <th>variety</th>\n",
       "      <th>winery</th>\n",
       "      <th>id</th>\n",
       "    </tr>\n",
       "  </thead>\n",
       "  <tbody>\n",
       "    <tr>\n",
       "      <th>0</th>\n",
       "      <td>Portugal</td>\n",
       "      <td>This is a fine rich balanced wine. It has ripe...</td>\n",
       "      <td>Vila Santa Reserva</td>\n",
       "      <td>88.870874</td>\n",
       "      <td>20.0</td>\n",
       "      <td>Alentejano</td>\n",
       "      <td>NaN</td>\n",
       "      <td>NaN</td>\n",
       "      <td>NaN</td>\n",
       "      <td>NaN</td>\n",
       "      <td>NaN</td>\n",
       "      <td>PORTUGUESE RED</td>\n",
       "      <td>J. Portugal Ramos</td>\n",
       "      <td>32027</td>\n",
       "    </tr>\n",
       "  </tbody>\n",
       "</table>\n",
       "</div>"
      ],
      "text/plain": [
       "    country                                        description  \\\n",
       "0  Portugal  This is a fine rich balanced wine. It has ripe...   \n",
       "\n",
       "          designation     points  price    province region_1 region_2  \\\n",
       "0  Vila Santa Reserva  88.870874   20.0  Alentejano      NaN      NaN   \n",
       "\n",
       "  taster_name taster_twitter_handle title         variety             winery  \\\n",
       "0         NaN                   NaN   NaN  PORTUGUESE RED  J. Portugal Ramos   \n",
       "\n",
       "      id  \n",
       "0  32027  "
      ]
     },
     "execution_count": 9,
     "metadata": {},
     "output_type": "execute_result"
    }
   ],
   "source": [
    "wine_train.head(1)"
   ]
  },
  {
   "cell_type": "code",
   "execution_count": 10,
   "metadata": {},
   "outputs": [],
   "source": [
    "wine_train['variety']=pd.Categorical(wine_train['variety'])\n",
    "wine_train[\"variety\"] = wine_train.variety.cat.codes\n",
    "\n",
    "\n",
    "wine_train['province']=pd.Categorical(wine_train['province'])\n",
    "wine_train[\"province\"] = wine_train.province.cat.codes\n",
    "\n",
    "wine_train['designation']=pd.Categorical(wine_train['designation'])\n",
    "wine_train[\"designation\"] = wine_train.designation.cat.codes\n",
    "\n",
    "wine_train['country']=pd.Categorical(wine_train['country'])\n",
    "wine_train[\"country\"] = wine_train.country.cat.codes\n",
    "\n",
    "\n",
    "\n",
    "wine_train['winery']=pd.Categorical(wine_train['winery'])\n",
    "wine_train[\"winery\"] = wine_train.winery.cat.codes\n",
    "\n",
    "wine_train['description']=pd.Categorical(wine_train['description'])\n",
    "wine_train[\"description\"] = wine_train.description.cat.codes\n",
    "\n",
    "\n",
    "#wine_train['region_1']=pd.Categorical(wine_train['region_1'])\n",
    "\n"
   ]
  },
  {
   "cell_type": "markdown",
   "metadata": {},
   "source": [
    "Let us declare our model variable and the corresponding features"
   ]
  },
  {
   "cell_type": "code",
   "execution_count": 11,
   "metadata": {},
   "outputs": [],
   "source": [
    "y=wine_train['price']\n",
    "X=wine_train[['description','designation','points','province'\n",
    "              ,'country','variety','winery']]\n",
    "    \n",
    "#X=wine_train[['points','winery','designation']]\n"
   ]
  },
  {
   "cell_type": "markdown",
   "metadata": {},
   "source": [
    "Let's Train the model"
   ]
  },
  {
   "cell_type": "code",
   "execution_count": 12,
   "metadata": {},
   "outputs": [],
   "source": [
    "from sklearn.model_selection import train_test_split\n",
    "\n",
    "X_train, X_test,y_train, y_test = train_test_split(X, y, test_size=0.2, random_state=101)"
   ]
  },
  {
   "cell_type": "markdown",
   "metadata": {},
   "source": [
    "Building the model by using CatBoost package"
   ]
  },
  {
   "cell_type": "code",
   "execution_count": 13,
   "metadata": {},
   "outputs": [],
   "source": [
    "model_cat = CatBoostRegressor()"
   ]
  },
  {
   "cell_type": "code",
   "execution_count": 14,
   "metadata": {},
   "outputs": [
    {
     "data": {
      "text/plain": [
       "<catboost.core.CatBoostRegressor at 0x7feb7e707630>"
      ]
     },
     "execution_count": 14,
     "metadata": {},
     "output_type": "execute_result"
    }
   ],
   "source": [
    "model_cat"
   ]
  },
  {
   "cell_type": "code",
   "execution_count": 25,
   "metadata": {},
   "outputs": [
    {
     "data": {
      "text/plain": [
       "<catboost.core.CatBoostRegressor at 0x7feb7e707630>"
      ]
     },
     "execution_count": 25,
     "metadata": {},
     "output_type": "execute_result"
    }
   ],
   "source": [
    "# model_cat.fit(X_train, y_train, silent=True)"
   ]
  },
  {
   "cell_type": "code",
   "execution_count": 30,
   "metadata": {},
   "outputs": [
    {
     "data": {
      "text/plain": [
       "<catboost.core.CatBoostRegressor at 0x7feb7e707630>"
      ]
     },
     "execution_count": 30,
     "metadata": {},
     "output_type": "execute_result"
    }
   ],
   "source": [
    "# Total Training \n",
    "model_cat.fit(X, y, silent=True)"
   ]
  },
  {
   "cell_type": "markdown",
   "metadata": {},
   "source": [
    "Model evaluation"
   ]
  },
  {
   "cell_type": "code",
   "execution_count": 31,
   "metadata": {},
   "outputs": [
    {
     "data": {
      "text/plain": [
       "35000"
      ]
     },
     "execution_count": 31,
     "metadata": {},
     "output_type": "execute_result"
    }
   ],
   "source": [
    "preds = model_cat.predict(X_test)\n",
    "\n",
    "preds\n",
    "import numpy as np\n",
    "np.shape(wine_train)\n",
    "len(preds)"
   ]
  },
  {
   "cell_type": "code",
   "execution_count": 28,
   "metadata": {},
   "outputs": [
    {
     "name": "stdout",
     "output_type": "stream",
     "text": [
      "3.6025842213692405\n"
     ]
    }
   ],
   "source": [
    "\n",
    "from sklearn import metrics\n",
    "print (np.sqrt(metrics.mean_absolute_error(preds,y_test)))"
   ]
  },
  {
   "cell_type": "markdown",
   "metadata": {},
   "source": [
    "# Testing"
   ]
  },
  {
   "cell_type": "code",
   "execution_count": 19,
   "metadata": {},
   "outputs": [],
   "source": [
    "wine_test['variety']=pd.Categorical(wine_test['variety'])\n",
    "wine_test[\"variety\"] = wine_test.variety.cat.codes\n",
    "\n",
    "\n",
    "wine_test['province']=pd.Categorical(wine_test['province'])\n",
    "wine_test[\"province\"] = wine_test.province.cat.codes\n",
    "\n",
    "wine_test['designation']=pd.Categorical(wine_test['designation'])\n",
    "wine_test[\"designation\"] = wine_test.designation.cat.codes\n",
    "\n",
    "wine_test['country']=pd.Categorical(wine_test['country'])\n",
    "wine_test[\"country\"] = wine_test.country.cat.codes\n",
    "\n",
    "\n",
    "\n",
    "wine_test['winery']=pd.Categorical(wine_test['winery'])\n",
    "wine_test[\"winery\"] = wine_test.winery.cat.codes\n",
    "\n",
    "wine_test['description']=pd.Categorical(wine_test['description'])\n",
    "wine_test[\"description\"] = wine_test.description.cat.codes\n",
    "\n",
    "\n",
    "#wine_train['region_1']=pd.Categorical(wine_train['region_1'])\n",
    "\n"
   ]
  },
  {
   "cell_type": "code",
   "execution_count": 20,
   "metadata": {},
   "outputs": [],
   "source": [
    "wine_test_selected = wine_test[['description','designation','points','province'\n",
    "              ,'country','variety','winery']]\n",
    "    \n",
    "#X=wine_train[['points','winery','designation']]\n"
   ]
  },
  {
   "cell_type": "code",
   "execution_count": 21,
   "metadata": {},
   "outputs": [
    {
     "data": {
      "text/plain": [
       "array([137.84899507,  41.03124537,  45.4742882 , ...,  37.87144517,\n",
       "        21.35048687,  54.29004061])"
      ]
     },
     "execution_count": 21,
     "metadata": {},
     "output_type": "execute_result"
    }
   ],
   "source": [
    "preds = model_cat.predict(wine_test_selected)\n",
    "\n",
    "preds"
   ]
  },
  {
   "cell_type": "code",
   "execution_count": 55,
   "metadata": {},
   "outputs": [
    {
     "data": {
      "text/plain": [
       "0            0\n",
       "1            1\n",
       "2            2\n",
       "3            3\n",
       "4            4\n",
       "         ...  \n",
       "83205    83205\n",
       "83206    83206\n",
       "83207    83207\n",
       "83208    83208\n",
       "83209    83209\n",
       "Name: id, Length: 83210, dtype: int64"
      ]
     },
     "execution_count": 55,
     "metadata": {},
     "output_type": "execute_result"
    }
   ],
   "source": [
    "wine_test.id"
   ]
  },
  {
   "cell_type": "code",
   "execution_count": 25,
   "metadata": {},
   "outputs": [
    {
     "data": {
      "text/plain": [
       "numpy.ndarray"
      ]
     },
     "execution_count": 25,
     "metadata": {},
     "output_type": "execute_result"
    }
   ],
   "source": [
    "type(preds)#.size"
   ]
  },
  {
   "cell_type": "code",
   "execution_count": 52,
   "metadata": {},
   "outputs": [
    {
     "data": {
      "text/plain": [
       "(83210, 1)"
      ]
     },
     "execution_count": 52,
     "metadata": {},
     "output_type": "execute_result"
    }
   ],
   "source": [
    "preds.reshape(-1,1).shape"
   ]
  },
  {
   "cell_type": "code",
   "execution_count": 65,
   "metadata": {},
   "outputs": [
    {
     "name": "stderr",
     "output_type": "stream",
     "text": [
      "/home/aims/anaconda3/envs/aims/lib/python3.5/site-packages/ipykernel_launcher.py:2: SettingWithCopyWarning: \n",
      "A value is trying to be set on a copy of a slice from a DataFrame.\n",
      "Try using .loc[row_indexer,col_indexer] = value instead\n",
      "\n",
      "See the caveats in the documentation: http://pandas.pydata.org/pandas-docs/stable/user_guide/indexing.html#returning-a-view-versus-a-copy\n",
      "  \n"
     ]
    }
   ],
   "source": [
    "output = wine_test[['id']]\n",
    "output['price']=preds.reshape(-1,1)"
   ]
  },
  {
   "cell_type": "code",
   "execution_count": 66,
   "metadata": {},
   "outputs": [
    {
     "data": {
      "text/html": [
       "<div>\n",
       "<style scoped>\n",
       "    .dataframe tbody tr th:only-of-type {\n",
       "        vertical-align: middle;\n",
       "    }\n",
       "\n",
       "    .dataframe tbody tr th {\n",
       "        vertical-align: top;\n",
       "    }\n",
       "\n",
       "    .dataframe thead th {\n",
       "        text-align: right;\n",
       "    }\n",
       "</style>\n",
       "<table border=\"1\" class=\"dataframe\">\n",
       "  <thead>\n",
       "    <tr style=\"text-align: right;\">\n",
       "      <th></th>\n",
       "      <th>id</th>\n",
       "      <th>price</th>\n",
       "    </tr>\n",
       "  </thead>\n",
       "  <tbody>\n",
       "    <tr>\n",
       "      <th>0</th>\n",
       "      <td>0</td>\n",
       "      <td>137.848995</td>\n",
       "    </tr>\n",
       "    <tr>\n",
       "      <th>1</th>\n",
       "      <td>1</td>\n",
       "      <td>41.031245</td>\n",
       "    </tr>\n",
       "    <tr>\n",
       "      <th>2</th>\n",
       "      <td>2</td>\n",
       "      <td>45.474288</td>\n",
       "    </tr>\n",
       "    <tr>\n",
       "      <th>3</th>\n",
       "      <td>3</td>\n",
       "      <td>44.536009</td>\n",
       "    </tr>\n",
       "    <tr>\n",
       "      <th>4</th>\n",
       "      <td>4</td>\n",
       "      <td>22.587035</td>\n",
       "    </tr>\n",
       "  </tbody>\n",
       "</table>\n",
       "</div>"
      ],
      "text/plain": [
       "   id       price\n",
       "0   0  137.848995\n",
       "1   1   41.031245\n",
       "2   2   45.474288\n",
       "3   3   44.536009\n",
       "4   4   22.587035"
      ]
     },
     "execution_count": 66,
     "metadata": {},
     "output_type": "execute_result"
    }
   ],
   "source": [
    "output.head()"
   ]
  },
  {
   "cell_type": "code",
   "execution_count": 68,
   "metadata": {},
   "outputs": [],
   "source": [
    "output.to_csv('final_output.csv',index=False)"
   ]
  },
  {
   "cell_type": "code",
   "execution_count": 35,
   "metadata": {},
   "outputs": [
    {
     "name": "stdout",
     "output_type": "stream",
     "text": [
      " catboost_info\t\t      Datasets\t    'Group 1.ipynb'   README.md\n",
      " Cat_boost_Regression.ipynb   final_output   LICENSE\n"
     ]
    }
   ],
   "source": [
    "!ls"
   ]
  },
  {
   "cell_type": "code",
   "execution_count": null,
   "metadata": {},
   "outputs": [],
   "source": []
  }
 ],
 "metadata": {
  "kernelspec": {
   "display_name": "Python 3",
   "language": "python",
   "name": "python3"
  },
  "language_info": {
   "codemirror_mode": {
    "name": "ipython",
    "version": 3
   },
   "file_extension": ".py",
   "mimetype": "text/x-python",
   "name": "python",
   "nbconvert_exporter": "python",
   "pygments_lexer": "ipython3",
   "version": "3.5.6"
  }
 },
 "nbformat": 4,
 "nbformat_minor": 4
}
