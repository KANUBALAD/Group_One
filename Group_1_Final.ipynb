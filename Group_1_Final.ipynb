{
 "cells": [
  {
   "cell_type": "markdown",
   "metadata": {
    "colab_type": "text",
    "id": "FixNZnBxn4ve"
   },
   "source": [
    "# Predict __Price of a bottle of wine__\n",
    "\n",
    "# Summary\n",
    "\n",
    "The data summarize **258210** wine reviews:\n",
    "\n",
    "__175000__ are the training set, the data on which to train your models;\n",
    "\n",
    "The remaining __83210__ observations constitute the validation set (or score set), or the data on which you must make the estimate for the submission. The validation set at your disposal obviously does not contain the variable price, the price of the bottle of wine that the goal of your forecast.\n",
    "\n",
    " \n",
    "\n",
    "## File descriptions\n",
    "\n",
    "    - train.csv - the training set\n",
    "    - test.csv - the test set\n",
    "    - Sample_Submission.csv  - a sample submission file in the correct format\n",
    " \n",
    "### Data fields\n",
    "\n",
    "**country (String)** The country that the wine is from\n",
    "\n",
    "**province (String)** The province or state that the wine is from\n",
    "\n",
    "**region_1 (String)** The wine growing area in a province or state (ie Napa)\n",
    "\n",
    "**region_2 (String)** Sometimes there are more specific regions within the wine growing area (ie Rutherford inside the Napa Valley), but this value can sometimes be blank\n",
    "\n",
    "**winery (String)** The winery that made the wine\n",
    "\n",
    "**variety (String)** The type of grapes used to make the wine (ie Pinot Noir)\n",
    "\n",
    "**designation (String)** The vineyard within the winery where the grapes that made the wine are from\n",
    "\n",
    "**taster_name (String)** taster name\n",
    "\n",
    "**taster_twitter_handle (String)** taster twitter account name\n",
    "\n",
    "**description (String)** A few sentences from a sommelier describing the wine's taste, smell, look, feel, etc.\n",
    "\n",
    "**points (Numeric)** Number of points WineEnthusiast rated the wine on a scale of **1-100**\n",
    "\n",
    "## __TARGET: price (Numeric) The cost for a bottle of wine__"
   ]
  },
  {
   "cell_type": "markdown",
   "metadata": {
    "colab_type": "text",
    "id": "K6_wfu5en4vk"
   },
   "source": [
    "The accuracy of your forecasts will be evaluated using the Root Mean Squared Error (RMSE).\n",
    "\n",
    "An example code for the calculation:\n",
    "\n",
    "RMSE = sqrt (mean ((predicted-true) ^ 2))\n",
    "\n",
    "This leaderboard is calculated with approximately 30% of the test data.\n",
    "\n",
    "The final results will be based on the other 70%, so the final standings may be different"
   ]
  },
  {
   "cell_type": "markdown",
   "metadata": {
    "colab_type": "text",
    "id": "xpttDbfzn4vm"
   },
   "source": [
    "# Import Libraries"
   ]
  },
  {
   "cell_type": "code",
   "execution_count": 1,
   "metadata": {
    "colab": {
     "base_uri": "https://localhost:8080/",
     "height": 483
    },
    "colab_type": "code",
    "id": "ZWvypCzLn4vo",
    "outputId": "d89ff294-4363-4079-dfc5-aa26e310adf5"
   },
   "outputs": [
    {
     "name": "stderr",
     "output_type": "stream",
     "text": [
      "Using TensorFlow backend.\n"
     ]
    },
    {
     "name": "stdout",
     "output_type": "stream",
     "text": [
      "[nltk_data] Downloading package punkt to /root/nltk_data...\n",
      "[nltk_data]   Unzipping tokenizers/punkt.zip.\n",
      "[nltk_data] Downloading package stopwords to /root/nltk_data...\n",
      "[nltk_data]   Unzipping corpora/stopwords.zip.\n",
      "1.16.5\n",
      "Collecting ipdb\n",
      "  Downloading https://files.pythonhosted.org/packages/df/78/3d0d7253dc85549db182cbe4b43b30c506c84008fcd39898122c9b6306a9/ipdb-0.12.2.tar.gz\n",
      "Requirement already satisfied: setuptools in /usr/local/lib/python3.6/dist-packages (from ipdb) (41.4.0)\n",
      "Requirement already satisfied: ipython>=5.1.0 in /usr/local/lib/python3.6/dist-packages (from ipdb) (5.5.0)\n",
      "Requirement already satisfied: decorator in /usr/local/lib/python3.6/dist-packages (from ipython>=5.1.0->ipdb) (4.4.0)\n",
      "Requirement already satisfied: pygments in /usr/local/lib/python3.6/dist-packages (from ipython>=5.1.0->ipdb) (2.1.3)\n",
      "Requirement already satisfied: traitlets>=4.2 in /usr/local/lib/python3.6/dist-packages (from ipython>=5.1.0->ipdb) (4.3.3)\n",
      "Requirement already satisfied: pickleshare in /usr/local/lib/python3.6/dist-packages (from ipython>=5.1.0->ipdb) (0.7.5)\n",
      "Requirement already satisfied: prompt-toolkit<2.0.0,>=1.0.4 in /usr/local/lib/python3.6/dist-packages (from ipython>=5.1.0->ipdb) (1.0.18)\n",
      "Requirement already satisfied: simplegeneric>0.8 in /usr/local/lib/python3.6/dist-packages (from ipython>=5.1.0->ipdb) (0.8.1)\n",
      "Requirement already satisfied: pexpect; sys_platform != \"win32\" in /usr/local/lib/python3.6/dist-packages (from ipython>=5.1.0->ipdb) (4.7.0)\n",
      "Requirement already satisfied: six in /usr/local/lib/python3.6/dist-packages (from traitlets>=4.2->ipython>=5.1.0->ipdb) (1.12.0)\n",
      "Requirement already satisfied: ipython-genutils in /usr/local/lib/python3.6/dist-packages (from traitlets>=4.2->ipython>=5.1.0->ipdb) (0.2.0)\n",
      "Requirement already satisfied: wcwidth in /usr/local/lib/python3.6/dist-packages (from prompt-toolkit<2.0.0,>=1.0.4->ipython>=5.1.0->ipdb) (0.1.7)\n",
      "Requirement already satisfied: ptyprocess>=0.5 in /usr/local/lib/python3.6/dist-packages (from pexpect; sys_platform != \"win32\"->ipython>=5.1.0->ipdb) (0.6.0)\n",
      "Building wheels for collected packages: ipdb\n",
      "  Building wheel for ipdb (setup.py) ... \u001b[?25l\u001b[?25hdone\n",
      "  Created wheel for ipdb: filename=ipdb-0.12.2-cp36-none-any.whl size=9171 sha256=1a13f1207ce74b014ae9c910b66435543b7c5c8e2b1a5787076edc663143b274\n",
      "  Stored in directory: /root/.cache/pip/wheels/7a/00/07/c906eaf1b90367fbb81bd840e56bf8859dbd3efe3838c0b4ba\n",
      "Successfully built ipdb\n",
      "Installing collected packages: ipdb\n",
      "Successfully installed ipdb-0.12.2\n"
     ]
    }
   ],
   "source": [
    "# Import packages\n",
    "import tensorflow as tf\n",
    "# tf.enable_eager_execution()\n",
    "\n",
    "from keras.datasets import imdb\n",
    "from keras import preprocessing\n",
    "from keras.models import Sequential\n",
    "from keras.layers import Flatten, Dense\n",
    "from keras.layers import Embedding\n",
    "from keras.preprocessing.text import Tokenizer\n",
    "from keras.preprocessing.sequence import pad_sequences\n",
    "from keras import losses\n",
    "from keras import metrics\n",
    "from keras import optimizers\n",
    "from keras.layers import Dropout\n",
    "\n",
    "import string\n",
    "from nltk.tokenize import word_tokenize\n",
    "from nltk.corpus import stopwords\n",
    "\n",
    "import nltk\n",
    "nltk.download('punkt')\n",
    "nltk.download('stopwords')\n",
    "\n",
    "# Downgrate numpy to fix a problem\n",
    "# !pip install numpy==1.16.2\n",
    "import numpy as np\n",
    "print(np.__version__)\n",
    "\n",
    "import matplotlib.pyplot as plt\n",
    "\n",
    "import os\n",
    "\n",
    "import numpy as np\n",
    "\n",
    "import string\n",
    "\n",
    "!pip install ipdb\n",
    "import ipdb # deb\n",
    "\n",
    "from gensim.models.keyedvectors import KeyedVectors\n",
    "\n",
    "# Spliting data\n",
    "from sklearn.model_selection import train_test_split\n",
    "\n",
    "from sklearn import metrics # For RUC\n",
    "\n",
    "from nltk.stem import PorterStemmer\n",
    "\n",
    "import tensorflow_hub as hub\n",
    "import pandas as pd\n",
    "import re\n",
    "import seaborn as sns\n",
    "\n",
    "# from google.colab import files\n",
    "\n",
    "from IPython import display\n",
    "\n",
    "import logging\n",
    "logging.getLogger('googleapiclient.discovery_cache').setLevel(logging.ERROR)"
   ]
  },
  {
   "cell_type": "code",
   "execution_count": null,
   "metadata": {
    "colab": {},
    "colab_type": "code",
    "id": "Q0RDZvO5n4v5"
   },
   "outputs": [],
   "source": [
    "%matplotlib inline"
   ]
  },
  {
   "cell_type": "code",
   "execution_count": 1,
   "metadata": {
    "colab": {
     "base_uri": "https://localhost:8080/",
     "height": 402
    },
    "colab_type": "code",
    "id": "v2OjyXCin4wC",
    "outputId": "497e15c0-647f-4e27-9809-1573985385dc"
   },
   "outputs": [],
   "source": [
    "train = pd.read_csv(\"./Datasets/train.csv\")\n",
    "test = pd.read_csv(\"./Datasets/test.csv\")\n",
    "test.drop(['price', 'index'], axis=1, inplace=True)"
   ]
  },
  {
   "cell_type": "code",
   "execution_count": null,
   "metadata": {
    "colab": {},
    "colab_type": "code",
    "id": "wd3AOrLOn4wJ"
   },
   "outputs": [],
   "source": [
    "def preprocess(df: pd.DataFrame) -> pd.DataFrame:\n",
    "    df['country'] = df['country'].fillna('') + ' ' + df['province'].fillna('')+\\\n",
    "    ' ' + df['region_1'].fillna('')+' ' + df['region_2'].fillna('')\n",
    "    df['text'] = (df['description'].fillna('') + ' ' + df['country'] + ' ' + df['designation'].fillna(''))\n",
    "    df['info'] = (df['text'].fillna('')+' '+df['taster_name'].fillna('')+' '+\\\n",
    "                  df['taster_twitter_handle'].fillna('')+\\\n",
    "                 ' ' + df['title'].fillna('') + df['variety'].fillna('')+df['winery'].fillna(''))\n",
    "    return df[['country', 'text', 'info']]"
   ]
  },
  {
   "cell_type": "code",
   "execution_count": null,
   "metadata": {
    "colab": {},
    "colab_type": "code",
    "id": "Np1fjq4kn4wP"
   },
   "outputs": [],
   "source": [
    "preprocess(train)"
   ]
  },
  {
   "cell_type": "code",
   "execution_count": null,
   "metadata": {
    "colab": {},
    "colab_type": "code",
    "id": "_Wcs-IDSn4wc"
   },
   "outputs": [],
   "source": []
  },
  {
   "cell_type": "code",
   "execution_count": null,
   "metadata": {
    "colab": {},
    "colab_type": "code",
    "id": "RtZ4fJbon4wk"
   },
   "outputs": [],
   "source": []
  },
  {
   "cell_type": "code",
   "execution_count": null,
   "metadata": {
    "colab": {},
    "colab_type": "code",
    "id": "2nJEh4kGn4wr"
   },
   "outputs": [],
   "source": []
  },
  {
   "cell_type": "code",
   "execution_count": null,
   "metadata": {
    "colab": {},
    "colab_type": "code",
    "id": "TvPEC0yfn4wz"
   },
   "outputs": [],
   "source": []
  },
  {
   "cell_type": "code",
   "execution_count": null,
   "metadata": {
    "colab": {},
    "colab_type": "code",
    "id": "CeFZ3bZRn4w-"
   },
   "outputs": [],
   "source": []
  },
  {
   "cell_type": "code",
   "execution_count": null,
   "metadata": {
    "colab": {},
    "colab_type": "code",
    "id": "j1un3lqgn4xF"
   },
   "outputs": [],
   "source": []
  },
  {
   "cell_type": "code",
   "execution_count": null,
   "metadata": {
    "colab": {},
    "colab_type": "code",
    "id": "nkCMTIWRn4xL"
   },
   "outputs": [],
   "source": []
  },
  {
   "cell_type": "markdown",
   "metadata": {
    "colab_type": "text",
    "id": "nBzH7dGen4xR"
   },
   "source": [
    "# Other Method (In class)"
   ]
  },
  {
   "cell_type": "code",
   "execution_count": null,
   "metadata": {
    "colab": {},
    "colab_type": "code",
    "id": "Y0qlOTBQn4xW"
   },
   "outputs": [],
   "source": [
    "import numpy as np\n",
    "import pandas as pd\n",
    "\n",
    "from sklearn.preprocessing import LabelEncoder, MinMaxScaler, StandardScaler\n",
    "from sklearn.model_selection import train_test_split\n",
    "\n",
    "import matplotlib.pyplot as plt\n",
    "%matplotlib inline \n",
    "\n",
    "import math\n",
    "\n",
    "\n",
    "from subprocess import check_output\n",
    "# print(check_output([\"ls\", \"../input\"]).decode(\"utf8\"))"
   ]
  },
  {
   "cell_type": "code",
   "execution_count": null,
   "metadata": {
    "colab": {},
    "colab_type": "code",
    "id": "kVBbCszdn4xi"
   },
   "outputs": [],
   "source": [
    "train = pd.read_csv(\"./train.csv\")\n",
    "test = pd.read_csv(\"./test.csv\")\n",
    "test.drop(['price', 'index'], axis=1, inplace=True)"
   ]
  },
  {
   "cell_type": "code",
   "execution_count": null,
   "metadata": {
    "colab": {},
    "colab_type": "code",
    "id": "zqHAnersn4xp"
   },
   "outputs": [],
   "source": [
    "train.fillna(value='missing', inplace=True)\n",
    "test.fillna(value='missing', inplace=True)"
   ]
  },
  {
   "cell_type": "code",
   "execution_count": null,
   "metadata": {
    "colab": {},
    "colab_type": "code",
    "id": "nPvmRNd1n4xv"
   },
   "outputs": [],
   "source": [
    "# train['target'] = np.log1p(train['price'])"
   ]
  },
  {
   "cell_type": "code",
   "execution_count": 6,
   "metadata": {
    "colab": {
     "base_uri": "https://localhost:8080/",
     "height": 314
    },
    "colab_type": "code",
    "id": "6-xBG5pWn4x5",
    "outputId": "4e35d230-f634-4949-dcd6-b9575d2958f9"
   },
   "outputs": [
    {
     "data": {
      "text/html": [
       "<div>\n",
       "<style scoped>\n",
       "    .dataframe tbody tr th:only-of-type {\n",
       "        vertical-align: middle;\n",
       "    }\n",
       "\n",
       "    .dataframe tbody tr th {\n",
       "        vertical-align: top;\n",
       "    }\n",
       "\n",
       "    .dataframe thead th {\n",
       "        text-align: right;\n",
       "    }\n",
       "</style>\n",
       "<table border=\"1\" class=\"dataframe\">\n",
       "  <thead>\n",
       "    <tr style=\"text-align: right;\">\n",
       "      <th></th>\n",
       "      <th>country</th>\n",
       "      <th>description</th>\n",
       "      <th>designation</th>\n",
       "      <th>points</th>\n",
       "      <th>price</th>\n",
       "      <th>province</th>\n",
       "      <th>region_1</th>\n",
       "      <th>region_2</th>\n",
       "      <th>taster_name</th>\n",
       "      <th>taster_twitter_handle</th>\n",
       "      <th>title</th>\n",
       "      <th>variety</th>\n",
       "      <th>winery</th>\n",
       "      <th>id</th>\n",
       "    </tr>\n",
       "  </thead>\n",
       "  <tbody>\n",
       "    <tr>\n",
       "      <th>0</th>\n",
       "      <td>Portugal</td>\n",
       "      <td>This is a fine rich balanced wine. It has ripe...</td>\n",
       "      <td>Vila Santa Reserva</td>\n",
       "      <td>88.870874</td>\n",
       "      <td>20.0</td>\n",
       "      <td>Alentejano</td>\n",
       "      <td>missing</td>\n",
       "      <td>missing</td>\n",
       "      <td>missing</td>\n",
       "      <td>missing</td>\n",
       "      <td>missing</td>\n",
       "      <td>PORTUGUESE RED</td>\n",
       "      <td>J. Portugal Ramos</td>\n",
       "      <td>32027</td>\n",
       "    </tr>\n",
       "    <tr>\n",
       "      <th>1</th>\n",
       "      <td>France</td>\n",
       "      <td>A solid, chunky wine, with a structure that is...</td>\n",
       "      <td>missing</td>\n",
       "      <td>88.041695</td>\n",
       "      <td>28.0</td>\n",
       "      <td>Bordeaux</td>\n",
       "      <td>Lalande de Pomerol</td>\n",
       "      <td>missing</td>\n",
       "      <td>missing</td>\n",
       "      <td>missing</td>\n",
       "      <td>missing</td>\n",
       "      <td>BORDEAUX-STYLE RED BLEND</td>\n",
       "      <td>Château Tour Grand Colombier</td>\n",
       "      <td>71079</td>\n",
       "    </tr>\n",
       "    <tr>\n",
       "      <th>2</th>\n",
       "      <td>France</td>\n",
       "      <td>This is powerful and concentrated, with the hi...</td>\n",
       "      <td>missing</td>\n",
       "      <td>94.085021</td>\n",
       "      <td>130.0</td>\n",
       "      <td>Bordeaux</td>\n",
       "      <td>Saint-Émilion</td>\n",
       "      <td>missing</td>\n",
       "      <td>missing</td>\n",
       "      <td>missing</td>\n",
       "      <td>missing</td>\n",
       "      <td>BORDEAUX-STYLE RED BLEND</td>\n",
       "      <td>Château Figeac</td>\n",
       "      <td>32440</td>\n",
       "    </tr>\n",
       "    <tr>\n",
       "      <th>3</th>\n",
       "      <td>US</td>\n",
       "      <td>Rich, ripe and oaky, this Petite Sirah charms ...</td>\n",
       "      <td>Thompson Vineyard</td>\n",
       "      <td>89.869797</td>\n",
       "      <td>34.0</td>\n",
       "      <td>California</td>\n",
       "      <td>Santa Barbara County</td>\n",
       "      <td>Central Coast</td>\n",
       "      <td>missing</td>\n",
       "      <td>missing</td>\n",
       "      <td>Jaffurs 2010 Thompson Vineyard Petite Sirah (S...</td>\n",
       "      <td>PETITE SIRAH</td>\n",
       "      <td>Jaffurs</td>\n",
       "      <td>124405</td>\n",
       "    </tr>\n",
       "    <tr>\n",
       "      <th>4</th>\n",
       "      <td>US</td>\n",
       "      <td>This wine is a unique in the state blend and f...</td>\n",
       "      <td>McKinley Springs Vineyard</td>\n",
       "      <td>89.017651</td>\n",
       "      <td>24.0</td>\n",
       "      <td>Washington</td>\n",
       "      <td>Horse Heaven Hills</td>\n",
       "      <td>Columbia Valley</td>\n",
       "      <td>Sean P. Sullivan</td>\n",
       "      <td>@wawinereport</td>\n",
       "      <td>Syncline 2016 McKinley Springs Vineyard Rosé (...</td>\n",
       "      <td>ROSé</td>\n",
       "      <td>Syncline</td>\n",
       "      <td>33649</td>\n",
       "    </tr>\n",
       "  </tbody>\n",
       "</table>\n",
       "</div>"
      ],
      "text/plain": [
       "    country  ...      id\n",
       "0  Portugal  ...   32027\n",
       "1    France  ...   71079\n",
       "2    France  ...   32440\n",
       "3        US  ...  124405\n",
       "4        US  ...   33649\n",
       "\n",
       "[5 rows x 14 columns]"
      ]
     },
     "execution_count": 6,
     "metadata": {
      "tags": []
     },
     "output_type": "execute_result"
    }
   ],
   "source": [
    "train.head()"
   ]
  },
  {
   "cell_type": "code",
   "execution_count": 7,
   "metadata": {
    "colab": {
     "base_uri": "https://localhost:8080/",
     "height": 264
    },
    "colab_type": "code",
    "id": "FGuBqN6Hn4yF",
    "outputId": "26aa94c8-5a1e-4c29-b809-35212eb3e5cc"
   },
   "outputs": [
    {
     "data": {
      "text/html": [
       "<div>\n",
       "<style scoped>\n",
       "    .dataframe tbody tr th:only-of-type {\n",
       "        vertical-align: middle;\n",
       "    }\n",
       "\n",
       "    .dataframe tbody tr th {\n",
       "        vertical-align: top;\n",
       "    }\n",
       "\n",
       "    .dataframe thead th {\n",
       "        text-align: right;\n",
       "    }\n",
       "</style>\n",
       "<table border=\"1\" class=\"dataframe\">\n",
       "  <thead>\n",
       "    <tr style=\"text-align: right;\">\n",
       "      <th></th>\n",
       "      <th>country</th>\n",
       "      <th>description</th>\n",
       "      <th>designation</th>\n",
       "      <th>points</th>\n",
       "      <th>province</th>\n",
       "      <th>region_1</th>\n",
       "      <th>region_2</th>\n",
       "      <th>taster_name</th>\n",
       "      <th>taster_twitter_handle</th>\n",
       "      <th>title</th>\n",
       "      <th>variety</th>\n",
       "      <th>winery</th>\n",
       "      <th>id</th>\n",
       "    </tr>\n",
       "  </thead>\n",
       "  <tbody>\n",
       "    <tr>\n",
       "      <th>83205</th>\n",
       "      <td>US</td>\n",
       "      <td>A simple, direct wine, pretty full-bodied for ...</td>\n",
       "      <td>Le Pique-Nique</td>\n",
       "      <td>81.961663</td>\n",
       "      <td>California</td>\n",
       "      <td>Sonoma Valley</td>\n",
       "      <td>Sonoma</td>\n",
       "      <td>missing</td>\n",
       "      <td>missing</td>\n",
       "      <td>missing</td>\n",
       "      <td>ROSé</td>\n",
       "      <td>Wellington</td>\n",
       "      <td>83205</td>\n",
       "    </tr>\n",
       "    <tr>\n",
       "      <th>83206</th>\n",
       "      <td>US</td>\n",
       "      <td>This dry, spicy wine shows the rustic, rugged ...</td>\n",
       "      <td>Rebecca's Vineyard</td>\n",
       "      <td>87.162191</td>\n",
       "      <td>California</td>\n",
       "      <td>Dry Creek Valley</td>\n",
       "      <td>Sonoma</td>\n",
       "      <td>missing</td>\n",
       "      <td>missing</td>\n",
       "      <td>missing</td>\n",
       "      <td>CABERNET SAUVIGNON</td>\n",
       "      <td>Forth</td>\n",
       "      <td>83206</td>\n",
       "    </tr>\n",
       "    <tr>\n",
       "      <th>83207</th>\n",
       "      <td>Italy</td>\n",
       "      <td>Attractive apricot, peach and honey aromas vie...</td>\n",
       "      <td>Aurente</td>\n",
       "      <td>89.057585</td>\n",
       "      <td>Central Italy</td>\n",
       "      <td>Umbria</td>\n",
       "      <td>missing</td>\n",
       "      <td>missing</td>\n",
       "      <td>missing</td>\n",
       "      <td>missing</td>\n",
       "      <td>CHARDONNAY</td>\n",
       "      <td>Lungarotti</td>\n",
       "      <td>83207</td>\n",
       "    </tr>\n",
       "    <tr>\n",
       "      <th>83208</th>\n",
       "      <td>France</td>\n",
       "      <td>Red cherries and jelly fruits highlight a wine...</td>\n",
       "      <td>missing</td>\n",
       "      <td>84.907909</td>\n",
       "      <td>Burgundy</td>\n",
       "      <td>Bourgogne</td>\n",
       "      <td>missing</td>\n",
       "      <td>missing</td>\n",
       "      <td>missing</td>\n",
       "      <td>missing</td>\n",
       "      <td>PINOT NOIR</td>\n",
       "      <td>Bouchard Père &amp; Fils</td>\n",
       "      <td>83208</td>\n",
       "    </tr>\n",
       "    <tr>\n",
       "      <th>83209</th>\n",
       "      <td>Italy</td>\n",
       "      <td>Tasca d'Almerita makes what may be the best ex...</td>\n",
       "      <td>missing</td>\n",
       "      <td>92.038702</td>\n",
       "      <td>Sicily &amp; Sardinia</td>\n",
       "      <td>Sicilia</td>\n",
       "      <td>missing</td>\n",
       "      <td>missing</td>\n",
       "      <td>missing</td>\n",
       "      <td>missing</td>\n",
       "      <td>CABERNET SAUVIGNON</td>\n",
       "      <td>Tasca d'Almerita</td>\n",
       "      <td>83209</td>\n",
       "    </tr>\n",
       "  </tbody>\n",
       "</table>\n",
       "</div>"
      ],
      "text/plain": [
       "      country  ...     id\n",
       "83205      US  ...  83205\n",
       "83206      US  ...  83206\n",
       "83207   Italy  ...  83207\n",
       "83208  France  ...  83208\n",
       "83209   Italy  ...  83209\n",
       "\n",
       "[5 rows x 13 columns]"
      ]
     },
     "execution_count": 7,
     "metadata": {
      "tags": []
     },
     "output_type": "execute_result"
    }
   ],
   "source": [
    "test.tail()"
   ]
  },
  {
   "cell_type": "code",
   "execution_count": 8,
   "metadata": {
    "colab": {
     "base_uri": "https://localhost:8080/",
     "height": 204
    },
    "colab_type": "code",
    "id": "krfC8Xf9n4yM",
    "outputId": "227a9d69-2701-4640-b480-947f847d07a6"
   },
   "outputs": [
    {
     "name": "stdout",
     "output_type": "stream",
     "text": [
      "Handling categorical variables...\n"
     ]
    },
    {
     "data": {
      "text/html": [
       "<div>\n",
       "<style scoped>\n",
       "    .dataframe tbody tr th:only-of-type {\n",
       "        vertical-align: middle;\n",
       "    }\n",
       "\n",
       "    .dataframe tbody tr th {\n",
       "        vertical-align: top;\n",
       "    }\n",
       "\n",
       "    .dataframe thead th {\n",
       "        text-align: right;\n",
       "    }\n",
       "</style>\n",
       "<table border=\"1\" class=\"dataframe\">\n",
       "  <thead>\n",
       "    <tr style=\"text-align: right;\">\n",
       "      <th></th>\n",
       "      <th>country</th>\n",
       "      <th>description</th>\n",
       "      <th>designation</th>\n",
       "      <th>points</th>\n",
       "      <th>price</th>\n",
       "      <th>province</th>\n",
       "      <th>region_1</th>\n",
       "      <th>region_2</th>\n",
       "      <th>taster_name</th>\n",
       "      <th>taster_twitter_handle</th>\n",
       "      <th>title</th>\n",
       "      <th>variety</th>\n",
       "      <th>winery</th>\n",
       "      <th>id</th>\n",
       "    </tr>\n",
       "  </thead>\n",
       "  <tbody>\n",
       "    <tr>\n",
       "      <th>0</th>\n",
       "      <td>34</td>\n",
       "      <td>This is a fine rich balanced wine. It has ripe...</td>\n",
       "      <td>Vila Santa Reserva</td>\n",
       "      <td>88.870874</td>\n",
       "      <td>20.0</td>\n",
       "      <td>8</td>\n",
       "      <td>missing</td>\n",
       "      <td>18</td>\n",
       "      <td>19</td>\n",
       "      <td>15</td>\n",
       "      <td>missing</td>\n",
       "      <td>PORTUGUESE RED</td>\n",
       "      <td>J. Portugal Ramos</td>\n",
       "      <td>32027</td>\n",
       "    </tr>\n",
       "    <tr>\n",
       "      <th>1</th>\n",
       "      <td>15</td>\n",
       "      <td>A solid, chunky wine, with a structure that is...</td>\n",
       "      <td>missing</td>\n",
       "      <td>88.041695</td>\n",
       "      <td>28.0</td>\n",
       "      <td>38</td>\n",
       "      <td>Lalande de Pomerol</td>\n",
       "      <td>18</td>\n",
       "      <td>19</td>\n",
       "      <td>15</td>\n",
       "      <td>missing</td>\n",
       "      <td>BORDEAUX-STYLE RED BLEND</td>\n",
       "      <td>Château Tour Grand Colombier</td>\n",
       "      <td>71079</td>\n",
       "    </tr>\n",
       "    <tr>\n",
       "      <th>2</th>\n",
       "      <td>15</td>\n",
       "      <td>This is powerful and concentrated, with the hi...</td>\n",
       "      <td>missing</td>\n",
       "      <td>94.085021</td>\n",
       "      <td>130.0</td>\n",
       "      <td>38</td>\n",
       "      <td>Saint-Émilion</td>\n",
       "      <td>18</td>\n",
       "      <td>19</td>\n",
       "      <td>15</td>\n",
       "      <td>missing</td>\n",
       "      <td>BORDEAUX-STYLE RED BLEND</td>\n",
       "      <td>Château Figeac</td>\n",
       "      <td>32440</td>\n",
       "    </tr>\n",
       "  </tbody>\n",
       "</table>\n",
       "</div>"
      ],
      "text/plain": [
       "   country  ...     id\n",
       "0       34  ...  32027\n",
       "1       15  ...  71079\n",
       "2       15  ...  32440\n",
       "\n",
       "[3 rows x 14 columns]"
      ]
     },
     "execution_count": 8,
     "metadata": {
      "tags": []
     },
     "output_type": "execute_result"
    }
   ],
   "source": [
    "print(\"Handling categorical variables...\")\n",
    "le = LabelEncoder()\n",
    "\n",
    "le.fit(np.hstack([train.country, test.country]))\n",
    "train['country'] = le.transform(train.country)\n",
    "test['country'] = le.transform(test.country)\n",
    "\n",
    "le.fit(np.hstack([train.province, test.province]))\n",
    "train['province'] = le.transform(train.province)\n",
    "test['province'] = le.transform(test.province)\n",
    "\n",
    "le.fit(np.hstack([train.taster_name, test.taster_name]))\n",
    "train['taster_name'] = le.transform(train.taster_name)\n",
    "test['taster_name'] = le.transform(test.taster_name)\n",
    "\n",
    "le.fit(np.hstack([train.taster_twitter_handle, test.taster_twitter_handle]))\n",
    "train['taster_twitter_handle'] = le.transform(train.taster_twitter_handle)\n",
    "test['taster_twitter_handle'] = le.transform(test.taster_twitter_handle)\n",
    "\n",
    "le.fit(np.hstack([train.region_2, test.region_2]))\n",
    "train['region_2'] = le.transform(train.region_2)\n",
    "test['region_2'] = le.transform(test.region_2)\n",
    "\n",
    "# le.fit(np.hstack([train.id, test.id]))\n",
    "# train['id'] = le.transform(train.id)\n",
    "# test['id'] = le.transform(test.id)\n",
    "\n",
    "del le\n",
    "\n",
    "train.head(3)"
   ]
  },
  {
   "cell_type": "code",
   "execution_count": 9,
   "metadata": {
    "colab": {
     "base_uri": "https://localhost:8080/",
     "height": 374
    },
    "colab_type": "code",
    "id": "Q86bnt7kn4yU",
    "outputId": "728801ef-b802-4e3f-8b44-8788b0ac1a37"
   },
   "outputs": [
    {
     "name": "stdout",
     "output_type": "stream",
     "text": [
      "Text to seq process...\n",
      "   Fitting tokenizer...\n",
      "   Transforming text to seq...\n"
     ]
    },
    {
     "data": {
      "text/html": [
       "<div>\n",
       "<style scoped>\n",
       "    .dataframe tbody tr th:only-of-type {\n",
       "        vertical-align: middle;\n",
       "    }\n",
       "\n",
       "    .dataframe tbody tr th {\n",
       "        vertical-align: top;\n",
       "    }\n",
       "\n",
       "    .dataframe thead th {\n",
       "        text-align: right;\n",
       "    }\n",
       "</style>\n",
       "<table border=\"1\" class=\"dataframe\">\n",
       "  <thead>\n",
       "    <tr style=\"text-align: right;\">\n",
       "      <th></th>\n",
       "      <th>country</th>\n",
       "      <th>description</th>\n",
       "      <th>designation</th>\n",
       "      <th>points</th>\n",
       "      <th>price</th>\n",
       "      <th>province</th>\n",
       "      <th>region_1</th>\n",
       "      <th>region_2</th>\n",
       "      <th>taster_name</th>\n",
       "      <th>taster_twitter_handle</th>\n",
       "      <th>title</th>\n",
       "      <th>variety</th>\n",
       "      <th>winery</th>\n",
       "      <th>id</th>\n",
       "      <th>seq_description</th>\n",
       "      <th>seq_designation</th>\n",
       "      <th>seq_region_1</th>\n",
       "      <th>seq_title</th>\n",
       "      <th>seq_variety</th>\n",
       "      <th>seq_winery</th>\n",
       "    </tr>\n",
       "  </thead>\n",
       "  <tbody>\n",
       "    <tr>\n",
       "      <th>0</th>\n",
       "      <td>34</td>\n",
       "      <td>This is a fine rich balanced wine. It has ripe...</td>\n",
       "      <td>Vila Santa Reserva</td>\n",
       "      <td>88.870874</td>\n",
       "      <td>20.0</td>\n",
       "      <td>8</td>\n",
       "      <td>missing</td>\n",
       "      <td>18</td>\n",
       "      <td>19</td>\n",
       "      <td>15</td>\n",
       "      <td>missing</td>\n",
       "      <td>PORTUGUESE RED</td>\n",
       "      <td>J. Portugal Ramos</td>\n",
       "      <td>32027</td>\n",
       "      <td>[7, 8, 3, 127, 51, 107, 9, 13, 40, 37, 78, 19,...</td>\n",
       "      <td>[3613, 102, 160]</td>\n",
       "      <td>[5]</td>\n",
       "      <td>[5]</td>\n",
       "      <td>[311, 15]</td>\n",
       "      <td>[659, 1789, 2300]</td>\n",
       "    </tr>\n",
       "    <tr>\n",
       "      <th>1</th>\n",
       "      <td>15</td>\n",
       "      <td>A solid, chunky wine, with a structure that is...</td>\n",
       "      <td>missing</td>\n",
       "      <td>88.041695</td>\n",
       "      <td>28.0</td>\n",
       "      <td>38</td>\n",
       "      <td>Lalande de Pomerol</td>\n",
       "      <td>18</td>\n",
       "      <td>19</td>\n",
       "      <td>15</td>\n",
       "      <td>missing</td>\n",
       "      <td>BORDEAUX-STYLE RED BLEND</td>\n",
       "      <td>Château Tour Grand Colombier</td>\n",
       "      <td>71079</td>\n",
       "      <td>[3, 242, 614, 9, 6, 3, 131, 19, 8, 60, 4, 7094...</td>\n",
       "      <td>[5]</td>\n",
       "      <td>[3591, 43, 2529]</td>\n",
       "      <td>[5]</td>\n",
       "      <td>[86, 58, 15, 20]</td>\n",
       "      <td>[101, 1804, 375, 10929]</td>\n",
       "    </tr>\n",
       "    <tr>\n",
       "      <th>2</th>\n",
       "      <td>15</td>\n",
       "      <td>This is powerful and concentrated, with the hi...</td>\n",
       "      <td>missing</td>\n",
       "      <td>94.085021</td>\n",
       "      <td>130.0</td>\n",
       "      <td>38</td>\n",
       "      <td>Saint-Émilion</td>\n",
       "      <td>18</td>\n",
       "      <td>19</td>\n",
       "      <td>15</td>\n",
       "      <td>missing</td>\n",
       "      <td>BORDEAUX-STYLE RED BLEND</td>\n",
       "      <td>Château Figeac</td>\n",
       "      <td>32440</td>\n",
       "      <td>[7, 8, 332, 1, 184, 6, 2, 213, 2228, 4, 27, 23...</td>\n",
       "      <td>[5]</td>\n",
       "      <td>[430, 1258]</td>\n",
       "      <td>[5]</td>\n",
       "      <td>[86, 58, 15, 20]</td>\n",
       "      <td>[101, 9386]</td>\n",
       "    </tr>\n",
       "  </tbody>\n",
       "</table>\n",
       "</div>"
      ],
      "text/plain": [
       "   country  ...               seq_winery\n",
       "0       34  ...        [659, 1789, 2300]\n",
       "1       15  ...  [101, 1804, 375, 10929]\n",
       "2       15  ...              [101, 9386]\n",
       "\n",
       "[3 rows x 20 columns]"
      ]
     },
     "execution_count": 9,
     "metadata": {
      "tags": []
     },
     "output_type": "execute_result"
    }
   ],
   "source": [
    "#PROCESS TEXT: RAW\n",
    "print(\"Text to seq process...\")\n",
    "print(\"   Fitting tokenizer...\")\n",
    "from keras.preprocessing.text import Tokenizer\n",
    "raw_text = np.hstack([train.description.str.lower(), \n",
    "                      train.designation.str.lower(), \n",
    "                      train.region_1.str.lower(),\n",
    "                      train.title.str.lower(),\n",
    "                      train.variety.str.lower(),\n",
    "                      train.winery.str.lower()])\n",
    "\n",
    "tok_raw = Tokenizer()\n",
    "tok_raw.fit_on_texts(raw_text)\n",
    "print(\"   Transforming text to seq...\")\n",
    "\n",
    "train[\"seq_description\"] = tok_raw.texts_to_sequences(train.description.str.lower())\n",
    "test[\"seq_description\"] = tok_raw.texts_to_sequences(test.description.str.lower())\n",
    "\n",
    "train[\"seq_designation\"] = tok_raw.texts_to_sequences(train.designation.str.lower())\n",
    "test[\"seq_designation\"] = tok_raw.texts_to_sequences(test.designation.str.lower())\n",
    "\n",
    "train[\"seq_region_1\"] = tok_raw.texts_to_sequences(train.region_1.str.lower())\n",
    "test[\"seq_region_1\"] = tok_raw.texts_to_sequences(test.region_1.str.lower())\n",
    "\n",
    "train[\"seq_title\"] = tok_raw.texts_to_sequences(train.title.str.lower())\n",
    "test[\"seq_title\"] = tok_raw.texts_to_sequences(test.title.str.lower())\n",
    "\n",
    "train[\"seq_variety\"] = tok_raw.texts_to_sequences(train.variety.str.lower())\n",
    "test[\"seq_variety\"] = tok_raw.texts_to_sequences(test.variety.str.lower())\n",
    "\n",
    "train[\"seq_winery\"] = tok_raw.texts_to_sequences(train.winery.str.lower())\n",
    "test[\"seq_winery\"] = tok_raw.texts_to_sequences(test.winery.str.lower())\n",
    "train.head(3)"
   ]
  },
  {
   "cell_type": "code",
   "execution_count": 10,
   "metadata": {
    "colab": {
     "base_uri": "https://localhost:8080/",
     "height": 433
    },
    "colab_type": "code",
    "id": "IjH_OiZ3n4yv",
    "outputId": "031c1929-3927-4857-b6b6-3c3b2f20200d"
   },
   "outputs": [
    {
     "name": "stdout",
     "output_type": "stream",
     "text": [
      "<class 'pandas.core.frame.DataFrame'>\n",
      "RangeIndex: 175000 entries, 0 to 174999\n",
      "Data columns (total 20 columns):\n",
      "country                  175000 non-null int64\n",
      "description              175000 non-null object\n",
      "designation              175000 non-null object\n",
      "points                   175000 non-null float64\n",
      "price                    175000 non-null float64\n",
      "province                 175000 non-null int64\n",
      "region_1                 175000 non-null object\n",
      "region_2                 175000 non-null int64\n",
      "taster_name              175000 non-null int64\n",
      "taster_twitter_handle    175000 non-null int64\n",
      "title                    175000 non-null object\n",
      "variety                  175000 non-null object\n",
      "winery                   175000 non-null object\n",
      "id                       175000 non-null int64\n",
      "seq_description          175000 non-null object\n",
      "seq_designation          175000 non-null object\n",
      "seq_region_1             175000 non-null object\n",
      "seq_title                175000 non-null object\n",
      "seq_variety              175000 non-null object\n",
      "seq_winery               175000 non-null object\n",
      "dtypes: float64(2), int64(6), object(12)\n",
      "memory usage: 26.7+ MB\n"
     ]
    }
   ],
   "source": [
    "train.info()"
   ]
  },
  {
   "cell_type": "code",
   "execution_count": 11,
   "metadata": {
    "colab": {
     "base_uri": "https://localhost:8080/",
     "height": 33
    },
    "colab_type": "code",
    "id": "uqhATR6jn4y2",
    "outputId": "a32c8d9c-8442-4929-9fd3-7ddf96d988dc"
   },
   "outputs": [
    {
     "data": {
      "text/plain": [
       "11.953577142857142"
      ]
     },
     "execution_count": 11,
     "metadata": {
      "tags": []
     },
     "output_type": "execute_result"
    }
   ],
   "source": [
    "train['winery'].apply(lambda x: len(x) ).mean()"
   ]
  },
  {
   "cell_type": "code",
   "execution_count": null,
   "metadata": {
    "colab": {},
    "colab_type": "code",
    "id": "dsQV8NRQn4zE"
   },
   "outputs": [],
   "source": [
    "#EMBEDDINGS MAX VALUE\n",
    "#Base on the average lenght of each word in each categories\n",
    "MAX_Description = 245\n",
    "MAX_Designation = 15\n",
    "MAX_Region_1 = 15\n",
    "MAX_Title = 29\n",
    "MAX_Variety = 15\n",
    "MAX_Winery = 15\n",
    "\n",
    "MAX_TEXT = np.max([np.max(train.seq_description.max())\n",
    "                   , np.max(test.seq_description.max())\n",
    "                   , np.max(train.seq_designation.max())\n",
    "                   , np.max(test.seq_designation.max())\n",
    "                   , np.max(train.seq_region_1.max())\n",
    "                   , np.max(test.seq_region_1.max())\n",
    "                   , np.max(train.seq_title.max())\n",
    "                   , np.max(test.seq_title.max())\n",
    "                   , np.max(train.seq_variety.max())\n",
    "                   , np.max(test.seq_variety.max())\n",
    "                   , np.max(train.seq_winery.max())\n",
    "                   , np.max(test.seq_winery.max())])+2\n",
    "MAX_Country = np.max([train.country.max(), test.country.max()])+1\n",
    "MAX_Province = np.max([train.province.max(), test.province.max()])+1\n",
    "MAX_Taster_name = np.max([train.taster_name.max(), test.taster_name.max()])+1\n",
    "MAX_Taster_twitter_handle = np.max([train.taster_twitter_handle.max(), test.taster_twitter_handle.max()])+1\n",
    "MAX_Region_2 = np.max([train.region_2.max(), test.region_2.max()])+1\n",
    "# MAX_id= np.max([train.id.max(), test.id.max()])+1"
   ]
  },
  {
   "cell_type": "code",
   "execution_count": 13,
   "metadata": {
    "colab": {
     "base_uri": "https://localhost:8080/",
     "height": 314
    },
    "colab_type": "code",
    "id": "9HS-WS5mn4zL",
    "outputId": "c25bee17-b9e8-4c41-ea34-4359b2f9f76b"
   },
   "outputs": [
    {
     "data": {
      "text/plain": [
       "array([[<matplotlib.axes._subplots.AxesSubplot object at 0x7f3ae45ef8d0>]],\n",
       "      dtype=object)"
      ]
     },
     "execution_count": 13,
     "metadata": {
      "tags": []
     },
     "output_type": "execute_result"
    },
    {
     "data": {
      "image/png": "[encoded data removed]",
      "text/plain": [
       "<Figure size 432x288 with 1 Axes>"
      ]
     },
     "metadata": {
      "tags": []
     },
     "output_type": "display_data"
    }
   ],
   "source": [
    "# target_scaler = MinMaxScaler(feature_range=(-1, 1))\n",
    "# train[\"target\"] = target_scaler.fit_transform(train[['target']].values.reshape(-1,1))\n",
    "train[\"target\"] = train[\"price\"]\n",
    "pd.DataFrame(train.target).hist()\n",
    "\n",
    "# train[\"target\"] = np.log(train.price+1)\n",
    "# target_scaler = MinMaxScaler(feature_range=(-1, 1))\n",
    "# train[\"target\"] = target_scaler.fit_transform(train[['target']].values.reshape(-1,1))\n",
    "# pd.DataFrame(train.target).hist()"
   ]
  },
  {
   "cell_type": "code",
   "execution_count": 24,
   "metadata": {
    "colab": {
     "base_uri": "https://localhost:8080/",
     "height": 50
    },
    "colab_type": "code",
    "id": "UKbFIFdun4zR",
    "outputId": "77f3373a-15ee-432e-c52a-36d863e2ccaf"
   },
   "outputs": [
    {
     "name": "stdout",
     "output_type": "stream",
     "text": [
      "(174982, 21)\n",
      "(18, 21)\n"
     ]
    }
   ],
   "source": [
    "#EXTRACT DEVELOPTMENT TEST\n",
    "dtrain, dvalid = train_test_split(train, random_state=123, train_size=0.9999)\n",
    "print(dtrain.shape)\n",
    "print(dvalid.shape)"
   ]
  },
  {
   "cell_type": "code",
   "execution_count": null,
   "metadata": {
    "colab": {},
    "colab_type": "code",
    "id": "8GI3mb-qn4zW"
   },
   "outputs": [],
   "source": [
    "#KERAS DATA DEFINITION\n",
    "from keras.preprocessing.sequence import pad_sequences\n",
    "\n",
    "def get_keras_data(dataset):\n",
    "    X = {\n",
    "        'country': np.array(dataset.country)\n",
    "        ,'description': pad_sequences(dataset.seq_description, \n",
    "                                      maxlen=MAX_Description)\n",
    "        ,'designation': pad_sequences(dataset.seq_designation, \n",
    "                                      maxlen=MAX_Description)\n",
    "        ,'points_imp': np.array(dataset[[\"points\"]])\n",
    "        ,'province': np.array(dataset.province)\n",
    "        ,'region_1': pad_sequences(dataset.seq_region_1, \n",
    "                                   maxlen=MAX_Region_1)\n",
    "        ,'region_2': np.array(dataset.region_2)\n",
    "        ,'taster_name': np.array(dataset.taster_name)\n",
    "        ,'taster_twitter_handle': np.array(dataset.taster_twitter_handle)\n",
    "        ,'title': pad_sequences(dataset.seq_title\n",
    "                                        , maxlen=MAX_Title)\n",
    "        ,'variety': pad_sequences(dataset.seq_variety\n",
    "                                        , maxlen=MAX_Variety)\n",
    "        ,'winery': pad_sequences(dataset.seq_winery\n",
    "                                        , maxlen=MAX_Winery)\n",
    "    }\n",
    "    return X\n",
    "\n",
    "X_train = get_keras_data(dtrain)\n",
    "X_valid = get_keras_data(dvalid)\n",
    "X_test = get_keras_data(test)"
   ]
  },
  {
   "cell_type": "code",
   "execution_count": 26,
   "metadata": {
    "colab": {
     "base_uri": "https://localhost:8080/",
     "height": 1000
    },
    "colab_type": "code",
    "id": "jX5HNXUwn4zi",
    "outputId": "17e96da7-0c48-4694-c72b-9e9f02dde8bc"
   },
   "outputs": [
    {
     "name": "stdout",
     "output_type": "stream",
     "text": [
      "Model: \"model_3\"\n",
      "__________________________________________________________________________________________________\n",
      "Layer (type)                    Output Shape         Param #     Connected to                     \n",
      "==================================================================================================\n",
      "country (InputLayer)            (None, 1)            0                                            \n",
      "__________________________________________________________________________________________________\n",
      "province (InputLayer)           (None, 1)            0                                            \n",
      "__________________________________________________________________________________________________\n",
      "region_2 (InputLayer)           (None, 1)            0                                            \n",
      "__________________________________________________________________________________________________\n",
      "taster_name (InputLayer)        (None, 1)            0                                            \n",
      "__________________________________________________________________________________________________\n",
      "taster_twitter_handle (InputLay (None, 1)            0                                            \n",
      "__________________________________________________________________________________________________\n",
      "description (InputLayer)        (None, 245)          0                                            \n",
      "__________________________________________________________________________________________________\n",
      "designation (InputLayer)        (None, 245)          0                                            \n",
      "__________________________________________________________________________________________________\n",
      "region_1 (InputLayer)           (None, 15)           0                                            \n",
      "__________________________________________________________________________________________________\n",
      "title (InputLayer)              (None, 29)           0                                            \n",
      "__________________________________________________________________________________________________\n",
      "variety (InputLayer)            (None, 15)           0                                            \n",
      "__________________________________________________________________________________________________\n",
      "winery (InputLayer)             (None, 15)           0                                            \n",
      "__________________________________________________________________________________________________\n",
      "embedding_23 (Embedding)        (None, 1, 20)        980         country[0][0]                    \n",
      "__________________________________________________________________________________________________\n",
      "embedding_26 (Embedding)        (None, 1, 60)        29040       province[0][0]                   \n",
      "__________________________________________________________________________________________________\n",
      "embedding_28 (Embedding)        (None, 1, 20)        380         region_2[0][0]                   \n",
      "__________________________________________________________________________________________________\n",
      "embedding_29 (Embedding)        (None, 1, 10)        200         taster_name[0][0]                \n",
      "__________________________________________________________________________________________________\n",
      "embedding_30 (Embedding)        (None, 1, 20)        320         taster_twitter_handle[0][0]      \n",
      "__________________________________________________________________________________________________\n",
      "embedding_24 (Embedding)        (None, 245, 200)     12496800    description[0][0]                \n",
      "__________________________________________________________________________________________________\n",
      "embedding_25 (Embedding)        (None, 245, 60)      3749040     designation[0][0]                \n",
      "__________________________________________________________________________________________________\n",
      "embedding_27 (Embedding)        (None, 15, 60)       3749040     region_1[0][0]                   \n",
      "__________________________________________________________________________________________________\n",
      "embedding_31 (Embedding)        (None, 29, 10)       624840      title[0][0]                      \n",
      "__________________________________________________________________________________________________\n",
      "embedding_32 (Embedding)        (None, 15, 10)       624840      variety[0][0]                    \n",
      "__________________________________________________________________________________________________\n",
      "embedding_33 (Embedding)        (None, 15, 10)       624840      winery[0][0]                     \n",
      "__________________________________________________________________________________________________\n",
      "flatten_11 (Flatten)            (None, 20)           0           embedding_23[0][0]               \n",
      "__________________________________________________________________________________________________\n",
      "flatten_12 (Flatten)            (None, 60)           0           embedding_26[0][0]               \n",
      "__________________________________________________________________________________________________\n",
      "flatten_13 (Flatten)            (None, 20)           0           embedding_28[0][0]               \n",
      "__________________________________________________________________________________________________\n",
      "flatten_14 (Flatten)            (None, 10)           0           embedding_29[0][0]               \n",
      "__________________________________________________________________________________________________\n",
      "flatten_15 (Flatten)            (None, 20)           0           embedding_30[0][0]               \n",
      "__________________________________________________________________________________________________\n",
      "gru_13 (GRU)                    (None, 32)           22368       embedding_24[0][0]               \n",
      "__________________________________________________________________________________________________\n",
      "gru_14 (GRU)                    (None, 32)           8928        embedding_25[0][0]               \n",
      "__________________________________________________________________________________________________\n",
      "gru_15 (GRU)                    (None, 32)           8928        embedding_27[0][0]               \n",
      "__________________________________________________________________________________________________\n",
      "gru_16 (GRU)                    (None, 32)           4128        embedding_31[0][0]               \n",
      "__________________________________________________________________________________________________\n",
      "gru_17 (GRU)                    (None, 32)           4128        embedding_32[0][0]               \n",
      "__________________________________________________________________________________________________\n",
      "gru_18 (GRU)                    (None, 32)           4128        embedding_33[0][0]               \n",
      "__________________________________________________________________________________________________\n",
      "points_imp (InputLayer)         (None, 1)            0                                            \n",
      "__________________________________________________________________________________________________\n",
      "concatenate_3 (Concatenate)     (None, 323)          0           flatten_11[0][0]                 \n",
      "                                                                 flatten_12[0][0]                 \n",
      "                                                                 flatten_13[0][0]                 \n",
      "                                                                 flatten_14[0][0]                 \n",
      "                                                                 flatten_15[0][0]                 \n",
      "                                                                 gru_13[0][0]                     \n",
      "                                                                 gru_14[0][0]                     \n",
      "                                                                 gru_15[0][0]                     \n",
      "                                                                 gru_16[0][0]                     \n",
      "                                                                 gru_17[0][0]                     \n",
      "                                                                 gru_18[0][0]                     \n",
      "                                                                 points_imp[0][0]                 \n",
      "__________________________________________________________________________________________________\n",
      "dense_7 (Dense)                 (None, 512)          165888      concatenate_3[0][0]              \n",
      "__________________________________________________________________________________________________\n",
      "dropout_5 (Dropout)             (None, 512)          0           dense_7[0][0]                    \n",
      "__________________________________________________________________________________________________\n",
      "dense_8 (Dense)                 (None, 32)           16416       dropout_5[0][0]                  \n",
      "__________________________________________________________________________________________________\n",
      "dropout_6 (Dropout)             (None, 32)           0           dense_8[0][0]                    \n",
      "__________________________________________________________________________________________________\n",
      "dense_9 (Dense)                 (None, 1)            33          dropout_6[0][0]                  \n",
      "==================================================================================================\n",
      "Total params: 22,135,265\n",
      "Trainable params: 22,135,265\n",
      "Non-trainable params: 0\n",
      "__________________________________________________________________________________________________\n"
     ]
    }
   ],
   "source": [
    "#KERAS MODEL DEFINITION\n",
    "from keras.layers import Input, Dropout, Dense, BatchNormalization, Activation, concatenate, GRU, Embedding, Flatten, BatchNormalization, LSTM\n",
    "from keras.models import Model\n",
    "from keras.callbacks import ModelCheckpoint, Callback, EarlyStopping\n",
    "from keras import backend as K\n",
    "\n",
    "def get_callbacks(filepath, patience=2):\n",
    "    es = EarlyStopping('val_loss', patience=patience, mode=\"min\")\n",
    "#     msave = ModelCheckpoint(filepath, save_best_only=True)\n",
    "    return es\n",
    "\n",
    "def rmse_cust(y_true, y_pred):\n",
    "    return np.sqrt(metrics.mean_squared_error(y_true, y_pred))\n",
    "\n",
    "def get_model():\n",
    "    #params\n",
    "    dr_r = 0.01\n",
    "    dr_d = 0.01\n",
    "    \n",
    "    #Inputs\n",
    "    country = Input(shape=[1], name=\"country\")\n",
    "    description = Input(shape=[X_train[\"description\"].shape[1]], \n",
    "                        name=\"description\")\n",
    "    designation = Input(shape=[X_train[\"designation\"].shape[1]], \n",
    "                        name=\"designation\")\n",
    "    points_imp = Input(shape=[1], name=\"points_imp\")\n",
    "    province = Input(shape=[1], name=\"province\")\n",
    "    region_1 = Input(shape=[X_train[\"region_1\"].shape[1]], \n",
    "                     name=\"region_1\")\n",
    "    region_2 = Input(shape=[1], name=\"region_2\")\n",
    "    taster_name = Input(shape=[1], name=\"taster_name\")\n",
    "    taster_twitter_handle = Input(shape=[1], name=\"taster_twitter_handle\")\n",
    "    title = Input(shape=[X_train[\"title\"].shape[1]], \n",
    "                  name=\"title\")\n",
    "    variety = Input(shape=[X_train[\"variety\"].shape[1]], \n",
    "                  name=\"variety\")\n",
    "    winery = Input(shape=[X_train[\"winery\"].shape[1]], name=\"winery\")\n",
    "    \n",
    "    \n",
    "    #Embeddings layers\n",
    "    emb_size = 200\n",
    "        \n",
    "    emb_country = Embedding(MAX_Country, 20)(country)\n",
    "    emb_description = Embedding(MAX_TEXT, 200)(description)\n",
    "    emb_designation = Embedding(MAX_TEXT, 60)(designation)\n",
    "#     emb_category_name = Embedding(MAX_TEXT, emb_size//3)(category_name)\n",
    "    emb_province = Embedding(MAX_Province, 60)(province)\n",
    "    emb_region_1 = Embedding(MAX_TEXT, 60)(region_1)\n",
    "    emb_region_2 = Embedding(MAX_Region_2, 20)(region_2)\n",
    "    \n",
    "    emb_taster_name = Embedding(MAX_Taster_name, 10)(taster_name)\n",
    "    emb_taster_twitter_handle = Embedding(MAX_Taster_twitter_handle,\n",
    "                                          20)(taster_twitter_handle)\n",
    "    emb_title = Embedding(MAX_TEXT, 10)(title)\n",
    "    emb_variety = Embedding(MAX_TEXT, 10)(variety)\n",
    "    emb_winery = Embedding(MAX_TEXT, 10)(winery)\n",
    "    \n",
    "    #rnn layer\n",
    "    rnn_layer1 = GRU(32) (emb_description)\n",
    "    rnn_layer2 = GRU(32) (emb_designation)\n",
    "    rnn_layer3 = GRU(32) (emb_region_1)\n",
    "    rnn_layer4 = GRU(32) (emb_title)\n",
    "    rnn_layer5 = GRU(32) (emb_variety)\n",
    "    rnn_layer6 = GRU(32) (emb_winery)\n",
    "    \n",
    "    #main layer\n",
    "    main_l = concatenate([\n",
    "        Flatten() (emb_country)\n",
    "        , Flatten() (emb_province)\n",
    "        , Flatten() (emb_region_2)\n",
    "        , Flatten() (emb_taster_name)\n",
    "        , Flatten() (emb_taster_twitter_handle)\n",
    "        , rnn_layer1\n",
    "        , rnn_layer2\n",
    "        , rnn_layer3\n",
    "        , rnn_layer4\n",
    "        , rnn_layer5\n",
    "        , rnn_layer6\n",
    "        , points_imp\n",
    "    ])\n",
    "    main_l = Dropout(dr_r) (Dense(512,activation='elu') (main_l))\n",
    "    main_l = Dropout(dr_d) (Dense(32,activation='elu') (main_l))\n",
    "    \n",
    "    #output\n",
    "    output = Dense(1, activation=\"linear\") (main_l)\n",
    "    \n",
    "    \n",
    "    #model\n",
    "    model = Model([country, description, designation,\n",
    "                   points_imp, province, region_1, region_2,\n",
    "                  taster_name, taster_twitter_handle, title,\n",
    "                  variety, winery], output)\n",
    "    model.compile(loss=\"mse\", optimizer=\"adam\", metrics=[\"mse\"])\n",
    "    \n",
    "    return model\n",
    "\n",
    "    \n",
    "model = get_model()\n",
    "model.summary()"
   ]
  },
  {
   "cell_type": "code",
   "execution_count": null,
   "metadata": {
    "colab": {},
    "colab_type": "code",
    "id": "THMTbEl5n4zq"
   },
   "outputs": [],
   "source": [
    "class myCallback(tf.keras.callbacks.Callback):\n",
    "        def on_epoch_end(self, epoch, logs={}):\n",
    "            if(logs.get('val_mse')<250):\n",
    "                print(\"\\nReached 90% val_acc so cancelling training!\")\n",
    "                self.model.stop_training = True\n",
    "import numpy as np\n",
    "\n",
    "class EarlyStoppingAtMinLoss(tf.keras.callbacks.Callback):\n",
    "  \"\"\"Stop training when the loss is at its min, i.e. the loss stops decreasing.\n",
    "\n",
    "  Arguments:\n",
    "      patience: Number of epochs to wait after min has been hit. After this\n",
    "      number of no improvement, training stops.\n",
    "  \"\"\"\n",
    "\n",
    "  def __init__(self, patience=2):\n",
    "    super(EarlyStoppingAtMinLoss, self).__init__()\n",
    "\n",
    "    self.patience = patience\n",
    "\n",
    "    # best_weights to store the weights at which the minimum loss occurs.\n",
    "    self.best_weights = None\n",
    "\n",
    "  def on_train_begin(self, logs=None):\n",
    "    # The number of epoch it has waited when loss is no longer minimum.\n",
    "    self.wait = 0\n",
    "    # The epoch the training stops at.\n",
    "    self.stopped_epoch = 0\n",
    "    # Initialize the best as infinity.\n",
    "    self.best = np.Inf\n",
    "\n",
    "  def on_epoch_end(self, epoch, logs=None):\n",
    "    current = logs.get('loss')\n",
    "    if np.less(current, self.best):\n",
    "      self.best = current\n",
    "      self.wait = 0\n",
    "      # Record the best weights if current results is better (less).\n",
    "      self.best_weights = self.model.get_weights()\n",
    "    else:\n",
    "      self.wait += 1\n",
    "      if self.wait >= self.patience:\n",
    "        self.stopped_epoch = epoch\n",
    "        self.model.stop_training = True\n",
    "        print('Restoring model weights from the end of the best epoch.')\n",
    "        self.model.set_weights(self.best_weights)\n",
    "\n",
    "  def on_train_end(self, logs=None):\n",
    "    if self.stopped_epoch > 0:\n",
    "      print('Epoch %05d: early stopping' % (self.stopped_epoch + 1))\n",
    "    \n",
    "EarlyStoppingAtMinLoss = EarlyStoppingAtMinLoss()"
   ]
  },
  {
   "cell_type": "code",
   "execution_count": 30,
   "metadata": {
    "colab": {
     "base_uri": "https://localhost:8080/",
     "height": 883
    },
    "colab_type": "code",
    "id": "cU3u2E4Cn4zv",
    "outputId": "e55ddaf3-d95e-4df5-ae35-efc40db6fc2c"
   },
   "outputs": [
    {
     "name": "stdout",
     "output_type": "stream",
     "text": [
      "Train on 174982 samples, validate on 18 samples\n",
      "Epoch 1/30\n",
      "174982/174982 [==============================] - 140s 803us/step - loss: 1251.8786 - mean_squared_error: 1251.8786 - val_loss: 102.7360 - val_mean_squared_error: 102.7360\n",
      "Epoch 2/30\n",
      "174982/174982 [==============================] - 133s 760us/step - loss: 686.5685 - mean_squared_error: 686.5685 - val_loss: 41.5025 - val_mean_squared_error: 41.5025\n",
      "Epoch 3/30\n",
      "174982/174982 [==============================] - 134s 765us/step - loss: 415.5797 - mean_squared_error: 415.5797 - val_loss: 15.8094 - val_mean_squared_error: 15.8094\n",
      "Epoch 4/30\n",
      "174982/174982 [==============================] - 134s 768us/step - loss: 290.8817 - mean_squared_error: 290.8817 - val_loss: 33.9229 - val_mean_squared_error: 33.9229\n",
      "Epoch 5/30\n",
      "174982/174982 [==============================] - 133s 762us/step - loss: 219.3482 - mean_squared_error: 219.3482 - val_loss: 17.2397 - val_mean_squared_error: 17.2397\n",
      "Epoch 6/30\n",
      "174982/174982 [==============================] - 134s 766us/step - loss: 160.3759 - mean_squared_error: 160.3759 - val_loss: 33.8800 - val_mean_squared_error: 33.8800\n",
      "Epoch 7/30\n",
      "174982/174982 [==============================] - 134s 763us/step - loss: 132.6186 - mean_squared_error: 132.6186 - val_loss: 29.6589 - val_mean_squared_error: 29.6589\n",
      "Epoch 8/30\n",
      "174982/174982 [==============================] - 133s 762us/step - loss: 106.0065 - mean_squared_error: 106.0065 - val_loss: 41.0979 - val_mean_squared_error: 41.0979\n",
      "Epoch 9/30\n",
      "174982/174982 [==============================] - 133s 762us/step - loss: 97.0274 - mean_squared_error: 97.0274 - val_loss: 22.9798 - val_mean_squared_error: 22.9798\n",
      "Epoch 10/30\n",
      "174982/174982 [==============================] - 134s 764us/step - loss: 79.3426 - mean_squared_error: 79.3426 - val_loss: 34.7046 - val_mean_squared_error: 34.7046\n",
      "Epoch 11/30\n",
      "174982/174982 [==============================] - 133s 762us/step - loss: 71.5106 - mean_squared_error: 71.5106 - val_loss: 29.0070 - val_mean_squared_error: 29.0070\n",
      "Epoch 12/30\n",
      "174982/174982 [==============================] - 133s 757us/step - loss: 66.3455 - mean_squared_error: 66.3455 - val_loss: 28.7963 - val_mean_squared_error: 28.7963\n",
      "Epoch 13/30\n",
      "174982/174982 [==============================] - 133s 760us/step - loss: 58.0234 - mean_squared_error: 58.0234 - val_loss: 31.7312 - val_mean_squared_error: 31.7312\n",
      "Epoch 14/30\n",
      "174982/174982 [==============================] - 134s 768us/step - loss: 56.5145 - mean_squared_error: 56.5145 - val_loss: 29.9533 - val_mean_squared_error: 29.9533\n",
      "Epoch 15/30\n",
      "174982/174982 [==============================] - 135s 773us/step - loss: 56.8801 - mean_squared_error: 56.8801 - val_loss: 36.7401 - val_mean_squared_error: 36.7401\n",
      "Epoch 16/30\n",
      "174982/174982 [==============================] - 135s 771us/step - loss: 53.2664 - mean_squared_error: 53.2664 - val_loss: 41.1388 - val_mean_squared_error: 41.1388\n",
      "Epoch 17/30\n",
      "174982/174982 [==============================] - 135s 773us/step - loss: 49.6925 - mean_squared_error: 49.6925 - val_loss: 53.1232 - val_mean_squared_error: 53.1232\n",
      "Epoch 18/30\n",
      "174982/174982 [==============================] - 135s 770us/step - loss: 46.4445 - mean_squared_error: 46.4445 - val_loss: 30.5138 - val_mean_squared_error: 30.5138\n",
      "Epoch 19/30\n",
      "174982/174982 [==============================] - 134s 767us/step - loss: 45.3196 - mean_squared_error: 45.3196 - val_loss: 51.7166 - val_mean_squared_error: 51.7166\n",
      "Epoch 20/30\n",
      "174982/174982 [==============================] - 135s 769us/step - loss: 44.0390 - mean_squared_error: 44.0390 - val_loss: 37.0182 - val_mean_squared_error: 37.0182\n",
      "Epoch 21/30\n",
      "174982/174982 [==============================] - 134s 765us/step - loss: 38.8427 - mean_squared_error: 38.8427 - val_loss: 59.9427 - val_mean_squared_error: 59.9427\n",
      "Epoch 22/30\n",
      "174982/174982 [==============================] - 135s 771us/step - loss: 37.8527 - mean_squared_error: 37.8527 - val_loss: 49.5131 - val_mean_squared_error: 49.5131\n",
      "Epoch 23/30\n",
      "174982/174982 [==============================] - 136s 775us/step - loss: 53.6988 - mean_squared_error: 53.6988 - val_loss: 52.7464 - val_mean_squared_error: 52.7464\n",
      "Epoch 24/30\n",
      "174982/174982 [==============================] - 134s 766us/step - loss: 50.2478 - mean_squared_error: 50.2478 - val_loss: 46.2129 - val_mean_squared_error: 46.2129\n",
      "Restoring model weights from the end of the best epoch.\n",
      "Epoch 00024: early stopping\n"
     ]
    },
    {
     "data": {
      "text/plain": [
       "<keras.callbacks.History at 0x7f3a775a1780>"
      ]
     },
     "execution_count": 30,
     "metadata": {
      "tags": []
     },
     "output_type": "execute_result"
    }
   ],
   "source": [
    "#FITTING THE MODEL\n",
    "BATCH_SIZE = 512 * 3\n",
    "epochs = 30\n",
    "\n",
    "model = get_model()\n",
    "model.fit(X_train, dtrain.target, epochs=epochs, batch_size=BATCH_SIZE\n",
    "          , validation_data=(X_valid, dvalid.target)\n",
    "          , verbose=1, callbacks=[EarlyStoppingAtMinLoss])"
   ]
  },
  {
   "cell_type": "code",
   "execution_count": null,
   "metadata": {
    "colab": {},
    "colab_type": "code",
    "id": "qd-nDMCFn4z1"
   },
   "outputs": [],
   "source": [
    "# Save entire model to a HDF5 file\n",
    "# model.save('group_1_model_1.h5')  # creates a HDF5 file 'my_model.h5'\n",
    "## del model  # deletes the existing model\n",
    "\n",
    "# # returns a compiled model\n",
    "# # identical to the previous one\n",
    "# model_saved = load_model('group_1_model.h5')"
   ]
  },
  {
   "cell_type": "code",
   "execution_count": 31,
   "metadata": {
    "colab": {
     "base_uri": "https://localhost:8080/",
     "height": 33
    },
    "colab_type": "code",
    "id": "7kfeA91Dn40B",
    "outputId": "23fb2c77-bbeb-43dd-e8a4-189aa72a5138"
   },
   "outputs": [
    {
     "name": "stdout",
     "output_type": "stream",
     "text": [
      " RMSE error on dev test: 7.0365565005813355\n"
     ]
    }
   ],
   "source": [
    "#EVLUEATE THE MODEL ON DEV TEST: What is it doing?\n",
    "val_preds = model.predict(X_valid)\n",
    "# val_preds = target_scaler.inverse_transform(val_preds)\n",
    "# val_preds = np.exp(val_preds)-1\n",
    "\n",
    "#mean_absolute_error, mean_squared_log_error\n",
    "y_true = np.array(dvalid.price.values)\n",
    "y_pred = val_preds[:,0]\n",
    "v_rmse = rmse_cust(y_true, y_pred)\n",
    "print(\" RMSE error on dev test: \"+str(v_rmse)) # 0.90484619140625"
   ]
  },
  {
   "cell_type": "code",
   "execution_count": 51,
   "metadata": {
    "colab": {
     "base_uri": "https://localhost:8080/",
     "height": 33
    },
    "colab_type": "code",
    "id": "_WfX4i3kn40M",
    "outputId": "298b2836-adba-4b1e-f526-38029b8a8052"
   },
   "outputs": [
    {
     "data": {
      "text/plain": [
       "array([[19.095154]], dtype=float32)"
      ]
     },
     "execution_count": 51,
     "metadata": {
      "tags": []
     },
     "output_type": "execute_result"
    }
   ],
   "source": [
    "val_preds = model.predict(X_valid)\n",
    "val_preds"
   ]
  },
  {
   "cell_type": "code",
   "execution_count": 32,
   "metadata": {
    "colab": {
     "base_uri": "https://localhost:8080/",
     "height": 33
    },
    "colab_type": "code",
    "id": "RYuNs9dIn40Y",
    "outputId": "3bd285a8-96e0-44db-e4a2-69196e01d667"
   },
   "outputs": [
    {
     "name": "stdout",
     "output_type": "stream",
     "text": [
      " RMSE error on dev test: 7.0365565005813355\n"
     ]
    }
   ],
   "source": [
    "y_true = np.array(dvalid.price.values)\n",
    "y_pred = val_preds[:,0]\n",
    "v_rmsle = rmse_cust(y_true, y_pred)\n",
    "\n",
    "print(\" RMSE error on dev test: \"+str(v_rmsle)) #5.583566891952288 = 29.78"
   ]
  },
  {
   "cell_type": "code",
   "execution_count": null,
   "metadata": {
    "colab": {},
    "colab_type": "code",
    "id": "_pIcJEdPn40h"
   },
   "outputs": [],
   "source": []
  },
  {
   "cell_type": "code",
   "execution_count": null,
   "metadata": {
    "colab": {},
    "colab_type": "code",
    "id": "F0Z9c0opn40p"
   },
   "outputs": [],
   "source": [
    "#EVLUEATE THE MODEL ON DEV TEST: What is it doing?\n",
    "# val_preds = model.predict(X_valid)\n",
    "# val_preds = target_scaler.inverse_transform(val_preds)\n",
    "# val_preds = np.exp(val_preds)+1\n",
    "\n",
    "# #mean_absolute_error, mean_squared_log_error\n",
    "# y_true = np.array(dvalid.price.values)\n",
    "# y_pred = val_preds[:,0]\n",
    "# v_rmsle = rmse_cust(y_true, y_pred)\n",
    "# print(\" RMSE error on dev test: \"+str(v_rmsle))"
   ]
  },
  {
   "cell_type": "code",
   "execution_count": 21,
   "metadata": {
    "colab": {
     "base_uri": "https://localhost:8080/",
     "height": 133
    },
    "colab_type": "code",
    "id": "wkW3rg4wn40v",
    "outputId": "ee980ff4-c38b-4fab-9ac8-4daf8d71346d"
   },
   "outputs": [
    {
     "data": {
      "text/plain": [
       "array([[125.8153  ],\n",
       "       [ 22.467514],\n",
       "       [ 54.032703],\n",
       "       ...,\n",
       "       [ 42.47091 ],\n",
       "       [ 22.948236],\n",
       "       [ 61.371212]], dtype=float32)"
      ]
     },
     "execution_count": 21,
     "metadata": {
      "tags": []
     },
     "output_type": "execute_result"
    }
   ],
   "source": [
    "#CREATE PREDICTIONS\n",
    "preds = model.predict(X_test, batch_size=BATCH_SIZE)\n",
    "# preds = target_scaler.inverse_transform(preds)\n",
    "# preds = np.exp(preds)-1\n",
    "\n",
    "preds"
   ]
  },
  {
   "cell_type": "code",
   "execution_count": 22,
   "metadata": {
    "colab": {
     "base_uri": "https://localhost:8080/",
     "height": 297
    },
    "colab_type": "code",
    "id": "_YIxGXIbn402",
    "outputId": "857ba01b-61b1-47f3-81a0-9101b2866b05"
   },
   "outputs": [
    {
     "name": "stderr",
     "output_type": "stream",
     "text": [
      "/usr/local/lib/python3.6/dist-packages/ipykernel_launcher.py:2: SettingWithCopyWarning: \n",
      "A value is trying to be set on a copy of a slice from a DataFrame.\n",
      "Try using .loc[row_indexer,col_indexer] = value instead\n",
      "\n",
      "See the caveats in the documentation: http://pandas.pydata.org/pandas-docs/stable/indexing.html#indexing-view-versus-copy\n",
      "  \n"
     ]
    },
    {
     "data": {
      "text/html": [
       "<div>\n",
       "<style scoped>\n",
       "    .dataframe tbody tr th:only-of-type {\n",
       "        vertical-align: middle;\n",
       "    }\n",
       "\n",
       "    .dataframe tbody tr th {\n",
       "        vertical-align: top;\n",
       "    }\n",
       "\n",
       "    .dataframe thead th {\n",
       "        text-align: right;\n",
       "    }\n",
       "</style>\n",
       "<table border=\"1\" class=\"dataframe\">\n",
       "  <thead>\n",
       "    <tr style=\"text-align: right;\">\n",
       "      <th></th>\n",
       "      <th>id</th>\n",
       "      <th>price</th>\n",
       "    </tr>\n",
       "  </thead>\n",
       "  <tbody>\n",
       "    <tr>\n",
       "      <th>0</th>\n",
       "      <td>0</td>\n",
       "      <td>125.815300</td>\n",
       "    </tr>\n",
       "    <tr>\n",
       "      <th>1</th>\n",
       "      <td>1</td>\n",
       "      <td>22.467514</td>\n",
       "    </tr>\n",
       "    <tr>\n",
       "      <th>2</th>\n",
       "      <td>2</td>\n",
       "      <td>54.032703</td>\n",
       "    </tr>\n",
       "    <tr>\n",
       "      <th>3</th>\n",
       "      <td>3</td>\n",
       "      <td>29.546467</td>\n",
       "    </tr>\n",
       "    <tr>\n",
       "      <th>4</th>\n",
       "      <td>4</td>\n",
       "      <td>13.383314</td>\n",
       "    </tr>\n",
       "  </tbody>\n",
       "</table>\n",
       "</div>"
      ],
      "text/plain": [
       "   id       price\n",
       "0   0  125.815300\n",
       "1   1   22.467514\n",
       "2   2   54.032703\n",
       "3   3   29.546467\n",
       "4   4   13.383314"
      ]
     },
     "execution_count": 22,
     "metadata": {
      "tags": []
     },
     "output_type": "execute_result"
    }
   ],
   "source": [
    "output = test[['id']]\n",
    "output['price']=preds.reshape(-1,1)\n",
    "output.head()"
   ]
  },
  {
   "cell_type": "code",
   "execution_count": null,
   "metadata": {
    "colab": {},
    "colab_type": "code",
    "id": "d7CeW54Sn407"
   },
   "outputs": [],
   "source": [
    "output.to_csv('last_chance_2.csv',index=False)"
   ]
  },
  {
   "cell_type": "code",
   "execution_count": null,
   "metadata": {},
   "outputs": [],
   "source": []
  },
  {
   "cell_type": "code",
   "execution_count": null,
   "metadata": {},
   "outputs": [],
   "source": []
  },
  {
   "cell_type": "code",
   "execution_count": null,
   "metadata": {},
   "outputs": [],
   "source": []
  },
  {
   "cell_type": "code",
   "execution_count": null,
   "metadata": {},
   "outputs": [],
   "source": []
  },
  {
   "cell_type": "markdown",
   "metadata": {
    "colab": {},
    "colab_type": "code",
    "id": "fyteopLgn416"
   },
   "source": [
    "# other Investigations"
   ]
  },
  {
   "cell_type": "code",
   "execution_count": null,
   "metadata": {},
   "outputs": [],
   "source": []
  },
  {
   "cell_type": "code",
   "execution_count": 4,
   "metadata": {
    "colab": {},
    "colab_type": "code",
    "id": "eVd-dVYHn42Z"
   },
   "outputs": [],
   "source": [
    "train.tail()"
   ]
  },
  {
   "cell_type": "code",
   "execution_count": 6,
   "metadata": {
    "colab": {},
    "colab_type": "code",
    "id": "MspJ00fen42u"
   },
   "outputs": [],
   "source": [
    "train.info()"
   ]
  },
  {
   "cell_type": "code",
   "execution_count": null,
   "metadata": {
    "colab": {},
    "colab_type": "code",
    "id": "LwgqcvGhn42y"
   },
   "outputs": [],
   "source": [
    "train.id.nunique()"
   ]
  },
  {
   "cell_type": "code",
   "execution_count": null,
   "metadata": {
    "colab": {},
    "colab_type": "code",
    "id": "ys-eaGUnn422"
   },
   "outputs": [],
   "source": [
    "train.dtypes"
   ]
  },
  {
   "cell_type": "markdown",
   "metadata": {
    "colab_type": "text",
    "id": "swtORnuxn42_"
   },
   "source": [
    "## Investigating on __NAN__ values"
   ]
  },
  {
   "cell_type": "markdown",
   "metadata": {
    "colab_type": "text",
    "id": "B6D65GdWn43D"
   },
   "source": [
    "We have 14 columns and we need to investigate each and everyone of them, we have a total of $175000$ examples"
   ]
  },
  {
   "cell_type": "code",
   "execution_count": null,
   "metadata": {
    "colab": {},
    "colab_type": "code",
    "id": "A7gmmMqjn43H"
   },
   "outputs": [],
   "source": [
    "# train.dropna(thresh=2)"
   ]
  },
  {
   "cell_type": "code",
   "execution_count": null,
   "metadata": {
    "colab": {},
    "colab_type": "code",
    "id": "GnsMhxaEn43P"
   },
   "outputs": [],
   "source": [
    "train.fillna(value='Missing')"
   ]
  },
  {
   "cell_type": "code",
   "execution_count": null,
   "metadata": {
    "colab": {},
    "colab_type": "code",
    "id": "Y1if513Zn43V"
   },
   "outputs": [],
   "source": [
    "test.fillna(value='Missing')"
   ]
  },
  {
   "cell_type": "code",
   "execution_count": null,
   "metadata": {
    "colab": {},
    "colab_type": "code",
    "id": "yT3E9k-In43Y"
   },
   "outputs": [],
   "source": [
    "train.isnull().sum()"
   ]
  },
  {
   "cell_type": "code",
   "execution_count": null,
   "metadata": {
    "colab": {},
    "colab_type": "code",
    "id": "fO9LImhOn43c"
   },
   "outputs": [],
   "source": [
    "test.isnull().sum()"
   ]
  },
  {
   "cell_type": "code",
   "execution_count": null,
   "metadata": {
    "colab": {},
    "colab_type": "code",
    "id": "mQAldEAwn43k"
   },
   "outputs": [],
   "source": [
    "train.dtypes.value_counts()"
   ]
  },
  {
   "cell_type": "code",
   "execution_count": null,
   "metadata": {
    "colab": {},
    "colab_type": "code",
    "id": "xiamQxsFn43s"
   },
   "outputs": [],
   "source": [
    "train.nunique()"
   ]
  },
  {
   "cell_type": "code",
   "execution_count": null,
   "metadata": {
    "colab": {},
    "colab_type": "code",
    "id": "bDMKz3mZn43y"
   },
   "outputs": [],
   "source": [
    "test.nunique()"
   ]
  },
  {
   "cell_type": "code",
   "execution_count": null,
   "metadata": {
    "colab": {},
    "colab_type": "code",
    "id": "wUH-vx23n432"
   },
   "outputs": [],
   "source": [
    "sns.countplot(x='region_2',data=train)"
   ]
  },
  {
   "cell_type": "code",
   "execution_count": null,
   "metadata": {
    "colab": {},
    "colab_type": "code",
    "id": "jyAN78_Pn43-"
   },
   "outputs": [],
   "source": [
    "train.region_2.value_counts()"
   ]
  },
  {
   "cell_type": "code",
   "execution_count": null,
   "metadata": {
    "colab": {},
    "colab_type": "code",
    "id": "bS37e3cAn44K"
   },
   "outputs": [],
   "source": [
    "test.region_2.value_counts()"
   ]
  },
  {
   "cell_type": "code",
   "execution_count": null,
   "metadata": {
    "colab": {},
    "colab_type": "code",
    "id": "Vle3EpPLn44R"
   },
   "outputs": [],
   "source": [
    "test.nunique()"
   ]
  },
  {
   "cell_type": "code",
   "execution_count": null,
   "metadata": {
    "colab": {},
    "colab_type": "code",
    "id": "hpnqGTdwn44W"
   },
   "outputs": [],
   "source": [
    "sns.countplot(x='region_2',data=test)"
   ]
  },
  {
   "cell_type": "markdown",
   "metadata": {
    "colab_type": "text",
    "id": "30yjS_MBn44a"
   },
   "source": [
    "## Numerical "
   ]
  },
  {
   "cell_type": "code",
   "execution_count": null,
   "metadata": {
    "colab": {},
    "colab_type": "code",
    "id": "AJt0gtvCn44b"
   },
   "outputs": [],
   "source": [
    "train.columns[train.dtypes != 'object']"
   ]
  },
  {
   "cell_type": "markdown",
   "metadata": {
    "colab_type": "text",
    "id": "27x-crFdn44f"
   },
   "source": [
    "### Points"
   ]
  },
  {
   "cell_type": "code",
   "execution_count": null,
   "metadata": {
    "colab": {},
    "colab_type": "code",
    "id": "dC9KmX1fn44h"
   },
   "outputs": [],
   "source": [
    "train[train.points.isnull()].head()"
   ]
  },
  {
   "cell_type": "code",
   "execution_count": null,
   "metadata": {
    "colab": {},
    "colab_type": "code",
    "id": "RVow_DpEn44p"
   },
   "outputs": [],
   "source": [
    "train.points.isnull().sum()"
   ]
  },
  {
   "cell_type": "code",
   "execution_count": null,
   "metadata": {
    "colab": {},
    "colab_type": "code",
    "id": "9Vd603jTn44z"
   },
   "outputs": [],
   "source": [
    "sns.distplot(train['points'])"
   ]
  },
  {
   "cell_type": "code",
   "execution_count": null,
   "metadata": {
    "colab": {},
    "colab_type": "code",
    "id": "BJicKMLxn443"
   },
   "outputs": [],
   "source": [
    "train['points'].describe()"
   ]
  },
  {
   "cell_type": "markdown",
   "metadata": {
    "colab_type": "text",
    "id": "4f5aitQ5n447"
   },
   "source": [
    "### Price"
   ]
  },
  {
   "cell_type": "code",
   "execution_count": null,
   "metadata": {
    "colab": {},
    "colab_type": "code",
    "id": "2PiwbqrNn448"
   },
   "outputs": [],
   "source": [
    "train[train.price.isnull()].head()"
   ]
  },
  {
   "cell_type": "code",
   "execution_count": null,
   "metadata": {
    "colab": {},
    "colab_type": "code",
    "id": "uiLWQaDon44_"
   },
   "outputs": [],
   "source": [
    "train.price.isnull().sum()"
   ]
  },
  {
   "cell_type": "code",
   "execution_count": null,
   "metadata": {
    "colab": {},
    "colab_type": "code",
    "id": "WDQPfkzhn45G"
   },
   "outputs": [],
   "source": [
    "sns.distplot(train['price'])"
   ]
  },
  {
   "cell_type": "code",
   "execution_count": null,
   "metadata": {
    "colab": {},
    "colab_type": "code",
    "id": "Xb0sN6EDn45R"
   },
   "outputs": [],
   "source": [
    "train['points'].describe()"
   ]
  },
  {
   "cell_type": "code",
   "execution_count": null,
   "metadata": {
    "colab": {},
    "colab_type": "code",
    "id": "V_-YuNyLn45Z"
   },
   "outputs": [],
   "source": [
    "train['price_log'] = np.log(train.price+1)"
   ]
  },
  {
   "cell_type": "code",
   "execution_count": null,
   "metadata": {
    "colab": {},
    "colab_type": "code",
    "id": "oyyLeXxgn45e"
   },
   "outputs": [],
   "source": [
    "sns.distplot(train['price_log'])"
   ]
  },
  {
   "cell_type": "markdown",
   "metadata": {
    "colab_type": "text",
    "id": "xIpIohYfn45h"
   },
   "source": [
    "### Id"
   ]
  },
  {
   "cell_type": "code",
   "execution_count": null,
   "metadata": {
    "colab": {},
    "colab_type": "code",
    "id": "YuPhmMZDn45i"
   },
   "outputs": [],
   "source": [
    "train[train.id.isnull()].head()"
   ]
  },
  {
   "cell_type": "code",
   "execution_count": null,
   "metadata": {
    "colab": {},
    "colab_type": "code",
    "id": "5FTXNBOJn45m"
   },
   "outputs": [],
   "source": [
    "train.id.isnull().sum()"
   ]
  },
  {
   "cell_type": "code",
   "execution_count": null,
   "metadata": {
    "colab": {},
    "colab_type": "code",
    "id": "6sEx3Ehcn45t"
   },
   "outputs": [],
   "source": [
    "sns.distplot(train['id'])"
   ]
  },
  {
   "cell_type": "code",
   "execution_count": null,
   "metadata": {
    "colab": {},
    "colab_type": "code",
    "id": "lckA2SQwn45z"
   },
   "outputs": [],
   "source": [
    "train['id'].describe()"
   ]
  },
  {
   "cell_type": "code",
   "execution_count": null,
   "metadata": {
    "colab": {},
    "colab_type": "code",
    "id": "OqsjVvDTn455"
   },
   "outputs": [],
   "source": [
    "train['id'].nunique()"
   ]
  },
  {
   "cell_type": "markdown",
   "metadata": {
    "colab_type": "text",
    "id": "Qpm_1z61n458"
   },
   "source": [
    "__It clear that there is no issue with numerical features, regarding missing values__"
   ]
  },
  {
   "cell_type": "markdown",
   "metadata": {
    "colab_type": "text",
    "id": "-G5H5rGHn459"
   },
   "source": [
    "## Categorical features"
   ]
  },
  {
   "cell_type": "code",
   "execution_count": null,
   "metadata": {
    "colab": {},
    "colab_type": "code",
    "id": "qDXGn-zyn46A"
   },
   "outputs": [],
   "source": [
    "train.columns[train.dtypes == 'object']"
   ]
  },
  {
   "cell_type": "markdown",
   "metadata": {
    "colab_type": "text",
    "id": "8ikf3bQQn46b"
   },
   "source": [
    "### Country"
   ]
  },
  {
   "cell_type": "code",
   "execution_count": null,
   "metadata": {
    "colab": {},
    "colab_type": "code",
    "id": "NstTSTdNn46c"
   },
   "outputs": [],
   "source": [
    "train[train.country.isnull()].head()"
   ]
  },
  {
   "cell_type": "code",
   "execution_count": null,
   "metadata": {
    "colab": {},
    "colab_type": "code",
    "id": "g10q_J29n46f"
   },
   "outputs": [],
   "source": [
    "print(\"We have {:.4} % of missing values in the feature Country\".format(train.country.isnull().sum()*100/train.index.nunique()))"
   ]
  },
  {
   "cell_type": "code",
   "execution_count": null,
   "metadata": {
    "colab": {},
    "colab_type": "code",
    "id": "IHjkxmYFn46i"
   },
   "outputs": [],
   "source": [
    "sns.countplot(x='country',data=train)"
   ]
  },
  {
   "cell_type": "code",
   "execution_count": null,
   "metadata": {
    "colab": {},
    "colab_type": "code",
    "id": "FnT7K3xfn46l"
   },
   "outputs": [],
   "source": [
    "train['country'].nunique()"
   ]
  },
  {
   "cell_type": "code",
   "execution_count": null,
   "metadata": {
    "colab": {},
    "colab_type": "code",
    "id": "hxZ8pU72n467"
   },
   "outputs": [],
   "source": [
    "selected = ['Croatia', 'Mexico', 'Georgia', 'Moldova', 'Brazil', 'England', 'Lebanon', 'Morocco', 'Cyprus', 'Macedonia',\n",
    "'Serbia' , 'India', 'Czech Republic', 'Ukraine, Peru', 'Luxembourg', 'Switzerland', 'Lithuania',\n",
    " 'Bosnia and Herzegovina', 'China', 'Slovakia', 'Armenia', 'Japan', 'South Korea']"
   ]
  },
  {
   "cell_type": "code",
   "execution_count": null,
   "metadata": {
    "colab": {},
    "colab_type": "code",
    "id": "uZFp2rGon47E"
   },
   "outputs": [],
   "source": [
    "train['country'].value_counts()"
   ]
  },
  {
   "cell_type": "code",
   "execution_count": null,
   "metadata": {
    "colab": {},
    "colab_type": "code",
    "id": "2nReSkZbn47H"
   },
   "outputs": [],
   "source": [
    "def cut_levels(x, threshold, new_value):\n",
    "    value_counts = x.value_counts()\n",
    "    labels = value_counts.index[value_counts < threshold]\n",
    "    x[np.in1d(x, labels)] = new_value"
   ]
  },
  {
   "cell_type": "code",
   "execution_count": null,
   "metadata": {
    "colab": {},
    "colab_type": "code",
    "id": "whycETIln47K"
   },
   "outputs": [],
   "source": [
    "cut_levels(train.country, 30, 'other')\n",
    "cut_levels(test.country, 30, 'other')"
   ]
  },
  {
   "cell_type": "code",
   "execution_count": null,
   "metadata": {
    "colab": {},
    "colab_type": "code",
    "id": "ZMDbwrqun47R"
   },
   "outputs": [],
   "source": [
    "train['country'].value_counts()"
   ]
  },
  {
   "cell_type": "code",
   "execution_count": null,
   "metadata": {
    "colab": {},
    "colab_type": "code",
    "id": "-NEd7Ut4n47l"
   },
   "outputs": [],
   "source": [
    "sns.countplot(x='country',data=train)"
   ]
  },
  {
   "cell_type": "markdown",
   "metadata": {
    "colab_type": "text",
    "id": "DInYUdY9n47u"
   },
   "source": [
    "### Description"
   ]
  },
  {
   "cell_type": "code",
   "execution_count": null,
   "metadata": {
    "colab": {},
    "colab_type": "code",
    "id": "B8BRv0A4n47w"
   },
   "outputs": [],
   "source": [
    "train[train.description.isnull()].head()"
   ]
  },
  {
   "cell_type": "code",
   "execution_count": null,
   "metadata": {
    "colab": {},
    "colab_type": "code",
    "id": "bkdHtQI9n48M"
   },
   "outputs": [],
   "source": [
    "train.description.isnull().sum()"
   ]
  },
  {
   "cell_type": "code",
   "execution_count": null,
   "metadata": {
    "colab": {},
    "colab_type": "code",
    "id": "STxTq-min48P"
   },
   "outputs": [],
   "source": [
    "import regex as re\n",
    "import nltk\n",
    "nltk.download('stopwords')\n",
    "import string  \n",
    "from nltk.corpus import stopwords\n"
   ]
  },
  {
   "cell_type": "code",
   "execution_count": null,
   "metadata": {
    "colab": {},
    "colab_type": "code",
    "id": "TXq1mVgin48U"
   },
   "outputs": [],
   "source": [
    "# add a column of word counts to both the training and test set\n",
    "train['desc_len'] = train['description'].apply(lambda x: len(x))\n",
    "test['desc_len'] = test['description'].apply(lambda x: len(x))"
   ]
  },
  {
   "cell_type": "code",
   "execution_count": null,
   "metadata": {
    "colab": {},
    "colab_type": "code",
    "id": "z6_LKHjan48Z"
   },
   "outputs": [],
   "source": [
    "description_tr = train.description\n",
    "description_tst = test.description\n",
    "\n",
    "# texts_tr = clean_doc(train_df.sentence)\n",
    "# texts_tst = clean_doc(test_df.sentence)\n",
    "\n",
    "# Training 92916\n",
    "# Considers only the top \n",
    "# 20,000 words in the dataset\n",
    "max_words = 10\n",
    "\n",
    "tokenizer_tr = Tokenizer(num_words=max_words)\n",
    "# tokenizer_tr = Tokenizer()\n",
    "tokenizer_tr.fit_on_texts(description_tr)\n",
    "# data_tr = tokenizer_tr.texts_to_sequences(description_tr)\n",
    "tfidf_train = tokenizer_tr.texts_to_matrix(description_tr, mode='tfidf')\n",
    "bin_tr = tokenizer_tr.texts_to_matrix(description_tr, mode='binary')\n",
    "\n",
    "\n",
    "# # Testing \n",
    "tokenizer_tst = Tokenizer(num_words=max_words)\n",
    "# # tokenizer_tst = Tokenizer()\n",
    "tokenizer_tst.fit_on_texts(description_tst)\n",
    "# data_tst = tokenizer_tst.texts_to_sequences(texts_tst)\n",
    "tfidf_tst = tokenizer_tr.texts_to_matrix(description_tst, mode='tfidf')\n",
    "bin_tst = tokenizer_tr.texts_to_matrix(description_tst, mode='binary')\n",
    "\n",
    "\n",
    "# word_index = tokenizer_tr.word_index\n",
    "# print('Found %s unique tokens.' % len(set(word_index))) #88582 "
   ]
  },
  {
   "cell_type": "code",
   "execution_count": null,
   "metadata": {
    "colab": {},
    "colab_type": "code",
    "id": "OmVYmglon48f"
   },
   "outputs": [],
   "source": [
    "tfidf_train"
   ]
  },
  {
   "cell_type": "code",
   "execution_count": null,
   "metadata": {
    "colab": {},
    "colab_type": "code",
    "id": "bXSlKQDEn48h"
   },
   "outputs": [],
   "source": [
    "tfidf_train[:]\n",
    "desc_tdidf_tr = pd.DataFrame(tfidf_train)\n",
    "desc_tdidf_tst = pd.DataFrame(tfidf_tst)"
   ]
  },
  {
   "cell_type": "code",
   "execution_count": null,
   "metadata": {
    "colab": {},
    "colab_type": "code",
    "id": "pa1moxvln48k"
   },
   "outputs": [],
   "source": [
    "train_selected = pd.concat([train, desc_tdidf_tr], axis=1)"
   ]
  },
  {
   "cell_type": "code",
   "execution_count": null,
   "metadata": {
    "colab": {},
    "colab_type": "code",
    "id": "FAIUJ4DNn48o"
   },
   "outputs": [],
   "source": [
    "test_selected = pd.concat([test, desc_tdidf_tst], axis=1)"
   ]
  },
  {
   "cell_type": "code",
   "execution_count": null,
   "metadata": {
    "colab": {},
    "colab_type": "code",
    "id": "r-EOKL3Mn48r"
   },
   "outputs": [],
   "source": [
    "test_selected"
   ]
  },
  {
   "cell_type": "markdown",
   "metadata": {
    "colab_type": "text",
    "id": "NzPmd2QCn48u"
   },
   "source": [
    "### Designation"
   ]
  },
  {
   "cell_type": "code",
   "execution_count": null,
   "metadata": {
    "colab": {},
    "colab_type": "code",
    "id": "e-gSZ55wn48v"
   },
   "outputs": [],
   "source": [
    "train[train.designation.isnull()].head()"
   ]
  },
  {
   "cell_type": "code",
   "execution_count": null,
   "metadata": {
    "colab": {},
    "colab_type": "code",
    "id": "lM6VTAISn48y"
   },
   "outputs": [],
   "source": [
    " print(\"We have {:.4} % of missing values in the feature Designation\".format(train.designation.isnull().sum()*100/train.index.nunique()))"
   ]
  },
  {
   "cell_type": "code",
   "execution_count": null,
   "metadata": {
    "colab": {},
    "colab_type": "code",
    "id": "Lgn-tzj3n489"
   },
   "outputs": [],
   "source": [
    "sns.countplot(x='designation',data=train)"
   ]
  },
  {
   "cell_type": "markdown",
   "metadata": {
    "colab_type": "text",
    "id": "dC2fq7Ten49B"
   },
   "source": [
    "### Province"
   ]
  },
  {
   "cell_type": "code",
   "execution_count": null,
   "metadata": {
    "colab": {},
    "colab_type": "code",
    "id": "8DKw8px8n49C"
   },
   "outputs": [],
   "source": [
    "train[train.province.isnull()].head()"
   ]
  },
  {
   "cell_type": "code",
   "execution_count": null,
   "metadata": {
    "colab": {},
    "colab_type": "code",
    "id": "Fe23-2s1n49F"
   },
   "outputs": [],
   "source": [
    "print(\"We have {:.4} % of missing values in the feature Province\".format(train.province.isnull().sum()*100/train.index.nunique()))"
   ]
  },
  {
   "cell_type": "code",
   "execution_count": null,
   "metadata": {
    "colab": {},
    "colab_type": "code",
    "id": "cTrc3D-ln49I"
   },
   "outputs": [],
   "source": [
    "train.province.isnull().sum()"
   ]
  },
  {
   "cell_type": "code",
   "execution_count": null,
   "metadata": {
    "colab": {},
    "colab_type": "code",
    "id": "CJAbTD3Zn49L"
   },
   "outputs": [],
   "source": [
    "train.province.describe()"
   ]
  },
  {
   "cell_type": "code",
   "execution_count": null,
   "metadata": {
    "colab": {},
    "colab_type": "code",
    "id": "XRojAZTTn49Q"
   },
   "outputs": [],
   "source": [
    "sns.countplot(x='province',data=train)"
   ]
  },
  {
   "cell_type": "markdown",
   "metadata": {
    "colab_type": "text",
    "id": "_t5pYjKkn49T"
   },
   "source": [
    "### Region 1"
   ]
  },
  {
   "cell_type": "code",
   "execution_count": null,
   "metadata": {
    "colab": {},
    "colab_type": "code",
    "id": "hY8fAKhLn49V"
   },
   "outputs": [],
   "source": [
    "train[train.region_1.isnull()].head()"
   ]
  },
  {
   "cell_type": "code",
   "execution_count": null,
   "metadata": {
    "colab": {},
    "colab_type": "code",
    "id": "kgW9qywnn49o"
   },
   "outputs": [],
   "source": [
    "print(\"We have {:.4} % of missing values in the feature Region 1\".format(train.region_1.isnull().sum()*100/train.index.nunique()))"
   ]
  },
  {
   "cell_type": "code",
   "execution_count": null,
   "metadata": {
    "colab": {},
    "colab_type": "code",
    "id": "4u4ofCfJn49u"
   },
   "outputs": [],
   "source": [
    "train.region_1.isnull().sum()"
   ]
  },
  {
   "cell_type": "markdown",
   "metadata": {
    "colab_type": "text",
    "id": "srUA605Hn498"
   },
   "source": [
    "### Region 2"
   ]
  },
  {
   "cell_type": "code",
   "execution_count": null,
   "metadata": {
    "colab": {},
    "colab_type": "code",
    "id": "m0vS_9Emn4-G"
   },
   "outputs": [],
   "source": [
    "train[train.region_2.isnull()].head()"
   ]
  },
  {
   "cell_type": "code",
   "execution_count": null,
   "metadata": {
    "colab": {},
    "colab_type": "code",
    "id": "_k3w0sWFn4-K"
   },
   "outputs": [],
   "source": [
    "print(\"We have {:.4} % of missing values in the feature Region 2\".format(train.region_2.isnull().sum()*100/train.index.nunique()))"
   ]
  },
  {
   "cell_type": "code",
   "execution_count": null,
   "metadata": {
    "colab": {},
    "colab_type": "code",
    "id": "luO--ssWn4-N"
   },
   "outputs": [],
   "source": [
    "train.region_2.isnull().sum()"
   ]
  },
  {
   "cell_type": "markdown",
   "metadata": {
    "colab_type": "text",
    "id": "SdaZct2Wn4-Q"
   },
   "source": [
    "### Taster Name "
   ]
  },
  {
   "cell_type": "code",
   "execution_count": null,
   "metadata": {
    "colab": {},
    "colab_type": "code",
    "id": "Y4o95cwtn4-Q"
   },
   "outputs": [],
   "source": [
    "train[train.taster_name.isnull()].head()"
   ]
  },
  {
   "cell_type": "code",
   "execution_count": null,
   "metadata": {
    "colab": {},
    "colab_type": "code",
    "id": "47tNuXVtn4-S"
   },
   "outputs": [],
   "source": [
    "print(\"We have {:.4} % of missing values in the feature Taster Name\".format(train.taster_name.isnull().sum()*100/train.index.nunique()))"
   ]
  },
  {
   "cell_type": "code",
   "execution_count": null,
   "metadata": {
    "colab": {},
    "colab_type": "code",
    "id": "ahA9pGwtn4-W"
   },
   "outputs": [],
   "source": [
    "train.taster_name.isnull().sum()"
   ]
  },
  {
   "cell_type": "markdown",
   "metadata": {
    "colab_type": "text",
    "id": "lcLd4CbBn4-j"
   },
   "source": [
    "### Taster Twitter Handle"
   ]
  },
  {
   "cell_type": "code",
   "execution_count": null,
   "metadata": {
    "colab": {},
    "colab_type": "code",
    "id": "06vWm8oHn4-j"
   },
   "outputs": [],
   "source": [
    "train[train.taster_twitter_handle.isnull()].head()"
   ]
  },
  {
   "cell_type": "code",
   "execution_count": null,
   "metadata": {
    "colab": {},
    "colab_type": "code",
    "id": "OSkDFZZTn4-l"
   },
   "outputs": [],
   "source": [
    "print(\"We have {:.4} % of missing values in the feature Taster Twitter Handle\".format(train.taster_twitter_handle.isnull().sum()*100/train.index.nunique()))"
   ]
  },
  {
   "cell_type": "code",
   "execution_count": null,
   "metadata": {
    "colab": {},
    "colab_type": "code",
    "id": "xE5_nLBkn4-n"
   },
   "outputs": [],
   "source": [
    "train.taster_twitter_handle.isnull().sum()"
   ]
  },
  {
   "cell_type": "markdown",
   "metadata": {
    "colab_type": "text",
    "id": "8EomySTsn4-p"
   },
   "source": [
    "### Title "
   ]
  },
  {
   "cell_type": "code",
   "execution_count": null,
   "metadata": {
    "colab": {},
    "colab_type": "code",
    "id": "lyeqwqZ-n4-q"
   },
   "outputs": [],
   "source": [
    "train[train.title.isnull()].head()"
   ]
  },
  {
   "cell_type": "code",
   "execution_count": null,
   "metadata": {
    "colab": {},
    "colab_type": "code",
    "id": "1xyA_TO1n4-s"
   },
   "outputs": [],
   "source": [
    "print(\"We have {:.4} % of missing values in the feature Title\".format(train.title.isnull().sum()*100/train.index.nunique()))"
   ]
  },
  {
   "cell_type": "code",
   "execution_count": null,
   "metadata": {
    "colab": {},
    "colab_type": "code",
    "id": "jWzacy70n4-u"
   },
   "outputs": [],
   "source": [
    "train.title.isnull().sum()"
   ]
  },
  {
   "cell_type": "markdown",
   "metadata": {
    "colab_type": "text",
    "id": "ki8Vcayon4-y"
   },
   "source": [
    "### Variety "
   ]
  },
  {
   "cell_type": "code",
   "execution_count": null,
   "metadata": {
    "colab": {},
    "colab_type": "code",
    "id": "KTVv1yO7n4-z"
   },
   "outputs": [],
   "source": [
    "train[train.variety.isnull()].head()"
   ]
  },
  {
   "cell_type": "code",
   "execution_count": null,
   "metadata": {
    "colab": {},
    "colab_type": "code",
    "id": "h3PzMF9kn4-2"
   },
   "outputs": [],
   "source": [
    "print(\"We have {:.4} % of missing values in the feature Variety\".format(train.variety.isnull().sum()*100/train.index.nunique()))"
   ]
  },
  {
   "cell_type": "code",
   "execution_count": null,
   "metadata": {
    "colab": {},
    "colab_type": "code",
    "id": "JTZn1yhZn4-4"
   },
   "outputs": [],
   "source": [
    "train.variety.isnull().sum()"
   ]
  },
  {
   "cell_type": "markdown",
   "metadata": {
    "colab_type": "text",
    "id": "xml10Esvn4-6"
   },
   "source": [
    "### Winery"
   ]
  },
  {
   "cell_type": "code",
   "execution_count": null,
   "metadata": {
    "colab": {},
    "colab_type": "code",
    "id": "0Lvq3jBxn4-9"
   },
   "outputs": [],
   "source": [
    "train[train.winery.isnull()].head()"
   ]
  },
  {
   "cell_type": "code",
   "execution_count": null,
   "metadata": {
    "colab": {},
    "colab_type": "code",
    "id": "4huFVrtEn4-_"
   },
   "outputs": [],
   "source": [
    "print(\"We have {:.4} % of missing values in the feature Winery\".format(train.winery.isnull().sum().sum()*100/train.index.nunique()))"
   ]
  },
  {
   "cell_type": "code",
   "execution_count": null,
   "metadata": {
    "colab": {},
    "colab_type": "code",
    "id": "iMvSvJx5n4_B"
   },
   "outputs": [],
   "source": [
    "train.winery.isnull().sum()"
   ]
  },
  {
   "cell_type": "markdown",
   "metadata": {
    "colab_type": "text",
    "id": "8I5Omn6Pn4_D"
   },
   "source": [
    "## Analysis "
   ]
  },
  {
   "cell_type": "markdown",
   "metadata": {
    "colab_type": "text",
    "id": "GB9ziP12n4_E"
   },
   "source": [
    "### Numerical variables "
   ]
  },
  {
   "cell_type": "code",
   "execution_count": null,
   "metadata": {
    "colab": {},
    "colab_type": "code",
    "id": "8aUcyy68n4_G"
   },
   "outputs": [],
   "source": [
    "numerical_train = train[train.columns[train.dtypes != 'object']]"
   ]
  },
  {
   "cell_type": "code",
   "execution_count": null,
   "metadata": {
    "colab": {},
    "colab_type": "code",
    "id": "AXEZvUl3n4_M"
   },
   "outputs": [],
   "source": [
    "numerical_train.info()"
   ]
  },
  {
   "cell_type": "code",
   "execution_count": null,
   "metadata": {
    "colab": {},
    "colab_type": "code",
    "id": "2AqtMEfTn4_Q"
   },
   "outputs": [],
   "source": [
    "sns.heatmap(numerical_train.corr(),cmap='coolwarm')"
   ]
  },
  {
   "cell_type": "markdown",
   "metadata": {
    "colab_type": "text",
    "id": "m6Upn6Uln4_U"
   },
   "source": [
    "### Categorical "
   ]
  },
  {
   "cell_type": "code",
   "execution_count": null,
   "metadata": {
    "colab": {},
    "colab_type": "code",
    "id": "I8WxK37Kn4_V"
   },
   "outputs": [],
   "source": [
    "categorical_train = train[train.columns[train.dtypes == 'object']]\n",
    "categorical_train.head()"
   ]
  },
  {
   "cell_type": "code",
   "execution_count": null,
   "metadata": {
    "colab": {},
    "colab_type": "code",
    "id": "F7qqTux3n4_Z"
   },
   "outputs": [],
   "source": [
    "import statsmodels.api as sm"
   ]
  },
  {
   "cell_type": "code",
   "execution_count": null,
   "metadata": {
    "colab": {},
    "colab_type": "code",
    "id": "Dj3v27v4n4_b"
   },
   "outputs": [],
   "source": [
    "from statsmodels.formula.api import ols "
   ]
  },
  {
   "cell_type": "code",
   "execution_count": null,
   "metadata": {
    "colab": {},
    "colab_type": "code",
    "id": "oUhSwqVOn4_e"
   },
   "outputs": [],
   "source": [
    "# train."
   ]
  },
  {
   "cell_type": "code",
   "execution_count": null,
   "metadata": {
    "colab": {},
    "colab_type": "code",
    "id": "I1A6jyrOn4_g"
   },
   "outputs": [],
   "source": [
    "# Anove_test_F_value = []\n",
    "# Anove_test_P_value = []\n",
    "# variable_name_list = []\n",
    "\n",
    "# for variable in categorical_train.columns:\n",
    "#     print(variable)\n",
    "#     mod = ols('price ~ '+variable, data = train).fit()\n",
    "#     aov_table = sm.stats.anova_lm(mod, type=2)\n",
    "#     Fvalue = aov_table.loc[variable, 'F']\n",
    "#     Pvalue = aov_table.loc[variable, 'PR(>F)']\n",
    "#     variable_name_list.append(variable)\n",
    "#     Anove_test_F_value.append(Fvalue)\n",
    "#     Anove_test_P_value.append(Pvalue)\n",
    "    \n",
    "# Anova_categorical_variable_test = pd.DataFrame({'Variable':variable_name_list, \"F Value\":Anove_test_F_value, \\\n",
    "#                                                \"P Value\":Anove_test_P_value})"
   ]
  },
  {
   "cell_type": "code",
   "execution_count": null,
   "metadata": {
    "colab": {},
    "colab_type": "code",
    "id": "wTTezlEJn4_h"
   },
   "outputs": [],
   "source": [
    "# >>> import statsmodels.api as sm\n",
    "# >>> from statsmodels.formula.api import ols\n",
    "# >>> moore = sm.datasets.get_rdataset(\"Moore\", \"carData\", cache=True) # load\n",
    "# >>> data = moore.data\n",
    "# >>> data = data.rename(columns={\"partner.status\" :\n",
    "# ...                             \"partner_status\"}) # make name pythonic\n",
    "\n",
    "# for var in data.columns:\n",
    "#         oore_lm = ols('conformity ~'+var,\n",
    "# ...                 data=data).fit()\n",
    "#         table = sm.stats.anova_lm(moore_lm, typ=2) # Type 2 Anova DataFrame\n",
    "#         print(table)\n",
    "# # >>> moore_lm = ols('conformity ~ C(fcategory, Sum)*C(partner_status, Sum)',\n",
    "# # ...                 data=data).fit()\n",
    "# # >>> table = sm.stats.anova_lm(moore_lm, typ=2) # Type 2 Anova DataFrame\n",
    "# # >>> print(table)"
   ]
  },
  {
   "cell_type": "code",
   "execution_count": null,
   "metadata": {
    "colab": {},
    "colab_type": "code",
    "id": "DrQKs5NQn4_j"
   },
   "outputs": [],
   "source": [
    "categorical_train.columns"
   ]
  },
  {
   "cell_type": "markdown",
   "metadata": {
    "colab_type": "text",
    "id": "EA_TMfchn4_l"
   },
   "source": [
    "We are selecting only those with few missing data to greate one hot encoding "
   ]
  },
  {
   "cell_type": "code",
   "execution_count": null,
   "metadata": {
    "colab": {},
    "colab_type": "code",
    "id": "qMqwOX5tn4_m"
   },
   "outputs": [],
   "source": [
    "dummy_fields = ['region_2', 'taster_name', 'taster_twitter_handle']\n",
    "# train[train.columns[train.dtypes == 'object']], 'country'\n",
    "train_select = numerical_train\n",
    "for each in dummy_fields:\n",
    "    dummies = pd.get_dummies(train[each], prefix=each)\n",
    "    train_select = pd.concat([train_select, dummies], axis=1)\n",
    "\n",
    "numerical_test = test[test.columns[test.dtypes != 'object']]\n",
    "test_select = numerical_test\n",
    "for each in dummy_fields:\n",
    "    dummies = pd.get_dummies(test[each], prefix=each)\n",
    "    test_select = pd.concat([test_select, dummies], axis=1)\n",
    "test_select.drop(['index', 'price'], axis=1, inplace=True)"
   ]
  },
  {
   "cell_type": "code",
   "execution_count": null,
   "metadata": {
    "colab": {},
    "colab_type": "code",
    "id": "PYLsVztZn4_q"
   },
   "outputs": [],
   "source": [
    "test.columns"
   ]
  },
  {
   "cell_type": "code",
   "execution_count": null,
   "metadata": {
    "colab": {},
    "colab_type": "code",
    "id": "TtRfDkoLn4_2"
   },
   "outputs": [],
   "source": [
    "train.columns"
   ]
  },
  {
   "cell_type": "code",
   "execution_count": null,
   "metadata": {
    "colab": {},
    "colab_type": "code",
    "id": "c1UJAivHn4_9"
   },
   "outputs": [],
   "source": [
    "train.country.value_counts().count()"
   ]
  },
  {
   "cell_type": "code",
   "execution_count": null,
   "metadata": {
    "colab": {},
    "colab_type": "code",
    "id": "0W6IMF9bn4__"
   },
   "outputs": [],
   "source": [
    "test.country.value_counts().count()"
   ]
  },
  {
   "cell_type": "code",
   "execution_count": null,
   "metadata": {
    "colab": {},
    "colab_type": "code",
    "id": "1mD6QZZSn5AE"
   },
   "outputs": [],
   "source": [
    "test_select"
   ]
  },
  {
   "cell_type": "code",
   "execution_count": null,
   "metadata": {
    "colab": {},
    "colab_type": "code",
    "id": "4bFGJYsfn5AG"
   },
   "outputs": [],
   "source": [
    "train_select.describe()"
   ]
  },
  {
   "cell_type": "code",
   "execution_count": null,
   "metadata": {
    "colab": {},
    "colab_type": "code",
    "id": "ioa3SGLhn5AN"
   },
   "outputs": [],
   "source": []
  },
  {
   "cell_type": "code",
   "execution_count": null,
   "metadata": {
    "colab": {},
    "colab_type": "code",
    "id": "iemcqUlcn5Al"
   },
   "outputs": [],
   "source": [
    "# quant_features = ['casual', 'registered', 'cnt', 'temp', 'hum', 'windspeed']\n",
    "# Store scalings in a dictionary so we can convert back later\n",
    "scaled_features = {}\n",
    "for each in train_select.columns:\n",
    "    mean, std = train_select[each].mean(), train_select[each].std()\n",
    "    scaled_features[each] = [mean, std]\n",
    "    train_select.loc[:, each] = (train_select[each] - mean)/std"
   ]
  },
  {
   "cell_type": "code",
   "execution_count": null,
   "metadata": {
    "colab": {},
    "colab_type": "code",
    "id": "1Ja4YEOnn5Am"
   },
   "outputs": [],
   "source": [
    "train_select.describe()"
   ]
  },
  {
   "cell_type": "code",
   "execution_count": null,
   "metadata": {
    "colab": {},
    "colab_type": "code",
    "id": "b3crhgApn5Ap"
   },
   "outputs": [],
   "source": []
  },
  {
   "cell_type": "code",
   "execution_count": null,
   "metadata": {
    "colab": {},
    "colab_type": "code",
    "id": "dbPNuriYn5BA"
   },
   "outputs": [],
   "source": [
    "# from sklearn.preprocessing import MinMaxScaler\n",
    "# numerical_train_selected_min = MinMaxScaler().fit_transform(numerical_train_selected)"
   ]
  },
  {
   "cell_type": "code",
   "execution_count": null,
   "metadata": {
    "colab": {},
    "colab_type": "code",
    "id": "tz-OkVDpn5BG"
   },
   "outputs": [],
   "source": [
    "# numerical_train_selected_min.describe()"
   ]
  },
  {
   "cell_type": "code",
   "execution_count": null,
   "metadata": {
    "colab": {},
    "colab_type": "code",
    "id": "sbwN9P85n5BH"
   },
   "outputs": [],
   "source": [
    "# TODO: Scale the columns\n",
    "# numerical_train_selected.points=processed_data.gre/800\n",
    "# processed_data.gpa=processed_data.gpa/4.0"
   ]
  },
  {
   "cell_type": "code",
   "execution_count": null,
   "metadata": {
    "colab": {},
    "colab_type": "code",
    "id": "I7Qjq7Xzn5BX"
   },
   "outputs": [],
   "source": [
    "train_select.shape"
   ]
  },
  {
   "cell_type": "code",
   "execution_count": null,
   "metadata": {
    "colab": {},
    "colab_type": "code",
    "id": "y5RUf25En5Bf"
   },
   "outputs": [],
   "source": [
    "# X = numerical_train_selected.drop(labels=\"price\", axis=1)\n",
    "train_features = train_select.drop(labels=\"price\", axis=1)"
   ]
  },
  {
   "cell_type": "code",
   "execution_count": null,
   "metadata": {
    "colab": {},
    "colab_type": "code",
    "id": "CQUzay9qn5Bi"
   },
   "outputs": [],
   "source": [
    "# y = numerical_train_selected['price']\n",
    "train_targets = train_select[['price']]"
   ]
  },
  {
   "cell_type": "markdown",
   "metadata": {
    "colab_type": "text",
    "id": "v3JqEjDyn5Bl"
   },
   "source": [
    "## Random Forest"
   ]
  },
  {
   "cell_type": "code",
   "execution_count": null,
   "metadata": {
    "colab": {},
    "colab_type": "code",
    "id": "larQWCKcn5Bm"
   },
   "outputs": [],
   "source": [
    "import scipy.optimize as opt\n",
    "from sklearn import preprocessing\n",
    "from sklearn.ensemble import RandomForestRegressor\n",
    "from sklearn.metrics import mean_absolute_error\n",
    "from sklearn.model_selection import train_test_split"
   ]
  },
  {
   "cell_type": "code",
   "execution_count": null,
   "metadata": {
    "colab": {},
    "colab_type": "code",
    "id": "XwfvFI_Gn5Bn"
   },
   "outputs": [],
   "source": [
    "model = RandomForestRegressor(n_estimators=500, criterion=\"mse\", n_jobs=-1)"
   ]
  },
  {
   "cell_type": "code",
   "execution_count": null,
   "metadata": {
    "colab": {},
    "colab_type": "code",
    "id": "9WTa6cg1n5Bp"
   },
   "outputs": [],
   "source": [
    "X_train, X_test, y_train, y_test = train_test_split(train_features, train_targets, test_size=0.2, random_state=4)\n",
    "\n",
    "print ('Train set:', X_train.shape,  y_train.shape)\n",
    "print ('Test set:', X_test.shape,  y_test.shape)"
   ]
  },
  {
   "cell_type": "code",
   "execution_count": null,
   "metadata": {
    "colab": {},
    "colab_type": "code",
    "id": "UkGYRMBvn5Br"
   },
   "outputs": [],
   "source": [
    "model.fit(X_train,y_train)"
   ]
  },
  {
   "cell_type": "code",
   "execution_count": null,
   "metadata": {
    "colab": {},
    "colab_type": "code",
    "id": "zyiMhyRTn5Bt"
   },
   "outputs": [],
   "source": [
    "y_preds = model.predict(X_test)"
   ]
  },
  {
   "cell_type": "code",
   "execution_count": null,
   "metadata": {
    "colab": {},
    "colab_type": "code",
    "id": "p3BDr0jNn5Bz"
   },
   "outputs": [],
   "source": [
    "print (np.sqrt(mean_absolute_error(y_preds,y_test)))"
   ]
  },
  {
   "cell_type": "markdown",
   "metadata": {
    "colab_type": "text",
    "id": "662Yo4TGn5B3"
   },
   "source": [
    "## Catboost"
   ]
  },
  {
   "cell_type": "code",
   "execution_count": null,
   "metadata": {
    "colab": {},
    "colab_type": "code",
    "id": "Epv2XenLn5B4"
   },
   "outputs": [],
   "source": [
    "from catboost import CatBoostRegressor"
   ]
  },
  {
   "cell_type": "code",
   "execution_count": null,
   "metadata": {
    "colab": {},
    "colab_type": "code",
    "id": "vKMzsLsMn5B8"
   },
   "outputs": [],
   "source": [
    "model_cat = CatBoostRegressor()"
   ]
  },
  {
   "cell_type": "code",
   "execution_count": null,
   "metadata": {
    "colab": {},
    "colab_type": "code",
    "id": "UCsfl7bmn5B_"
   },
   "outputs": [],
   "source": [
    "# Total Training \n",
    "model_cat.fit(X_train, y_train, silent=True)"
   ]
  },
  {
   "cell_type": "code",
   "execution_count": null,
   "metadata": {
    "colab": {},
    "colab_type": "code",
    "id": "N5yCthUkn5CD"
   },
   "outputs": [],
   "source": [
    "preds = model_cat.predict(X_test)"
   ]
  },
  {
   "cell_type": "code",
   "execution_count": null,
   "metadata": {
    "colab": {},
    "colab_type": "code",
    "id": "B6FQob8Cn5CH"
   },
   "outputs": [],
   "source": [
    "print (np.sqrt(metrics.mean_absolute_error(preds,y_test)))"
   ]
  },
  {
   "cell_type": "code",
   "execution_count": null,
   "metadata": {
    "colab": {},
    "colab_type": "code",
    "id": "eEwn3OWNn5CN"
   },
   "outputs": [],
   "source": []
  }
 ],
 "metadata": {
  "accelerator": "GPU",
  "colab": {
   "collapsed_sections": [
    "swtORnuxn42_",
    "30yjS_MBn44a",
    "27x-crFdn44f",
    "4f5aitQ5n447",
    "xIpIohYfn45h",
    "-G5H5rGHn459",
    "8ikf3bQQn46b",
    "DInYUdY9n47u",
    "NzPmd2QCn48u",
    "dC2fq7Ten49B",
    "_t5pYjKkn49T",
    "srUA605Hn498",
    "SdaZct2Wn4-Q",
    "lcLd4CbBn4-j",
    "8EomySTsn4-p",
    "ki8Vcayon4-y",
    "xml10Esvn4-6",
    "8I5Omn6Pn4_D",
    "GB9ziP12n4_E",
    "m6Upn6Uln4_U",
    "v3JqEjDyn5Bl",
    "662Yo4TGn5B3",
    "8zOOBMJUn5CV",
    "8oenrb8nn5DB",
    "s32fUQHmn5DC",
    "1_rXOq-zn5Dy"
   ],
   "name": "Group 1.ipynb",
   "provenance": []
  },
  "kernelspec": {
   "display_name": "Python 3",
   "language": "python",
   "name": "python3"
  },
  "language_info": {
   "codemirror_mode": {
    "name": "ipython",
    "version": 3
   },
   "file_extension": ".py",
   "mimetype": "text/x-python",
   "name": "python",
   "nbconvert_exporter": "python",
   "pygments_lexer": "ipython3",
   "version": "3.7.4"
  }
 },
 "nbformat": 4,
 "nbformat_minor": 4
}
